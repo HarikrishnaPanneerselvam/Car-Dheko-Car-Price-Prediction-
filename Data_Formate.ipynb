{
 "cells": [
  {
   "cell_type": "code",
   "execution_count": 1,
   "metadata": {},
   "outputs": [],
   "source": [
    "import pandas as pd\n",
    "\n",
    "bangalore_cars = pd.read_excel(r'C:\\Users\\USER\\Desktop\\Car Dheko\\bangalore_cars.xlsx')\n",
    "chennai_cars = pd.read_excel(r'C:\\Users\\USER\\Desktop\\Car Dheko\\chennai_cars.xlsx')\n",
    "delhi_cars = pd.read_excel(r'C:\\Users\\USER\\Desktop\\Car Dheko\\delhi_cars.xlsx')\n",
    "hyderabad_cars = pd.read_excel(r'C:\\Users\\USER\\Desktop\\Car Dheko\\hyderabad_cars.xlsx')\n",
    "jaipur_cars = pd.read_excel(r'C:\\Users\\USER\\Desktop\\Car Dheko\\jaipur_cars.xlsx')\n",
    "kolkata_cars = pd.read_excel(r'C:\\Users\\USER\\Desktop\\Car Dheko\\kolkata_cars.xlsx')"
   ]
  },
  {
   "cell_type": "markdown",
   "metadata": {},
   "source": [
    "Add Location based on City File"
   ]
  },
  {
   "cell_type": "code",
   "execution_count": 2,
   "metadata": {},
   "outputs": [],
   "source": [
    "# Create a new column 'City' and assign the value 'bangalore' to all rows\n",
    "bangalore_cars['City'] = 'bangalore'\n",
    "chennai_cars['City'] = 'chennai'\n",
    "delhi_cars['City'] = 'delhi'\n",
    "hyderabad_cars['City'] = 'hyderabad'\n",
    "jaipur_cars['City'] = 'jaipur'\n",
    "kolkata_cars['City'] = 'kolkata'"
   ]
  },
  {
   "cell_type": "markdown",
   "metadata": {},
   "source": [
    "Merging all the file into Single File"
   ]
  },
  {
   "cell_type": "code",
   "execution_count": 3,
   "metadata": {},
   "outputs": [],
   "source": [
    "# List of DataFrames to merge\n",
    "Merged_data = [bangalore_cars, chennai_cars, delhi_cars, hyderabad_cars, jaipur_cars, kolkata_cars]\n",
    "\n",
    "# Merge all DataFrames\n",
    "merged_cars = pd.concat(Merged_data, ignore_index=True)"
   ]
  },
  {
   "cell_type": "markdown",
   "metadata": {},
   "source": [
    "Checking Null Values"
   ]
  },
  {
   "cell_type": "code",
   "execution_count": 4,
   "metadata": {},
   "outputs": [
    {
     "data": {
      "text/plain": [
       "new_car_detail      0\n",
       "new_car_overview    0\n",
       "new_car_feature     0\n",
       "new_car_specs       0\n",
       "car_links           0\n",
       "City                0\n",
       "dtype: int64"
      ]
     },
     "execution_count": 4,
     "metadata": {},
     "output_type": "execute_result"
    }
   ],
   "source": [
    "merged_cars.isnull().sum()"
   ]
  },
  {
   "cell_type": "markdown",
   "metadata": {},
   "source": [
    "Checking Datatype/Info"
   ]
  },
  {
   "cell_type": "code",
   "execution_count": 5,
   "metadata": {},
   "outputs": [
    {
     "name": "stdout",
     "output_type": "stream",
     "text": [
      "<class 'pandas.core.frame.DataFrame'>\n",
      "RangeIndex: 8369 entries, 0 to 8368\n",
      "Data columns (total 6 columns):\n",
      " #   Column            Non-Null Count  Dtype \n",
      "---  ------            --------------  ----- \n",
      " 0   new_car_detail    8369 non-null   object\n",
      " 1   new_car_overview  8369 non-null   object\n",
      " 2   new_car_feature   8369 non-null   object\n",
      " 3   new_car_specs     8369 non-null   object\n",
      " 4   car_links         8369 non-null   object\n",
      " 5   City              8369 non-null   object\n",
      "dtypes: object(6)\n",
      "memory usage: 392.4+ KB\n"
     ]
    }
   ],
   "source": [
    "merged_cars.info()"
   ]
  },
  {
   "cell_type": "markdown",
   "metadata": {},
   "source": [
    "1. Cleaning the Column new_car_detail"
   ]
  },
  {
   "cell_type": "code",
   "execution_count": 6,
   "metadata": {},
   "outputs": [
    {
     "data": {
      "text/plain": [
       "0       {'it': 0, 'ft': 'Petrol', 'bt': 'Hatchback', '...\n",
       "1       {'it': 0, 'ft': 'Petrol', 'bt': 'SUV', 'km': '...\n",
       "2       {'it': 0, 'ft': 'Petrol', 'bt': 'Hatchback', '...\n",
       "3       {'it': 0, 'ft': 'Petrol', 'bt': 'Sedan', 'km':...\n",
       "4       {'it': 0, 'ft': 'Diesel', 'bt': 'SUV', 'km': '...\n",
       "                              ...                        \n",
       "8364    {'it': 0, 'ft': 'Petrol', 'bt': 'Hatchback', '...\n",
       "8365    {'it': 0, 'ft': 'Petrol', 'bt': 'Hatchback', '...\n",
       "8366    {'it': 0, 'ft': 'Petrol', 'bt': 'Sedan', 'km':...\n",
       "8367    {'it': 0, 'ft': 'Petrol', 'bt': 'Hatchback', '...\n",
       "8368    {'it': 0, 'ft': 'Diesel', 'bt': 'SUV', 'km': '...\n",
       "Name: new_car_detail, Length: 8369, dtype: object"
      ]
     },
     "execution_count": 6,
     "metadata": {},
     "output_type": "execute_result"
    }
   ],
   "source": [
    "merged_cars['new_car_detail']"
   ]
  },
  {
   "cell_type": "markdown",
   "metadata": {},
   "source": [
    "Convert and Extract the Object to Dictionary Into New Columns"
   ]
  },
  {
   "cell_type": "code",
   "execution_count": 7,
   "metadata": {},
   "outputs": [],
   "source": [
    "import pandas as pd\n",
    "\n",
    "# Convert the 'new_car_detail' column from object to dictionary\n",
    "merged_cars['new_car_detail'] = merged_cars['new_car_detail'].apply(eval)\n",
    "\n",
    "# Normalize the 'new_car_detail' column and create new columns\n",
    "new_details_df = pd.json_normalize(merged_cars['new_car_detail'])\n",
    "\n",
    "# Concatenate the new columns to the original DataFrame\n",
    "merged_cars = pd.concat([merged_cars, new_details_df], axis=1)"
   ]
  },
  {
   "cell_type": "markdown",
   "metadata": {},
   "source": [
    "Dropping Previous Column"
   ]
  },
  {
   "cell_type": "code",
   "execution_count": 8,
   "metadata": {},
   "outputs": [],
   "source": [
    "# Dropping the 'new_car_detail' column\n",
    "merged_cars.drop('new_car_detail', axis=1, inplace=True)"
   ]
  },
  {
   "cell_type": "code",
   "execution_count": 9,
   "metadata": {},
   "outputs": [
    {
     "name": "stdout",
     "output_type": "stream",
     "text": [
      "<class 'pandas.core.frame.DataFrame'>\n",
      "RangeIndex: 8369 entries, 0 to 8368\n",
      "Data columns (total 24 columns):\n",
      " #   Column                Non-Null Count  Dtype \n",
      "---  ------                --------------  ----- \n",
      " 0   new_car_overview      8369 non-null   object\n",
      " 1   new_car_feature       8369 non-null   object\n",
      " 2   new_car_specs         8369 non-null   object\n",
      " 3   car_links             8369 non-null   object\n",
      " 4   City                  8369 non-null   object\n",
      " 5   it                    8369 non-null   int64 \n",
      " 6   ft                    8369 non-null   object\n",
      " 7   bt                    8369 non-null   object\n",
      " 8   km                    8369 non-null   object\n",
      " 9   transmission          8369 non-null   object\n",
      " 10  ownerNo               8369 non-null   int64 \n",
      " 11  owner                 8369 non-null   object\n",
      " 12  oem                   8369 non-null   object\n",
      " 13  model                 8369 non-null   object\n",
      " 14  modelYear             8369 non-null   int64 \n",
      " 15  centralVariantId      8369 non-null   int64 \n",
      " 16  variantName           8369 non-null   object\n",
      " 17  price                 8369 non-null   object\n",
      " 18  priceActual           8369 non-null   object\n",
      " 19  priceSaving           8369 non-null   object\n",
      " 20  priceFixedText        0 non-null      object\n",
      " 21  trendingText.imgUrl   8369 non-null   object\n",
      " 22  trendingText.heading  8369 non-null   object\n",
      " 23  trendingText.desc     8369 non-null   object\n",
      "dtypes: int64(4), object(20)\n",
      "memory usage: 1.5+ MB\n"
     ]
    }
   ],
   "source": [
    "merged_cars.info()"
   ]
  },
  {
   "cell_type": "markdown",
   "metadata": {},
   "source": [
    "Store the Convented data into CSV File Formate"
   ]
  },
  {
   "cell_type": "code",
   "execution_count": 10,
   "metadata": {},
   "outputs": [],
   "source": [
    "merged_cars.to_csv('merged_data.csv', index=False)"
   ]
  },
  {
   "cell_type": "markdown",
   "metadata": {},
   "source": [
    "2. Cleaning the Column new_car_overview"
   ]
  },
  {
   "cell_type": "code",
   "execution_count": 11,
   "metadata": {},
   "outputs": [
    {
     "data": {
      "text/plain": [
       "0       {'heading': 'Car overview', 'top': [{'key': 'R...\n",
       "1       {'heading': 'Car overview', 'top': [{'key': 'R...\n",
       "2       {'heading': 'Car overview', 'top': [{'key': 'R...\n",
       "3       {'heading': 'Car overview', 'top': [{'key': 'R...\n",
       "4       {'heading': 'Car overview', 'top': [{'key': 'R...\n",
       "                              ...                        \n",
       "8364    {'heading': 'Car overview', 'top': [{'key': 'R...\n",
       "8365    {'heading': 'Car overview', 'top': [{'key': 'R...\n",
       "8366    {'heading': 'Car overview', 'top': [{'key': 'R...\n",
       "8367    {'heading': 'Car overview', 'top': [{'key': 'R...\n",
       "8368    {'heading': 'Car overview', 'top': [{'key': 'R...\n",
       "Name: new_car_overview, Length: 8369, dtype: object"
      ]
     },
     "execution_count": 11,
     "metadata": {},
     "output_type": "execute_result"
    }
   ],
   "source": [
    "merged_cars['new_car_overview']"
   ]
  },
  {
   "cell_type": "markdown",
   "metadata": {},
   "source": [
    "Convert and Extract the Object to Dictionary Into New Columns"
   ]
  },
  {
   "cell_type": "code",
   "execution_count": 12,
   "metadata": {},
   "outputs": [],
   "source": [
    "# Convert the 'new_car_detail' column from object to dictionary\n",
    "merged_cars['new_car_overview'] = merged_cars['new_car_overview'].apply(eval)\n",
    "\n",
    "# Normalize the 'new_car_detail' column and create new columns\n",
    "new_details_df = pd.json_normalize(merged_cars['new_car_overview'])\n",
    "\n",
    "# Concatenate the new columns to the original DataFrame\n",
    "merged_cars = pd.concat([merged_cars, new_details_df], axis=1)"
   ]
  },
  {
   "cell_type": "code",
   "execution_count": 13,
   "metadata": {},
   "outputs": [
    {
     "name": "stdout",
     "output_type": "stream",
     "text": [
      "<class 'pandas.core.frame.DataFrame'>\n",
      "RangeIndex: 8369 entries, 0 to 8368\n",
      "Data columns (total 27 columns):\n",
      " #   Column                Non-Null Count  Dtype \n",
      "---  ------                --------------  ----- \n",
      " 0   new_car_overview      8369 non-null   object\n",
      " 1   new_car_feature       8369 non-null   object\n",
      " 2   new_car_specs         8369 non-null   object\n",
      " 3   car_links             8369 non-null   object\n",
      " 4   City                  8369 non-null   object\n",
      " 5   it                    8369 non-null   int64 \n",
      " 6   ft                    8369 non-null   object\n",
      " 7   bt                    8369 non-null   object\n",
      " 8   km                    8369 non-null   object\n",
      " 9   transmission          8369 non-null   object\n",
      " 10  ownerNo               8369 non-null   int64 \n",
      " 11  owner                 8369 non-null   object\n",
      " 12  oem                   8369 non-null   object\n",
      " 13  model                 8369 non-null   object\n",
      " 14  modelYear             8369 non-null   int64 \n",
      " 15  centralVariantId      8369 non-null   int64 \n",
      " 16  variantName           8369 non-null   object\n",
      " 17  price                 8369 non-null   object\n",
      " 18  priceActual           8369 non-null   object\n",
      " 19  priceSaving           8369 non-null   object\n",
      " 20  priceFixedText        0 non-null      object\n",
      " 21  trendingText.imgUrl   8369 non-null   object\n",
      " 22  trendingText.heading  8369 non-null   object\n",
      " 23  trendingText.desc     8369 non-null   object\n",
      " 24  heading               8369 non-null   object\n",
      " 25  top                   8369 non-null   object\n",
      " 26  bottomData            0 non-null      object\n",
      "dtypes: int64(4), object(23)\n",
      "memory usage: 1.7+ MB\n"
     ]
    }
   ],
   "source": [
    "merged_cars.info()"
   ]
  },
  {
   "cell_type": "code",
   "execution_count": 14,
   "metadata": {},
   "outputs": [
    {
     "data": {
      "text/html": [
       "<div>\n",
       "<style scoped>\n",
       "    .dataframe tbody tr th:only-of-type {\n",
       "        vertical-align: middle;\n",
       "    }\n",
       "\n",
       "    .dataframe tbody tr th {\n",
       "        vertical-align: top;\n",
       "    }\n",
       "\n",
       "    .dataframe thead th {\n",
       "        text-align: right;\n",
       "    }\n",
       "</style>\n",
       "<table border=\"1\" class=\"dataframe\">\n",
       "  <thead>\n",
       "    <tr style=\"text-align: right;\">\n",
       "      <th></th>\n",
       "      <th>new_car_overview</th>\n",
       "      <th>new_car_feature</th>\n",
       "      <th>new_car_specs</th>\n",
       "      <th>car_links</th>\n",
       "      <th>City</th>\n",
       "      <th>it</th>\n",
       "      <th>ft</th>\n",
       "      <th>bt</th>\n",
       "      <th>km</th>\n",
       "      <th>transmission</th>\n",
       "      <th>...</th>\n",
       "      <th>price</th>\n",
       "      <th>priceActual</th>\n",
       "      <th>priceSaving</th>\n",
       "      <th>priceFixedText</th>\n",
       "      <th>trendingText.imgUrl</th>\n",
       "      <th>trendingText.heading</th>\n",
       "      <th>trendingText.desc</th>\n",
       "      <th>heading</th>\n",
       "      <th>top</th>\n",
       "      <th>bottomData</th>\n",
       "    </tr>\n",
       "  </thead>\n",
       "  <tbody>\n",
       "    <tr>\n",
       "      <th>0</th>\n",
       "      <td>{'heading': 'Car overview', 'top': [{'key': 'R...</td>\n",
       "      <td>{'heading': 'Features', 'top': [{'value': 'Pow...</td>\n",
       "      <td>{'heading': 'Specifications', 'top': [{'key': ...</td>\n",
       "      <td>https://www.cardekho.com/used-car-details/used...</td>\n",
       "      <td>bangalore</td>\n",
       "      <td>0</td>\n",
       "      <td>Petrol</td>\n",
       "      <td>Hatchback</td>\n",
       "      <td>1,20,000</td>\n",
       "      <td>Manual</td>\n",
       "      <td>...</td>\n",
       "      <td>₹ 4 Lakh</td>\n",
       "      <td></td>\n",
       "      <td></td>\n",
       "      <td>None</td>\n",
       "      <td>https://stimg.cardekho.com/used-cars/common/ic...</td>\n",
       "      <td>Trending Car!</td>\n",
       "      <td>High chances of sale in next 6 days</td>\n",
       "      <td>Car overview</td>\n",
       "      <td>[{'key': 'Registration Year', 'value': '2015',...</td>\n",
       "      <td>None</td>\n",
       "    </tr>\n",
       "    <tr>\n",
       "      <th>1</th>\n",
       "      <td>{'heading': 'Car overview', 'top': [{'key': 'R...</td>\n",
       "      <td>{'heading': 'Features', 'top': [{'value': 'Pow...</td>\n",
       "      <td>{'heading': 'Specifications', 'top': [{'key': ...</td>\n",
       "      <td>https://www.cardekho.com/buy-used-car-details/...</td>\n",
       "      <td>bangalore</td>\n",
       "      <td>0</td>\n",
       "      <td>Petrol</td>\n",
       "      <td>SUV</td>\n",
       "      <td>32,706</td>\n",
       "      <td>Manual</td>\n",
       "      <td>...</td>\n",
       "      <td>₹ 8.11 Lakh</td>\n",
       "      <td></td>\n",
       "      <td></td>\n",
       "      <td>None</td>\n",
       "      <td>https://stimg.cardekho.com/used-cars/common/ic...</td>\n",
       "      <td>Trending Car!</td>\n",
       "      <td>High chances of sale in next 6 days</td>\n",
       "      <td>Car overview</td>\n",
       "      <td>[{'key': 'Registration Year', 'value': 'Feb 20...</td>\n",
       "      <td>None</td>\n",
       "    </tr>\n",
       "  </tbody>\n",
       "</table>\n",
       "<p>2 rows × 27 columns</p>\n",
       "</div>"
      ],
      "text/plain": [
       "                                    new_car_overview  \\\n",
       "0  {'heading': 'Car overview', 'top': [{'key': 'R...   \n",
       "1  {'heading': 'Car overview', 'top': [{'key': 'R...   \n",
       "\n",
       "                                     new_car_feature  \\\n",
       "0  {'heading': 'Features', 'top': [{'value': 'Pow...   \n",
       "1  {'heading': 'Features', 'top': [{'value': 'Pow...   \n",
       "\n",
       "                                       new_car_specs  \\\n",
       "0  {'heading': 'Specifications', 'top': [{'key': ...   \n",
       "1  {'heading': 'Specifications', 'top': [{'key': ...   \n",
       "\n",
       "                                           car_links       City  it      ft  \\\n",
       "0  https://www.cardekho.com/used-car-details/used...  bangalore   0  Petrol   \n",
       "1  https://www.cardekho.com/buy-used-car-details/...  bangalore   0  Petrol   \n",
       "\n",
       "          bt        km transmission  ...        price priceActual priceSaving  \\\n",
       "0  Hatchback  1,20,000       Manual  ...     ₹ 4 Lakh                           \n",
       "1        SUV    32,706       Manual  ...  ₹ 8.11 Lakh                           \n",
       "\n",
       "  priceFixedText                                trendingText.imgUrl  \\\n",
       "0           None  https://stimg.cardekho.com/used-cars/common/ic...   \n",
       "1           None  https://stimg.cardekho.com/used-cars/common/ic...   \n",
       "\n",
       "   trendingText.heading                    trendingText.desc       heading  \\\n",
       "0         Trending Car!  High chances of sale in next 6 days  Car overview   \n",
       "1         Trending Car!  High chances of sale in next 6 days  Car overview   \n",
       "\n",
       "                                                 top bottomData  \n",
       "0  [{'key': 'Registration Year', 'value': '2015',...       None  \n",
       "1  [{'key': 'Registration Year', 'value': 'Feb 20...       None  \n",
       "\n",
       "[2 rows x 27 columns]"
      ]
     },
     "execution_count": 14,
     "metadata": {},
     "output_type": "execute_result"
    }
   ],
   "source": [
    "merged_cars.head(2)"
   ]
  },
  {
   "cell_type": "markdown",
   "metadata": {},
   "source": [
    "2.2 Convert Top Column into single dictionary formate into new columns"
   ]
  },
  {
   "cell_type": "code",
   "execution_count": null,
   "metadata": {},
   "outputs": [
    {
     "data": {
      "text/plain": [
       "0       [{'key': 'Registration Year', 'value': '2015',...\n",
       "1       [{'key': 'Registration Year', 'value': 'Feb 20...\n",
       "2       [{'key': 'Registration Year', 'value': 'Sept 2...\n",
       "3       [{'key': 'Registration Year', 'value': 'Dec 20...\n",
       "4       [{'key': 'Registration Year', 'value': '2015',...\n",
       "                              ...                        \n",
       "8364    [{'key': 'Registration Year', 'value': '2022',...\n",
       "8365    [{'key': 'Registration Year', 'value': '2014',...\n",
       "8366    [{'key': 'Registration Year', 'value': '2011',...\n",
       "8367    [{'key': 'Registration Year', 'value': '2012',...\n",
       "8368    [{'key': 'Registration Year', 'value': '2017',...\n",
       "Name: top, Length: 8369, dtype: object"
      ]
     },
     "execution_count": 15,
     "metadata": {},
     "output_type": "execute_result"
    }
   ],
   "source": [
    "merged_cars['top']"
   ]
  },
  {
   "cell_type": "code",
   "execution_count": 16,
   "metadata": {},
   "outputs": [],
   "source": [
    "# Function to convert list of dictionaries to a single dictionary\n",
    "def convert_list_to_dict(list_of_dicts):\n",
    "    return {d['key']: d['value'] for d in list_of_dicts}\n",
    "\n",
    "# Apply the function to the 'top' column\n",
    "merged_cars['top'] = merged_cars['top'].apply(convert_list_to_dict)"
   ]
  },
  {
   "cell_type": "code",
   "execution_count": 17,
   "metadata": {},
   "outputs": [
    {
     "data": {
      "text/plain": [
       "0       {'Registration Year': '2015', 'Insurance Valid...\n",
       "1       {'Registration Year': 'Feb 2018', 'Insurance V...\n",
       "2       {'Registration Year': 'Sept 2018', 'Insurance ...\n",
       "3       {'Registration Year': 'Dec 2014', 'Insurance V...\n",
       "4       {'Registration Year': '2015', 'Insurance Valid...\n",
       "                              ...                        \n",
       "8364    {'Registration Year': '2022', 'Insurance Valid...\n",
       "8365    {'Registration Year': '2014', 'Insurance Valid...\n",
       "8366    {'Registration Year': '2011', 'Insurance Valid...\n",
       "8367    {'Registration Year': '2012', 'Insurance Valid...\n",
       "8368    {'Registration Year': '2017', 'Insurance Valid...\n",
       "Name: top, Length: 8369, dtype: object"
      ]
     },
     "execution_count": 17,
     "metadata": {},
     "output_type": "execute_result"
    }
   ],
   "source": [
    "merged_cars['top']"
   ]
  },
  {
   "cell_type": "code",
   "execution_count": 18,
   "metadata": {},
   "outputs": [
    {
     "name": "stdout",
     "output_type": "stream",
     "text": [
      "top\n",
      "<class 'dict'>    8369\n",
      "Name: count, dtype: int64\n"
     ]
    }
   ],
   "source": [
    "print(merged_cars['top'].apply(type).value_counts())"
   ]
  },
  {
   "cell_type": "code",
   "execution_count": 19,
   "metadata": {},
   "outputs": [],
   "source": [
    "# Convert the 'top' column to strings before applying eval\n",
    "merged_cars['top'] = merged_cars['top'].apply(lambda x: str(x) if x is not None else 'None')"
   ]
  },
  {
   "cell_type": "code",
   "execution_count": 20,
   "metadata": {},
   "outputs": [],
   "source": [
    "def safe_eval(x):\n",
    "    try:\n",
    "        return eval(x) if isinstance(x, str) and x != 'None' else None\n",
    "    except Exception as e:\n",
    "        print(f\"Error evaluating {x}: {e}\")\n",
    "        return None  \n",
    "\n",
    "# Apply the safe_eval function\n",
    "merged_cars['top'] = merged_cars['top'].apply(safe_eval)"
   ]
  },
  {
   "cell_type": "code",
   "execution_count": 21,
   "metadata": {},
   "outputs": [],
   "source": [
    "# Normalize the 'top' column and create new columns\n",
    "new_details_df = pd.json_normalize(merged_cars['top'])"
   ]
  },
  {
   "cell_type": "code",
   "execution_count": 22,
   "metadata": {},
   "outputs": [],
   "source": [
    "# Concatenate the new columns to the original DataFrame\n",
    "merged_cars = pd.concat([merged_cars, new_details_df], axis=1)"
   ]
  },
  {
   "cell_type": "markdown",
   "metadata": {},
   "source": [
    "Converting Non-string into String formate"
   ]
  },
  {
   "cell_type": "code",
   "execution_count": 23,
   "metadata": {},
   "outputs": [],
   "source": [
    "import pandas as pd\n",
    "\n",
    "# Step 1: Convert non-string values to strings\n",
    "merged_cars['top'] = merged_cars['top'].apply(lambda x: str(x) if x is not None else 'None')\n",
    "\n",
    "# Step 2: Define the safe_eval function\n",
    "def safe_eval(x):\n",
    "    try:\n",
    "        return eval(x) if isinstance(x, str) and x != 'None' else None\n",
    "    except Exception as e:\n",
    "        print(f\"Error evaluating {x}: {e}\")\n",
    "        return None\n",
    "\n",
    "# Step 3: Apply the safe_eval function\n",
    "merged_cars['top'] = merged_cars['top'].apply(safe_eval)\n",
    "\n",
    "# Step 4: Normalize the 'top' column and create new columns\n",
    "new_details_df = pd.json_normalize(merged_cars['top'])\n",
    "\n",
    "# Step 5: Concatenate the new columns to the original DataFrame\n",
    "merged_cars = pd.concat([merged_cars, new_details_df], axis=1)"
   ]
  },
  {
   "cell_type": "code",
   "execution_count": 24,
   "metadata": {},
   "outputs": [
    {
     "data": {
      "text/html": [
       "<div>\n",
       "<style scoped>\n",
       "    .dataframe tbody tr th:only-of-type {\n",
       "        vertical-align: middle;\n",
       "    }\n",
       "\n",
       "    .dataframe tbody tr th {\n",
       "        vertical-align: top;\n",
       "    }\n",
       "\n",
       "    .dataframe thead th {\n",
       "        text-align: right;\n",
       "    }\n",
       "</style>\n",
       "<table border=\"1\" class=\"dataframe\">\n",
       "  <thead>\n",
       "    <tr style=\"text-align: right;\">\n",
       "      <th></th>\n",
       "      <th>new_car_overview</th>\n",
       "      <th>new_car_feature</th>\n",
       "      <th>new_car_specs</th>\n",
       "      <th>car_links</th>\n",
       "      <th>City</th>\n",
       "      <th>it</th>\n",
       "      <th>ft</th>\n",
       "      <th>bt</th>\n",
       "      <th>km</th>\n",
       "      <th>transmission</th>\n",
       "      <th>...</th>\n",
       "      <th>Registration Year</th>\n",
       "      <th>Insurance Validity</th>\n",
       "      <th>Fuel Type</th>\n",
       "      <th>Seats</th>\n",
       "      <th>Kms Driven</th>\n",
       "      <th>RTO</th>\n",
       "      <th>Ownership</th>\n",
       "      <th>Engine Displacement</th>\n",
       "      <th>Transmission</th>\n",
       "      <th>Year of Manufacture</th>\n",
       "    </tr>\n",
       "  </thead>\n",
       "  <tbody>\n",
       "    <tr>\n",
       "      <th>0</th>\n",
       "      <td>{'heading': 'Car overview', 'top': [{'key': 'R...</td>\n",
       "      <td>{'heading': 'Features', 'top': [{'value': 'Pow...</td>\n",
       "      <td>{'heading': 'Specifications', 'top': [{'key': ...</td>\n",
       "      <td>https://www.cardekho.com/used-car-details/used...</td>\n",
       "      <td>bangalore</td>\n",
       "      <td>0</td>\n",
       "      <td>Petrol</td>\n",
       "      <td>Hatchback</td>\n",
       "      <td>1,20,000</td>\n",
       "      <td>Manual</td>\n",
       "      <td>...</td>\n",
       "      <td>2015</td>\n",
       "      <td>Third Party insurance</td>\n",
       "      <td>Petrol</td>\n",
       "      <td>5 Seats</td>\n",
       "      <td>1,20,000 Kms</td>\n",
       "      <td>KA51</td>\n",
       "      <td>Third Owner</td>\n",
       "      <td>998 cc</td>\n",
       "      <td>Manual</td>\n",
       "      <td>2015.0</td>\n",
       "    </tr>\n",
       "    <tr>\n",
       "      <th>1</th>\n",
       "      <td>{'heading': 'Car overview', 'top': [{'key': 'R...</td>\n",
       "      <td>{'heading': 'Features', 'top': [{'value': 'Pow...</td>\n",
       "      <td>{'heading': 'Specifications', 'top': [{'key': ...</td>\n",
       "      <td>https://www.cardekho.com/buy-used-car-details/...</td>\n",
       "      <td>bangalore</td>\n",
       "      <td>0</td>\n",
       "      <td>Petrol</td>\n",
       "      <td>SUV</td>\n",
       "      <td>32,706</td>\n",
       "      <td>Manual</td>\n",
       "      <td>...</td>\n",
       "      <td>Feb 2018</td>\n",
       "      <td>Comprehensive</td>\n",
       "      <td>Petrol</td>\n",
       "      <td>5 Seats</td>\n",
       "      <td>32,706 Kms</td>\n",
       "      <td>KA05</td>\n",
       "      <td>Second Owner</td>\n",
       "      <td>1497 cc</td>\n",
       "      <td>Manual</td>\n",
       "      <td>2018.0</td>\n",
       "    </tr>\n",
       "  </tbody>\n",
       "</table>\n",
       "<p>2 rows × 47 columns</p>\n",
       "</div>"
      ],
      "text/plain": [
       "                                    new_car_overview  \\\n",
       "0  {'heading': 'Car overview', 'top': [{'key': 'R...   \n",
       "1  {'heading': 'Car overview', 'top': [{'key': 'R...   \n",
       "\n",
       "                                     new_car_feature  \\\n",
       "0  {'heading': 'Features', 'top': [{'value': 'Pow...   \n",
       "1  {'heading': 'Features', 'top': [{'value': 'Pow...   \n",
       "\n",
       "                                       new_car_specs  \\\n",
       "0  {'heading': 'Specifications', 'top': [{'key': ...   \n",
       "1  {'heading': 'Specifications', 'top': [{'key': ...   \n",
       "\n",
       "                                           car_links       City  it      ft  \\\n",
       "0  https://www.cardekho.com/used-car-details/used...  bangalore   0  Petrol   \n",
       "1  https://www.cardekho.com/buy-used-car-details/...  bangalore   0  Petrol   \n",
       "\n",
       "          bt        km transmission  ...  Registration Year  \\\n",
       "0  Hatchback  1,20,000       Manual  ...               2015   \n",
       "1        SUV    32,706       Manual  ...           Feb 2018   \n",
       "\n",
       "      Insurance Validity Fuel Type    Seats    Kms Driven   RTO     Ownership  \\\n",
       "0  Third Party insurance    Petrol  5 Seats  1,20,000 Kms  KA51   Third Owner   \n",
       "1          Comprehensive    Petrol  5 Seats    32,706 Kms  KA05  Second Owner   \n",
       "\n",
       "  Engine Displacement Transmission Year of Manufacture  \n",
       "0              998 cc       Manual              2015.0  \n",
       "1             1497 cc       Manual              2018.0  \n",
       "\n",
       "[2 rows x 47 columns]"
      ]
     },
     "execution_count": 24,
     "metadata": {},
     "output_type": "execute_result"
    }
   ],
   "source": [
    "merged_cars.head(2)"
   ]
  },
  {
   "cell_type": "code",
   "execution_count": 25,
   "metadata": {},
   "outputs": [
    {
     "name": "stdout",
     "output_type": "stream",
     "text": [
      "<class 'pandas.core.frame.DataFrame'>\n",
      "RangeIndex: 8369 entries, 0 to 8368\n",
      "Data columns (total 47 columns):\n",
      " #   Column                Non-Null Count  Dtype  \n",
      "---  ------                --------------  -----  \n",
      " 0   new_car_overview      8369 non-null   object \n",
      " 1   new_car_feature       8369 non-null   object \n",
      " 2   new_car_specs         8369 non-null   object \n",
      " 3   car_links             8369 non-null   object \n",
      " 4   City                  8369 non-null   object \n",
      " 5   it                    8369 non-null   int64  \n",
      " 6   ft                    8369 non-null   object \n",
      " 7   bt                    8369 non-null   object \n",
      " 8   km                    8369 non-null   object \n",
      " 9   transmission          8369 non-null   object \n",
      " 10  ownerNo               8369 non-null   int64  \n",
      " 11  owner                 8369 non-null   object \n",
      " 12  oem                   8369 non-null   object \n",
      " 13  model                 8369 non-null   object \n",
      " 14  modelYear             8369 non-null   int64  \n",
      " 15  centralVariantId      8369 non-null   int64  \n",
      " 16  variantName           8369 non-null   object \n",
      " 17  price                 8369 non-null   object \n",
      " 18  priceActual           8369 non-null   object \n",
      " 19  priceSaving           8369 non-null   object \n",
      " 20  priceFixedText        0 non-null      object \n",
      " 21  trendingText.imgUrl   8369 non-null   object \n",
      " 22  trendingText.heading  8369 non-null   object \n",
      " 23  trendingText.desc     8369 non-null   object \n",
      " 24  heading               8369 non-null   object \n",
      " 25  top                   8369 non-null   object \n",
      " 26  bottomData            0 non-null      object \n",
      " 27  Registration Year     8317 non-null   object \n",
      " 28  Insurance Validity    8365 non-null   object \n",
      " 29  Fuel Type             8369 non-null   object \n",
      " 30  Seats                 8363 non-null   object \n",
      " 31  Kms Driven            8367 non-null   object \n",
      " 32  RTO                   7481 non-null   object \n",
      " 33  Ownership             8337 non-null   object \n",
      " 34  Engine Displacement   8365 non-null   object \n",
      " 35  Transmission          8369 non-null   object \n",
      " 36  Year of Manufacture   8349 non-null   float64\n",
      " 37  Registration Year     8317 non-null   object \n",
      " 38  Insurance Validity    8365 non-null   object \n",
      " 39  Fuel Type             8369 non-null   object \n",
      " 40  Seats                 8363 non-null   object \n",
      " 41  Kms Driven            8367 non-null   object \n",
      " 42  RTO                   7481 non-null   object \n",
      " 43  Ownership             8337 non-null   object \n",
      " 44  Engine Displacement   8365 non-null   object \n",
      " 45  Transmission          8369 non-null   object \n",
      " 46  Year of Manufacture   8349 non-null   float64\n",
      "dtypes: float64(2), int64(4), object(41)\n",
      "memory usage: 3.0+ MB\n"
     ]
    }
   ],
   "source": [
    "merged_cars.info()"
   ]
  },
  {
   "cell_type": "markdown",
   "metadata": {},
   "source": [
    "Dropping previous Column"
   ]
  },
  {
   "cell_type": "code",
   "execution_count": 26,
   "metadata": {},
   "outputs": [],
   "source": [
    "# Dropping the 'new_car_overview' column\n",
    "merged_cars.drop('new_car_overview', axis=1, inplace=True)"
   ]
  },
  {
   "cell_type": "code",
   "execution_count": 27,
   "metadata": {},
   "outputs": [
    {
     "data": {
      "text/plain": [
       "Index(['new_car_feature', 'new_car_specs', 'car_links', 'City', 'it', 'ft',\n",
       "       'bt', 'km', 'transmission', 'ownerNo', 'owner', 'oem', 'model',\n",
       "       'modelYear', 'centralVariantId', 'variantName', 'price', 'priceActual',\n",
       "       'priceSaving', 'priceFixedText', 'trendingText.imgUrl',\n",
       "       'trendingText.heading', 'trendingText.desc', 'heading', 'top',\n",
       "       'bottomData', 'Registration Year', 'Insurance Validity', 'Fuel Type',\n",
       "       'Seats', 'Kms Driven', 'RTO', 'Ownership', 'Engine Displacement',\n",
       "       'Transmission', 'Year of Manufacture', 'Registration Year',\n",
       "       'Insurance Validity', 'Fuel Type', 'Seats', 'Kms Driven', 'RTO',\n",
       "       'Ownership', 'Engine Displacement', 'Transmission',\n",
       "       'Year of Manufacture'],\n",
       "      dtype='object')"
      ]
     },
     "execution_count": 27,
     "metadata": {},
     "output_type": "execute_result"
    }
   ],
   "source": [
    "merged_cars.columns"
   ]
  },
  {
   "cell_type": "markdown",
   "metadata": {},
   "source": [
    "Dropping previous Column['Top']"
   ]
  },
  {
   "cell_type": "code",
   "execution_count": 28,
   "metadata": {},
   "outputs": [],
   "source": [
    "merged_cars = merged_cars.drop(columns=['top'])"
   ]
  },
  {
   "cell_type": "code",
   "execution_count": 29,
   "metadata": {},
   "outputs": [
    {
     "data": {
      "text/html": [
       "<div>\n",
       "<style scoped>\n",
       "    .dataframe tbody tr th:only-of-type {\n",
       "        vertical-align: middle;\n",
       "    }\n",
       "\n",
       "    .dataframe tbody tr th {\n",
       "        vertical-align: top;\n",
       "    }\n",
       "\n",
       "    .dataframe thead th {\n",
       "        text-align: right;\n",
       "    }\n",
       "</style>\n",
       "<table border=\"1\" class=\"dataframe\">\n",
       "  <thead>\n",
       "    <tr style=\"text-align: right;\">\n",
       "      <th></th>\n",
       "      <th>new_car_feature</th>\n",
       "      <th>new_car_specs</th>\n",
       "      <th>car_links</th>\n",
       "      <th>City</th>\n",
       "      <th>it</th>\n",
       "      <th>ft</th>\n",
       "      <th>bt</th>\n",
       "      <th>km</th>\n",
       "      <th>transmission</th>\n",
       "      <th>ownerNo</th>\n",
       "      <th>...</th>\n",
       "      <th>Registration Year</th>\n",
       "      <th>Insurance Validity</th>\n",
       "      <th>Fuel Type</th>\n",
       "      <th>Seats</th>\n",
       "      <th>Kms Driven</th>\n",
       "      <th>RTO</th>\n",
       "      <th>Ownership</th>\n",
       "      <th>Engine Displacement</th>\n",
       "      <th>Transmission</th>\n",
       "      <th>Year of Manufacture</th>\n",
       "    </tr>\n",
       "  </thead>\n",
       "  <tbody>\n",
       "    <tr>\n",
       "      <th>0</th>\n",
       "      <td>{'heading': 'Features', 'top': [{'value': 'Pow...</td>\n",
       "      <td>{'heading': 'Specifications', 'top': [{'key': ...</td>\n",
       "      <td>https://www.cardekho.com/used-car-details/used...</td>\n",
       "      <td>bangalore</td>\n",
       "      <td>0</td>\n",
       "      <td>Petrol</td>\n",
       "      <td>Hatchback</td>\n",
       "      <td>1,20,000</td>\n",
       "      <td>Manual</td>\n",
       "      <td>3</td>\n",
       "      <td>...</td>\n",
       "      <td>2015</td>\n",
       "      <td>Third Party insurance</td>\n",
       "      <td>Petrol</td>\n",
       "      <td>5 Seats</td>\n",
       "      <td>1,20,000 Kms</td>\n",
       "      <td>KA51</td>\n",
       "      <td>Third Owner</td>\n",
       "      <td>998 cc</td>\n",
       "      <td>Manual</td>\n",
       "      <td>2015.0</td>\n",
       "    </tr>\n",
       "    <tr>\n",
       "      <th>1</th>\n",
       "      <td>{'heading': 'Features', 'top': [{'value': 'Pow...</td>\n",
       "      <td>{'heading': 'Specifications', 'top': [{'key': ...</td>\n",
       "      <td>https://www.cardekho.com/buy-used-car-details/...</td>\n",
       "      <td>bangalore</td>\n",
       "      <td>0</td>\n",
       "      <td>Petrol</td>\n",
       "      <td>SUV</td>\n",
       "      <td>32,706</td>\n",
       "      <td>Manual</td>\n",
       "      <td>2</td>\n",
       "      <td>...</td>\n",
       "      <td>Feb 2018</td>\n",
       "      <td>Comprehensive</td>\n",
       "      <td>Petrol</td>\n",
       "      <td>5 Seats</td>\n",
       "      <td>32,706 Kms</td>\n",
       "      <td>KA05</td>\n",
       "      <td>Second Owner</td>\n",
       "      <td>1497 cc</td>\n",
       "      <td>Manual</td>\n",
       "      <td>2018.0</td>\n",
       "    </tr>\n",
       "  </tbody>\n",
       "</table>\n",
       "<p>2 rows × 45 columns</p>\n",
       "</div>"
      ],
      "text/plain": [
       "                                     new_car_feature  \\\n",
       "0  {'heading': 'Features', 'top': [{'value': 'Pow...   \n",
       "1  {'heading': 'Features', 'top': [{'value': 'Pow...   \n",
       "\n",
       "                                       new_car_specs  \\\n",
       "0  {'heading': 'Specifications', 'top': [{'key': ...   \n",
       "1  {'heading': 'Specifications', 'top': [{'key': ...   \n",
       "\n",
       "                                           car_links       City  it      ft  \\\n",
       "0  https://www.cardekho.com/used-car-details/used...  bangalore   0  Petrol   \n",
       "1  https://www.cardekho.com/buy-used-car-details/...  bangalore   0  Petrol   \n",
       "\n",
       "          bt        km transmission  ownerNo  ... Registration Year  \\\n",
       "0  Hatchback  1,20,000       Manual        3  ...              2015   \n",
       "1        SUV    32,706       Manual        2  ...          Feb 2018   \n",
       "\n",
       "      Insurance Validity Fuel Type    Seats    Kms Driven   RTO     Ownership  \\\n",
       "0  Third Party insurance    Petrol  5 Seats  1,20,000 Kms  KA51   Third Owner   \n",
       "1          Comprehensive    Petrol  5 Seats    32,706 Kms  KA05  Second Owner   \n",
       "\n",
       "  Engine Displacement Transmission Year of Manufacture  \n",
       "0              998 cc       Manual              2015.0  \n",
       "1             1497 cc       Manual              2018.0  \n",
       "\n",
       "[2 rows x 45 columns]"
      ]
     },
     "execution_count": 29,
     "metadata": {},
     "output_type": "execute_result"
    }
   ],
   "source": [
    "merged_cars.head(2)"
   ]
  },
  {
   "cell_type": "code",
   "execution_count": 30,
   "metadata": {},
   "outputs": [
    {
     "name": "stdout",
     "output_type": "stream",
     "text": [
      "<class 'pandas.core.frame.DataFrame'>\n",
      "RangeIndex: 8369 entries, 0 to 8368\n",
      "Data columns (total 45 columns):\n",
      " #   Column                Non-Null Count  Dtype  \n",
      "---  ------                --------------  -----  \n",
      " 0   new_car_feature       8369 non-null   object \n",
      " 1   new_car_specs         8369 non-null   object \n",
      " 2   car_links             8369 non-null   object \n",
      " 3   City                  8369 non-null   object \n",
      " 4   it                    8369 non-null   int64  \n",
      " 5   ft                    8369 non-null   object \n",
      " 6   bt                    8369 non-null   object \n",
      " 7   km                    8369 non-null   object \n",
      " 8   transmission          8369 non-null   object \n",
      " 9   ownerNo               8369 non-null   int64  \n",
      " 10  owner                 8369 non-null   object \n",
      " 11  oem                   8369 non-null   object \n",
      " 12  model                 8369 non-null   object \n",
      " 13  modelYear             8369 non-null   int64  \n",
      " 14  centralVariantId      8369 non-null   int64  \n",
      " 15  variantName           8369 non-null   object \n",
      " 16  price                 8369 non-null   object \n",
      " 17  priceActual           8369 non-null   object \n",
      " 18  priceSaving           8369 non-null   object \n",
      " 19  priceFixedText        0 non-null      object \n",
      " 20  trendingText.imgUrl   8369 non-null   object \n",
      " 21  trendingText.heading  8369 non-null   object \n",
      " 22  trendingText.desc     8369 non-null   object \n",
      " 23  heading               8369 non-null   object \n",
      " 24  bottomData            0 non-null      object \n",
      " 25  Registration Year     8317 non-null   object \n",
      " 26  Insurance Validity    8365 non-null   object \n",
      " 27  Fuel Type             8369 non-null   object \n",
      " 28  Seats                 8363 non-null   object \n",
      " 29  Kms Driven            8367 non-null   object \n",
      " 30  RTO                   7481 non-null   object \n",
      " 31  Ownership             8337 non-null   object \n",
      " 32  Engine Displacement   8365 non-null   object \n",
      " 33  Transmission          8369 non-null   object \n",
      " 34  Year of Manufacture   8349 non-null   float64\n",
      " 35  Registration Year     8317 non-null   object \n",
      " 36  Insurance Validity    8365 non-null   object \n",
      " 37  Fuel Type             8369 non-null   object \n",
      " 38  Seats                 8363 non-null   object \n",
      " 39  Kms Driven            8367 non-null   object \n",
      " 40  RTO                   7481 non-null   object \n",
      " 41  Ownership             8337 non-null   object \n",
      " 42  Engine Displacement   8365 non-null   object \n",
      " 43  Transmission          8369 non-null   object \n",
      " 44  Year of Manufacture   8349 non-null   float64\n",
      "dtypes: float64(2), int64(4), object(39)\n",
      "memory usage: 2.9+ MB\n"
     ]
    }
   ],
   "source": [
    "merged_cars.info()"
   ]
  },
  {
   "cell_type": "markdown",
   "metadata": {},
   "source": [
    "Store the data into CSV File formate"
   ]
  },
  {
   "cell_type": "code",
   "execution_count": 31,
   "metadata": {},
   "outputs": [],
   "source": [
    "merged_cars.to_csv('merged_data.csv', index=False)"
   ]
  },
  {
   "cell_type": "code",
   "execution_count": 32,
   "metadata": {},
   "outputs": [
    {
     "data": {
      "text/html": [
       "<div>\n",
       "<style scoped>\n",
       "    .dataframe tbody tr th:only-of-type {\n",
       "        vertical-align: middle;\n",
       "    }\n",
       "\n",
       "    .dataframe tbody tr th {\n",
       "        vertical-align: top;\n",
       "    }\n",
       "\n",
       "    .dataframe thead th {\n",
       "        text-align: right;\n",
       "    }\n",
       "</style>\n",
       "<table border=\"1\" class=\"dataframe\">\n",
       "  <thead>\n",
       "    <tr style=\"text-align: right;\">\n",
       "      <th></th>\n",
       "      <th>new_car_feature</th>\n",
       "      <th>new_car_specs</th>\n",
       "      <th>car_links</th>\n",
       "      <th>City</th>\n",
       "      <th>it</th>\n",
       "      <th>ft</th>\n",
       "      <th>bt</th>\n",
       "      <th>km</th>\n",
       "      <th>transmission</th>\n",
       "      <th>ownerNo</th>\n",
       "      <th>...</th>\n",
       "      <th>Registration Year</th>\n",
       "      <th>Insurance Validity</th>\n",
       "      <th>Fuel Type</th>\n",
       "      <th>Seats</th>\n",
       "      <th>Kms Driven</th>\n",
       "      <th>RTO</th>\n",
       "      <th>Ownership</th>\n",
       "      <th>Engine Displacement</th>\n",
       "      <th>Transmission</th>\n",
       "      <th>Year of Manufacture</th>\n",
       "    </tr>\n",
       "  </thead>\n",
       "  <tbody>\n",
       "    <tr>\n",
       "      <th>0</th>\n",
       "      <td>{'heading': 'Features', 'top': [{'value': 'Pow...</td>\n",
       "      <td>{'heading': 'Specifications', 'top': [{'key': ...</td>\n",
       "      <td>https://www.cardekho.com/used-car-details/used...</td>\n",
       "      <td>bangalore</td>\n",
       "      <td>0</td>\n",
       "      <td>Petrol</td>\n",
       "      <td>Hatchback</td>\n",
       "      <td>1,20,000</td>\n",
       "      <td>Manual</td>\n",
       "      <td>3</td>\n",
       "      <td>...</td>\n",
       "      <td>2015</td>\n",
       "      <td>Third Party insurance</td>\n",
       "      <td>Petrol</td>\n",
       "      <td>5 Seats</td>\n",
       "      <td>1,20,000 Kms</td>\n",
       "      <td>KA51</td>\n",
       "      <td>Third Owner</td>\n",
       "      <td>998 cc</td>\n",
       "      <td>Manual</td>\n",
       "      <td>2015.0</td>\n",
       "    </tr>\n",
       "    <tr>\n",
       "      <th>1</th>\n",
       "      <td>{'heading': 'Features', 'top': [{'value': 'Pow...</td>\n",
       "      <td>{'heading': 'Specifications', 'top': [{'key': ...</td>\n",
       "      <td>https://www.cardekho.com/buy-used-car-details/...</td>\n",
       "      <td>bangalore</td>\n",
       "      <td>0</td>\n",
       "      <td>Petrol</td>\n",
       "      <td>SUV</td>\n",
       "      <td>32,706</td>\n",
       "      <td>Manual</td>\n",
       "      <td>2</td>\n",
       "      <td>...</td>\n",
       "      <td>Feb 2018</td>\n",
       "      <td>Comprehensive</td>\n",
       "      <td>Petrol</td>\n",
       "      <td>5 Seats</td>\n",
       "      <td>32,706 Kms</td>\n",
       "      <td>KA05</td>\n",
       "      <td>Second Owner</td>\n",
       "      <td>1497 cc</td>\n",
       "      <td>Manual</td>\n",
       "      <td>2018.0</td>\n",
       "    </tr>\n",
       "  </tbody>\n",
       "</table>\n",
       "<p>2 rows × 45 columns</p>\n",
       "</div>"
      ],
      "text/plain": [
       "                                     new_car_feature  \\\n",
       "0  {'heading': 'Features', 'top': [{'value': 'Pow...   \n",
       "1  {'heading': 'Features', 'top': [{'value': 'Pow...   \n",
       "\n",
       "                                       new_car_specs  \\\n",
       "0  {'heading': 'Specifications', 'top': [{'key': ...   \n",
       "1  {'heading': 'Specifications', 'top': [{'key': ...   \n",
       "\n",
       "                                           car_links       City  it      ft  \\\n",
       "0  https://www.cardekho.com/used-car-details/used...  bangalore   0  Petrol   \n",
       "1  https://www.cardekho.com/buy-used-car-details/...  bangalore   0  Petrol   \n",
       "\n",
       "          bt        km transmission  ownerNo  ... Registration Year  \\\n",
       "0  Hatchback  1,20,000       Manual        3  ...              2015   \n",
       "1        SUV    32,706       Manual        2  ...          Feb 2018   \n",
       "\n",
       "      Insurance Validity Fuel Type    Seats    Kms Driven   RTO     Ownership  \\\n",
       "0  Third Party insurance    Petrol  5 Seats  1,20,000 Kms  KA51   Third Owner   \n",
       "1          Comprehensive    Petrol  5 Seats    32,706 Kms  KA05  Second Owner   \n",
       "\n",
       "  Engine Displacement Transmission Year of Manufacture  \n",
       "0              998 cc       Manual              2015.0  \n",
       "1             1497 cc       Manual              2018.0  \n",
       "\n",
       "[2 rows x 45 columns]"
      ]
     },
     "execution_count": 32,
     "metadata": {},
     "output_type": "execute_result"
    }
   ],
   "source": [
    "merged_cars.head(2)"
   ]
  },
  {
   "cell_type": "markdown",
   "metadata": {},
   "source": [
    "3. Cleaning the Column new_car_feature"
   ]
  },
  {
   "cell_type": "code",
   "execution_count": 33,
   "metadata": {},
   "outputs": [
    {
     "data": {
      "text/plain": [
       "0       {'heading': 'Features', 'top': [{'value': 'Pow...\n",
       "1       {'heading': 'Features', 'top': [{'value': 'Pow...\n",
       "2       {'heading': 'Features', 'top': [{'value': 'Pow...\n",
       "3       {'heading': 'Features', 'top': [{'value': 'Pow...\n",
       "4       {'heading': 'Features', 'top': [{'value': 'Pow...\n",
       "                              ...                        \n",
       "8364    {'heading': 'Features', 'top': [{'value': 'Pow...\n",
       "8365    {'heading': 'Features', 'top': [{'value': 'Pow...\n",
       "8366    {'heading': 'Features', 'top': [{'value': 'Pow...\n",
       "8367    {'heading': 'Features', 'top': [{'value': 'Pow...\n",
       "8368    {'heading': 'Features', 'top': [{'value': 'Pow...\n",
       "Name: new_car_feature, Length: 8369, dtype: object"
      ]
     },
     "execution_count": 33,
     "metadata": {},
     "output_type": "execute_result"
    }
   ],
   "source": [
    "merged_cars['new_car_feature']"
   ]
  },
  {
   "cell_type": "code",
   "execution_count": 34,
   "metadata": {},
   "outputs": [
    {
     "data": {
      "text/plain": [
       "array([\"{'heading': 'Features', 'top': [{'value': 'Power Steering'}, {'value': 'Power Windows Front'}, {'value': 'Air Conditioner'}, {'value': 'Heater'}, {'value': 'Adjustable Head Lights'}, {'value': 'Manually Adjustable Exterior Rear View Mirror'}, {'value': 'Centeral Locking'}, {'value': 'Child Safety Locks'}], 'data': [{'heading': 'Comfort & Convenience', 'subHeading': 'Comfort', 'list': [{'value': 'Power Steering'}, {'value': 'Power Windows Front'}, {'value': 'Power Windows Rear'}, {'value': 'Remote Trunk Opener'}, {'value': 'Remote Fuel Lid Opener'}, {'value': 'Low Fuel Warning Light'}, {'value': 'Accessory Power Outlet'}, {'value': 'Vanity Mirror'}, {'value': 'Rear Seat Headrest'}, {'value': 'Cup Holders Front'}]}, {'heading': 'Interior', 'subHeading': 'Interior', 'list': [{'value': 'Air Conditioner'}, {'value': 'Heater'}, {'value': 'Digital Odometer'}, {'value': 'Electronic Multi Tripmeter'}, {'value': 'Fabric Upholstery'}, {'value': 'Glove Compartment'}, {'value': 'Digital Clock'}]}, {'heading': 'Exterior', 'subHeading': 'Exterior', 'list': [{'value': 'Adjustable Head Lights'}, {'value': 'Manually Adjustable Exterior Rear View Mirror'}, {'value': 'Wheel Covers'}, {'value': 'Power Antenna'}, {'value': 'Chrome Grille'}]}, {'heading': 'Safety', 'subHeading': 'Safety', 'list': [{'value': 'Centeral Locking'}, {'value': 'Child Safety Locks'}, {'value': 'Day Night Rear View Mirror'}, {'value': 'Passenger Side Rear View Mirror'}, {'value': 'Halogen Headlamps'}, {'value': 'Rear Seat Belts'}, {'value': 'Door Ajar Warning'}, {'value': 'Side Impact Beams'}, {'value': 'Front Impact Beams'}, {'value': 'Adjustable Seats'}, {'value': 'Centrally Mounted Fuel Tank'}, {'value': 'Engine Immobilizer'}, {'value': 'Anti Theft Device'}]}], 'commonIcon': 'https://stimg.cardekho.com/pwa/img/vdpN/tickG.svg'}\",\n",
       "       \"{'heading': 'Features', 'top': [{'value': 'Power Steering'}, {'value': 'Power Windows Front'}, {'value': 'Air Conditioner'}, {'value': 'Heater'}, {'value': 'Adjustable Head Lights'}, {'value': 'Fog Lights Front'}, {'value': 'Anti Lock Braking System'}, {'value': 'Centeral Locking'}, {'value': 'Cd Player'}], 'data': [{'heading': 'Comfort & Convenience', 'subHeading': 'Comfort', 'list': [{'value': 'Power Steering'}, {'value': 'Power Windows Front'}, {'value': 'Power Windows Rear'}, {'value': 'Remote Trunk Opener'}, {'value': 'Remote Fuel Lid Opener'}, {'value': 'Low Fuel Warning Light'}, {'value': 'Accessory Power Outlet'}, {'value': 'Trunk Light'}, {'value': 'Vanity Mirror'}, {'value': 'Rear Seat Headrest'}, {'value': 'Cup Holders Front'}, {'value': 'Multifunction Steering Wheel'}, {'value': 'Navigation System'}, {'value': 'Smart Access Card Entry'}, {'value': 'Engine Start Stop Button'}, {'value': 'Gear Shift Indicator'}, {'value': 'Luggage Hook And Net'}]}, {'heading': 'Interior', 'subHeading': 'Interior', 'list': [{'value': 'Air Conditioner'}, {'value': 'Heater'}, {'value': 'Adjustable Steering'}, {'value': 'Digital Odometer'}, {'value': 'Tachometer'}, {'value': 'Electronic Multi Tripmeter'}, {'value': 'Fabric Upholstery'}, {'value': 'Leather Steering Wheel'}, {'value': 'Glove Compartment'}, {'value': 'Digital Clock'}, {'value': 'Outside Temperature Display'}, {'value': 'Height Adjustable Driver Seat'}]}, {'heading': 'Exterior', 'subHeading': 'Exterior', 'list': [{'value': 'Adjustable Head Lights'}, {'value': 'Fog Lights Front'}, {'value': 'Power Adjustable Exterior Rear View Mirror'}, {'value': 'Electric Folding Rear View Mirror'}, {'value': 'Rear Window Wiper'}, {'value': 'Rear Window Washer'}, {'value': 'Rear Window Defogger'}, {'value': 'Alloy Wheels'}, {'value': 'Integrated Antenna'}, {'value': 'Outside Rear View Mirror Turn Indicators'}, {'value': 'Chrome Grille'}, {'value': 'Roof Rail'}]}, {'heading': 'Safety', 'subHeading': 'Safety', 'list': [{'value': 'Anti Lock Braking System'}, {'value': 'Centeral Locking'}, {'value': 'Power Door Locks'}, {'value': 'Child Safety Locks'}, {'value': 'Driver Air Bag'}, {'value': 'Passenger Air Bag'}, {'value': 'Passenger Side Rear View Mirror'}, {'value': 'Halogen Headlamps'}, {'value': 'Rear Seat Belts'}, {'value': 'Seat Belt Warning'}, {'value': 'Door Ajar Warning'}, {'value': 'Side Impact Beams'}, {'value': 'Front Impact Beams'}, {'value': 'Adjustable Seats'}, {'value': 'Keyless Entry'}, {'value': 'Centrally Mounted Fuel Tank'}, {'value': 'Engine Immobilizer'}, {'value': 'Engine Check Warning'}, {'value': 'Crash Sensor'}, {'value': 'Ebd'}, {'value': 'Follow Me Home Headlamps'}, {'value': 'Rear Camera'}, {'value': 'Anti Theft Device'}, {'value': 'Speed Sensing Auto Door Lock'}, {'value': 'Pretensioners And Force Limiter Seatbelts'}, {'value': 'Impact Sensing Auto Door Lock'}, {'value': 'No Of Airbags'}]}, {'heading': 'Entertainment & Communication', 'subHeading': 'Entertainment', 'list': [{'value': 'Cd Player'}, {'value': 'Radio'}, {'value': 'Speakers Front'}, {'value': 'Speakers Rear'}, {'value': 'Integrated2Din Audio'}, {'value': 'Usb Auxiliary Input'}, {'value': 'Bluetooth'}, {'value': 'Touch Screen'}, {'value': 'Number Of Speaker'}]}], 'commonIcon': 'https://stimg.cardekho.com/pwa/img/vdpN/tickG.svg'}\",\n",
       "       \"{'heading': 'Features', 'top': [{'value': 'Power Steering'}, {'value': 'Power Windows Front'}, {'value': 'Air Conditioner'}, {'value': 'Heater'}, {'value': 'Adjustable Head Lights'}, {'value': 'Fog Lights Front'}, {'value': 'Anti Lock Braking System'}, {'value': 'Centeral Locking'}, {'value': 'Cd Player'}], 'data': [{'heading': 'Comfort & Convenience', 'subHeading': 'Comfort', 'list': [{'value': 'Power Steering'}, {'value': 'Power Windows Front'}, {'value': 'Power Windows Rear'}, {'value': 'Remote Trunk Opener'}, {'value': 'Remote Fuel Lid Opener'}, {'value': 'Low Fuel Warning Light'}, {'value': 'Accessory Power Outlet'}, {'value': 'Trunk Light'}, {'value': 'Vanity Mirror'}, {'value': 'Rear Seat Headrest'}, {'value': 'Cup Holders Front'}, {'value': 'Multifunction Steering Wheel'}, {'value': 'Navigation System'}, {'value': 'Glove Box Cooling'}]}, {'heading': 'Interior', 'subHeading': 'Interior', 'list': [{'value': 'Air Conditioner'}, {'value': 'Heater'}, {'value': 'Adjustable Steering'}, {'value': 'Digital Odometer'}, {'value': 'Tachometer'}, {'value': 'Electronic Multi Tripmeter'}, {'value': 'Fabric Upholstery'}, {'value': 'Glove Compartment'}, {'value': 'Digital Clock'}, {'value': 'Outside Temperature Display'}, {'value': 'Driving Experience Control Eco'}, {'value': 'Height Adjustable Driver Seat'}]}, {'heading': 'Exterior', 'subHeading': 'Exterior', 'list': [{'value': 'Adjustable Head Lights'}, {'value': 'Fog Lights Front'}, {'value': 'Power Adjustable Exterior Rear View Mirror'}, {'value': 'Rear Window Wiper'}, {'value': 'Rear Window Washer'}, {'value': 'Rear Window Defogger'}, {'value': 'Wheel Covers'}, {'value': 'Power Antenna'}, {'value': 'Tinted Glass'}, {'value': 'Rear Spoiler'}, {'value': 'Outside Rear View Mirror Turn Indicators'}, {'value': 'Chrome Grille'}, {'value': 'Chrome Garnish'}]}, {'heading': 'Safety', 'subHeading': 'Safety', 'list': [{'value': 'Anti Lock Braking System'}, {'value': 'Centeral Locking'}, {'value': 'Power Door Locks'}, {'value': 'Child Safety Locks'}, {'value': 'Driver Air Bag'}, {'value': 'Passenger Air Bag'}, {'value': 'Passenger Side Rear View Mirror'}, {'value': 'Halogen Headlamps'}, {'value': 'Rear Seat Belts'}, {'value': 'Seat Belt Warning'}, {'value': 'Door Ajar Warning'}, {'value': 'Side Impact Beams'}, {'value': 'Front Impact Beams'}, {'value': 'Vehicle Stability Control System'}, {'value': 'Adjustable Seats'}, {'value': 'Centrally Mounted Fuel Tank'}, {'value': 'Engine Immobilizer'}, {'value': 'Engine Check Warning'}, {'value': 'Crash Sensor'}, {'value': 'Ebd'}, {'value': 'Follow Me Home Headlamps'}, {'value': 'Anti Theft Device'}, {'value': 'Speed Sensing Auto Door Lock'}, {'value': 'Pretensioners And Force Limiter Seatbelts'}]}, {'heading': 'Entertainment & Communication', 'subHeading': 'Entertainment', 'list': [{'value': 'Cd Player'}, {'value': 'Radio'}, {'value': 'Speakers Front'}, {'value': 'Speakers Rear'}, {'value': 'Integrated2Din Audio'}, {'value': 'Usb Auxiliary Input'}, {'value': 'Bluetooth'}, {'value': 'Number Of Speaker'}]}], 'commonIcon': 'https://stimg.cardekho.com/pwa/img/vdpN/tickG.svg'}\",\n",
       "       ...,\n",
       "       \"{'heading': 'Features', 'top': [{'value': 'Power Steering'}, {'value': 'Power Windows Front'}, {'value': 'Air Conditioner'}, {'value': 'Heater'}, {'value': 'Adjustable Head Lights'}, {'value': 'Fog Lights Front'}, {'value': 'Anti Lock Braking System'}, {'value': 'Brake Assist'}, {'value': 'Cd Player'}], 'data': [{'heading': 'Comfort & Convenience', 'subHeading': 'Comfort', 'list': [{'value': 'Power Steering'}, {'value': 'Power Windows Front'}, {'value': 'Power Windows Rear'}, {'value': 'Air Quality Control'}, {'value': 'Remote Trunk Opener'}, {'value': 'Remote Fuel Lid Opener'}, {'value': 'Low Fuel Warning Light'}, {'value': 'Accessory Power Outlet'}, {'value': 'Trunk Light'}, {'value': 'Vanity Mirror'}, {'value': 'Rear Reading Lamp'}, {'value': 'Rear Seat Headrest'}, {'value': 'Rear Seat Centre Arm Rest'}, {'value': 'Height Adjustable Front Seat Belts'}, {'value': 'Cup Holders Front'}, {'value': 'Cup Holders Rear'}, {'value': 'Seat Lumbar Support'}, {'value': 'Multifunction Steering Wheel'}, {'value': 'Cruise Control'}, {'value': 'Rear ACVents'}]}, {'heading': 'Interior', 'subHeading': 'Interior', 'list': [{'value': 'Air Conditioner'}, {'value': 'Heater'}, {'value': 'Adjustable Steering'}, {'value': 'Digital Odometer'}, {'value': 'Tachometer'}, {'value': 'Electronic Multi Tripmeter'}, {'value': 'Leather Seats'}, {'value': 'Leather Steering Wheel'}, {'value': 'Glove Compartment'}, {'value': 'Digital Clock'}, {'value': 'Outside Temperature Display'}, {'value': 'Cigarette Lighter'}]}, {'heading': 'Exterior', 'subHeading': 'Exterior', 'list': [{'value': 'Adjustable Head Lights'}, {'value': 'Fog Lights Front'}, {'value': 'Fog Lights Rear'}, {'value': 'Power Adjustable Exterior Rear View Mirror'}, {'value': 'Electric Folding Rear View Mirror'}, {'value': 'Rain Sensing Wiper'}, {'value': 'Rear Window Wiper'}, {'value': 'Rear Window Washer'}, {'value': 'Rear Window Defogger'}, {'value': 'Alloy Wheels'}, {'value': 'Power Antenna'}, {'value': 'Integrated Antenna'}, {'value': 'Tinted Glass'}, {'value': 'Sun Roof'}, {'value': 'Moon Roof'}, {'value': 'Outside Rear View Mirror Turn Indicators'}, {'value': 'Chrome Grille'}, {'value': 'Chrome Garnish'}, {'value': 'Smoke Headlamps'}, {'value': 'Roof Rail'}]}, {'heading': 'Safety', 'subHeading': 'Safety', 'list': [{'value': 'Anti Lock Braking System'}, {'value': 'Brake Assist'}, {'value': 'Centeral Locking'}, {'value': 'Power Door Locks'}, {'value': 'Child Safety Locks'}, {'value': 'Anti Theft Alarm'}, {'value': 'Driver Air Bag'}, {'value': 'Passenger Air Bag'}, {'value': 'Side Air Bag Front'}, {'value': 'Side Air Bag Rear'}, {'value': 'Day Night Rear View Mirror'}, {'value': 'Passenger Side Rear View Mirror'}, {'value': 'Halogen Headlamps'}, {'value': 'Rear Seat Belts'}, {'value': 'Seat Belt Warning'}, {'value': 'Door Ajar Warning'}, {'value': 'Side Impact Beams'}, {'value': 'Front Impact Beams'}, {'value': 'Vehicle Stability Control System'}, {'value': 'Adjustable Seats'}, {'value': 'Keyless Entry'}, {'value': 'Engine Immobilizer'}, {'value': 'Engine Check Warning'}, {'value': 'Tyre Pressure Monitor'}, {'value': 'Crash Sensor'}]}, {'heading': 'Entertainment & Communication', 'subHeading': 'Entertainment', 'list': [{'value': 'Cd Player'}, {'value': 'Cd Changer'}, {'value': 'Radio'}, {'value': 'Audio System Remote Control'}, {'value': 'Speakers Front'}, {'value': 'Speakers Rear'}]}], 'commonIcon': 'https://stimg.cardekho.com/pwa/img/vdpN/tickG.svg'}\",\n",
       "       \"{'heading': 'Features', 'top': [{'value': 'Power Steering'}, {'value': 'Power Windows Front'}, {'value': 'Air Conditioner'}, {'value': 'Heater'}, {'value': 'Adjustable Head Lights'}, {'value': 'Fog Lights Front'}, {'value': 'Anti Lock Braking System'}, {'value': 'Centeral Locking'}, {'value': 'Cd Player'}], 'data': [{'heading': 'Comfort & Convenience', 'subHeading': 'Comfort', 'list': [{'value': 'Power Steering'}, {'value': 'Power Windows Front'}, {'value': 'Power Windows Rear'}, {'value': 'Remote Trunk Opener'}, {'value': 'Remote Fuel Lid Opener'}, {'value': 'Low Fuel Warning Light'}, {'value': 'Accessory Power Outlet'}, {'value': 'Vanity Mirror'}, {'value': 'Rear Seat Headrest'}, {'value': 'Height Adjustable Front Seat Belts'}, {'value': 'Cup Holders Front'}, {'value': 'Multifunction Steering Wheel'}]}, {'heading': 'Interior', 'subHeading': 'Interior', 'list': [{'value': 'Air Conditioner'}, {'value': 'Heater'}, {'value': 'Adjustable Steering'}, {'value': 'Digital Odometer'}, {'value': 'Tachometer'}, {'value': 'Electronic Multi Tripmeter'}, {'value': 'Fabric Upholstery'}, {'value': 'Glove Compartment'}, {'value': 'Digital Clock'}, {'value': 'Height Adjustable Driver Seat'}]}, {'heading': 'Exterior', 'subHeading': 'Exterior', 'list': [{'value': 'Adjustable Head Lights'}, {'value': 'Fog Lights Front'}, {'value': 'Fog Lights Rear'}, {'value': 'Power Adjustable Exterior Rear View Mirror'}, {'value': 'Rear Window Wiper'}, {'value': 'Rear Window Washer'}, {'value': 'Rear Window Defogger'}, {'value': 'Alloy Wheels'}, {'value': 'Power Antenna'}, {'value': 'Rear Spoiler'}]}, {'heading': 'Safety', 'subHeading': 'Safety', 'list': [{'value': 'Anti Lock Braking System'}, {'value': 'Centeral Locking'}, {'value': 'Power Door Locks'}, {'value': 'Child Safety Locks'}, {'value': 'Anti Theft Alarm'}, {'value': 'Driver Air Bag'}, {'value': 'Passenger Air Bag'}, {'value': 'Day Night Rear View Mirror'}, {'value': 'Passenger Side Rear View Mirror'}, {'value': 'Halogen Headlamps'}, {'value': 'Rear Seat Belts'}, {'value': 'Seat Belt Warning'}, {'value': 'Door Ajar Warning'}, {'value': 'Side Impact Beams'}, {'value': 'Front Impact Beams'}, {'value': 'Adjustable Seats'}, {'value': 'Keyless Entry'}, {'value': 'Centrally Mounted Fuel Tank'}, {'value': 'Engine Immobilizer'}, {'value': 'Crash Sensor'}, {'value': 'Ebd'}, {'value': 'Anti Theft Device'}]}, {'heading': 'Entertainment & Communication', 'subHeading': 'Entertainment', 'list': [{'value': 'Cd Player'}, {'value': 'Radio'}, {'value': 'Speakers Front'}, {'value': 'Speakers Rear'}, {'value': 'Usb Auxiliary Input'}]}], 'commonIcon': 'https://stimg.cardekho.com/pwa/img/vdpN/tickG.svg'}\",\n",
       "       \"{'heading': 'Features', 'top': [{'value': 'Power Steering'}, {'value': 'Power Windows Front'}, {'value': 'Air Conditioner'}, {'value': 'Heater'}, {'value': 'Adjustable Head Lights'}, {'value': 'Fog Lights Front'}, {'value': 'Anti Lock Braking System'}, {'value': 'Brake Assist'}, {'value': 'Cd Player'}], 'data': [{'heading': 'Comfort & Convenience', 'subHeading': 'Comfort', 'list': [{'value': 'Power Steering'}, {'value': 'Power Windows Front'}, {'value': 'Power Windows Rear'}, {'value': 'Remote Trunk Opener'}, {'value': 'Low Fuel Warning Light'}, {'value': 'Accessory Power Outlet'}, {'value': 'Trunk Light'}, {'value': 'Vanity Mirror'}, {'value': 'Rear Reading Lamp'}, {'value': 'Rear Seat Headrest'}, {'value': 'Rear Seat Centre Arm Rest'}, {'value': 'Height Adjustable Front Seat Belts'}, {'value': 'Cup Holders Front'}, {'value': 'Cup Holders Rear'}, {'value': 'Seat Lumbar Support'}, {'value': 'Multifunction Steering Wheel'}, {'value': 'Cruise Control'}, {'value': 'Navigation System'}, {'value': 'Voice Control'}, {'value': 'Gear Shift Indicator'}, {'value': 'Drive Modes'}]}, {'heading': 'Interior', 'subHeading': 'Interior', 'list': [{'value': 'Air Conditioner'}, {'value': 'Heater'}, {'value': 'Adjustable Steering'}, {'value': 'Digital Odometer'}, {'value': 'Tachometer'}, {'value': 'Electronic Multi Tripmeter'}, {'value': 'Fabric Upholstery'}, {'value': 'Leather Steering Wheel'}, {'value': 'Glove Compartment'}, {'value': 'Digital Clock'}, {'value': 'Outside Temperature Display'}, {'value': 'Driving Experience Control Eco'}, {'value': 'Height Adjustable Driver Seat'}]}, {'heading': 'Exterior', 'subHeading': 'Exterior', 'list': [{'value': 'Adjustable Head Lights'}, {'value': 'Fog Lights Front'}, {'value': 'Power Adjustable Exterior Rear View Mirror'}, {'value': 'Electric Folding Rear View Mirror'}, {'value': 'Rear Window Wiper'}, {'value': 'Rear Window Washer'}, {'value': 'Rear Window Defogger'}, {'value': 'Alloy Wheels'}, {'value': 'Power Antenna'}, {'value': 'Outside Rear View Mirror Turn Indicators'}, {'value': 'Roof Rail'}]}, {'heading': 'Safety', 'subHeading': 'Safety', 'list': [{'value': 'Anti Lock Braking System'}, {'value': 'Brake Assist'}, {'value': 'Centeral Locking'}, {'value': 'Power Door Locks'}, {'value': 'Child Safety Locks'}, {'value': 'Driver Air Bag'}, {'value': 'Passenger Air Bag'}, {'value': 'Passenger Side Rear View Mirror'}, {'value': 'Halogen Headlamps'}, {'value': 'Rear Seat Belts'}, {'value': 'Seat Belt Warning'}, {'value': 'Door Ajar Warning'}, {'value': 'Side Impact Beams'}, {'value': 'Front Impact Beams'}, {'value': 'Vehicle Stability Control System'}, {'value': 'Adjustable Seats'}, {'value': 'Keyless Entry'}, {'value': 'Centrally Mounted Fuel Tank'}, {'value': 'Engine Immobilizer'}, {'value': 'Engine Check Warning'}, {'value': 'Crash Sensor'}, {'value': 'Ebd'}, {'value': 'Rear Camera'}, {'value': 'Anti Theft Device'}, {'value': 'Speed Sensing Auto Door Lock'}, {'value': 'Hill Assist'}, {'value': 'Impact Sensing Auto Door Lock'}]}, {'heading': 'Entertainment & Communication', 'subHeading': 'Entertainment', 'list': [{'value': 'Cd Player'}, {'value': 'Radio'}, {'value': 'Speakers Front'}, {'value': 'Speakers Rear'}, {'value': 'Integrated2Din Audio'}, {'value': 'Usb Auxiliary Input'}, {'value': 'Bluetooth'}, {'value': 'Touch Screen'}, {'value': 'Number Of Speaker'}]}], 'commonIcon': 'https://stimg.cardekho.com/pwa/img/vdpN/tickG.svg'}\"],\n",
       "      dtype=object)"
      ]
     },
     "execution_count": 34,
     "metadata": {},
     "output_type": "execute_result"
    }
   ],
   "source": [
    "merged_cars['new_car_feature'].values"
   ]
  },
  {
   "cell_type": "markdown",
   "metadata": {},
   "source": [
    "Converting string into Dictionary Formate"
   ]
  },
  {
   "cell_type": "code",
   "execution_count": 35,
   "metadata": {},
   "outputs": [
    {
     "name": "stdout",
     "output_type": "stream",
     "text": [
      "                                        new_car_feature  \\\n",
      "0     {'heading': 'Features', 'top': [{'value': 'Pow...   \n",
      "1     {'heading': 'Features', 'top': [{'value': 'Pow...   \n",
      "2     {'heading': 'Features', 'top': [{'value': 'Pow...   \n",
      "3     {'heading': 'Features', 'top': [{'value': 'Pow...   \n",
      "4     {'heading': 'Features', 'top': [{'value': 'Pow...   \n",
      "...                                                 ...   \n",
      "8364  {'heading': 'Features', 'top': [{'value': 'Pow...   \n",
      "8365  {'heading': 'Features', 'top': [{'value': 'Pow...   \n",
      "8366  {'heading': 'Features', 'top': [{'value': 'Pow...   \n",
      "8367  {'heading': 'Features', 'top': [{'value': 'Pow...   \n",
      "8368  {'heading': 'Features', 'top': [{'value': 'Pow...   \n",
      "\n",
      "                                          new_car_specs  \\\n",
      "0     {'heading': 'Specifications', 'top': [{'key': ...   \n",
      "1     {'heading': 'Specifications', 'top': [{'key': ...   \n",
      "2     {'heading': 'Specifications', 'top': [{'key': ...   \n",
      "3     {'heading': 'Specifications', 'top': [{'key': ...   \n",
      "4     {'heading': 'Specifications', 'top': [{'key': ...   \n",
      "...                                                 ...   \n",
      "8364  {'heading': 'Specifications', 'top': [{'key': ...   \n",
      "8365  {'heading': 'Specifications', 'top': [{'key': ...   \n",
      "8366  {'heading': 'Specifications', 'top': [{'key': ...   \n",
      "8367  {'heading': 'Specifications', 'top': [{'key': ...   \n",
      "8368  {'heading': 'Specifications', 'top': [{'key': ...   \n",
      "\n",
      "                                              car_links       City  it  \\\n",
      "0     https://www.cardekho.com/used-car-details/used...  bangalore   0   \n",
      "1     https://www.cardekho.com/buy-used-car-details/...  bangalore   0   \n",
      "2     https://www.cardekho.com/used-car-details/used...  bangalore   0   \n",
      "3     https://www.cardekho.com/buy-used-car-details/...  bangalore   0   \n",
      "4     https://www.cardekho.com/used-car-details/used...  bangalore   0   \n",
      "...                                                 ...        ...  ..   \n",
      "8364  https://www.cardekho.com/used-car-details/used...    kolkata   0   \n",
      "8365  https://www.cardekho.com/used-car-details/used...    kolkata   0   \n",
      "8366  https://www.cardekho.com/used-car-details/used...    kolkata   0   \n",
      "8367  https://www.cardekho.com/used-car-details/used...    kolkata   0   \n",
      "8368  https://www.cardekho.com/used-car-details/used...    kolkata   0   \n",
      "\n",
      "          ft         bt        km transmission  ownerNo  ...  \\\n",
      "0     Petrol  Hatchback  1,20,000       Manual        3  ...   \n",
      "1     Petrol        SUV    32,706       Manual        2  ...   \n",
      "2     Petrol  Hatchback    11,949       Manual        1  ...   \n",
      "3     Petrol      Sedan    17,794       Manual        1  ...   \n",
      "4     Diesel        SUV    60,000       Manual        1  ...   \n",
      "...      ...        ...       ...          ...      ...  ...   \n",
      "8364  Petrol  Hatchback    10,000       Manual        1  ...   \n",
      "8365  Petrol  Hatchback  1,20,000       Manual        1  ...   \n",
      "8366  Petrol      Sedan    50,000    Automatic        3  ...   \n",
      "8367  Petrol  Hatchback    40,000       Manual        1  ...   \n",
      "8368  Diesel        SUV  1,20,000       Manual        2  ...   \n",
      "\n",
      "     Engine Displacement Transmission Year of Manufacture   heading  \\\n",
      "0                 998 cc       Manual              2015.0  Features   \n",
      "1                1497 cc       Manual              2018.0  Features   \n",
      "2                1199 cc       Manual              2018.0  Features   \n",
      "3                1197 cc       Manual              2014.0  Features   \n",
      "4                1248 cc       Manual              2015.0  Features   \n",
      "...                  ...          ...                 ...       ...   \n",
      "8364              998 cc       Manual              2022.0  Features   \n",
      "8365              796 cc       Manual              2014.0  Features   \n",
      "8366             1796 cc    Automatic              2011.0  Features   \n",
      "8367             1197 cc       Manual              2012.0  Features   \n",
      "8368             1461 cc       Manual              2017.0  Features   \n",
      "\n",
      "                                                    top  \\\n",
      "0     Power Steering, Power Windows Front, Air Condi...   \n",
      "1     Power Steering, Power Windows Front, Air Condi...   \n",
      "2     Power Steering, Power Windows Front, Air Condi...   \n",
      "3     Power Steering, Power Windows Front, Air Condi...   \n",
      "4     Power Steering, Power Windows Front, Air Condi...   \n",
      "...                                                 ...   \n",
      "8364  Power Steering, Power Windows Front, Air Condi...   \n",
      "8365  Power Steering, Power Windows Front, Air Condi...   \n",
      "8366  Power Steering, Power Windows Front, Air Condi...   \n",
      "8367  Power Steering, Power Windows Front, Air Condi...   \n",
      "8368  Power Steering, Power Windows Front, Air Condi...   \n",
      "\n",
      "                                                Comfort  \\\n",
      "0     Power Steering, Power Windows Front, Power Win...   \n",
      "1     Power Steering, Power Windows Front, Power Win...   \n",
      "2     Power Steering, Power Windows Front, Power Win...   \n",
      "3     Power Steering, Power Windows Front, Power Win...   \n",
      "4     Power Steering, Power Windows Front, Power Win...   \n",
      "...                                                 ...   \n",
      "8364  Power Steering, Power Windows Front, Power Win...   \n",
      "8365  Power Steering, Power Windows Front, Remote Tr...   \n",
      "8366  Power Steering, Power Windows Front, Power Win...   \n",
      "8367  Power Steering, Power Windows Front, Power Win...   \n",
      "8368  Power Steering, Power Windows Front, Power Win...   \n",
      "\n",
      "                                               Interior  \\\n",
      "0     Air Conditioner, Heater, Digital Odometer, Ele...   \n",
      "1     Air Conditioner, Heater, Adjustable Steering, ...   \n",
      "2     Air Conditioner, Heater, Adjustable Steering, ...   \n",
      "3     Air Conditioner, Heater, Adjustable Steering, ...   \n",
      "4     Air Conditioner, Heater, Adjustable Steering, ...   \n",
      "...                                                 ...   \n",
      "8364  Air Conditioner, Heater, Adjustable Steering, ...   \n",
      "8365  Air Conditioner, Heater, Digital Odometer, Ele...   \n",
      "8366  Air Conditioner, Heater, Adjustable Steering, ...   \n",
      "8367  Air Conditioner, Heater, Adjustable Steering, ...   \n",
      "8368  Air Conditioner, Heater, Adjustable Steering, ...   \n",
      "\n",
      "                                               Exterior  \\\n",
      "0     Adjustable Head Lights, Manually Adjustable Ex...   \n",
      "1     Adjustable Head Lights, Fog Lights Front, Powe...   \n",
      "2     Adjustable Head Lights, Fog Lights Front, Powe...   \n",
      "3     Adjustable Head Lights, Fog Lights Front, Powe...   \n",
      "4     Adjustable Head Lights, Fog Lights Front, Powe...   \n",
      "...                                                 ...   \n",
      "8364  Adjustable Head Lights, Power Adjustable Exter...   \n",
      "8365  Adjustable Head Lights, Manually Adjustable Ex...   \n",
      "8366  Adjustable Head Lights, Fog Lights Front, Fog ...   \n",
      "8367  Adjustable Head Lights, Fog Lights Front, Fog ...   \n",
      "8368  Adjustable Head Lights, Fog Lights Front, Powe...   \n",
      "\n",
      "                                                 Safety  \\\n",
      "0     Centeral Locking, Child Safety Locks, Day Nigh...   \n",
      "1     Anti Lock Braking System, Centeral Locking, Po...   \n",
      "2     Anti Lock Braking System, Centeral Locking, Po...   \n",
      "3     Anti Lock Braking System, Centeral Locking, Po...   \n",
      "4     Anti Lock Braking System, Centeral Locking, Po...   \n",
      "...                                                 ...   \n",
      "8364  Anti Lock Braking System, Centeral Locking, Po...   \n",
      "8365  Day Night Rear View Mirror, Passenger Side Rea...   \n",
      "8366  Anti Lock Braking System, Brake Assist, Center...   \n",
      "8367  Anti Lock Braking System, Centeral Locking, Po...   \n",
      "8368  Anti Lock Braking System, Brake Assist, Center...   \n",
      "\n",
      "                                          Entertainment  \n",
      "0                                                   NaN  \n",
      "1     Cd Player, Radio, Speakers Front, Speakers Rea...  \n",
      "2     Cd Player, Radio, Speakers Front, Speakers Rea...  \n",
      "3     Cd Player, Radio, Speakers Front, Speakers Rea...  \n",
      "4     Radio, Audio System Remote Control, Speakers F...  \n",
      "...                                                 ...  \n",
      "8364  Radio, Speakers Front, Speakers Rear, Integrat...  \n",
      "8365                                                NaN  \n",
      "8366  Cd Player, Cd Changer, Radio, Audio System Rem...  \n",
      "8367  Cd Player, Radio, Speakers Front, Speakers Rea...  \n",
      "8368  Cd Player, Radio, Speakers Front, Speakers Rea...  \n",
      "\n",
      "[8369 rows x 52 columns]\n"
     ]
    }
   ],
   "source": [
    "import pandas as pd\n",
    "import ast\n",
    "\n",
    "# Step 1: Convert the string into dictionary format\n",
    "# Note: Replace single quotes with double quotes for valid JSON\n",
    "data_dicts = [ast.literal_eval(d.replace(\"'\", '\"')) for d in merged_cars['new_car_feature']]\n",
    "\n",
    "# Step 2: Take before ':' as keys and after ':' as values\n",
    "# Step 3: Create a new DataFrame from the list of dictionaries\n",
    "# Flatten the structure if necessary\n",
    "flat_data = []\n",
    "\n",
    "for entry in data_dicts:\n",
    "    flat_entry = {}\n",
    "    flat_entry['heading'] = entry['heading']\n",
    "    \n",
    "    # Join the 'top' values into a single string\n",
    "    flat_entry['top'] = ', '.join([item['value'] for item in entry['top']])\n",
    "    \n",
    "    # If you want to include more nested data, you can do so\n",
    "    for section in entry['data']:\n",
    "        sub_heading = section['subHeading']\n",
    "        # Join the values in the list into a single string\n",
    "        flat_entry[sub_heading] = ', '.join([item['value'] for item in section['list']])\n",
    "    \n",
    "    flat_data.append(flat_entry)\n",
    "\n",
    "# Step 4: Convert the keys as new column names and values into row values\n",
    "# Create a DataFrame\n",
    "new_car_feature = pd.DataFrame(flat_data)\n",
    "\n",
    "# Step 5: Merge the new features back into the original DataFrame\n",
    "# Assuming 'merged_cars' has the same number of rows as 'new_car_feature'\n",
    "merged_cars = pd.concat([merged_cars.reset_index(drop=True), new_car_feature.reset_index(drop=True)], axis=1)\n",
    "\n",
    "# Step 6: Display the updated DataFrame\n",
    "print(merged_cars)"
   ]
  },
  {
   "cell_type": "markdown",
   "metadata": {},
   "source": [
    "Drop previous column"
   ]
  },
  {
   "cell_type": "code",
   "execution_count": 36,
   "metadata": {},
   "outputs": [],
   "source": [
    "merged_cars = merged_cars.drop(columns=['new_car_feature'])"
   ]
  },
  {
   "cell_type": "code",
   "execution_count": 37,
   "metadata": {},
   "outputs": [
    {
     "data": {
      "text/html": [
       "<div>\n",
       "<style scoped>\n",
       "    .dataframe tbody tr th:only-of-type {\n",
       "        vertical-align: middle;\n",
       "    }\n",
       "\n",
       "    .dataframe tbody tr th {\n",
       "        vertical-align: top;\n",
       "    }\n",
       "\n",
       "    .dataframe thead th {\n",
       "        text-align: right;\n",
       "    }\n",
       "</style>\n",
       "<table border=\"1\" class=\"dataframe\">\n",
       "  <thead>\n",
       "    <tr style=\"text-align: right;\">\n",
       "      <th></th>\n",
       "      <th>new_car_specs</th>\n",
       "      <th>car_links</th>\n",
       "      <th>City</th>\n",
       "      <th>it</th>\n",
       "      <th>ft</th>\n",
       "      <th>bt</th>\n",
       "      <th>km</th>\n",
       "      <th>transmission</th>\n",
       "      <th>ownerNo</th>\n",
       "      <th>owner</th>\n",
       "      <th>...</th>\n",
       "      <th>Engine Displacement</th>\n",
       "      <th>Transmission</th>\n",
       "      <th>Year of Manufacture</th>\n",
       "      <th>heading</th>\n",
       "      <th>top</th>\n",
       "      <th>Comfort</th>\n",
       "      <th>Interior</th>\n",
       "      <th>Exterior</th>\n",
       "      <th>Safety</th>\n",
       "      <th>Entertainment</th>\n",
       "    </tr>\n",
       "  </thead>\n",
       "  <tbody>\n",
       "    <tr>\n",
       "      <th>0</th>\n",
       "      <td>{'heading': 'Specifications', 'top': [{'key': ...</td>\n",
       "      <td>https://www.cardekho.com/used-car-details/used...</td>\n",
       "      <td>bangalore</td>\n",
       "      <td>0</td>\n",
       "      <td>Petrol</td>\n",
       "      <td>Hatchback</td>\n",
       "      <td>1,20,000</td>\n",
       "      <td>Manual</td>\n",
       "      <td>3</td>\n",
       "      <td>3rd Owner</td>\n",
       "      <td>...</td>\n",
       "      <td>998 cc</td>\n",
       "      <td>Manual</td>\n",
       "      <td>2015.0</td>\n",
       "      <td>Features</td>\n",
       "      <td>Power Steering, Power Windows Front, Air Condi...</td>\n",
       "      <td>Power Steering, Power Windows Front, Power Win...</td>\n",
       "      <td>Air Conditioner, Heater, Digital Odometer, Ele...</td>\n",
       "      <td>Adjustable Head Lights, Manually Adjustable Ex...</td>\n",
       "      <td>Centeral Locking, Child Safety Locks, Day Nigh...</td>\n",
       "      <td>NaN</td>\n",
       "    </tr>\n",
       "    <tr>\n",
       "      <th>1</th>\n",
       "      <td>{'heading': 'Specifications', 'top': [{'key': ...</td>\n",
       "      <td>https://www.cardekho.com/buy-used-car-details/...</td>\n",
       "      <td>bangalore</td>\n",
       "      <td>0</td>\n",
       "      <td>Petrol</td>\n",
       "      <td>SUV</td>\n",
       "      <td>32,706</td>\n",
       "      <td>Manual</td>\n",
       "      <td>2</td>\n",
       "      <td>2nd Owner</td>\n",
       "      <td>...</td>\n",
       "      <td>1497 cc</td>\n",
       "      <td>Manual</td>\n",
       "      <td>2018.0</td>\n",
       "      <td>Features</td>\n",
       "      <td>Power Steering, Power Windows Front, Air Condi...</td>\n",
       "      <td>Power Steering, Power Windows Front, Power Win...</td>\n",
       "      <td>Air Conditioner, Heater, Adjustable Steering, ...</td>\n",
       "      <td>Adjustable Head Lights, Fog Lights Front, Powe...</td>\n",
       "      <td>Anti Lock Braking System, Centeral Locking, Po...</td>\n",
       "      <td>Cd Player, Radio, Speakers Front, Speakers Rea...</td>\n",
       "    </tr>\n",
       "  </tbody>\n",
       "</table>\n",
       "<p>2 rows × 51 columns</p>\n",
       "</div>"
      ],
      "text/plain": [
       "                                       new_car_specs  \\\n",
       "0  {'heading': 'Specifications', 'top': [{'key': ...   \n",
       "1  {'heading': 'Specifications', 'top': [{'key': ...   \n",
       "\n",
       "                                           car_links       City  it      ft  \\\n",
       "0  https://www.cardekho.com/used-car-details/used...  bangalore   0  Petrol   \n",
       "1  https://www.cardekho.com/buy-used-car-details/...  bangalore   0  Petrol   \n",
       "\n",
       "          bt        km transmission  ownerNo      owner  ...  \\\n",
       "0  Hatchback  1,20,000       Manual        3  3rd Owner  ...   \n",
       "1        SUV    32,706       Manual        2  2nd Owner  ...   \n",
       "\n",
       "  Engine Displacement Transmission  Year of Manufacture   heading  \\\n",
       "0              998 cc       Manual               2015.0  Features   \n",
       "1             1497 cc       Manual               2018.0  Features   \n",
       "\n",
       "                                                 top  \\\n",
       "0  Power Steering, Power Windows Front, Air Condi...   \n",
       "1  Power Steering, Power Windows Front, Air Condi...   \n",
       "\n",
       "                                             Comfort  \\\n",
       "0  Power Steering, Power Windows Front, Power Win...   \n",
       "1  Power Steering, Power Windows Front, Power Win...   \n",
       "\n",
       "                                            Interior  \\\n",
       "0  Air Conditioner, Heater, Digital Odometer, Ele...   \n",
       "1  Air Conditioner, Heater, Adjustable Steering, ...   \n",
       "\n",
       "                                            Exterior  \\\n",
       "0  Adjustable Head Lights, Manually Adjustable Ex...   \n",
       "1  Adjustable Head Lights, Fog Lights Front, Powe...   \n",
       "\n",
       "                                              Safety  \\\n",
       "0  Centeral Locking, Child Safety Locks, Day Nigh...   \n",
       "1  Anti Lock Braking System, Centeral Locking, Po...   \n",
       "\n",
       "                                       Entertainment  \n",
       "0                                                NaN  \n",
       "1  Cd Player, Radio, Speakers Front, Speakers Rea...  \n",
       "\n",
       "[2 rows x 51 columns]"
      ]
     },
     "execution_count": 37,
     "metadata": {},
     "output_type": "execute_result"
    }
   ],
   "source": [
    "merged_cars.head(2)"
   ]
  },
  {
   "cell_type": "code",
   "execution_count": 38,
   "metadata": {},
   "outputs": [
    {
     "name": "stdout",
     "output_type": "stream",
     "text": [
      "<class 'pandas.core.frame.DataFrame'>\n",
      "RangeIndex: 8369 entries, 0 to 8368\n",
      "Data columns (total 51 columns):\n",
      " #   Column                Non-Null Count  Dtype  \n",
      "---  ------                --------------  -----  \n",
      " 0   new_car_specs         8369 non-null   object \n",
      " 1   car_links             8369 non-null   object \n",
      " 2   City                  8369 non-null   object \n",
      " 3   it                    8369 non-null   int64  \n",
      " 4   ft                    8369 non-null   object \n",
      " 5   bt                    8369 non-null   object \n",
      " 6   km                    8369 non-null   object \n",
      " 7   transmission          8369 non-null   object \n",
      " 8   ownerNo               8369 non-null   int64  \n",
      " 9   owner                 8369 non-null   object \n",
      " 10  oem                   8369 non-null   object \n",
      " 11  model                 8369 non-null   object \n",
      " 12  modelYear             8369 non-null   int64  \n",
      " 13  centralVariantId      8369 non-null   int64  \n",
      " 14  variantName           8369 non-null   object \n",
      " 15  price                 8369 non-null   object \n",
      " 16  priceActual           8369 non-null   object \n",
      " 17  priceSaving           8369 non-null   object \n",
      " 18  priceFixedText        0 non-null      object \n",
      " 19  trendingText.imgUrl   8369 non-null   object \n",
      " 20  trendingText.heading  8369 non-null   object \n",
      " 21  trendingText.desc     8369 non-null   object \n",
      " 22  heading               8369 non-null   object \n",
      " 23  bottomData            0 non-null      object \n",
      " 24  Registration Year     8317 non-null   object \n",
      " 25  Insurance Validity    8365 non-null   object \n",
      " 26  Fuel Type             8369 non-null   object \n",
      " 27  Seats                 8363 non-null   object \n",
      " 28  Kms Driven            8367 non-null   object \n",
      " 29  RTO                   7481 non-null   object \n",
      " 30  Ownership             8337 non-null   object \n",
      " 31  Engine Displacement   8365 non-null   object \n",
      " 32  Transmission          8369 non-null   object \n",
      " 33  Year of Manufacture   8349 non-null   float64\n",
      " 34  Registration Year     8317 non-null   object \n",
      " 35  Insurance Validity    8365 non-null   object \n",
      " 36  Fuel Type             8369 non-null   object \n",
      " 37  Seats                 8363 non-null   object \n",
      " 38  Kms Driven            8367 non-null   object \n",
      " 39  RTO                   7481 non-null   object \n",
      " 40  Ownership             8337 non-null   object \n",
      " 41  Engine Displacement   8365 non-null   object \n",
      " 42  Transmission          8369 non-null   object \n",
      " 43  Year of Manufacture   8349 non-null   float64\n",
      " 44  heading               8369 non-null   object \n",
      " 45  top                   8369 non-null   object \n",
      " 46  Comfort               8301 non-null   object \n",
      " 47  Interior              8292 non-null   object \n",
      " 48  Exterior              8279 non-null   object \n",
      " 49  Safety                8273 non-null   object \n",
      " 50  Entertainment         7274 non-null   object \n",
      "dtypes: float64(2), int64(4), object(45)\n",
      "memory usage: 3.3+ MB\n"
     ]
    }
   ],
   "source": [
    "merged_cars.info()"
   ]
  },
  {
   "cell_type": "markdown",
   "metadata": {},
   "source": [
    "Store convented data into CSV File formate"
   ]
  },
  {
   "cell_type": "code",
   "execution_count": 39,
   "metadata": {},
   "outputs": [],
   "source": [
    "merged_cars.to_csv('merged_data.csv', index=False)"
   ]
  },
  {
   "cell_type": "markdown",
   "metadata": {},
   "source": [
    "4. Cleaning the Column new_car_specs"
   ]
  },
  {
   "cell_type": "code",
   "execution_count": 40,
   "metadata": {},
   "outputs": [
    {
     "data": {
      "text/plain": [
       "array([\"{'heading': 'Specifications', 'top': [{'key': 'Mileage', 'value': '23.1 kmpl'}, {'key': 'Engine', 'value': '998 CC'}, {'key': 'Max Power', 'value': '67.04bhp'}, {'key': 'Torque', 'value': '90Nm'}, {'key': 'Seats', 'value': '5'}], 'data': [{'heading': 'Engine and Transmission', 'subHeading': 'Engine', 'list': [{'key': 'Color', 'value': 'White'}, {'key': 'Engine Type', 'value': 'K10B Engine'}, {'key': 'Displacement', 'value': '998'}, {'key': 'Max Power', 'value': '67.04bhp@6000rpm'}, {'key': 'Max Torque', 'value': '90Nm@3500rpm'}, {'key': 'No of Cylinder', 'value': 3}, {'key': 'Values per Cylinder', 'value': 4}, {'key': 'Value Configuration', 'value': 'DOHC'}, {'key': 'Fuel Suppy System', 'value': 'MPFi'}, {'key': 'BoreX Stroke', 'value': '73 X 82 mm'}, {'key': 'Compression Ratio', 'value': '11.0:1'}, {'key': 'Turbo Charger', 'value': 'No'}, {'key': 'Super Charger', 'value': 'No'}]}, {'heading': 'Dimensions & Capacity', 'subHeading': 'Dimensions', 'list': [{'key': 'Length', 'value': '3715mm'}, {'key': 'Width', 'value': '1635mm'}, {'key': 'Height', 'value': '1565mm'}, {'key': 'Wheel Base', 'value': '2425mm'}, {'key': 'Front Tread', 'value': '1420mm'}, {'key': 'Rear Tread', 'value': '1410mm'}, {'key': 'Kerb Weight', 'value': '835kg'}, {'key': 'Gross Weight', 'value': '1250kg'}]}, {'heading': 'Miscellaneous', 'subHeading': 'Miscellaneous', 'list': [{'key': 'Gear Box', 'value': '5 Speed '}, {'key': 'Drive Type', 'value': 'FWD'}, {'key': 'Seating Capacity', 'value': '5'}, {'key': 'Steering Type', 'value': 'Power'}, {'key': 'Turning Radius', 'value': '4.7 metres'}, {'key': 'Front Brake Type', 'value': 'Ventilated Disc'}, {'key': 'Rear Brake Type', 'value': 'Drum'}, {'key': 'Top Speed', 'value': '150 Kmph'}, {'key': 'Acceleration', 'value': '15.05 Seconds'}, {'key': 'Tyre Type', 'value': 'Tubeless, Radial'}, {'key': 'No Door Numbers', 'value': '5'}, {'key': 'Cargo Volumn', 'value': '235-litres'}]}], 'commonIcon': ''}\",\n",
       "       \"{'heading': 'Specifications', 'top': [{'key': 'Mileage', 'value': '17 kmpl'}, {'key': 'Engine', 'value': '1497 CC'}, {'key': 'Max Power', 'value': '121.31bhp'}, {'key': 'Torque', 'value': '150Nm'}, {'key': 'Wheel Size', 'value': '16'}, {'key': 'Seats', 'value': '5'}], 'data': [{'heading': 'Engine and Transmission', 'subHeading': 'Engine', 'list': [{'key': 'Color', 'value': 'White'}, {'key': 'Engine Type', 'value': 'Ti-VCT Petrol Engine'}, {'key': 'Displacement', 'value': '1497'}, {'key': 'Max Power', 'value': '121.31bhp@6500rpm'}, {'key': 'Max Torque', 'value': '150Nm@4500rpm'}, {'key': 'No of Cylinder', 'value': 3}, {'key': 'Values per Cylinder', 'value': 4}, {'key': 'Value Configuration', 'value': 'DOHC'}, {'key': 'Fuel Suppy System', 'value': 'Direct Injection'}, {'key': 'BoreX Stroke', 'value': '79 X 76.5 mm'}, {'key': 'Compression Ratio', 'value': '11.0:1'}, {'key': 'Turbo Charger', 'value': 'No'}, {'key': 'Super Charger', 'value': 'No'}]}, {'heading': 'Dimensions & Capacity', 'subHeading': 'Dimensions', 'list': [{'key': 'Length', 'value': '3998mm'}, {'key': 'Width', 'value': '1765mm'}, {'key': 'Height', 'value': '1647mm'}, {'key': 'Wheel Base', 'value': '2519mm'}, {'key': 'Kerb Weight', 'value': '1242Kg'}, {'key': 'Gross Weight', 'value': '1660Kg'}]}, {'heading': 'Miscellaneous', 'subHeading': 'Miscellaneous', 'list': [{'key': 'Gear Box', 'value': '5 Speed'}, {'key': 'Drive Type', 'value': 'FWD'}, {'key': 'Seating Capacity', 'value': '5'}, {'key': 'Steering Type', 'value': 'Power'}, {'key': 'Turning Radius', 'value': '5.3 metres'}, {'key': 'Front Brake Type', 'value': 'Ventilated Disc'}, {'key': 'Rear Brake Type', 'value': 'Drum'}, {'key': 'Tyre Type', 'value': 'Tubeless,Radial'}, {'key': 'Alloy Wheel Size', 'value': '16'}, {'key': 'No Door Numbers', 'value': '4'}, {'key': 'Cargo Volumn', 'value': '352-litres'}]}], 'commonIcon': ''}\",\n",
       "       \"{'heading': 'Specifications', 'top': [{'key': 'Mileage', 'value': '23.84 kmpl'}, {'key': 'Engine', 'value': '1199 CC'}, {'key': 'Max Power', 'value': '84bhp'}, {'key': 'Torque', 'value': '114Nm'}, {'key': 'Wheel Size', 'value': '14'}, {'key': 'Seats', 'value': '5'}], 'data': [{'heading': 'Engine and Transmission', 'subHeading': 'Engine', 'list': [{'key': 'Color', 'value': 'Red'}, {'key': 'Engine Type', 'value': 'Revotron Engine'}, {'key': 'Displacement', 'value': '1199'}, {'key': 'Max Power', 'value': '84bhp@6000rpm'}, {'key': 'Max Torque', 'value': '114Nm@3500rpm'}, {'key': 'No of Cylinder', 'value': 3}, {'key': 'Values per Cylinder', 'value': 4}, {'key': 'Value Configuration', 'value': 'DOHC'}, {'key': 'Fuel Suppy System', 'value': 'MPFi'}, {'key': 'BoreX Stroke', 'value': '77 X 85.8 mm'}, {'key': 'Compression Ratio', 'value': '10.8:1'}, {'key': 'Turbo Charger', 'value': 'No'}, {'key': 'Super Charger', 'value': 'No'}]}, {'heading': 'Dimensions & Capacity', 'subHeading': 'Dimensions', 'list': [{'key': 'Length', 'value': '3746mm'}, {'key': 'Width', 'value': '1647mm'}, {'key': 'Height', 'value': '1535mm'}, {'key': 'Wheel Base', 'value': '2400mm'}, {'key': 'Front Tread', 'value': '1400mm'}, {'key': 'Rear Tread', 'value': '1420mm'}, {'key': 'Kerb Weight', 'value': '1012kg'}]}, {'heading': 'Miscellaneous', 'subHeading': 'Miscellaneous', 'list': [{'key': 'Gear Box', 'value': '5 Speed'}, {'key': 'Drive Type', 'value': 'FWD'}, {'key': 'Seating Capacity', 'value': '5'}, {'key': 'Steering Type', 'value': 'Power'}, {'key': 'Turning Radius', 'value': '4.9 meters'}, {'key': 'Front Brake Type', 'value': 'Disc'}, {'key': 'Rear Brake Type', 'value': 'Drum'}, {'key': 'Top Speed', 'value': '150 kmph'}, {'key': 'Acceleration', 'value': '14.3 Seconds'}, {'key': 'Tyre Type', 'value': 'Tubeless'}, {'key': 'Alloy Wheel Size', 'value': '14'}, {'key': 'No Door Numbers', 'value': '5'}, {'key': 'Cargo Volumn', 'value': '242-litres'}]}], 'commonIcon': ''}\",\n",
       "       ...,\n",
       "       \"{'heading': 'Specifications', 'top': [{'key': 'Mileage', 'value': '11.74 kmpl'}, {'key': 'Engine', 'value': '1796 CC'}, {'key': 'Max Power', 'value': '186bhp'}, {'key': 'Torque', 'value': '285Nm'}, {'key': 'Wheel Size', 'value': '17'}, {'key': 'Seats', 'value': '5'}], 'data': [{'heading': 'Engine and Transmission', 'subHeading': 'Engine', 'list': [{'key': 'Color', 'value': 'Others'}, {'key': 'Engine Type', 'value': 'Blue Efficiency Engine'}, {'key': 'Displacement', 'value': '1796'}, {'key': 'Max Power', 'value': '186bhp@5600rpm'}, {'key': 'Max Torque', 'value': '285Nm@2400-4000rpm'}, {'key': 'No of Cylinder', 'value': 4}, {'key': 'Values per Cylinder', 'value': 4}, {'key': 'Fuel Suppy System', 'value': 'Mpfi'}, {'key': 'Compression Ratio', 'value': '9.3:1'}, {'key': 'Turbo Charger', 'value': 'No'}, {'key': 'Super Charger', 'value': 'No'}]}, {'heading': 'Dimensions & Capacity', 'subHeading': 'Dimensions', 'list': [{'key': 'Length', 'value': '4591mm'}, {'key': 'Width', 'value': '1770mm'}, {'key': 'Height', 'value': '1447mm'}, {'key': 'Wheel Base', 'value': '2760mm'}, {'key': 'Front Tread', 'value': '1549mm'}, {'key': 'Rear Tread', 'value': '1552mm'}, {'key': 'Kerb Weight', 'value': '1585kg'}, {'key': 'Gross Weight', 'value': '2020kg'}]}, {'heading': 'Miscellaneous', 'subHeading': 'Miscellaneous', 'list': [{'key': 'Gear Box', 'value': '7 Speed'}, {'key': 'Drive Type', 'value': 'RWD'}, {'key': 'Seating Capacity', 'value': '5'}, {'key': 'Steering Type', 'value': 'Power'}, {'key': 'Turning Radius', 'value': '5.42 metres'}, {'key': 'Front Brake Type', 'value': 'Ventilated Disc'}, {'key': 'Rear Brake Type', 'value': 'Solid Disc'}, {'key': 'Top Speed', 'value': '230km/hr'}, {'key': 'Acceleration', 'value': '8.8 Seconds'}, {'key': 'Tyre Type', 'value': 'Tubeless,Radial'}, {'key': 'Alloy Wheel Size', 'value': '17'}, {'key': 'No Door Numbers', 'value': '4'}, {'key': 'Cargo Volumn', 'value': '475-litres'}]}], 'commonIcon': ''}\",\n",
       "       \"{'heading': 'Specifications', 'top': [{'key': 'Mileage', 'value': '18.5 kmpl'}, {'key': 'Engine', 'value': '1197 CC'}, {'key': 'Max Power', 'value': '85.80bhp'}, {'key': 'Torque', 'value': '114Nm'}, {'key': 'Wheel Size', 'value': '14'}, {'key': 'Seats', 'value': '5'}], 'data': [{'heading': 'Engine and Transmission', 'subHeading': 'Engine', 'list': [{'key': 'Color', 'value': 'Others'}, {'key': 'Engine Type', 'value': 'K Series Petrol Engine'}, {'key': 'Displacement', 'value': '1197'}, {'key': 'Max Power', 'value': '85.80bhp@6000rpm'}, {'key': 'Max Torque', 'value': '114Nm@4000rpm'}, {'key': 'No of Cylinder', 'value': 4}, {'key': 'Values per Cylinder', 'value': 4}, {'key': 'Value Configuration', 'value': 'DOHC'}, {'key': 'Fuel Suppy System', 'value': 'MPFI'}, {'key': 'Turbo Charger', 'value': 'No'}, {'key': 'Super Charger', 'value': 'No'}]}, {'heading': 'Dimensions & Capacity', 'subHeading': 'Dimensions', 'list': [{'key': 'Length', 'value': '3775mm'}, {'key': 'Width', 'value': '1680mm'}, {'key': 'Height', 'value': '1620mm'}, {'key': 'Wheel Base', 'value': '2360mm'}, {'key': 'Front Tread', 'value': '1470mm'}, {'key': 'Rear Tread', 'value': '1480mm'}, {'key': 'Kerb Weight', 'value': '1030kg'}, {'key': 'Gross Weight', 'value': '1430kg'}]}, {'heading': 'Miscellaneous', 'subHeading': 'Miscellaneous', 'list': [{'key': 'Gear Box', 'value': '5 Speed'}, {'key': 'Drive Type', 'value': 'FWD'}, {'key': 'Seating Capacity', 'value': '5'}, {'key': 'Steering Type', 'value': 'Power'}, {'key': 'Turning Radius', 'value': '4.7 metres'}, {'key': 'Front Brake Type', 'value': 'Ventilated Disc'}, {'key': 'Rear Brake Type', 'value': 'Drum'}, {'key': 'Top Speed', 'value': '156 Kmph'}, {'key': 'Acceleration', 'value': '15 Seconds'}, {'key': 'Tyre Type', 'value': 'Tubeless,Radial'}, {'key': 'Alloy Wheel Size', 'value': '14'}, {'key': 'No Door Numbers', 'value': '5'}, {'key': 'Cargo Volumn', 'value': '236-liters'}]}], 'commonIcon': ''}\",\n",
       "       \"{'heading': 'Specifications', 'top': [{'key': 'Mileage', 'value': '19.72 kmpl'}, {'key': 'Engine', 'value': '1461 CC'}, {'key': 'Max Power', 'value': '108.45bhp'}, {'key': 'Torque', 'value': '245Nm'}, {'key': 'Wheel Size', 'value': '16'}, {'key': 'Seats', 'value': '5'}], 'data': [{'heading': 'Engine and Transmission', 'subHeading': 'Engine', 'list': [{'key': 'Color', 'value': 'Others'}, {'key': 'Engine Type', 'value': 'dCi THP Diesel Engine'}, {'key': 'Displacement', 'value': '1461'}, {'key': 'Max Power', 'value': '108.45bhp@4000rpm'}, {'key': 'Max Torque', 'value': '245Nm@1750rpm'}, {'key': 'No of Cylinder', 'value': 4}, {'key': 'Values per Cylinder', 'value': 4}, {'key': 'Value Configuration', 'value': 'DOHC'}, {'key': 'Fuel Suppy System', 'value': 'CRDi'}, {'key': 'Turbo Charger', 'value': 'Yes'}, {'key': 'Super Charger', 'value': 'No'}]}, {'heading': 'Dimensions & Capacity', 'subHeading': 'Dimensions', 'list': [{'key': 'Length', 'value': '4315mm'}, {'key': 'Width', 'value': '1822mm'}, {'key': 'Height', 'value': '1695mm'}, {'key': 'Wheel Base', 'value': '2673mm'}, {'key': 'Front Tread', 'value': '1560mm'}, {'key': 'Rear Tread', 'value': '1567mm'}, {'key': 'Kerb Weight', 'value': '1350'}, {'key': 'Gross Weight', 'value': '1889kg'}]}, {'heading': 'Miscellaneous', 'subHeading': 'Miscellaneous', 'list': [{'key': 'Gear Box', 'value': '6 Speed'}, {'key': 'Drive Type', 'value': 'AWD'}, {'key': 'Seating Capacity', 'value': '5'}, {'key': 'Steering Type', 'value': 'Power'}, {'key': 'Turning Radius', 'value': '5.2 metres'}, {'key': 'Front Brake Type', 'value': 'Disc'}, {'key': 'Rear Brake Type', 'value': 'Drum'}, {'key': 'Top Speed', 'value': '168 Kmph'}, {'key': 'Acceleration', 'value': '14.20 Seconds'}, {'key': 'Tyre Type', 'value': 'Tubeless,Radial'}, {'key': 'Alloy Wheel Size', 'value': '16'}, {'key': 'No Door Numbers', 'value': '5'}, {'key': 'Cargo Volumn', 'value': '410-litres'}]}], 'commonIcon': ''}\"],\n",
       "      dtype=object)"
      ]
     },
     "execution_count": 40,
     "metadata": {},
     "output_type": "execute_result"
    }
   ],
   "source": [
    "merged_cars['new_car_specs'].values"
   ]
  },
  {
   "cell_type": "markdown",
   "metadata": {},
   "source": [
    "Converting string into Dictionary formate"
   ]
  },
  {
   "cell_type": "code",
   "execution_count": 41,
   "metadata": {},
   "outputs": [
    {
     "name": "stdout",
     "output_type": "stream",
     "text": [
      "                                              car_links       City  it  \\\n",
      "0     https://www.cardekho.com/used-car-details/used...  bangalore   0   \n",
      "1     https://www.cardekho.com/buy-used-car-details/...  bangalore   0   \n",
      "2     https://www.cardekho.com/used-car-details/used...  bangalore   0   \n",
      "3     https://www.cardekho.com/buy-used-car-details/...  bangalore   0   \n",
      "4     https://www.cardekho.com/used-car-details/used...  bangalore   0   \n",
      "...                                                 ...        ...  ..   \n",
      "8364  https://www.cardekho.com/used-car-details/used...    kolkata   0   \n",
      "8365  https://www.cardekho.com/used-car-details/used...    kolkata   0   \n",
      "8366  https://www.cardekho.com/used-car-details/used...    kolkata   0   \n",
      "8367  https://www.cardekho.com/used-car-details/used...    kolkata   0   \n",
      "8368  https://www.cardekho.com/used-car-details/used...    kolkata   0   \n",
      "\n",
      "          ft         bt        km transmission  ownerNo      owner  \\\n",
      "0     Petrol  Hatchback  1,20,000       Manual        3  3rd Owner   \n",
      "1     Petrol        SUV    32,706       Manual        2  2nd Owner   \n",
      "2     Petrol  Hatchback    11,949       Manual        1  1st Owner   \n",
      "3     Petrol      Sedan    17,794       Manual        1  1st Owner   \n",
      "4     Diesel        SUV    60,000       Manual        1  1st Owner   \n",
      "...      ...        ...       ...          ...      ...        ...   \n",
      "8364  Petrol  Hatchback    10,000       Manual        1  1st Owner   \n",
      "8365  Petrol  Hatchback  1,20,000       Manual        1  1st Owner   \n",
      "8366  Petrol      Sedan    50,000    Automatic        3  3rd Owner   \n",
      "8367  Petrol  Hatchback    40,000       Manual        1  1st Owner   \n",
      "8368  Diesel        SUV  1,20,000       Manual        2  2nd Owner   \n",
      "\n",
      "                oem  ... Front Brake Type  Rear Brake Type  Top Speed  \\\n",
      "0            Maruti  ...  Ventilated Disc             Drum   150 Kmph   \n",
      "1              Ford  ...  Ventilated Disc             Drum        NaN   \n",
      "2              Tata  ...             Disc             Drum   150 kmph   \n",
      "3           Hyundai  ...            Disc              Drum   172km/hr   \n",
      "4            Maruti  ...  Ventilated Disc       Solid Disc   190 Kmph   \n",
      "...             ...  ...              ...              ...        ...   \n",
      "8364         Maruti  ...  Ventilated Disc             Drum        NaN   \n",
      "8365         Maruti  ...       Solid Disc             Drum   140 kmph   \n",
      "8366  Mercedes-Benz  ...  Ventilated Disc       Solid Disc   230km/hr   \n",
      "8367         Maruti  ...  Ventilated Disc             Drum   156 Kmph   \n",
      "8368        Renault  ...             Disc             Drum   168 Kmph   \n",
      "\n",
      "       Acceleration         Tyre Type No Door Numbers Cargo Volumn Wheel Size  \\\n",
      "0     15.05 Seconds  Tubeless, Radial               5   235-litres        NaN   \n",
      "1               NaN   Tubeless,Radial               4   352-litres         16   \n",
      "2      14.3 Seconds          Tubeless               5   242-litres         14   \n",
      "3      14.2 Seconds   Tubeless,Radial               4   407-litres         14   \n",
      "4        12 Seconds   Tubeless,Radial               5   353-litres         16   \n",
      "...             ...               ...             ...          ...        ...   \n",
      "8364            NaN  Tubeless, Radial               5          313        NaN   \n",
      "8365     19 Seconds    Tubeless Tyres               5   177-litres        NaN   \n",
      "8366    8.8 Seconds   Tubeless,Radial               4   475-litres         17   \n",
      "8367     15 Seconds   Tubeless,Radial               5   236-liters         14   \n",
      "8368  14.20 Seconds   Tubeless,Radial               5   410-litres         16   \n",
      "\n",
      "     Alloy Wheel Size Ground Clearance Unladen  \n",
      "0                 NaN                      NaN  \n",
      "1                  16                      NaN  \n",
      "2                  14                      NaN  \n",
      "3                  14                      NaN  \n",
      "4                  16                      NaN  \n",
      "...               ...                      ...  \n",
      "8364              NaN                      NaN  \n",
      "8365              NaN                      NaN  \n",
      "8366               17                      NaN  \n",
      "8367               14                      NaN  \n",
      "8368               16                      NaN  \n",
      "\n",
      "[8369 rows x 90 columns]\n"
     ]
    }
   ],
   "source": [
    "# Step 1: Convert string to dictionary format\n",
    "# Use ast.literal_eval to safely evaluate the string representation of dictionaries\n",
    "merged_cars['new_car_specs'] = merged_cars['new_car_specs'].apply(ast.literal_eval)\n",
    "\n",
    "# Step 2-3: Extract keys and values\n",
    "# Create a function to flatten the dictionary and extract keys and values\n",
    "def extract_specs(specs):\n",
    "    # Create a dictionary to hold the flattened specifications\n",
    "    flat_specs = {}\n",
    "    \n",
    "    # Extract 'top' specifications\n",
    "    for item in specs['top']:\n",
    "        flat_specs[item['key']] = item['value']\n",
    "    \n",
    "    # Extract 'data' specifications\n",
    "    for section in specs['data']:\n",
    "        for item in section['list']:\n",
    "            flat_specs[item['key']] = item['value']\n",
    "    \n",
    "    return flat_specs\n",
    "\n",
    "# Step 4-5: Create new columns and store values as strings\n",
    "# Apply the extraction function to create a new DataFrame with the extracted specs\n",
    "specs_df = merged_cars['new_car_specs'].apply(extract_specs).apply(pd.Series)\n",
    "\n",
    "# Step 6: Store the changes in the same DataFrame\n",
    "merged_cars = pd.concat([merged_cars, specs_df], axis=1)\n",
    "\n",
    "# Optionally, you can drop the original 'new_car_specs' column if it's no longer needed\n",
    "merged_cars.drop(columns=['new_car_specs'], inplace=True)\n",
    "\n",
    "# Display the updated DataFrame\n",
    "print(merged_cars)"
   ]
  },
  {
   "cell_type": "code",
   "execution_count": 42,
   "metadata": {},
   "outputs": [
    {
     "data": {
      "text/html": [
       "<div>\n",
       "<style scoped>\n",
       "    .dataframe tbody tr th:only-of-type {\n",
       "        vertical-align: middle;\n",
       "    }\n",
       "\n",
       "    .dataframe tbody tr th {\n",
       "        vertical-align: top;\n",
       "    }\n",
       "\n",
       "    .dataframe thead th {\n",
       "        text-align: right;\n",
       "    }\n",
       "</style>\n",
       "<table border=\"1\" class=\"dataframe\">\n",
       "  <thead>\n",
       "    <tr style=\"text-align: right;\">\n",
       "      <th></th>\n",
       "      <th>car_links</th>\n",
       "      <th>City</th>\n",
       "      <th>it</th>\n",
       "      <th>ft</th>\n",
       "      <th>bt</th>\n",
       "      <th>km</th>\n",
       "      <th>transmission</th>\n",
       "      <th>ownerNo</th>\n",
       "      <th>owner</th>\n",
       "      <th>oem</th>\n",
       "      <th>...</th>\n",
       "      <th>Front Brake Type</th>\n",
       "      <th>Rear Brake Type</th>\n",
       "      <th>Top Speed</th>\n",
       "      <th>Acceleration</th>\n",
       "      <th>Tyre Type</th>\n",
       "      <th>No Door Numbers</th>\n",
       "      <th>Cargo Volumn</th>\n",
       "      <th>Wheel Size</th>\n",
       "      <th>Alloy Wheel Size</th>\n",
       "      <th>Ground Clearance Unladen</th>\n",
       "    </tr>\n",
       "  </thead>\n",
       "  <tbody>\n",
       "    <tr>\n",
       "      <th>0</th>\n",
       "      <td>https://www.cardekho.com/used-car-details/used...</td>\n",
       "      <td>bangalore</td>\n",
       "      <td>0</td>\n",
       "      <td>Petrol</td>\n",
       "      <td>Hatchback</td>\n",
       "      <td>1,20,000</td>\n",
       "      <td>Manual</td>\n",
       "      <td>3</td>\n",
       "      <td>3rd Owner</td>\n",
       "      <td>Maruti</td>\n",
       "      <td>...</td>\n",
       "      <td>Ventilated Disc</td>\n",
       "      <td>Drum</td>\n",
       "      <td>150 Kmph</td>\n",
       "      <td>15.05 Seconds</td>\n",
       "      <td>Tubeless, Radial</td>\n",
       "      <td>5</td>\n",
       "      <td>235-litres</td>\n",
       "      <td>NaN</td>\n",
       "      <td>NaN</td>\n",
       "      <td>NaN</td>\n",
       "    </tr>\n",
       "    <tr>\n",
       "      <th>1</th>\n",
       "      <td>https://www.cardekho.com/buy-used-car-details/...</td>\n",
       "      <td>bangalore</td>\n",
       "      <td>0</td>\n",
       "      <td>Petrol</td>\n",
       "      <td>SUV</td>\n",
       "      <td>32,706</td>\n",
       "      <td>Manual</td>\n",
       "      <td>2</td>\n",
       "      <td>2nd Owner</td>\n",
       "      <td>Ford</td>\n",
       "      <td>...</td>\n",
       "      <td>Ventilated Disc</td>\n",
       "      <td>Drum</td>\n",
       "      <td>NaN</td>\n",
       "      <td>NaN</td>\n",
       "      <td>Tubeless,Radial</td>\n",
       "      <td>4</td>\n",
       "      <td>352-litres</td>\n",
       "      <td>16</td>\n",
       "      <td>16</td>\n",
       "      <td>NaN</td>\n",
       "    </tr>\n",
       "  </tbody>\n",
       "</table>\n",
       "<p>2 rows × 90 columns</p>\n",
       "</div>"
      ],
      "text/plain": [
       "                                           car_links       City  it      ft  \\\n",
       "0  https://www.cardekho.com/used-car-details/used...  bangalore   0  Petrol   \n",
       "1  https://www.cardekho.com/buy-used-car-details/...  bangalore   0  Petrol   \n",
       "\n",
       "          bt        km transmission  ownerNo      owner     oem  ...  \\\n",
       "0  Hatchback  1,20,000       Manual        3  3rd Owner  Maruti  ...   \n",
       "1        SUV    32,706       Manual        2  2nd Owner    Ford  ...   \n",
       "\n",
       "  Front Brake Type  Rear Brake Type  Top Speed   Acceleration  \\\n",
       "0  Ventilated Disc             Drum   150 Kmph  15.05 Seconds   \n",
       "1  Ventilated Disc             Drum        NaN            NaN   \n",
       "\n",
       "          Tyre Type No Door Numbers Cargo Volumn Wheel Size Alloy Wheel Size  \\\n",
       "0  Tubeless, Radial               5   235-litres        NaN              NaN   \n",
       "1   Tubeless,Radial               4   352-litres         16               16   \n",
       "\n",
       "  Ground Clearance Unladen  \n",
       "0                      NaN  \n",
       "1                      NaN  \n",
       "\n",
       "[2 rows x 90 columns]"
      ]
     },
     "execution_count": 42,
     "metadata": {},
     "output_type": "execute_result"
    }
   ],
   "source": [
    "merged_cars.head(2)"
   ]
  },
  {
   "cell_type": "code",
   "execution_count": 43,
   "metadata": {},
   "outputs": [
    {
     "name": "stdout",
     "output_type": "stream",
     "text": [
      "<class 'pandas.core.frame.DataFrame'>\n",
      "RangeIndex: 8369 entries, 0 to 8368\n",
      "Data columns (total 90 columns):\n",
      " #   Column                    Non-Null Count  Dtype  \n",
      "---  ------                    --------------  -----  \n",
      " 0   car_links                 8369 non-null   object \n",
      " 1   City                      8369 non-null   object \n",
      " 2   it                        8369 non-null   int64  \n",
      " 3   ft                        8369 non-null   object \n",
      " 4   bt                        8369 non-null   object \n",
      " 5   km                        8369 non-null   object \n",
      " 6   transmission              8369 non-null   object \n",
      " 7   ownerNo                   8369 non-null   int64  \n",
      " 8   owner                     8369 non-null   object \n",
      " 9   oem                       8369 non-null   object \n",
      " 10  model                     8369 non-null   object \n",
      " 11  modelYear                 8369 non-null   int64  \n",
      " 12  centralVariantId          8369 non-null   int64  \n",
      " 13  variantName               8369 non-null   object \n",
      " 14  price                     8369 non-null   object \n",
      " 15  priceActual               8369 non-null   object \n",
      " 16  priceSaving               8369 non-null   object \n",
      " 17  priceFixedText            0 non-null      object \n",
      " 18  trendingText.imgUrl       8369 non-null   object \n",
      " 19  trendingText.heading      8369 non-null   object \n",
      " 20  trendingText.desc         8369 non-null   object \n",
      " 21  heading                   8369 non-null   object \n",
      " 22  bottomData                0 non-null      object \n",
      " 23  Registration Year         8317 non-null   object \n",
      " 24  Insurance Validity        8365 non-null   object \n",
      " 25  Fuel Type                 8369 non-null   object \n",
      " 26  Seats                     8363 non-null   object \n",
      " 27  Kms Driven                8367 non-null   object \n",
      " 28  RTO                       7481 non-null   object \n",
      " 29  Ownership                 8337 non-null   object \n",
      " 30  Engine Displacement       8365 non-null   object \n",
      " 31  Transmission              8369 non-null   object \n",
      " 32  Year of Manufacture       8349 non-null   float64\n",
      " 33  Registration Year         8317 non-null   object \n",
      " 34  Insurance Validity        8365 non-null   object \n",
      " 35  Fuel Type                 8369 non-null   object \n",
      " 36  Seats                     8363 non-null   object \n",
      " 37  Kms Driven                8367 non-null   object \n",
      " 38  RTO                       7481 non-null   object \n",
      " 39  Ownership                 8337 non-null   object \n",
      " 40  Engine Displacement       8365 non-null   object \n",
      " 41  Transmission              8369 non-null   object \n",
      " 42  Year of Manufacture       8349 non-null   float64\n",
      " 43  heading                   8369 non-null   object \n",
      " 44  top                       8369 non-null   object \n",
      " 45  Comfort                   8301 non-null   object \n",
      " 46  Interior                  8292 non-null   object \n",
      " 47  Exterior                  8279 non-null   object \n",
      " 48  Safety                    8273 non-null   object \n",
      " 49  Entertainment             7274 non-null   object \n",
      " 50  Mileage                   8082 non-null   object \n",
      " 51  Engine                    8365 non-null   object \n",
      " 52  Max Power                 8309 non-null   object \n",
      " 53  Torque                    8309 non-null   object \n",
      " 54  Seats                     8364 non-null   object \n",
      " 55  Color                     8366 non-null   object \n",
      " 56  Engine Type               8074 non-null   object \n",
      " 57  Displacement              8365 non-null   object \n",
      " 58  Max Torque                8309 non-null   object \n",
      " 59  No of Cylinder            8338 non-null   float64\n",
      " 60  Values per Cylinder       8318 non-null   float64\n",
      " 61  Value Configuration       6153 non-null   object \n",
      " 62  Fuel Suppy System         6642 non-null   object \n",
      " 63  BoreX Stroke              2405 non-null   object \n",
      " 64  Compression Ratio         1895 non-null   object \n",
      " 65  Turbo Charger             7329 non-null   object \n",
      " 66  Super Charger             6407 non-null   object \n",
      " 67  Length                    8290 non-null   object \n",
      " 68  Width                     8286 non-null   object \n",
      " 69  Height                    8290 non-null   object \n",
      " 70  Wheel Base                8206 non-null   object \n",
      " 71  Front Tread               4811 non-null   object \n",
      " 72  Rear Tread                4799 non-null   object \n",
      " 73  Kerb Weight               8310 non-null   object \n",
      " 74  Gross Weight              3828 non-null   object \n",
      " 75  Gear Box                  8263 non-null   object \n",
      " 76  Drive Type                6809 non-null   object \n",
      " 77  Seating Capacity          8363 non-null   object \n",
      " 78  Steering Type             8114 non-null   object \n",
      " 79  Turning Radius            6769 non-null   object \n",
      " 80  Front Brake Type          8273 non-null   object \n",
      " 81  Rear Brake Type           8273 non-null   object \n",
      " 82  Top Speed                 4607 non-null   object \n",
      " 83  Acceleration              4857 non-null   object \n",
      " 84  Tyre Type                 8292 non-null   object \n",
      " 85  No Door Numbers           8358 non-null   object \n",
      " 86  Cargo Volumn              6776 non-null   object \n",
      " 87  Wheel Size                5386 non-null   object \n",
      " 88  Alloy Wheel Size          5386 non-null   object \n",
      " 89  Ground Clearance Unladen  515 non-null    object \n",
      "dtypes: float64(4), int64(4), object(82)\n",
      "memory usage: 5.7+ MB\n"
     ]
    }
   ],
   "source": [
    "merged_cars.info()"
   ]
  },
  {
   "cell_type": "markdown",
   "metadata": {},
   "source": [
    "Store convented data into CSV File Formate"
   ]
  },
  {
   "cell_type": "code",
   "execution_count": 44,
   "metadata": {},
   "outputs": [],
   "source": [
    "merged_cars.to_csv('merged_data.csv', index=False)"
   ]
  },
  {
   "cell_type": "code",
   "execution_count": 45,
   "metadata": {},
   "outputs": [
    {
     "data": {
      "text/plain": [
       "<bound method NDFrame.head of                                               car_links       City  it  \\\n",
       "0     https://www.cardekho.com/used-car-details/used...  bangalore   0   \n",
       "1     https://www.cardekho.com/buy-used-car-details/...  bangalore   0   \n",
       "2     https://www.cardekho.com/used-car-details/used...  bangalore   0   \n",
       "3     https://www.cardekho.com/buy-used-car-details/...  bangalore   0   \n",
       "4     https://www.cardekho.com/used-car-details/used...  bangalore   0   \n",
       "...                                                 ...        ...  ..   \n",
       "8364  https://www.cardekho.com/used-car-details/used...    kolkata   0   \n",
       "8365  https://www.cardekho.com/used-car-details/used...    kolkata   0   \n",
       "8366  https://www.cardekho.com/used-car-details/used...    kolkata   0   \n",
       "8367  https://www.cardekho.com/used-car-details/used...    kolkata   0   \n",
       "8368  https://www.cardekho.com/used-car-details/used...    kolkata   0   \n",
       "\n",
       "          ft         bt        km transmission  ownerNo      owner  \\\n",
       "0     Petrol  Hatchback  1,20,000       Manual        3  3rd Owner   \n",
       "1     Petrol        SUV    32,706       Manual        2  2nd Owner   \n",
       "2     Petrol  Hatchback    11,949       Manual        1  1st Owner   \n",
       "3     Petrol      Sedan    17,794       Manual        1  1st Owner   \n",
       "4     Diesel        SUV    60,000       Manual        1  1st Owner   \n",
       "...      ...        ...       ...          ...      ...        ...   \n",
       "8364  Petrol  Hatchback    10,000       Manual        1  1st Owner   \n",
       "8365  Petrol  Hatchback  1,20,000       Manual        1  1st Owner   \n",
       "8366  Petrol      Sedan    50,000    Automatic        3  3rd Owner   \n",
       "8367  Petrol  Hatchback    40,000       Manual        1  1st Owner   \n",
       "8368  Diesel        SUV  1,20,000       Manual        2  2nd Owner   \n",
       "\n",
       "                oem  ... Front Brake Type  Rear Brake Type  Top Speed  \\\n",
       "0            Maruti  ...  Ventilated Disc             Drum   150 Kmph   \n",
       "1              Ford  ...  Ventilated Disc             Drum        NaN   \n",
       "2              Tata  ...             Disc             Drum   150 kmph   \n",
       "3           Hyundai  ...            Disc              Drum   172km/hr   \n",
       "4            Maruti  ...  Ventilated Disc       Solid Disc   190 Kmph   \n",
       "...             ...  ...              ...              ...        ...   \n",
       "8364         Maruti  ...  Ventilated Disc             Drum        NaN   \n",
       "8365         Maruti  ...       Solid Disc             Drum   140 kmph   \n",
       "8366  Mercedes-Benz  ...  Ventilated Disc       Solid Disc   230km/hr   \n",
       "8367         Maruti  ...  Ventilated Disc             Drum   156 Kmph   \n",
       "8368        Renault  ...             Disc             Drum   168 Kmph   \n",
       "\n",
       "       Acceleration         Tyre Type No Door Numbers Cargo Volumn Wheel Size  \\\n",
       "0     15.05 Seconds  Tubeless, Radial               5   235-litres        NaN   \n",
       "1               NaN   Tubeless,Radial               4   352-litres         16   \n",
       "2      14.3 Seconds          Tubeless               5   242-litres         14   \n",
       "3      14.2 Seconds   Tubeless,Radial               4   407-litres         14   \n",
       "4        12 Seconds   Tubeless,Radial               5   353-litres         16   \n",
       "...             ...               ...             ...          ...        ...   \n",
       "8364            NaN  Tubeless, Radial               5          313        NaN   \n",
       "8365     19 Seconds    Tubeless Tyres               5   177-litres        NaN   \n",
       "8366    8.8 Seconds   Tubeless,Radial               4   475-litres         17   \n",
       "8367     15 Seconds   Tubeless,Radial               5   236-liters         14   \n",
       "8368  14.20 Seconds   Tubeless,Radial               5   410-litres         16   \n",
       "\n",
       "     Alloy Wheel Size Ground Clearance Unladen  \n",
       "0                 NaN                      NaN  \n",
       "1                  16                      NaN  \n",
       "2                  14                      NaN  \n",
       "3                  14                      NaN  \n",
       "4                  16                      NaN  \n",
       "...               ...                      ...  \n",
       "8364              NaN                      NaN  \n",
       "8365              NaN                      NaN  \n",
       "8366               17                      NaN  \n",
       "8367               14                      NaN  \n",
       "8368               16                      NaN  \n",
       "\n",
       "[8369 rows x 90 columns]>"
      ]
     },
     "execution_count": 45,
     "metadata": {},
     "output_type": "execute_result"
    }
   ],
   "source": [
    "merged_cars.head"
   ]
  },
  {
   "cell_type": "code",
   "execution_count": 46,
   "metadata": {},
   "outputs": [
    {
     "name": "stdout",
     "output_type": "stream",
     "text": [
      "<class 'pandas.core.frame.DataFrame'>\n",
      "RangeIndex: 8369 entries, 0 to 8368\n",
      "Data columns (total 90 columns):\n",
      " #   Column                    Non-Null Count  Dtype  \n",
      "---  ------                    --------------  -----  \n",
      " 0   car_links                 8369 non-null   object \n",
      " 1   City                      8369 non-null   object \n",
      " 2   it                        8369 non-null   int64  \n",
      " 3   ft                        8369 non-null   object \n",
      " 4   bt                        8369 non-null   object \n",
      " 5   km                        8369 non-null   object \n",
      " 6   transmission              8369 non-null   object \n",
      " 7   ownerNo                   8369 non-null   int64  \n",
      " 8   owner                     8369 non-null   object \n",
      " 9   oem                       8369 non-null   object \n",
      " 10  model                     8369 non-null   object \n",
      " 11  modelYear                 8369 non-null   int64  \n",
      " 12  centralVariantId          8369 non-null   int64  \n",
      " 13  variantName               8369 non-null   object \n",
      " 14  price                     8369 non-null   object \n",
      " 15  priceActual               8369 non-null   object \n",
      " 16  priceSaving               8369 non-null   object \n",
      " 17  priceFixedText            0 non-null      object \n",
      " 18  trendingText.imgUrl       8369 non-null   object \n",
      " 19  trendingText.heading      8369 non-null   object \n",
      " 20  trendingText.desc         8369 non-null   object \n",
      " 21  heading                   8369 non-null   object \n",
      " 22  bottomData                0 non-null      object \n",
      " 23  Registration Year         8317 non-null   object \n",
      " 24  Insurance Validity        8365 non-null   object \n",
      " 25  Fuel Type                 8369 non-null   object \n",
      " 26  Seats                     8363 non-null   object \n",
      " 27  Kms Driven                8367 non-null   object \n",
      " 28  RTO                       7481 non-null   object \n",
      " 29  Ownership                 8337 non-null   object \n",
      " 30  Engine Displacement       8365 non-null   object \n",
      " 31  Transmission              8369 non-null   object \n",
      " 32  Year of Manufacture       8349 non-null   float64\n",
      " 33  Registration Year         8317 non-null   object \n",
      " 34  Insurance Validity        8365 non-null   object \n",
      " 35  Fuel Type                 8369 non-null   object \n",
      " 36  Seats                     8363 non-null   object \n",
      " 37  Kms Driven                8367 non-null   object \n",
      " 38  RTO                       7481 non-null   object \n",
      " 39  Ownership                 8337 non-null   object \n",
      " 40  Engine Displacement       8365 non-null   object \n",
      " 41  Transmission              8369 non-null   object \n",
      " 42  Year of Manufacture       8349 non-null   float64\n",
      " 43  heading                   8369 non-null   object \n",
      " 44  top                       8369 non-null   object \n",
      " 45  Comfort                   8301 non-null   object \n",
      " 46  Interior                  8292 non-null   object \n",
      " 47  Exterior                  8279 non-null   object \n",
      " 48  Safety                    8273 non-null   object \n",
      " 49  Entertainment             7274 non-null   object \n",
      " 50  Mileage                   8082 non-null   object \n",
      " 51  Engine                    8365 non-null   object \n",
      " 52  Max Power                 8309 non-null   object \n",
      " 53  Torque                    8309 non-null   object \n",
      " 54  Seats                     8364 non-null   object \n",
      " 55  Color                     8366 non-null   object \n",
      " 56  Engine Type               8074 non-null   object \n",
      " 57  Displacement              8365 non-null   object \n",
      " 58  Max Torque                8309 non-null   object \n",
      " 59  No of Cylinder            8338 non-null   float64\n",
      " 60  Values per Cylinder       8318 non-null   float64\n",
      " 61  Value Configuration       6153 non-null   object \n",
      " 62  Fuel Suppy System         6642 non-null   object \n",
      " 63  BoreX Stroke              2405 non-null   object \n",
      " 64  Compression Ratio         1895 non-null   object \n",
      " 65  Turbo Charger             7329 non-null   object \n",
      " 66  Super Charger             6407 non-null   object \n",
      " 67  Length                    8290 non-null   object \n",
      " 68  Width                     8286 non-null   object \n",
      " 69  Height                    8290 non-null   object \n",
      " 70  Wheel Base                8206 non-null   object \n",
      " 71  Front Tread               4811 non-null   object \n",
      " 72  Rear Tread                4799 non-null   object \n",
      " 73  Kerb Weight               8310 non-null   object \n",
      " 74  Gross Weight              3828 non-null   object \n",
      " 75  Gear Box                  8263 non-null   object \n",
      " 76  Drive Type                6809 non-null   object \n",
      " 77  Seating Capacity          8363 non-null   object \n",
      " 78  Steering Type             8114 non-null   object \n",
      " 79  Turning Radius            6769 non-null   object \n",
      " 80  Front Brake Type          8273 non-null   object \n",
      " 81  Rear Brake Type           8273 non-null   object \n",
      " 82  Top Speed                 4607 non-null   object \n",
      " 83  Acceleration              4857 non-null   object \n",
      " 84  Tyre Type                 8292 non-null   object \n",
      " 85  No Door Numbers           8358 non-null   object \n",
      " 86  Cargo Volumn              6776 non-null   object \n",
      " 87  Wheel Size                5386 non-null   object \n",
      " 88  Alloy Wheel Size          5386 non-null   object \n",
      " 89  Ground Clearance Unladen  515 non-null    object \n",
      "dtypes: float64(4), int64(4), object(82)\n",
      "memory usage: 5.7+ MB\n"
     ]
    }
   ],
   "source": [
    "merged_cars.info()"
   ]
  },
  {
   "cell_type": "markdown",
   "metadata": {},
   "source": [
    "After Converting Checking Null Values"
   ]
  },
  {
   "cell_type": "code",
   "execution_count": 47,
   "metadata": {},
   "outputs": [
    {
     "data": {
      "text/plain": [
       "array([   0,    0,    0,    0,    0,    0,    0,    0,    0,    0,    0,\n",
       "          0,    0,    0,    0,    0,    0, 8369,    0,    0,    0,    0,\n",
       "       8369,   52,    4,    0,    6,    2,  888,   32,    4,    0,   20,\n",
       "         52,    4,    0,    6,    2,  888,   32,    4,    0,   20,    0,\n",
       "          0,   68,   77,   90,   96, 1095,  287,    4,   60,   60,    5,\n",
       "          3,  295,    4,   60,   31,   51, 2216, 1727, 5964, 6474, 1040,\n",
       "       1962,   79,   83,   79,  163, 3558, 3570,   59, 4541,  106, 1560,\n",
       "          6,  255, 1600,   96,   96, 3762, 3512,   77,   11, 1593, 2983,\n",
       "       2983, 7854])"
      ]
     },
     "execution_count": 47,
     "metadata": {},
     "output_type": "execute_result"
    }
   ],
   "source": [
    "merged_cars.isnull().sum().values"
   ]
  },
  {
   "cell_type": "code",
   "execution_count": 48,
   "metadata": {},
   "outputs": [
    {
     "data": {
      "text/plain": [
       "Index(['car_links', 'City', 'it', 'ft', 'bt', 'km', 'transmission', 'ownerNo',\n",
       "       'owner', 'oem', 'model', 'modelYear', 'centralVariantId', 'variantName',\n",
       "       'price', 'priceActual', 'priceSaving', 'priceFixedText',\n",
       "       'trendingText.imgUrl', 'trendingText.heading', 'trendingText.desc',\n",
       "       'heading', 'bottomData', 'Registration Year', 'Insurance Validity',\n",
       "       'Fuel Type', 'Seats', 'Kms Driven', 'RTO', 'Ownership',\n",
       "       'Engine Displacement', 'Transmission', 'Year of Manufacture',\n",
       "       'Registration Year', 'Insurance Validity', 'Fuel Type', 'Seats',\n",
       "       'Kms Driven', 'RTO', 'Ownership', 'Engine Displacement', 'Transmission',\n",
       "       'Year of Manufacture', 'heading', 'top', 'Comfort', 'Interior',\n",
       "       'Exterior', 'Safety', 'Entertainment', 'Mileage', 'Engine', 'Max Power',\n",
       "       'Torque', 'Seats', 'Color', 'Engine Type', 'Displacement', 'Max Torque',\n",
       "       'No of Cylinder', 'Values per Cylinder', 'Value Configuration',\n",
       "       'Fuel Suppy System', 'BoreX Stroke', 'Compression Ratio',\n",
       "       'Turbo Charger', 'Super Charger', 'Length', 'Width', 'Height',\n",
       "       'Wheel Base', 'Front Tread', 'Rear Tread', 'Kerb Weight',\n",
       "       'Gross Weight', 'Gear Box', 'Drive Type', 'Seating Capacity',\n",
       "       'Steering Type', 'Turning Radius', 'Front Brake Type',\n",
       "       'Rear Brake Type', 'Top Speed', 'Acceleration', 'Tyre Type',\n",
       "       'No Door Numbers', 'Cargo Volumn', 'Wheel Size', 'Alloy Wheel Size',\n",
       "       'Ground Clearance Unladen'],\n",
       "      dtype='object')"
      ]
     },
     "execution_count": 48,
     "metadata": {},
     "output_type": "execute_result"
    }
   ],
   "source": [
    "merged_cars.columns"
   ]
  },
  {
   "cell_type": "markdown",
   "metadata": {},
   "source": [
    "Dropping Unwanted Columns"
   ]
  },
  {
   "cell_type": "code",
   "execution_count": 49,
   "metadata": {},
   "outputs": [],
   "source": [
    "# Drop the 'priceSaving' column\n",
    "merged_cars = merged_cars.drop(columns=['priceSaving'])"
   ]
  },
  {
   "cell_type": "code",
   "execution_count": 50,
   "metadata": {},
   "outputs": [],
   "source": [
    "# Drop the 'priceFixedText' column\n",
    "merged_cars = merged_cars.drop(columns=['priceFixedText'])"
   ]
  },
  {
   "cell_type": "code",
   "execution_count": 51,
   "metadata": {},
   "outputs": [],
   "source": [
    "# Drop the 'trendingText.heading' column\n",
    "merged_cars = merged_cars.drop(columns=['trendingText.heading'])"
   ]
  },
  {
   "cell_type": "code",
   "execution_count": 52,
   "metadata": {},
   "outputs": [],
   "source": [
    "# Drop the 'heading' column\n",
    "merged_cars = merged_cars.drop(columns=['heading'])"
   ]
  },
  {
   "cell_type": "code",
   "execution_count": 53,
   "metadata": {},
   "outputs": [],
   "source": [
    "# Drop the 'bottomData' column\n",
    "merged_cars = merged_cars.drop(columns=['bottomData'])"
   ]
  },
  {
   "cell_type": "code",
   "execution_count": 54,
   "metadata": {},
   "outputs": [
    {
     "data": {
      "text/plain": [
       "Index(['car_links', 'City', 'it', 'ft', 'bt', 'km', 'transmission', 'ownerNo',\n",
       "       'owner', 'oem', 'model', 'modelYear', 'centralVariantId', 'variantName',\n",
       "       'price', 'priceActual', 'trendingText.imgUrl', 'trendingText.desc',\n",
       "       'Registration Year', 'Insurance Validity', 'Fuel Type', 'Seats',\n",
       "       'Kms Driven', 'RTO', 'Ownership', 'Engine Displacement', 'Transmission',\n",
       "       'Year of Manufacture', 'Registration Year', 'Insurance Validity',\n",
       "       'Fuel Type', 'Seats', 'Kms Driven', 'RTO', 'Ownership',\n",
       "       'Engine Displacement', 'Transmission', 'Year of Manufacture', 'top',\n",
       "       'Comfort', 'Interior', 'Exterior', 'Safety', 'Entertainment', 'Mileage',\n",
       "       'Engine', 'Max Power', 'Torque', 'Seats', 'Color', 'Engine Type',\n",
       "       'Displacement', 'Max Torque', 'No of Cylinder', 'Values per Cylinder',\n",
       "       'Value Configuration', 'Fuel Suppy System', 'BoreX Stroke',\n",
       "       'Compression Ratio', 'Turbo Charger', 'Super Charger', 'Length',\n",
       "       'Width', 'Height', 'Wheel Base', 'Front Tread', 'Rear Tread',\n",
       "       'Kerb Weight', 'Gross Weight', 'Gear Box', 'Drive Type',\n",
       "       'Seating Capacity', 'Steering Type', 'Turning Radius',\n",
       "       'Front Brake Type', 'Rear Brake Type', 'Top Speed', 'Acceleration',\n",
       "       'Tyre Type', 'No Door Numbers', 'Cargo Volumn', 'Wheel Size',\n",
       "       'Alloy Wheel Size', 'Ground Clearance Unladen'],\n",
       "      dtype='object')"
      ]
     },
     "execution_count": 54,
     "metadata": {},
     "output_type": "execute_result"
    }
   ],
   "source": [
    "merged_cars.columns"
   ]
  },
  {
   "cell_type": "markdown",
   "metadata": {},
   "source": [
    "Convert final data into CSV File Formate"
   ]
  },
  {
   "cell_type": "code",
   "execution_count": 55,
   "metadata": {},
   "outputs": [],
   "source": [
    "merged_cars.to_csv('merged_data.csv', index=False)"
   ]
  }
 ],
 "metadata": {
  "kernelspec": {
   "display_name": "Python 3",
   "language": "python",
   "name": "python3"
  },
  "language_info": {
   "codemirror_mode": {
    "name": "ipython",
    "version": 3
   },
   "file_extension": ".py",
   "mimetype": "text/x-python",
   "name": "python",
   "nbconvert_exporter": "python",
   "pygments_lexer": "ipython3",
   "version": "3.12.5"
  }
 },
 "nbformat": 4,
 "nbformat_minor": 2
}
