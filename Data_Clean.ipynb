{
 "cells": [
  {
   "cell_type": "code",
   "execution_count": 1,
   "metadata": {},
   "outputs": [
    {
     "name": "stderr",
     "output_type": "stream",
     "text": [
      "C:\\Users\\USER\\AppData\\Local\\Temp\\ipykernel_10444\\3211184951.py:2: DtypeWarning: Columns (15) have mixed types. Specify dtype option on import or set low_memory=False.\n",
      "  merged_cars =pd.read_csv(r'merged_data.csv')\n"
     ]
    }
   ],
   "source": [
    "import pandas as pd\n",
    "merged_cars =pd.read_csv(r'merged_data.csv')"
   ]
  },
  {
   "cell_type": "code",
   "execution_count": 2,
   "metadata": {},
   "outputs": [
    {
     "data": {
      "text/html": [
       "<div>\n",
       "<style scoped>\n",
       "    .dataframe tbody tr th:only-of-type {\n",
       "        vertical-align: middle;\n",
       "    }\n",
       "\n",
       "    .dataframe tbody tr th {\n",
       "        vertical-align: top;\n",
       "    }\n",
       "\n",
       "    .dataframe thead th {\n",
       "        text-align: right;\n",
       "    }\n",
       "</style>\n",
       "<table border=\"1\" class=\"dataframe\">\n",
       "  <thead>\n",
       "    <tr style=\"text-align: right;\">\n",
       "      <th></th>\n",
       "      <th>car_links</th>\n",
       "      <th>City</th>\n",
       "      <th>it</th>\n",
       "      <th>ft</th>\n",
       "      <th>bt</th>\n",
       "      <th>km</th>\n",
       "      <th>transmission</th>\n",
       "      <th>ownerNo</th>\n",
       "      <th>owner</th>\n",
       "      <th>oem</th>\n",
       "      <th>...</th>\n",
       "      <th>Front Brake Type</th>\n",
       "      <th>Rear Brake Type</th>\n",
       "      <th>Top Speed</th>\n",
       "      <th>Acceleration</th>\n",
       "      <th>Tyre Type</th>\n",
       "      <th>No Door Numbers</th>\n",
       "      <th>Cargo Volumn</th>\n",
       "      <th>Wheel Size</th>\n",
       "      <th>Alloy Wheel Size</th>\n",
       "      <th>Ground Clearance Unladen</th>\n",
       "    </tr>\n",
       "  </thead>\n",
       "  <tbody>\n",
       "    <tr>\n",
       "      <th>0</th>\n",
       "      <td>https://www.cardekho.com/used-car-details/used...</td>\n",
       "      <td>bangalore</td>\n",
       "      <td>0</td>\n",
       "      <td>Petrol</td>\n",
       "      <td>Hatchback</td>\n",
       "      <td>1,20,000</td>\n",
       "      <td>Manual</td>\n",
       "      <td>3</td>\n",
       "      <td>3rd Owner</td>\n",
       "      <td>Maruti</td>\n",
       "      <td>...</td>\n",
       "      <td>Ventilated Disc</td>\n",
       "      <td>Drum</td>\n",
       "      <td>150 Kmph</td>\n",
       "      <td>15.05 Seconds</td>\n",
       "      <td>Tubeless, Radial</td>\n",
       "      <td>5.0</td>\n",
       "      <td>235-litres</td>\n",
       "      <td>NaN</td>\n",
       "      <td>NaN</td>\n",
       "      <td>NaN</td>\n",
       "    </tr>\n",
       "    <tr>\n",
       "      <th>1</th>\n",
       "      <td>https://www.cardekho.com/buy-used-car-details/...</td>\n",
       "      <td>bangalore</td>\n",
       "      <td>0</td>\n",
       "      <td>Petrol</td>\n",
       "      <td>SUV</td>\n",
       "      <td>32,706</td>\n",
       "      <td>Manual</td>\n",
       "      <td>2</td>\n",
       "      <td>2nd Owner</td>\n",
       "      <td>Ford</td>\n",
       "      <td>...</td>\n",
       "      <td>Ventilated Disc</td>\n",
       "      <td>Drum</td>\n",
       "      <td>NaN</td>\n",
       "      <td>NaN</td>\n",
       "      <td>Tubeless,Radial</td>\n",
       "      <td>4.0</td>\n",
       "      <td>352-litres</td>\n",
       "      <td>16</td>\n",
       "      <td>16</td>\n",
       "      <td>NaN</td>\n",
       "    </tr>\n",
       "  </tbody>\n",
       "</table>\n",
       "<p>2 rows × 84 columns</p>\n",
       "</div>"
      ],
      "text/plain": [
       "                                           car_links       City  it      ft  \\\n",
       "0  https://www.cardekho.com/used-car-details/used...  bangalore   0  Petrol   \n",
       "1  https://www.cardekho.com/buy-used-car-details/...  bangalore   0  Petrol   \n",
       "\n",
       "          bt        km transmission  ownerNo      owner     oem  ...  \\\n",
       "0  Hatchback  1,20,000       Manual        3  3rd Owner  Maruti  ...   \n",
       "1        SUV    32,706       Manual        2  2nd Owner    Ford  ...   \n",
       "\n",
       "  Front Brake Type  Rear Brake Type  Top Speed   Acceleration  \\\n",
       "0  Ventilated Disc             Drum   150 Kmph  15.05 Seconds   \n",
       "1  Ventilated Disc             Drum        NaN            NaN   \n",
       "\n",
       "          Tyre Type No Door Numbers Cargo Volumn Wheel Size Alloy Wheel Size  \\\n",
       "0  Tubeless, Radial             5.0   235-litres        NaN              NaN   \n",
       "1   Tubeless,Radial             4.0   352-litres         16               16   \n",
       "\n",
       "  Ground Clearance Unladen  \n",
       "0                      NaN  \n",
       "1                      NaN  \n",
       "\n",
       "[2 rows x 84 columns]"
      ]
     },
     "execution_count": 2,
     "metadata": {},
     "output_type": "execute_result"
    }
   ],
   "source": [
    "merged_cars.head(2)"
   ]
  },
  {
   "cell_type": "markdown",
   "metadata": {},
   "source": [
    "Remove commas from the 'km' column"
   ]
  },
  {
   "cell_type": "code",
   "execution_count": 3,
   "metadata": {},
   "outputs": [
    {
     "data": {
      "text/plain": [
       "0       1,20,000\n",
       "1         32,706\n",
       "2         11,949\n",
       "3         17,794\n",
       "4         60,000\n",
       "          ...   \n",
       "8364      10,000\n",
       "8365    1,20,000\n",
       "8366      50,000\n",
       "8367      40,000\n",
       "8368    1,20,000\n",
       "Name: km, Length: 8369, dtype: object"
      ]
     },
     "execution_count": 3,
     "metadata": {},
     "output_type": "execute_result"
    }
   ],
   "source": [
    "merged_cars['km']"
   ]
  },
  {
   "cell_type": "code",
   "execution_count": 4,
   "metadata": {},
   "outputs": [],
   "source": [
    "# Remove commas from the 'km' column\n",
    "merged_cars['km'] = merged_cars['km'].str.replace(',', '', regex=False)"
   ]
  },
  {
   "cell_type": "code",
   "execution_count": 5,
   "metadata": {},
   "outputs": [],
   "source": [
    "# Convert the 'km' column from float to integer\n",
    "merged_cars['km'] = merged_cars['km'].astype(int)"
   ]
  },
  {
   "cell_type": "markdown",
   "metadata": {},
   "source": [
    "Extract only the digits from the 'owner' column"
   ]
  },
  {
   "cell_type": "code",
   "execution_count": null,
   "metadata": {},
   "outputs": [
    {
     "data": {
      "text/plain": [
       "0       3rd Owner\n",
       "1       2nd Owner\n",
       "2       1st Owner\n",
       "3       1st Owner\n",
       "4       1st Owner\n",
       "          ...    \n",
       "8364    1st Owner\n",
       "8365    1st Owner\n",
       "8366    3rd Owner\n",
       "8367    1st Owner\n",
       "8368    2nd Owner\n",
       "Name: owner, Length: 8369, dtype: object"
      ]
     },
     "execution_count": 6,
     "metadata": {},
     "output_type": "execute_result"
    }
   ],
   "source": [
    "merged_cars['owner']"
   ]
  },
  {
   "cell_type": "code",
   "execution_count": 7,
   "metadata": {},
   "outputs": [
    {
     "name": "stderr",
     "output_type": "stream",
     "text": [
      "<>:2: SyntaxWarning: invalid escape sequence '\\d'\n",
      "<>:2: SyntaxWarning: invalid escape sequence '\\d'\n",
      "C:\\Users\\USER\\AppData\\Local\\Temp\\ipykernel_10444\\2918428017.py:2: SyntaxWarning: invalid escape sequence '\\d'\n",
      "  merged_cars['owner'] = merged_cars['owner'].str.extract('(\\d+)')\n"
     ]
    }
   ],
   "source": [
    "# Extract only the digits from the 'owner' column\n",
    "merged_cars['owner'] = merged_cars['owner'].str.extract('(\\d+)')"
   ]
  },
  {
   "cell_type": "code",
   "execution_count": 8,
   "metadata": {},
   "outputs": [
    {
     "data": {
      "text/plain": [
       "0       3\n",
       "1       2\n",
       "2       1\n",
       "3       1\n",
       "4       1\n",
       "       ..\n",
       "8364    1\n",
       "8365    1\n",
       "8366    3\n",
       "8367    1\n",
       "8368    2\n",
       "Name: owner, Length: 8369, dtype: int64"
      ]
     },
     "execution_count": 8,
     "metadata": {},
     "output_type": "execute_result"
    }
   ],
   "source": [
    "merged_cars['owner'] = merged_cars['owner'].astype(int)\n",
    "merged_cars['owner']"
   ]
  },
  {
   "cell_type": "code",
   "execution_count": 9,
   "metadata": {},
   "outputs": [
    {
     "name": "stdout",
     "output_type": "stream",
     "text": [
      "[3 2 1 4 5 0]\n"
     ]
    }
   ],
   "source": [
    "# Get unique values from the 'owner' column\n",
    "unique_owners = merged_cars['owner'].unique()\n",
    "\n",
    "# Display the unique values\n",
    "print(unique_owners)"
   ]
  },
  {
   "cell_type": "code",
   "execution_count": 10,
   "metadata": {},
   "outputs": [
    {
     "data": {
      "text/plain": [
       "0          ₹ 4 Lakh\n",
       "1       ₹ 8.11 Lakh\n",
       "2       ₹ 5.85 Lakh\n",
       "3       ₹ 4.62 Lakh\n",
       "4       ₹ 7.90 Lakh\n",
       "           ...     \n",
       "8364    ₹ 5.10 Lakh\n",
       "8365    ₹ 1.80 Lakh\n",
       "8366    ₹ 5.50 Lakh\n",
       "8367    ₹ 1.40 Lakh\n",
       "8368       ₹ 5 Lakh\n",
       "Name: price, Length: 8369, dtype: object"
      ]
     },
     "execution_count": 10,
     "metadata": {},
     "output_type": "execute_result"
    }
   ],
   "source": [
    "merged_cars['price']"
   ]
  },
  {
   "cell_type": "code",
   "execution_count": 11,
   "metadata": {},
   "outputs": [
    {
     "name": "stdout",
     "output_type": "stream",
     "text": [
      "['₹ 4 Lakh' '₹ 8.11 Lakh' '₹ 5.85 Lakh' ... '₹ 1.58 Lakh' '₹ 35,000 '\n",
      " '₹ 10.82 Lakh']\n"
     ]
    }
   ],
   "source": [
    "# Get unique values from the 'price' column\n",
    "unique_price = merged_cars['price'].unique()\n",
    "\n",
    "# Display the unique values\n",
    "print(unique_price)"
   ]
  },
  {
   "cell_type": "code",
   "execution_count": 12,
   "metadata": {},
   "outputs": [
    {
     "data": {
      "text/plain": [
       "0          ₹ 4 Lakh\n",
       "1       ₹ 8.11 Lakh\n",
       "2       ₹ 5.85 Lakh\n",
       "3       ₹ 4.62 Lakh\n",
       "4       ₹ 7.90 Lakh\n",
       "           ...     \n",
       "8364    ₹ 5.10 Lakh\n",
       "8365    ₹ 1.80 Lakh\n",
       "8366    ₹ 5.50 Lakh\n",
       "8367    ₹ 1.40 Lakh\n",
       "8368       ₹ 5 Lakh\n",
       "Name: price, Length: 8369, dtype: object"
      ]
     },
     "execution_count": 12,
     "metadata": {},
     "output_type": "execute_result"
    }
   ],
   "source": [
    "merged_cars['price']"
   ]
  },
  {
   "cell_type": "markdown",
   "metadata": {},
   "source": [
    "Function to convert price to numerical values"
   ]
  },
  {
   "cell_type": "code",
   "execution_count": 13,
   "metadata": {},
   "outputs": [
    {
     "data": {
      "text/plain": [
       "0       NaN\n",
       "1       NaN\n",
       "2       NaN\n",
       "3       NaN\n",
       "4       NaN\n",
       "       ... \n",
       "8364    NaN\n",
       "8365    NaN\n",
       "8366    NaN\n",
       "8367    NaN\n",
       "8368    NaN\n",
       "Name: priceActual, Length: 8369, dtype: object"
      ]
     },
     "execution_count": 13,
     "metadata": {},
     "output_type": "execute_result"
    }
   ],
   "source": [
    "merged_cars['priceActual']"
   ]
  },
  {
   "cell_type": "code",
   "execution_count": 14,
   "metadata": {},
   "outputs": [],
   "source": [
    "# Function to convert price to numerical values\n",
    "def convert_priceActual(priceActual):\n",
    "    # Check if the input is a string\n",
    "    if isinstance(priceActual, str):\n",
    "        # Remove the currency symbol and whitespace\n",
    "        priceActual = priceActual.replace('₹', '').strip()\n",
    "        \n",
    "        # Remove any commas\n",
    "        priceActual = priceActual.replace(',', '')\n",
    "        \n",
    "        # Check for 'Lakh', 'Crore', or 'Thousand' and convert accordingly\n",
    "        if 'Lakh' in priceActual:\n",
    "            return float(priceActual.replace(' Lakh', '').strip()) * 100000\n",
    "        elif 'Crore' in priceActual:\n",
    "            return float(priceActual.replace(' Crore', '').strip()) * 10000000\n",
    "        elif 'Thousand' in priceActual:\n",
    "            return float(priceActual.replace(' Thousand', '').strip()) * 1000\n",
    "        else:\n",
    "            return float(priceActual)  # In case there are values not using these terms\n",
    "    else:\n",
    "        return priceActual  # Return as is if it's not a string (e.g., float or None)\n",
    "\n",
    "# Apply the conversion function to the price column\n",
    "merged_cars['priceActual'] = merged_cars['priceActual'].apply(convert_priceActual)"
   ]
  },
  {
   "cell_type": "markdown",
   "metadata": {},
   "source": [
    "Checking the Unique Values"
   ]
  },
  {
   "cell_type": "code",
   "execution_count": 15,
   "metadata": {},
   "outputs": [
    {
     "name": "stdout",
     "output_type": "stream",
     "text": [
      "[     nan  585000.  821000.  411000.  699000.  420000.  436000.  460000.\n",
      "  463000.  581000.  515000.  593000.  780000.  415000.  278000.  458000.\n",
      "  455000.  690000.  574000.  657000.  714000.  615000.  565000.  693000.\n",
      "  549000.  688000.  692000.  545000.  569000.  561000.  566000.  601000.\n",
      "  616000.  605000.  731000.  526000.  653000.  831000.  668000.  600000.\n",
      " 1183000.  434000.  985000. 1036000.  852000.  367000.  606000.  476000.\n",
      "  769000.  534000.  418000. 1488000.  487000.  491000.  945000.  689000.\n",
      "  685000.  691000.  533000.  451000.  477000.  449000.  537000.  680000.\n",
      "  721000.  459000.  564000.  528000.  510000.  514000.  546000.  478000.\n",
      "  686000.  659000.  405000.  532000.  496000.  573000.  641000.  517000.\n",
      "  650000.  590000.  760000.  701000.  504000.  586000.  538000.  341000.\n",
      " 1448000.  670000.  619000.  624000.  665000.  637000.  741000.  622000.\n",
      "  706000.  584000.  656000.  597000.  542000. 1012000.  842000.  416000.\n",
      "  749000.  708000.  812000.  575000.  595000.  629000.  570000.  599000.\n",
      "  513000.  548000.  435000.  681000.  596000.  707000.  350000.  806000.\n",
      "  578000. 1026000.  837000.  683000.  644000.  802000.  920000.  381000.\n",
      "  520000.  671000.  370000.  664000.  337000.  645000.  673000.  758000.\n",
      "  473000.  694000.  711000.  345000.  483000.  324000.  620000.  704000.\n",
      "  421000.  553000.  632000.  717000.  465000.  579000.  627000.  820000.\n",
      "  883000.  735000.  792000.  338000.  784000.  658000.  975000.  851000.\n",
      "  895000.  973000.  956000.  349000.  845000. 1003000.  618000.  560000.\n",
      "  969000.  541000.  403000.  480000.  452000.  700000.  387000.  652000.\n",
      "  346000.  355000.  675000.  679000.  666000.  742000.  385000.  466000.\n",
      "  407000.  501000.  319000.  582000. 1344000.  810000.  461000.  712000.\n",
      "  636000.  472000.  655000.  854000.  484000.  543000.  400000.  519000.\n",
      "  766000.  654000. 1027000.  684000.  924000. 1045000.  462000.  479000.\n",
      "  776000.  525000.  540000.  321000.  431000.  955000.  524000.  456000.\n",
      "  471000.  933000.  397000.  380000.  794000.  447000.  430000.  531000.\n",
      "  674000.  901000.  698000.  603000.  724000.  849000.  486000.  990000.\n",
      "  971000.  468000.  890000.  309000.  591000.  669000.  516000. 1067000.\n",
      "  809000.  555000.  325000.  613000.  550000.  567000.  557000.  358000.\n",
      "  464000.  803000.  308000.  744000.  633000.  843000. 1720000.  391000.\n",
      "  602000.  778000.  642000.  856000.  536000.  539000.  860000.  588000.\n",
      "  647000.  738000.  336000.  725000.  646000.  695000.  398000.  614000.\n",
      " 1239000.  621000.  441000.  898000.  482000.  798000.  347000. 1834000.\n",
      "  795000.  395000.  864000. 2066000.  743000.  764000.  661000.  747000.\n",
      "  580000.  500000.  676000.  607000.  660000. 1416000.  409000. 1178000.\n",
      "  761000.  401000.  727000.  554000.  722000. 1751000.  438000.  318000.\n",
      "  687000.  836000.  907000.  408000.  740000. 1060000.  912000.  497000.\n",
      "  643000.  453000.  631000.  412000.  752000.  529000.  328000.  509000.\n",
      "  598000. 1437000.  734000.  672000.  522000.  609000.  915000.  505000.\n",
      "  662000.  414000.  634000. 1481000.  366000.  713000.  815000.  343000.\n",
      " 1039000. 1022000.  552000.  356000.  932000.  649000.  342000.  440000.\n",
      "  498000.  312000.  454000.  535000.  427000.  797000.  705000.  814000.\n",
      "  893000.  604000.  475000. 1035000.  379000.  406000.  369000.  317000.\n",
      "  751000. 1418000. 1673000.  547000.  807000.  470000.  322000.  393000.\n",
      "  640000.  773000. 1134000.  817000.  678000. 1140000.  450000.  413000.\n",
      " 1177000.  432000.  304000.  790000.  439000.  378000.  682000.  348000.\n",
      "  446000. 1055000.  266000.  934000.  638000. 1294000.  922000.  844000.\n",
      "  362000.  260000.  402000. 1635000.  846000.  718000.  293000.  964000.\n",
      "  364000.  746000.  297000.  610000.  871000.  274000. 1241000.  303000.\n",
      "  469000. 1290000. 1041000.  993000. 1281000.  875000.  829000.  490000.\n",
      " 1714000.  423000.  422000. 1902000.  878000.  264000.  730000.  877000.\n",
      "  388000.  765000.  295000.  508000.  242000.  292000.  221000.  218000.\n",
      "  474000.  559000.  562000.  884000.  733000. 1072000.  948000. 1009000.\n",
      "  426000.  696000.  335000.  512000.  200000.  216000.  754000.  238000.\n",
      "  737000.  272000.  363000.  353000.  825000.  968000.  506000.  467000.\n",
      "  443000.  281000.  502000.  382000.  511000.  419000.  527000.  577000.\n",
      "  868000.  271000.  399000.  594000.  258000.  481000.  230000.  390000.\n",
      "  523000.  442000.  518000.  897000.  300000.  551000.  626000.  900000.\n",
      "  404000.  896000.  756000.  732000.  192000. 1712000.  224000.  720000.\n",
      "  628000.  299000.  267000.  320000.  212000.  340000.  185000.  351000.\n",
      "  198000.  326000.  310000. 1033000.  437000.  651000.  263000.  386000.\n",
      "  587000.  354000.  234000.  417000.  489000.  428000.  298000.  530000.\n",
      "  375000.  323000.  576000.  503000.  726000.  360000.  715000.  697000.\n",
      "  556000.  544000.  750000. 1020000.  608000.  978000.  959000.  329000.\n",
      "  330000.  617000.  611000.  327000.  866000.  333000.  767000.  996000.\n",
      "  314000.  919000. 1051000.  457000.  779000.  977000.  307000.  332000.\n",
      "  445000.  887000.  285000.  787000.  270000.  623000.  359000.  834000.\n",
      "  719000. 1212000.  301000.  805000.  241000.  288000.  835000.  383000.\n",
      "  822000. 1253000.  833000.  424000.  507000. 1010000. 1000000.  209000.\n",
      "  929000.  748000.  244000.  905000.  667000. 1001000.  940000.  859000.\n",
      "  284000.  572000.  966000.  824000.  991000. 1742000.  269000.  499000.\n",
      "  448000. 1154000.  352000.  793000. 1312000.  444000.  558000.  813000.\n",
      "  788000. 1126000.  781000.  801000. 1795000.  796000.  635000.  247000.\n",
      "  305000. 1216000.  944000.  237000. 1217000.  841000.  970000. 1838000.\n",
      "  716000.  201000. 1076000. 1331000. 1155000. 1081000.  287000.  251000.\n",
      "  334000.  181000.  410000.  899000. 1145000.  775000.  863000.  313000.\n",
      "  373000.  365000.  376000.  273000.  361000.  729000.  275000.  571000.\n",
      " 1065000.  563000.  639000. 1979000. 1349000.  800000.  757000.  855000.\n",
      "  753000.  589000.  939000.  811000. 1618000.  762000.  389000.  331000.\n",
      "  344000.  279000. 1581000.  867000.  488000. 1575000.  248000.  368000.\n",
      "  277000.  433000.  874000. 1425000.  377000. 1150000.  755000.  225000.\n",
      " 1225000.  495000.  625000.  485000. 2301000.  339000.  302000. 1968000.\n",
      "  789000.  144000.  268000.  785000.  372000. 1238000. 1101000.  283000.\n",
      " 1057000.  142000.  239000.  205000.  206000.  227000.  175000.  891000.\n",
      "  974000.  774000.  240000.  568000.  703000. 1576000.  294000.  280000.\n",
      "  850000.  296000.  291000.  357000.  228000.  808000.  150000. 1857000.\n",
      "  702000.  214000.  777000.  374000. 1187000. 1018000.  976000.  196000.\n",
      "  826000.  226000.  889000.  148000.  143000. 1248000.  172000.  186000.\n",
      "  171000.  183000.]\n"
     ]
    }
   ],
   "source": [
    "# Get unique values from the 'priceActual' column\n",
    "unique_price = merged_cars['priceActual'].unique()\n",
    "\n",
    "# Display the unique values\n",
    "print(unique_price)"
   ]
  },
  {
   "cell_type": "markdown",
   "metadata": {},
   "source": [
    "Function to convert registration year to integer"
   ]
  },
  {
   "cell_type": "code",
   "execution_count": 16,
   "metadata": {},
   "outputs": [
    {
     "data": {
      "text/plain": [
       "0            2015\n",
       "1        Feb 2018\n",
       "2       Sept 2018\n",
       "3        Dec 2014\n",
       "4            2015\n",
       "          ...    \n",
       "8364         2022\n",
       "8365         2014\n",
       "8366         2011\n",
       "8367         2012\n",
       "8368         2017\n",
       "Name: Registration Year, Length: 8369, dtype: object"
      ]
     },
     "execution_count": 16,
     "metadata": {},
     "output_type": "execute_result"
    }
   ],
   "source": [
    "merged_cars['Registration Year']"
   ]
  },
  {
   "cell_type": "code",
   "execution_count": 17,
   "metadata": {},
   "outputs": [
    {
     "data": {
      "text/plain": [
       "0       2015.0\n",
       "1       2018.0\n",
       "2       2018.0\n",
       "3       2014.0\n",
       "4       2015.0\n",
       "         ...  \n",
       "8364    2022.0\n",
       "8365    2014.0\n",
       "8366    2011.0\n",
       "8367    2012.0\n",
       "8368    2017.0\n",
       "Name: Registration Year, Length: 8369, dtype: float64"
      ]
     },
     "execution_count": 17,
     "metadata": {},
     "output_type": "execute_result"
    }
   ],
   "source": [
    "# Function to convert registration year to integer\n",
    "def convert_registration_year(year):\n",
    "    # Check if the input is NaN\n",
    "    if pd.isna(year):\n",
    "        return None  # Return None for NaN values\n",
    "    # Check if the input is a string\n",
    "    elif isinstance(year, str):\n",
    "        # Split the string and take the last part (which should be the year)\n",
    "        year_parts = year.split()\n",
    "        return int(year_parts[-1])  # Convert the last part to an integer\n",
    "    # Handle cases where year is already a number\n",
    "    elif isinstance(year, (int, float)):\n",
    "        return int(year)  # Convert float to int\n",
    "    return None  # Return None for non-string and non-numeric values\n",
    "\n",
    "# Apply the conversion function to the 'Registration Year' column\n",
    "merged_cars['Registration Year'] = merged_cars['Registration Year'].apply(convert_registration_year)\n",
    "merged_cars['Registration Year']"
   ]
  },
  {
   "cell_type": "code",
   "execution_count": 18,
   "metadata": {},
   "outputs": [
    {
     "data": {
      "text/plain": [
       "0       2015.0\n",
       "1       2018.0\n",
       "2       2018.0\n",
       "3       2014.0\n",
       "4       2015.0\n",
       "         ...  \n",
       "8364    2022.0\n",
       "8365    2014.0\n",
       "8366    2011.0\n",
       "8367    2012.0\n",
       "8368    2017.0\n",
       "Name: Registration Year, Length: 8369, dtype: float64"
      ]
     },
     "execution_count": 18,
     "metadata": {},
     "output_type": "execute_result"
    }
   ],
   "source": [
    "merged_cars['Registration Year']"
   ]
  },
  {
   "cell_type": "code",
   "execution_count": 19,
   "metadata": {},
   "outputs": [
    {
     "data": {
      "text/plain": [
       "0       5 Seats\n",
       "1       5 Seats\n",
       "2       5 Seats\n",
       "3       5 Seats\n",
       "4       5 Seats\n",
       "         ...   \n",
       "8364    5 Seats\n",
       "8365    5 Seats\n",
       "8366    5 Seats\n",
       "8367    5 Seats\n",
       "8368    5 Seats\n",
       "Name: Seats, Length: 8369, dtype: object"
      ]
     },
     "execution_count": 19,
     "metadata": {},
     "output_type": "execute_result"
    }
   ],
   "source": [
    "merged_cars['Seats']"
   ]
  },
  {
   "cell_type": "code",
   "execution_count": 20,
   "metadata": {},
   "outputs": [
    {
     "data": {
      "text/plain": [
       "Index(['car_links', 'City', 'it', 'ft', 'bt', 'km', 'transmission', 'ownerNo',\n",
       "       'owner', 'oem', 'model', 'modelYear', 'centralVariantId', 'variantName',\n",
       "       'price', 'priceActual', 'trendingText.imgUrl', 'trendingText.desc',\n",
       "       'Registration Year', 'Insurance Validity', 'Fuel Type', 'Seats',\n",
       "       'Kms Driven', 'RTO', 'Ownership', 'Engine Displacement', 'Transmission',\n",
       "       'Year of Manufacture', 'Registration Year.1', 'Insurance Validity.1',\n",
       "       'Fuel Type.1', 'Seats.1', 'Kms Driven.1', 'RTO.1', 'Ownership.1',\n",
       "       'Engine Displacement.1', 'Transmission.1', 'Year of Manufacture.1',\n",
       "       'top', 'Comfort', 'Interior', 'Exterior', 'Safety', 'Entertainment',\n",
       "       'Mileage', 'Engine', 'Max Power', 'Torque', 'Seats.2', 'Color',\n",
       "       'Engine Type', 'Displacement', 'Max Torque', 'No of Cylinder',\n",
       "       'Values per Cylinder', 'Value Configuration', 'Fuel Suppy System',\n",
       "       'BoreX Stroke', 'Compression Ratio', 'Turbo Charger', 'Super Charger',\n",
       "       'Length', 'Width', 'Height', 'Wheel Base', 'Front Tread', 'Rear Tread',\n",
       "       'Kerb Weight', 'Gross Weight', 'Gear Box', 'Drive Type',\n",
       "       'Seating Capacity', 'Steering Type', 'Turning Radius',\n",
       "       'Front Brake Type', 'Rear Brake Type', 'Top Speed', 'Acceleration',\n",
       "       'Tyre Type', 'No Door Numbers', 'Cargo Volumn', 'Wheel Size',\n",
       "       'Alloy Wheel Size', 'Ground Clearance Unladen'],\n",
       "      dtype='object')"
      ]
     },
     "execution_count": 20,
     "metadata": {},
     "output_type": "execute_result"
    }
   ],
   "source": [
    "merged_cars.columns\n"
   ]
  },
  {
   "cell_type": "code",
   "execution_count": 21,
   "metadata": {},
   "outputs": [
    {
     "data": {
      "text/plain": [
       "0       120000\n",
       "1        32706\n",
       "2        11949\n",
       "3        17794\n",
       "4        60000\n",
       "         ...  \n",
       "8364     10000\n",
       "8365    120000\n",
       "8366     50000\n",
       "8367     40000\n",
       "8368    120000\n",
       "Name: km, Length: 8369, dtype: int64"
      ]
     },
     "execution_count": 21,
     "metadata": {},
     "output_type": "execute_result"
    }
   ],
   "source": [
    "merged_cars['km']"
   ]
  },
  {
   "cell_type": "code",
   "execution_count": 22,
   "metadata": {},
   "outputs": [],
   "source": [
    "# Remove the substring \" Kms\"\n",
    "#merged_cars['Kms Driven'] = merged_cars['Kms Driven'].str.replace(' Kms', '', regex=False)\n",
    "\n",
    "# Remove commas and convert to numeric, handling NaN values\n",
    "#merged_cars['Kms Driven'] = pd.to_numeric(merged_cars['Kms Driven'].str.replace(',', '', regex=False), errors='coerce')\n",
    "#merged_cars['Kms Driven']"
   ]
  },
  {
   "cell_type": "code",
   "execution_count": 23,
   "metadata": {},
   "outputs": [],
   "source": [
    "#merged_cars['Kms Driven']"
   ]
  },
  {
   "cell_type": "code",
   "execution_count": 24,
   "metadata": {},
   "outputs": [],
   "source": [
    "# Drop the 'Ownership' column from the DataFrame\n",
    "merged_cars = merged_cars.drop(columns=['Ownership'])"
   ]
  },
  {
   "cell_type": "code",
   "execution_count": 25,
   "metadata": {},
   "outputs": [
    {
     "data": {
      "text/plain": [
       "0        998 cc\n",
       "1       1497 cc\n",
       "2       1199 cc\n",
       "3       1197 cc\n",
       "4       1248 cc\n",
       "         ...   \n",
       "8364     998 cc\n",
       "8365     796 cc\n",
       "8366    1796 cc\n",
       "8367    1197 cc\n",
       "8368    1461 cc\n",
       "Name: Engine Displacement, Length: 8369, dtype: object"
      ]
     },
     "execution_count": 25,
     "metadata": {},
     "output_type": "execute_result"
    }
   ],
   "source": [
    "merged_cars['Engine Displacement']"
   ]
  },
  {
   "cell_type": "code",
   "execution_count": 26,
   "metadata": {},
   "outputs": [
    {
     "data": {
      "text/plain": [
       "0        998.0\n",
       "1       1497.0\n",
       "2       1199.0\n",
       "3       1197.0\n",
       "4       1248.0\n",
       "         ...  \n",
       "8364     998.0\n",
       "8365     796.0\n",
       "8366    1796.0\n",
       "8367    1197.0\n",
       "8368    1461.0\n",
       "Name: Engine Displacement, Length: 8369, dtype: float64"
      ]
     },
     "execution_count": 26,
     "metadata": {},
     "output_type": "execute_result"
    }
   ],
   "source": [
    "# Remove the substring \" cc\"\n",
    "merged_cars['Engine Displacement'] = merged_cars['Engine Displacement'].str.replace(' cc', '', regex=False)\n",
    "\n",
    "# Convert to numeric, handling NaN values\n",
    "merged_cars['Engine Displacement'] = pd.to_numeric(merged_cars['Engine Displacement'], errors='coerce')\n",
    "merged_cars['Engine Displacement']"
   ]
  },
  {
   "cell_type": "code",
   "execution_count": 27,
   "metadata": {},
   "outputs": [
    {
     "data": {
      "text/plain": [
       "0        998.0\n",
       "1       1497.0\n",
       "2       1199.0\n",
       "3       1197.0\n",
       "4       1248.0\n",
       "         ...  \n",
       "8364     998.0\n",
       "8365     796.0\n",
       "8366    1796.0\n",
       "8367    1197.0\n",
       "8368    1461.0\n",
       "Name: Engine Displacement, Length: 8369, dtype: float64"
      ]
     },
     "execution_count": 27,
     "metadata": {},
     "output_type": "execute_result"
    }
   ],
   "source": [
    "merged_cars['Engine Displacement']"
   ]
  },
  {
   "cell_type": "code",
   "execution_count": 28,
   "metadata": {},
   "outputs": [
    {
     "data": {
      "text/plain": [
       "0       2015.0\n",
       "1       2018.0\n",
       "2       2018.0\n",
       "3       2014.0\n",
       "4       2015.0\n",
       "         ...  \n",
       "8364    2022.0\n",
       "8365    2014.0\n",
       "8366    2011.0\n",
       "8367    2012.0\n",
       "8368    2017.0\n",
       "Name: Year of Manufacture, Length: 8369, dtype: float64"
      ]
     },
     "execution_count": 28,
     "metadata": {},
     "output_type": "execute_result"
    }
   ],
   "source": [
    "merged_cars['Year of Manufacture']"
   ]
  },
  {
   "cell_type": "code",
   "execution_count": 29,
   "metadata": {},
   "outputs": [
    {
     "data": {
      "text/plain": [
       "0       2015\n",
       "1       2018\n",
       "2       2018\n",
       "3       2014\n",
       "4       2015\n",
       "        ... \n",
       "8364    2022\n",
       "8365    2014\n",
       "8366    2011\n",
       "8367    2012\n",
       "8368    2017\n",
       "Name: Year of Manufacture, Length: 8369, dtype: int64"
      ]
     },
     "execution_count": 29,
     "metadata": {},
     "output_type": "execute_result"
    }
   ],
   "source": [
    "# Fill NaN values with a specific value (e.g., 0 or the mean year)\n",
    "merged_cars['Year of Manufacture'].fillna(0, inplace=True)  # or use merged_cars['Year of Manufacture'].fillna(merged_cars['Year of Manufacture'].mean(), inplace=True)\n",
    "\n",
    "# Convert the 'Year of Manufacture' column from float to integer\n",
    "merged_cars['Year of Manufacture'] = merged_cars['Year of Manufacture'].astype(int)\n",
    "merged_cars['Year of Manufacture']"
   ]
  },
  {
   "cell_type": "code",
   "execution_count": 30,
   "metadata": {},
   "outputs": [],
   "source": [
    "columns_to_drop = ['Registration Year.1', 'Fuel Type.1', 'Seats.1', 'trendingText.imgUrl', \n",
    "                   'trendingText.desc', 'Ground Clearance Unladen', 'Seating Capacity', \n",
    "                   'BoreX Stroke', 'Kms Driven.1', 'RTO.1', 'Engine Displacement.1', \n",
    "                   'Transmission.1', 'Year of Manufacture.1']\n",
    "\n",
    "merged_cars.drop(columns=columns_to_drop, inplace=True)"
   ]
  },
  {
   "cell_type": "code",
   "execution_count": 31,
   "metadata": {},
   "outputs": [
    {
     "data": {
      "text/html": [
       "<div>\n",
       "<style scoped>\n",
       "    .dataframe tbody tr th:only-of-type {\n",
       "        vertical-align: middle;\n",
       "    }\n",
       "\n",
       "    .dataframe tbody tr th {\n",
       "        vertical-align: top;\n",
       "    }\n",
       "\n",
       "    .dataframe thead th {\n",
       "        text-align: right;\n",
       "    }\n",
       "</style>\n",
       "<table border=\"1\" class=\"dataframe\">\n",
       "  <thead>\n",
       "    <tr style=\"text-align: right;\">\n",
       "      <th></th>\n",
       "      <th>car_links</th>\n",
       "      <th>City</th>\n",
       "      <th>it</th>\n",
       "      <th>ft</th>\n",
       "      <th>bt</th>\n",
       "      <th>km</th>\n",
       "      <th>transmission</th>\n",
       "      <th>ownerNo</th>\n",
       "      <th>owner</th>\n",
       "      <th>oem</th>\n",
       "      <th>...</th>\n",
       "      <th>Turning Radius</th>\n",
       "      <th>Front Brake Type</th>\n",
       "      <th>Rear Brake Type</th>\n",
       "      <th>Top Speed</th>\n",
       "      <th>Acceleration</th>\n",
       "      <th>Tyre Type</th>\n",
       "      <th>No Door Numbers</th>\n",
       "      <th>Cargo Volumn</th>\n",
       "      <th>Wheel Size</th>\n",
       "      <th>Alloy Wheel Size</th>\n",
       "    </tr>\n",
       "  </thead>\n",
       "  <tbody>\n",
       "    <tr>\n",
       "      <th>0</th>\n",
       "      <td>https://www.cardekho.com/used-car-details/used...</td>\n",
       "      <td>bangalore</td>\n",
       "      <td>0</td>\n",
       "      <td>Petrol</td>\n",
       "      <td>Hatchback</td>\n",
       "      <td>120000</td>\n",
       "      <td>Manual</td>\n",
       "      <td>3</td>\n",
       "      <td>3</td>\n",
       "      <td>Maruti</td>\n",
       "      <td>...</td>\n",
       "      <td>4.7 metres</td>\n",
       "      <td>Ventilated Disc</td>\n",
       "      <td>Drum</td>\n",
       "      <td>150 Kmph</td>\n",
       "      <td>15.05 Seconds</td>\n",
       "      <td>Tubeless, Radial</td>\n",
       "      <td>5.0</td>\n",
       "      <td>235-litres</td>\n",
       "      <td>NaN</td>\n",
       "      <td>NaN</td>\n",
       "    </tr>\n",
       "    <tr>\n",
       "      <th>1</th>\n",
       "      <td>https://www.cardekho.com/buy-used-car-details/...</td>\n",
       "      <td>bangalore</td>\n",
       "      <td>0</td>\n",
       "      <td>Petrol</td>\n",
       "      <td>SUV</td>\n",
       "      <td>32706</td>\n",
       "      <td>Manual</td>\n",
       "      <td>2</td>\n",
       "      <td>2</td>\n",
       "      <td>Ford</td>\n",
       "      <td>...</td>\n",
       "      <td>5.3 metres</td>\n",
       "      <td>Ventilated Disc</td>\n",
       "      <td>Drum</td>\n",
       "      <td>NaN</td>\n",
       "      <td>NaN</td>\n",
       "      <td>Tubeless,Radial</td>\n",
       "      <td>4.0</td>\n",
       "      <td>352-litres</td>\n",
       "      <td>16</td>\n",
       "      <td>16</td>\n",
       "    </tr>\n",
       "  </tbody>\n",
       "</table>\n",
       "<p>2 rows × 70 columns</p>\n",
       "</div>"
      ],
      "text/plain": [
       "                                           car_links       City  it      ft  \\\n",
       "0  https://www.cardekho.com/used-car-details/used...  bangalore   0  Petrol   \n",
       "1  https://www.cardekho.com/buy-used-car-details/...  bangalore   0  Petrol   \n",
       "\n",
       "          bt      km transmission  ownerNo  owner     oem  ... Turning Radius  \\\n",
       "0  Hatchback  120000       Manual        3      3  Maruti  ...     4.7 metres   \n",
       "1        SUV   32706       Manual        2      2    Ford  ...     5.3 metres   \n",
       "\n",
       "   Front Brake Type  Rear Brake Type Top Speed   Acceleration  \\\n",
       "0   Ventilated Disc             Drum  150 Kmph  15.05 Seconds   \n",
       "1   Ventilated Disc             Drum       NaN            NaN   \n",
       "\n",
       "          Tyre Type  No Door Numbers Cargo Volumn Wheel Size Alloy Wheel Size  \n",
       "0  Tubeless, Radial              5.0   235-litres        NaN              NaN  \n",
       "1   Tubeless,Radial              4.0   352-litres         16               16  \n",
       "\n",
       "[2 rows x 70 columns]"
      ]
     },
     "execution_count": 31,
     "metadata": {},
     "output_type": "execute_result"
    }
   ],
   "source": [
    "merged_cars.head(2)"
   ]
  },
  {
   "cell_type": "code",
   "execution_count": 32,
   "metadata": {},
   "outputs": [
    {
     "data": {
      "text/plain": [
       "0       2015.0\n",
       "1       2018.0\n",
       "2       2018.0\n",
       "3       2014.0\n",
       "4       2015.0\n",
       "         ...  \n",
       "8364    2022.0\n",
       "8365    2014.0\n",
       "8366    2011.0\n",
       "8367    2012.0\n",
       "8368    2017.0\n",
       "Name: Registration Year, Length: 8369, dtype: float64"
      ]
     },
     "execution_count": 32,
     "metadata": {},
     "output_type": "execute_result"
    }
   ],
   "source": [
    "merged_cars['Registration Year']"
   ]
  },
  {
   "cell_type": "code",
   "execution_count": 33,
   "metadata": {},
   "outputs": [],
   "source": [
    "# Ensure the 'Alloy Wheel Size' column is treated as strings\n",
    "merged_cars['Alloy Wheel Size'] = merged_cars['Alloy Wheel Size'].astype(str)\n",
    "\n",
    "# Remove any non-numeric characters, if applicable (e.g., 'N/A', or any other characters)\n",
    "# Here, we will keep only numeric characters\n",
    "merged_cars['Alloy Wheel Size'] = merged_cars['Alloy Wheel Size'].str.replace(r'[^0-9]', '', regex=True)\n",
    "\n",
    "# Strip any leading or trailing whitespace\n",
    "merged_cars['Alloy Wheel Size'] = merged_cars['Alloy Wheel Size'].str.strip()\n",
    "\n",
    "# Convert the column to numeric, coercing errors to NaN\n",
    "merged_cars['Alloy Wheel Size'] = pd.to_numeric(merged_cars['Alloy Wheel Size'], errors='coerce')\n",
    "\n",
    "# Convert to integer type using 'Int64' for nullable integers\n",
    "merged_cars['Alloy Wheel Size'] = merged_cars['Alloy Wheel Size'].astype('Int64')"
   ]
  },
  {
   "cell_type": "code",
   "execution_count": 34,
   "metadata": {},
   "outputs": [
    {
     "data": {
      "text/plain": [
       "0       <NA>\n",
       "1         16\n",
       "2         14\n",
       "3         14\n",
       "4         16\n",
       "        ... \n",
       "8364    <NA>\n",
       "8365    <NA>\n",
       "8366      17\n",
       "8367      14\n",
       "8368      16\n",
       "Name: Alloy Wheel Size, Length: 8369, dtype: Int64"
      ]
     },
     "execution_count": 34,
     "metadata": {},
     "output_type": "execute_result"
    }
   ],
   "source": [
    "merged_cars['Alloy Wheel Size']"
   ]
  },
  {
   "cell_type": "code",
   "execution_count": 35,
   "metadata": {},
   "outputs": [],
   "source": [
    "# Ensure the 'Wheel Size' column is treated as strings\n",
    "merged_cars['Wheel Size'] = merged_cars['Wheel Size'].astype(str)\n",
    "\n",
    "# Remove any non-numeric characters, if applicable (e.g., 'N/A', or any other characters)\n",
    "# Here, we will keep only numeric characters and dots (for floats) if necessary\n",
    "merged_cars['Wheel Size'] = merged_cars['Wheel Size'].str.replace(r'[^0-9]', '', regex=True)\n",
    "\n",
    "# Strip any leading or trailing whitespace\n",
    "merged_cars['Wheel Size'] = merged_cars['Wheel Size'].str.strip()\n",
    "\n",
    "# Convert the column to numeric, coercing errors to NaN\n",
    "merged_cars['Wheel Size'] = pd.to_numeric(merged_cars['Wheel Size'], errors='coerce')\n",
    "\n",
    "# Convert to integer type using 'Int64' for nullable integers\n",
    "merged_cars['Wheel Size'] = merged_cars['Wheel Size'].astype('Int64')"
   ]
  },
  {
   "cell_type": "code",
   "execution_count": 36,
   "metadata": {},
   "outputs": [
    {
     "data": {
      "text/plain": [
       "0       <NA>\n",
       "1         16\n",
       "2         14\n",
       "3         14\n",
       "4         16\n",
       "        ... \n",
       "8364    <NA>\n",
       "8365    <NA>\n",
       "8366      17\n",
       "8367      14\n",
       "8368      16\n",
       "Name: Wheel Size, Length: 8369, dtype: Int64"
      ]
     },
     "execution_count": 36,
     "metadata": {},
     "output_type": "execute_result"
    }
   ],
   "source": [
    "merged_cars['Wheel Size']"
   ]
  },
  {
   "cell_type": "code",
   "execution_count": 37,
   "metadata": {},
   "outputs": [],
   "source": [
    "# Ensure the 'Cargo Volumn' column is treated as strings\n",
    "merged_cars['Cargo Volumn'] = merged_cars['Cargo Volumn'].astype(str)\n",
    "\n",
    "# Remove the substrings '-litres' and '-liters' from the 'Cargo Volumn' column\n",
    "merged_cars['Cargo Volumn'] = merged_cars['Cargo Volumn'].str.replace('-litres', '', case=False, regex=False)\n",
    "merged_cars['Cargo Volumn'] = merged_cars['Cargo Volumn'].str.replace('-liters', '', case=False, regex=False)\n",
    "\n",
    "# Strip any leading or trailing whitespace\n",
    "merged_cars['Cargo Volumn'] = merged_cars['Cargo Volumn'].str.strip()\n",
    "\n",
    "# Convert the column to numeric, coercing errors to NaN\n",
    "merged_cars['Cargo Volumn'] = pd.to_numeric(merged_cars['Cargo Volumn'], errors='coerce')\n",
    "\n",
    "# Convert to integer type using 'Int64' for nullable integers\n",
    "merged_cars['Cargo Volumn'] = merged_cars['Cargo Volumn'].astype('Int64')"
   ]
  },
  {
   "cell_type": "code",
   "execution_count": 38,
   "metadata": {},
   "outputs": [
    {
     "data": {
      "text/plain": [
       "0       235\n",
       "1       352\n",
       "2       242\n",
       "3       407\n",
       "4       353\n",
       "       ... \n",
       "8364    313\n",
       "8365    177\n",
       "8366    475\n",
       "8367    236\n",
       "8368    410\n",
       "Name: Cargo Volumn, Length: 8369, dtype: Int64"
      ]
     },
     "execution_count": 38,
     "metadata": {},
     "output_type": "execute_result"
    }
   ],
   "source": [
    "merged_cars['Cargo Volumn']"
   ]
  },
  {
   "cell_type": "code",
   "execution_count": 39,
   "metadata": {},
   "outputs": [],
   "source": [
    "# Convert the float column to integer type using 'Int64' for nullable integers\n",
    "merged_cars['No Door Numbers'] = merged_cars['No Door Numbers'].astype('Int64')\n"
   ]
  },
  {
   "cell_type": "code",
   "execution_count": 40,
   "metadata": {},
   "outputs": [
    {
     "data": {
      "text/plain": [
       "0       5\n",
       "1       4\n",
       "2       5\n",
       "3       4\n",
       "4       5\n",
       "       ..\n",
       "8364    5\n",
       "8365    5\n",
       "8366    4\n",
       "8367    5\n",
       "8368    5\n",
       "Name: No Door Numbers, Length: 8369, dtype: Int64"
      ]
     },
     "execution_count": 40,
     "metadata": {},
     "output_type": "execute_result"
    }
   ],
   "source": [
    "merged_cars['No Door Numbers']"
   ]
  },
  {
   "cell_type": "code",
   "execution_count": 41,
   "metadata": {},
   "outputs": [],
   "source": [
    "# Ensure the 'Acceleration' column is treated as strings\n",
    "merged_cars['Acceleration'] = merged_cars['Acceleration'].astype(str)\n",
    "\n",
    "# Remove the substring 'Seconds' (case-insensitive) from the 'Acceleration' column\n",
    "merged_cars['Acceleration'] = merged_cars['Acceleration'].str.replace('Seconds', '', case=False, regex=False)\n",
    "\n",
    "# Strip any leading or trailing whitespace\n",
    "merged_cars['Acceleration'] = merged_cars['Acceleration'].str.strip()\n",
    "\n",
    "# Convert the column to float, coercing errors to NaN\n",
    "merged_cars['Acceleration'] = pd.to_numeric(merged_cars['Acceleration'], errors='coerce')"
   ]
  },
  {
   "cell_type": "code",
   "execution_count": 42,
   "metadata": {},
   "outputs": [
    {
     "data": {
      "text/plain": [
       "0       150 Kmph\n",
       "1            NaN\n",
       "2       150 kmph\n",
       "3       172km/hr\n",
       "4       190 Kmph\n",
       "          ...   \n",
       "8364         NaN\n",
       "8365    140 kmph\n",
       "8366    230km/hr\n",
       "8367    156 Kmph\n",
       "8368    168 Kmph\n",
       "Name: Top Speed, Length: 8369, dtype: object"
      ]
     },
     "execution_count": 42,
     "metadata": {},
     "output_type": "execute_result"
    }
   ],
   "source": [
    "merged_cars['Top Speed']"
   ]
  },
  {
   "cell_type": "code",
   "execution_count": 43,
   "metadata": {},
   "outputs": [],
   "source": [
    "# Ensure the 'Turning Radius' column is treated as strings\n",
    "merged_cars['Turning Radius'] = merged_cars['Turning Radius'].astype(str)\n",
    "\n",
    "# Remove the substrings 'metres' and 'meters' (case-insensitive) from the 'Turning Radius' column\n",
    "merged_cars['Turning Radius'] = merged_cars['Turning Radius'].str.replace('metres', '', case=False, regex=False)\n",
    "merged_cars['Turning Radius'] = merged_cars['Turning Radius'].str.replace('meters', '', case=False, regex=False)\n",
    "\n",
    "# Strip any leading or trailing whitespace\n",
    "merged_cars['Turning Radius'] = merged_cars['Turning Radius'].str.strip()\n",
    "\n",
    "# Convert the column to float, coercing errors to NaN\n",
    "merged_cars['Turning Radius'] = pd.to_numeric(merged_cars['Turning Radius'], errors='coerce')"
   ]
  },
  {
   "cell_type": "code",
   "execution_count": 44,
   "metadata": {},
   "outputs": [
    {
     "data": {
      "text/plain": [
       "0       4.70\n",
       "1       5.30\n",
       "2       4.90\n",
       "3       4.70\n",
       "4       5.20\n",
       "        ... \n",
       "8364     NaN\n",
       "8365    4.60\n",
       "8366    5.42\n",
       "8367    4.70\n",
       "8368    5.20\n",
       "Name: Turning Radius, Length: 8369, dtype: float64"
      ]
     },
     "execution_count": 44,
     "metadata": {},
     "output_type": "execute_result"
    }
   ],
   "source": [
    "merged_cars['Turning Radius']"
   ]
  },
  {
   "cell_type": "code",
   "execution_count": 45,
   "metadata": {},
   "outputs": [],
   "source": [
    "# Ensure the 'Gear Box' column is treated as strings\n",
    "merged_cars['Gear Box'] = merged_cars['Gear Box'].astype(str)\n",
    "\n",
    "# Remove the substrings 'speed' and '-speed' (case-insensitive) from the 'Gear Box' column\n",
    "merged_cars['Gear Box'] = merged_cars['Gear Box'].str.replace('[-]?speed', '', case=False, regex=True)\n",
    "\n",
    "# Strip any leading or trailing whitespace\n",
    "merged_cars['Gear Box'] = merged_cars['Gear Box'].str.strip()\n",
    "\n",
    "# Optional: If you want to handle empty strings or NaN values, you can use:\n",
    "merged_cars['Gear Box'] = merged_cars['Gear Box'].replace('', pd.NA)"
   ]
  },
  {
   "cell_type": "code",
   "execution_count": 46,
   "metadata": {},
   "outputs": [
    {
     "data": {
      "text/plain": [
       "0       5\n",
       "1       5\n",
       "2       5\n",
       "3       5\n",
       "4       5\n",
       "       ..\n",
       "8364    5\n",
       "8365    5\n",
       "8366    7\n",
       "8367    5\n",
       "8368    6\n",
       "Name: Gear Box, Length: 8369, dtype: object"
      ]
     },
     "execution_count": 46,
     "metadata": {},
     "output_type": "execute_result"
    }
   ],
   "source": [
    "merged_cars['Gear Box']"
   ]
  },
  {
   "cell_type": "code",
   "execution_count": 47,
   "metadata": {},
   "outputs": [],
   "source": [
    "# Ensure the 'Gross Weight' column is treated as strings\n",
    "merged_cars['Gross Weight'] = merged_cars['Gross Weight'].astype(str)\n",
    "\n",
    "# Remove the substring 'kg' (case-insensitive) from the 'Gross Weight' column\n",
    "merged_cars['Gross Weight'] = merged_cars['Gross Weight'].str.replace('kg', '', case=False, regex=False)\n",
    "\n",
    "# Strip any leading or trailing whitespace\n",
    "merged_cars['Gross Weight'] = merged_cars['Gross Weight'].str.strip()\n",
    "\n",
    "# Convert the column to integer, coercing errors to NaN\n",
    "merged_cars['Gross Weight'] = pd.to_numeric(merged_cars['Gross Weight'], errors='coerce').astype('Int64')  # Use 'Int64' for nullable integers\n",
    "\n",
    "# Optional: Handle NaN values if needed\n",
    "# For example, you can fill NaN with a default value (e.g., 0)\n",
    "merged_cars['Gross Weight'] = merged_cars['Gross Weight'].fillna(0)\n",
    "\n",
    "# Or drop rows with NaN values\n",
    "# merged_cars = merged_cars.dropna(subset=['Gross Weight'])"
   ]
  },
  {
   "cell_type": "code",
   "execution_count": 48,
   "metadata": {},
   "outputs": [
    {
     "data": {
      "text/plain": [
       "0       1250\n",
       "1       1660\n",
       "2          0\n",
       "3          0\n",
       "4       1670\n",
       "        ... \n",
       "8364    1260\n",
       "8365    1185\n",
       "8366    2020\n",
       "8367    1430\n",
       "8368    1889\n",
       "Name: Gross Weight, Length: 8369, dtype: Int64"
      ]
     },
     "execution_count": 48,
     "metadata": {},
     "output_type": "execute_result"
    }
   ],
   "source": [
    "merged_cars['Gross Weight']"
   ]
  },
  {
   "cell_type": "code",
   "execution_count": 49,
   "metadata": {},
   "outputs": [],
   "source": [
    "# Ensure the 'Kerb Weight' column is treated as strings\n",
    "merged_cars['Kerb Weight'] = merged_cars['Kerb Weight'].astype(str)\n",
    "\n",
    "# Remove the substring 'kg' (case-insensitive) from the 'Kerb Weight' column\n",
    "merged_cars['Kerb Weight'] = merged_cars['Kerb Weight'].str.replace('kg', '', case=False, regex=False)\n",
    "\n",
    "# Strip any leading or trailing whitespace\n",
    "merged_cars['Kerb Weight'] = merged_cars['Kerb Weight'].str.strip()\n",
    "\n",
    "# Convert the column to integer, coercing errors to NaN\n",
    "merged_cars['Kerb Weight'] = pd.to_numeric(merged_cars['Kerb Weight'], errors='coerce').astype('Int64')  # Use 'Int64' for nullable integers\n",
    "\n",
    "# Optional: Handle NaN values if needed\n",
    "# For example, you can fill NaN with a default value (e.g., 0)\n",
    "merged_cars['Kerb Weight'] = merged_cars['Kerb Weight'].fillna(0)\n",
    "\n",
    "# Or drop rows with NaN values\n",
    "# merged_cars = merged_cars.dropna(subset=['Kerb Weight'])"
   ]
  },
  {
   "cell_type": "code",
   "execution_count": 50,
   "metadata": {},
   "outputs": [
    {
     "data": {
      "text/plain": [
       "0        835\n",
       "1       1242\n",
       "2       1012\n",
       "3       1180\n",
       "4       1230\n",
       "        ... \n",
       "8364     810\n",
       "8365     720\n",
       "8366    1585\n",
       "8367    1030\n",
       "8368    1350\n",
       "Name: Kerb Weight, Length: 8369, dtype: Int64"
      ]
     },
     "execution_count": 50,
     "metadata": {},
     "output_type": "execute_result"
    }
   ],
   "source": [
    "merged_cars['Kerb Weight']"
   ]
  },
  {
   "cell_type": "code",
   "execution_count": 51,
   "metadata": {},
   "outputs": [],
   "source": [
    "# Remove the substring 'mm' from the 'Rear Tread' column\n",
    "merged_cars['Rear Tread'] = merged_cars['Rear Tread'].str.replace('mm', '', regex=False)\n",
    "\n",
    "# Strip any leading or trailing whitespace\n",
    "merged_cars['Rear Tread'] = merged_cars['Rear Tread'].str.strip()\n",
    "\n",
    "# Convert the column to integer, coercing errors to NaN\n",
    "merged_cars['Rear Tread'] = pd.to_numeric(merged_cars['Rear Tread'], errors='coerce').astype('Int64')  # Use 'Int64' for nullable integers\n",
    "\n",
    "# Optional: Handle NaN values if needed\n",
    "# For example, you can fill NaN with a default value (e.g., 0)\n",
    "merged_cars['Rear Tread'] = merged_cars['Rear Tread'].fillna(0)\n",
    "\n",
    "# Or drop rows with NaN values\n",
    "# merged_cars = merged_cars.dropna(subset=['Rear Tread'])"
   ]
  },
  {
   "cell_type": "code",
   "execution_count": 52,
   "metadata": {},
   "outputs": [
    {
     "data": {
      "text/plain": [
       "0       1410\n",
       "1          0\n",
       "2       1420\n",
       "3       1493\n",
       "4          0\n",
       "        ... \n",
       "8364    1440\n",
       "8365    1290\n",
       "8366    1552\n",
       "8367    1480\n",
       "8368    1567\n",
       "Name: Rear Tread, Length: 8369, dtype: Int64"
      ]
     },
     "execution_count": 52,
     "metadata": {},
     "output_type": "execute_result"
    }
   ],
   "source": [
    "merged_cars['Rear Tread']"
   ]
  },
  {
   "cell_type": "code",
   "execution_count": 53,
   "metadata": {},
   "outputs": [],
   "source": [
    "# Remove the substring 'mm' from the 'Front Tread' column\n",
    "merged_cars['Front Tread'] = merged_cars['Front Tread'].str.replace('mm', '', regex=False)\n",
    "\n",
    "# Strip any leading or trailing whitespace\n",
    "merged_cars['Front Tread'] = merged_cars['Front Tread'].str.strip()\n",
    "\n",
    "# Convert the column to integer, coercing errors to NaN\n",
    "merged_cars['Front Tread'] = pd.to_numeric(merged_cars['Front Tread'], errors='coerce').astype('Int64')  # Use 'Int64' for nullable integers\n",
    "\n",
    "# Optional: Handle NaN values if needed\n",
    "# For example, you can fill NaN with a default value (e.g., 0)\n",
    "merged_cars['Front Tread'] = merged_cars['Front Tread'].fillna(0)\n",
    "\n",
    "# Or drop rows with NaN values\n",
    "# merged_cars = merged_cars.dropna(subset=['Front Tread'])"
   ]
  },
  {
   "cell_type": "code",
   "execution_count": 54,
   "metadata": {},
   "outputs": [
    {
     "data": {
      "text/plain": [
       "0       1420\n",
       "1          0\n",
       "2       1400\n",
       "3       1479\n",
       "4          0\n",
       "        ... \n",
       "8364    1430\n",
       "8365    1295\n",
       "8366    1549\n",
       "8367    1470\n",
       "8368    1560\n",
       "Name: Front Tread, Length: 8369, dtype: Int64"
      ]
     },
     "execution_count": 54,
     "metadata": {},
     "output_type": "execute_result"
    }
   ],
   "source": [
    "merged_cars['Front Tread']"
   ]
  },
  {
   "cell_type": "code",
   "execution_count": 55,
   "metadata": {},
   "outputs": [],
   "source": [
    "# Remove the substring 'mm' from the 'Wheel Base' column\n",
    "merged_cars['Wheel Base'] = merged_cars['Wheel Base'].str.replace('mm', '', regex=False)\n",
    "\n",
    "# Strip any leading or trailing whitespace\n",
    "merged_cars['Wheel Base'] = merged_cars['Wheel Base'].str.strip()\n",
    "\n",
    "# Convert the column to integer, coercing errors to NaN\n",
    "merged_cars['Wheel Base'] = pd.to_numeric(merged_cars['Wheel Base'], errors='coerce').astype('Int64')  # Use 'Int64' for nullable integers\n",
    "\n",
    "# Optional: Handle NaN values if needed\n",
    "# For example, you can fill NaN with a default value (e.g., 0)\n",
    "merged_cars['Wheel Base'] = merged_cars['Wheel Base'].fillna(0)\n",
    "\n",
    "# Or drop rows with NaN values\n",
    "# merged_cars = merged_cars.dropna(subset=['Wheel Base'])"
   ]
  },
  {
   "cell_type": "code",
   "execution_count": 56,
   "metadata": {},
   "outputs": [
    {
     "data": {
      "text/plain": [
       "0       2425\n",
       "1       2519\n",
       "2       2400\n",
       "3       2425\n",
       "4       2600\n",
       "        ... \n",
       "8364    2435\n",
       "8365    2360\n",
       "8366    2760\n",
       "8367    2360\n",
       "8368    2673\n",
       "Name: Wheel Base, Length: 8369, dtype: Int64"
      ]
     },
     "execution_count": 56,
     "metadata": {},
     "output_type": "execute_result"
    }
   ],
   "source": [
    "merged_cars['Wheel Base']"
   ]
  },
  {
   "cell_type": "code",
   "execution_count": 57,
   "metadata": {},
   "outputs": [],
   "source": [
    "# Remove the substring 'mm' from the 'Height' column\n",
    "merged_cars['Height'] = merged_cars['Height'].str.replace('mm', '', regex=False)\n",
    "\n",
    "# Strip any leading or trailing whitespace\n",
    "merged_cars['Height'] = merged_cars['Height'].str.strip()\n",
    "\n",
    "# Convert the column to integer, coercing errors to NaN\n",
    "merged_cars['Height'] = pd.to_numeric(merged_cars['Height'], errors='coerce').astype('Int64')  # Use 'Int64' for nullable integers\n",
    "\n",
    "# Optional: Handle NaN values if needed\n",
    "# For example, you can fill NaN with a default value (e.g., 0)\n",
    "merged_cars['Height'] = merged_cars['Height'].fillna(0)\n",
    "\n",
    "# Or drop rows with NaN values\n",
    "# merged_cars = merged_cars.dropna(subset=['Height'])"
   ]
  },
  {
   "cell_type": "code",
   "execution_count": 58,
   "metadata": {},
   "outputs": [
    {
     "data": {
      "text/plain": [
       "0       1565\n",
       "1       1647\n",
       "2       1535\n",
       "3       1520\n",
       "4       1595\n",
       "        ... \n",
       "8364    1555\n",
       "8365    1475\n",
       "8366    1447\n",
       "8367    1620\n",
       "8368    1695\n",
       "Name: Height, Length: 8369, dtype: Int64"
      ]
     },
     "execution_count": 58,
     "metadata": {},
     "output_type": "execute_result"
    }
   ],
   "source": [
    "merged_cars['Height']"
   ]
  },
  {
   "cell_type": "code",
   "execution_count": 59,
   "metadata": {},
   "outputs": [],
   "source": [
    "# Remove the substring 'mm' from the 'Width' column\n",
    "merged_cars['Width'] = merged_cars['Width'].str.replace('mm', '', regex=False)\n",
    "\n",
    "# Strip any leading or trailing whitespace\n",
    "merged_cars['Width'] = merged_cars['Width'].str.strip()\n",
    "\n",
    "# Convert the column to integer, coercing errors to NaN\n",
    "merged_cars['Width'] = pd.to_numeric(merged_cars['Width'], errors='coerce').astype('Int64')  # Use 'Int64' for nullable integers\n",
    "\n",
    "# Optional: Handle NaN values if needed\n",
    "# For example, you can fill NaN with a default value (e.g., 0)\n",
    "merged_cars['Width'] = merged_cars['Width'].fillna(0)\n",
    "\n",
    "# Or drop rows with NaN values\n",
    "# merged_cars = merged_cars.dropna(subset=['Width'])"
   ]
  },
  {
   "cell_type": "code",
   "execution_count": 60,
   "metadata": {},
   "outputs": [
    {
     "data": {
      "text/plain": [
       "0       1635\n",
       "1       1765\n",
       "2       1647\n",
       "3       1660\n",
       "4       1785\n",
       "        ... \n",
       "8364    1655\n",
       "8365    1490\n",
       "8366    1770\n",
       "8367    1680\n",
       "8368    1822\n",
       "Name: Width, Length: 8369, dtype: Int64"
      ]
     },
     "execution_count": 60,
     "metadata": {},
     "output_type": "execute_result"
    }
   ],
   "source": [
    "merged_cars['Width']"
   ]
  },
  {
   "cell_type": "code",
   "execution_count": 61,
   "metadata": {},
   "outputs": [],
   "source": [
    "# Remove the substring 'mm' from the 'Length' column\n",
    "merged_cars['Length'] = merged_cars['Length'].str.replace('mm', '', regex=False)\n",
    "\n",
    "# Strip any leading or trailing whitespace\n",
    "merged_cars['Length'] = merged_cars['Length'].str.strip()\n",
    "\n",
    "# Convert the column to integer, coercing errors to NaN\n",
    "merged_cars['Length'] = pd.to_numeric(merged_cars['Length'], errors='coerce').astype('Int64')  # Use 'Int64' for nullable integers\n",
    "\n",
    "# Optional: Handle NaN values if needed\n",
    "# For example, you can fill NaN with a default value (e.g., 0)\n",
    "merged_cars['Length'] = merged_cars['Length'].fillna(0)\n",
    "\n",
    "# Or drop rows with NaN values\n",
    "# merged_cars = merged_cars.dropna(subset=['Length'])"
   ]
  },
  {
   "cell_type": "code",
   "execution_count": 62,
   "metadata": {},
   "outputs": [
    {
     "data": {
      "text/plain": [
       "0       3715\n",
       "1       3998\n",
       "2       3746\n",
       "3       3995\n",
       "4       4300\n",
       "        ... \n",
       "8364    3695\n",
       "8365    3395\n",
       "8366    4591\n",
       "8367    3775\n",
       "8368    4315\n",
       "Name: Length, Length: 8369, dtype: Int64"
      ]
     },
     "execution_count": 62,
     "metadata": {},
     "output_type": "execute_result"
    }
   ],
   "source": [
    "merged_cars['Length']"
   ]
  },
  {
   "cell_type": "code",
   "execution_count": 63,
   "metadata": {},
   "outputs": [],
   "source": [
    "# Remove the substring 'Nm' from the 'Torque' column\n",
    "merged_cars['Torque'] = merged_cars['Torque'].str.replace('Nm', '', regex=False)\n",
    "\n",
    "# Strip any leading or trailing whitespace\n",
    "merged_cars['Torque'] = merged_cars['Torque'].str.strip()\n",
    "\n",
    "# Convert the column to float, coercing errors to NaN\n",
    "merged_cars['Torque'] = pd.to_numeric(merged_cars['Torque'], errors='coerce')\n",
    "\n",
    "# Optionally, handle NaN values if needed\n",
    "# For example, you can fill NaN with a default value (e.g., 0)\n",
    "merged_cars['Torque'] = merged_cars['Torque'].fillna(0)\n",
    "\n",
    "# Or drop rows with NaN values\n",
    "# merged_cars = merged_cars.dropna(subset=['Torque'])"
   ]
  },
  {
   "cell_type": "code",
   "execution_count": 64,
   "metadata": {},
   "outputs": [
    {
     "data": {
      "text/plain": [
       "0        90.00\n",
       "1       150.00\n",
       "2       114.00\n",
       "3       113.75\n",
       "4       200.00\n",
       "         ...  \n",
       "8364     89.00\n",
       "8365     69.00\n",
       "8366    285.00\n",
       "8367    114.00\n",
       "8368    245.00\n",
       "Name: Torque, Length: 8369, dtype: float64"
      ]
     },
     "execution_count": 64,
     "metadata": {},
     "output_type": "execute_result"
    }
   ],
   "source": [
    "merged_cars['Torque']"
   ]
  },
  {
   "cell_type": "code",
   "execution_count": 65,
   "metadata": {},
   "outputs": [
    {
     "data": {
      "text/plain": [
       "0        998 CC\n",
       "1       1497 CC\n",
       "2       1199 CC\n",
       "3       1197 CC\n",
       "4       1248 CC\n",
       "         ...   \n",
       "8364     998 CC\n",
       "8365     796 CC\n",
       "8366    1796 CC\n",
       "8367    1197 CC\n",
       "8368    1461 CC\n",
       "Name: Engine, Length: 8369, dtype: object"
      ]
     },
     "execution_count": 65,
     "metadata": {},
     "output_type": "execute_result"
    }
   ],
   "source": [
    "merged_cars['Engine']"
   ]
  },
  {
   "cell_type": "code",
   "execution_count": 66,
   "metadata": {},
   "outputs": [],
   "source": [
    "# Drop the 'Engine' column from the DataFrame\n",
    "merged_cars = merged_cars.drop(columns=['Engine'])"
   ]
  },
  {
   "cell_type": "code",
   "execution_count": 67,
   "metadata": {},
   "outputs": [],
   "source": [
    "# Remove unwanted substrings and any whitespace\n",
    "merged_cars['Mileage'] = merged_cars['Mileage'].str.replace(' kmpl', '', regex=False)\n",
    "merged_cars['Mileage'] = merged_cars['Mileage'].str.replace(' km/kg', '', regex=False)\n",
    "\n",
    "# Strip any leading or trailing whitespace\n",
    "merged_cars['Mileage'] = merged_cars['Mileage'].str.strip()\n",
    "\n",
    "# Convert the column to float, coercing errors to NaN\n",
    "merged_cars['Mileage'] = pd.to_numeric(merged_cars['Mileage'], errors='coerce')\n",
    "\n",
    "# Optionally, fill NaN values or drop them\n",
    "# For example, you can fill NaN with a default value (e.g., 0)\n",
    "merged_cars['Mileage'] = merged_cars['Mileage'].fillna(0)\n",
    "\n",
    "# Or drop rows with NaN values\n",
    "# merged_cars = merged_cars.dropna(subset=['Mileage'])"
   ]
  },
  {
   "cell_type": "code",
   "execution_count": 68,
   "metadata": {},
   "outputs": [
    {
     "data": {
      "text/plain": [
       "0       23.10\n",
       "1       17.00\n",
       "2       23.84\n",
       "3       19.10\n",
       "4       23.65\n",
       "        ...  \n",
       "8364    25.24\n",
       "8365    22.74\n",
       "8366    11.74\n",
       "8367    18.50\n",
       "8368    19.72\n",
       "Name: Mileage, Length: 8369, dtype: float64"
      ]
     },
     "execution_count": 68,
     "metadata": {},
     "output_type": "execute_result"
    }
   ],
   "source": [
    "merged_cars['Mileage']"
   ]
  },
  {
   "cell_type": "code",
   "execution_count": 69,
   "metadata": {},
   "outputs": [
    {
     "data": {
      "text/plain": [
       "Index(['car_links', 'City', 'it', 'ft', 'bt', 'km', 'transmission', 'ownerNo',\n",
       "       'owner', 'oem', 'model', 'modelYear', 'centralVariantId', 'variantName',\n",
       "       'price', 'priceActual', 'Registration Year', 'Insurance Validity',\n",
       "       'Fuel Type', 'Seats', 'Kms Driven', 'RTO', 'Engine Displacement',\n",
       "       'Transmission', 'Year of Manufacture', 'Insurance Validity.1',\n",
       "       'Ownership.1', 'top', 'Comfort', 'Interior', 'Exterior', 'Safety',\n",
       "       'Entertainment', 'Mileage', 'Max Power', 'Torque', 'Seats.2', 'Color',\n",
       "       'Engine Type', 'Displacement', 'Max Torque', 'No of Cylinder',\n",
       "       'Values per Cylinder', 'Value Configuration', 'Fuel Suppy System',\n",
       "       'Compression Ratio', 'Turbo Charger', 'Super Charger', 'Length',\n",
       "       'Width', 'Height', 'Wheel Base', 'Front Tread', 'Rear Tread',\n",
       "       'Kerb Weight', 'Gross Weight', 'Gear Box', 'Drive Type',\n",
       "       'Steering Type', 'Turning Radius', 'Front Brake Type',\n",
       "       'Rear Brake Type', 'Top Speed', 'Acceleration', 'Tyre Type',\n",
       "       'No Door Numbers', 'Cargo Volumn', 'Wheel Size', 'Alloy Wheel Size'],\n",
       "      dtype='object')"
      ]
     },
     "execution_count": 69,
     "metadata": {},
     "output_type": "execute_result"
    }
   ],
   "source": [
    "merged_cars.columns"
   ]
  },
  {
   "cell_type": "code",
   "execution_count": 70,
   "metadata": {},
   "outputs": [
    {
     "data": {
      "text/plain": [
       "0       5 Seats\n",
       "1       5 Seats\n",
       "2       5 Seats\n",
       "3       5 Seats\n",
       "4       5 Seats\n",
       "         ...   \n",
       "8364    5 Seats\n",
       "8365    5 Seats\n",
       "8366    5 Seats\n",
       "8367    5 Seats\n",
       "8368    5 Seats\n",
       "Name: Seats, Length: 8369, dtype: object"
      ]
     },
     "execution_count": 70,
     "metadata": {},
     "output_type": "execute_result"
    }
   ],
   "source": [
    "merged_cars['Seats']"
   ]
  },
  {
   "cell_type": "code",
   "execution_count": 71,
   "metadata": {},
   "outputs": [],
   "source": [
    "# Remove the substring ' Seats' from the 'Seats' column\n",
    "merged_cars['Seats'] = merged_cars['Seats'].str.replace(' Seats', '', regex=False)\n",
    "\n",
    "# Convert to numeric, coercing errors to NaN\n",
    "merged_cars['Seats'] = pd.to_numeric(merged_cars['Seats'], errors='coerce')\n",
    "\n",
    "# Optionally, fill NaN values with a default value (e.g., 0) or drop them\n",
    "# Example: Fill NaN with 0\n",
    "merged_cars['Seats'] = merged_cars['Seats'].fillna(0).astype(int)\n",
    "\n",
    "# OR, if you want to drop rows with NaN values\n",
    "#merged_cars = merged_cars.dropna(subset=['Seats'])"
   ]
  },
  {
   "cell_type": "code",
   "execution_count": 72,
   "metadata": {},
   "outputs": [
    {
     "data": {
      "text/plain": [
       "0       5\n",
       "1       5\n",
       "2       5\n",
       "3       5\n",
       "4       5\n",
       "       ..\n",
       "8364    5\n",
       "8365    5\n",
       "8366    5\n",
       "8367    5\n",
       "8368    5\n",
       "Name: Seats, Length: 8369, dtype: int64"
      ]
     },
     "execution_count": 72,
     "metadata": {},
     "output_type": "execute_result"
    }
   ],
   "source": [
    "merged_cars['Seats']"
   ]
  },
  {
   "cell_type": "code",
   "execution_count": 73,
   "metadata": {},
   "outputs": [],
   "source": [
    "# Assuming merged_cars is your DataFrame\n",
    "merged_cars['priceActual'] = pd.to_numeric(merged_cars['priceActual'], errors='coerce')"
   ]
  },
  {
   "cell_type": "code",
   "execution_count": 74,
   "metadata": {},
   "outputs": [
    {
     "data": {
      "text/plain": [
       "0      NaN\n",
       "1      NaN\n",
       "2      NaN\n",
       "3      NaN\n",
       "4      NaN\n",
       "        ..\n",
       "8364   NaN\n",
       "8365   NaN\n",
       "8366   NaN\n",
       "8367   NaN\n",
       "8368   NaN\n",
       "Name: priceActual, Length: 8369, dtype: float64"
      ]
     },
     "execution_count": 74,
     "metadata": {},
     "output_type": "execute_result"
    }
   ],
   "source": [
    "merged_cars['priceActual']"
   ]
  },
  {
   "cell_type": "code",
   "execution_count": 75,
   "metadata": {},
   "outputs": [],
   "source": [
    "# Convert 'modelYear' from object to integer\n",
    "merged_cars['modelYear'] = merged_cars['modelYear'].astype(int)"
   ]
  },
  {
   "cell_type": "code",
   "execution_count": 76,
   "metadata": {},
   "outputs": [],
   "source": [
    "# Convert 'centralVariantId' from object to integer\n",
    "merged_cars['centralVariantId'] = merged_cars['centralVariantId'].astype(int)"
   ]
  },
  {
   "cell_type": "code",
   "execution_count": 77,
   "metadata": {},
   "outputs": [],
   "source": [
    "# Drop the column 'Ownership.1'\n",
    "merged_cars = merged_cars.drop(columns=['Ownership.1'])"
   ]
  },
  {
   "cell_type": "code",
   "execution_count": 78,
   "metadata": {},
   "outputs": [],
   "source": [
    "# Drop the column 'ownerNo'\n",
    "merged_cars = merged_cars.drop(columns=['ownerNo'])"
   ]
  },
  {
   "cell_type": "code",
   "execution_count": 79,
   "metadata": {},
   "outputs": [
    {
     "data": {
      "text/plain": [
       "Index(['car_links', 'City', 'it', 'ft', 'bt', 'km', 'transmission', 'owner',\n",
       "       'oem', 'model', 'modelYear', 'centralVariantId', 'variantName', 'price',\n",
       "       'priceActual', 'Registration Year', 'Insurance Validity', 'Fuel Type',\n",
       "       'Seats', 'Kms Driven', 'RTO', 'Engine Displacement', 'Transmission',\n",
       "       'Year of Manufacture', 'Insurance Validity.1', 'top', 'Comfort',\n",
       "       'Interior', 'Exterior', 'Safety', 'Entertainment', 'Mileage',\n",
       "       'Max Power', 'Torque', 'Seats.2', 'Color', 'Engine Type',\n",
       "       'Displacement', 'Max Torque', 'No of Cylinder', 'Values per Cylinder',\n",
       "       'Value Configuration', 'Fuel Suppy System', 'Compression Ratio',\n",
       "       'Turbo Charger', 'Super Charger', 'Length', 'Width', 'Height',\n",
       "       'Wheel Base', 'Front Tread', 'Rear Tread', 'Kerb Weight',\n",
       "       'Gross Weight', 'Gear Box', 'Drive Type', 'Steering Type',\n",
       "       'Turning Radius', 'Front Brake Type', 'Rear Brake Type', 'Top Speed',\n",
       "       'Acceleration', 'Tyre Type', 'No Door Numbers', 'Cargo Volumn',\n",
       "       'Wheel Size', 'Alloy Wheel Size'],\n",
       "      dtype='object')"
      ]
     },
     "execution_count": 79,
     "metadata": {},
     "output_type": "execute_result"
    }
   ],
   "source": [
    "merged_cars.columns"
   ]
  },
  {
   "cell_type": "code",
   "execution_count": 80,
   "metadata": {},
   "outputs": [
    {
     "data": {
      "text/html": [
       "<div>\n",
       "<style scoped>\n",
       "    .dataframe tbody tr th:only-of-type {\n",
       "        vertical-align: middle;\n",
       "    }\n",
       "\n",
       "    .dataframe tbody tr th {\n",
       "        vertical-align: top;\n",
       "    }\n",
       "\n",
       "    .dataframe thead th {\n",
       "        text-align: right;\n",
       "    }\n",
       "</style>\n",
       "<table border=\"1\" class=\"dataframe\">\n",
       "  <thead>\n",
       "    <tr style=\"text-align: right;\">\n",
       "      <th></th>\n",
       "      <th>car_links</th>\n",
       "      <th>City</th>\n",
       "      <th>it</th>\n",
       "      <th>ft</th>\n",
       "      <th>bt</th>\n",
       "      <th>km</th>\n",
       "      <th>transmission</th>\n",
       "      <th>owner</th>\n",
       "      <th>oem</th>\n",
       "      <th>model</th>\n",
       "      <th>...</th>\n",
       "      <th>Turning Radius</th>\n",
       "      <th>Front Brake Type</th>\n",
       "      <th>Rear Brake Type</th>\n",
       "      <th>Top Speed</th>\n",
       "      <th>Acceleration</th>\n",
       "      <th>Tyre Type</th>\n",
       "      <th>No Door Numbers</th>\n",
       "      <th>Cargo Volumn</th>\n",
       "      <th>Wheel Size</th>\n",
       "      <th>Alloy Wheel Size</th>\n",
       "    </tr>\n",
       "  </thead>\n",
       "  <tbody>\n",
       "    <tr>\n",
       "      <th>0</th>\n",
       "      <td>https://www.cardekho.com/used-car-details/used...</td>\n",
       "      <td>bangalore</td>\n",
       "      <td>0</td>\n",
       "      <td>Petrol</td>\n",
       "      <td>Hatchback</td>\n",
       "      <td>120000</td>\n",
       "      <td>Manual</td>\n",
       "      <td>3</td>\n",
       "      <td>Maruti</td>\n",
       "      <td>Maruti Celerio</td>\n",
       "      <td>...</td>\n",
       "      <td>4.7</td>\n",
       "      <td>Ventilated Disc</td>\n",
       "      <td>Drum</td>\n",
       "      <td>150 Kmph</td>\n",
       "      <td>15.05</td>\n",
       "      <td>Tubeless, Radial</td>\n",
       "      <td>5</td>\n",
       "      <td>235</td>\n",
       "      <td>&lt;NA&gt;</td>\n",
       "      <td>&lt;NA&gt;</td>\n",
       "    </tr>\n",
       "    <tr>\n",
       "      <th>1</th>\n",
       "      <td>https://www.cardekho.com/buy-used-car-details/...</td>\n",
       "      <td>bangalore</td>\n",
       "      <td>0</td>\n",
       "      <td>Petrol</td>\n",
       "      <td>SUV</td>\n",
       "      <td>32706</td>\n",
       "      <td>Manual</td>\n",
       "      <td>2</td>\n",
       "      <td>Ford</td>\n",
       "      <td>Ford Ecosport</td>\n",
       "      <td>...</td>\n",
       "      <td>5.3</td>\n",
       "      <td>Ventilated Disc</td>\n",
       "      <td>Drum</td>\n",
       "      <td>NaN</td>\n",
       "      <td>NaN</td>\n",
       "      <td>Tubeless,Radial</td>\n",
       "      <td>4</td>\n",
       "      <td>352</td>\n",
       "      <td>16</td>\n",
       "      <td>16</td>\n",
       "    </tr>\n",
       "  </tbody>\n",
       "</table>\n",
       "<p>2 rows × 67 columns</p>\n",
       "</div>"
      ],
      "text/plain": [
       "                                           car_links       City  it      ft  \\\n",
       "0  https://www.cardekho.com/used-car-details/used...  bangalore   0  Petrol   \n",
       "1  https://www.cardekho.com/buy-used-car-details/...  bangalore   0  Petrol   \n",
       "\n",
       "          bt      km transmission  owner     oem           model  ...  \\\n",
       "0  Hatchback  120000       Manual      3  Maruti  Maruti Celerio  ...   \n",
       "1        SUV   32706       Manual      2    Ford   Ford Ecosport  ...   \n",
       "\n",
       "   Turning Radius  Front Brake Type Rear Brake Type Top Speed  Acceleration  \\\n",
       "0             4.7   Ventilated Disc            Drum  150 Kmph         15.05   \n",
       "1             5.3   Ventilated Disc            Drum       NaN           NaN   \n",
       "\n",
       "          Tyre Type No Door Numbers Cargo Volumn  Wheel Size Alloy Wheel Size  \n",
       "0  Tubeless, Radial               5          235        <NA>             <NA>  \n",
       "1   Tubeless,Radial               4          352          16               16  \n",
       "\n",
       "[2 rows x 67 columns]"
      ]
     },
     "execution_count": 80,
     "metadata": {},
     "output_type": "execute_result"
    }
   ],
   "source": [
    "merged_cars.head(2)"
   ]
  },
  {
   "cell_type": "code",
   "execution_count": 81,
   "metadata": {},
   "outputs": [
    {
     "name": "stdout",
     "output_type": "stream",
     "text": [
      "<class 'pandas.core.frame.DataFrame'>\n",
      "RangeIndex: 8369 entries, 0 to 8368\n",
      "Data columns (total 67 columns):\n",
      " #   Column                Non-Null Count  Dtype  \n",
      "---  ------                --------------  -----  \n",
      " 0   car_links             8369 non-null   object \n",
      " 1   City                  8369 non-null   object \n",
      " 2   it                    8369 non-null   int64  \n",
      " 3   ft                    8369 non-null   object \n",
      " 4   bt                    8365 non-null   object \n",
      " 5   km                    8369 non-null   int64  \n",
      " 6   transmission          8369 non-null   object \n",
      " 7   owner                 8369 non-null   int64  \n",
      " 8   oem                   8369 non-null   object \n",
      " 9   model                 8369 non-null   object \n",
      " 10  modelYear             8369 non-null   int64  \n",
      " 11  centralVariantId      8369 non-null   int64  \n",
      " 12  variantName           8369 non-null   object \n",
      " 13  price                 8369 non-null   object \n",
      " 14  priceActual           1670 non-null   float64\n",
      " 15  Registration Year     8317 non-null   float64\n",
      " 16  Insurance Validity    8365 non-null   object \n",
      " 17  Fuel Type             8369 non-null   object \n",
      " 18  Seats                 8369 non-null   int64  \n",
      " 19  Kms Driven            8367 non-null   object \n",
      " 20  RTO                   7475 non-null   object \n",
      " 21  Engine Displacement   8365 non-null   float64\n",
      " 22  Transmission          8369 non-null   object \n",
      " 23  Year of Manufacture   8369 non-null   int64  \n",
      " 24  Insurance Validity.1  8365 non-null   object \n",
      " 25  top                   8304 non-null   object \n",
      " 26  Comfort               8301 non-null   object \n",
      " 27  Interior              8292 non-null   object \n",
      " 28  Exterior              8279 non-null   object \n",
      " 29  Safety                8273 non-null   object \n",
      " 30  Entertainment         7274 non-null   object \n",
      " 31  Mileage               8369 non-null   float64\n",
      " 32  Max Power             8309 non-null   object \n",
      " 33  Torque                8369 non-null   float64\n",
      " 34  Seats.2               8363 non-null   float64\n",
      " 35  Color                 8366 non-null   object \n",
      " 36  Engine Type           8074 non-null   object \n",
      " 37  Displacement          8365 non-null   float64\n",
      " 38  Max Torque            8309 non-null   object \n",
      " 39  No of Cylinder        8338 non-null   float64\n",
      " 40  Values per Cylinder   8318 non-null   float64\n",
      " 41  Value Configuration   6153 non-null   object \n",
      " 42  Fuel Suppy System     6642 non-null   object \n",
      " 43  Compression Ratio     1895 non-null   object \n",
      " 44  Turbo Charger         7329 non-null   object \n",
      " 45  Super Charger         6407 non-null   object \n",
      " 46  Length                8369 non-null   Int64  \n",
      " 47  Width                 8369 non-null   Int64  \n",
      " 48  Height                8369 non-null   Int64  \n",
      " 49  Wheel Base            8369 non-null   Int64  \n",
      " 50  Front Tread           8369 non-null   Int64  \n",
      " 51  Rear Tread            8369 non-null   Int64  \n",
      " 52  Kerb Weight           8369 non-null   Int64  \n",
      " 53  Gross Weight          8369 non-null   Int64  \n",
      " 54  Gear Box              8369 non-null   object \n",
      " 55  Drive Type            6809 non-null   object \n",
      " 56  Steering Type         8114 non-null   object \n",
      " 57  Turning Radius        6011 non-null   float64\n",
      " 58  Front Brake Type      8273 non-null   object \n",
      " 59  Rear Brake Type       8273 non-null   object \n",
      " 60  Top Speed             4607 non-null   object \n",
      " 61  Acceleration          4712 non-null   float64\n",
      " 62  Tyre Type             8292 non-null   object \n",
      " 63  No Door Numbers       8358 non-null   Int64  \n",
      " 64  Cargo Volumn          5949 non-null   Int64  \n",
      " 65  Wheel Size            5386 non-null   Int64  \n",
      " 66  Alloy Wheel Size      5386 non-null   Int64  \n",
      "dtypes: Int64(12), float64(11), int64(7), object(37)\n",
      "memory usage: 4.4+ MB\n"
     ]
    }
   ],
   "source": [
    "merged_cars.info()"
   ]
  },
  {
   "cell_type": "code",
   "execution_count": 82,
   "metadata": {},
   "outputs": [
    {
     "data": {
      "text/plain": [
       "car_links              0\n",
       "City                   0\n",
       "it                     0\n",
       "ft                     0\n",
       "bt                     4\n",
       "                    ... \n",
       "Tyre Type             77\n",
       "No Door Numbers       11\n",
       "Cargo Volumn        2420\n",
       "Wheel Size          2983\n",
       "Alloy Wheel Size    2983\n",
       "Length: 67, dtype: int64"
      ]
     },
     "execution_count": 82,
     "metadata": {},
     "output_type": "execute_result"
    }
   ],
   "source": [
    "merged_cars.isnull().sum()"
   ]
  },
  {
   "cell_type": "code",
   "execution_count": 83,
   "metadata": {},
   "outputs": [
    {
     "data": {
      "text/plain": [
       "Index(['car_links', 'City', 'it', 'ft', 'bt', 'km', 'transmission', 'owner',\n",
       "       'oem', 'model', 'modelYear', 'centralVariantId', 'variantName', 'price',\n",
       "       'priceActual', 'Registration Year', 'Insurance Validity', 'Fuel Type',\n",
       "       'Seats', 'Kms Driven', 'RTO', 'Engine Displacement', 'Transmission',\n",
       "       'Year of Manufacture', 'Insurance Validity.1', 'top', 'Comfort',\n",
       "       'Interior', 'Exterior', 'Safety', 'Entertainment', 'Mileage',\n",
       "       'Max Power', 'Torque', 'Seats.2', 'Color', 'Engine Type',\n",
       "       'Displacement', 'Max Torque', 'No of Cylinder', 'Values per Cylinder',\n",
       "       'Value Configuration', 'Fuel Suppy System', 'Compression Ratio',\n",
       "       'Turbo Charger', 'Super Charger', 'Length', 'Width', 'Height',\n",
       "       'Wheel Base', 'Front Tread', 'Rear Tread', 'Kerb Weight',\n",
       "       'Gross Weight', 'Gear Box', 'Drive Type', 'Steering Type',\n",
       "       'Turning Radius', 'Front Brake Type', 'Rear Brake Type', 'Top Speed',\n",
       "       'Acceleration', 'Tyre Type', 'No Door Numbers', 'Cargo Volumn',\n",
       "       'Wheel Size', 'Alloy Wheel Size'],\n",
       "      dtype='object')"
      ]
     },
     "execution_count": 83,
     "metadata": {},
     "output_type": "execute_result"
    }
   ],
   "source": [
    "merged_cars.columns"
   ]
  },
  {
   "cell_type": "code",
   "execution_count": 84,
   "metadata": {},
   "outputs": [],
   "source": [
    "# Fill NaN values with a specific year, e.g., 0 or any other year\n",
    "merged_cars['Registration Year'] = merged_cars['Registration Year'].fillna(0).astype(int)"
   ]
  },
  {
   "cell_type": "code",
   "execution_count": 85,
   "metadata": {},
   "outputs": [
    {
     "data": {
      "text/plain": [
       "0       2015\n",
       "1       2018\n",
       "2       2018\n",
       "3       2014\n",
       "4       2015\n",
       "        ... \n",
       "8364    2022\n",
       "8365    2014\n",
       "8366    2011\n",
       "8367    2012\n",
       "8368    2017\n",
       "Name: Registration Year, Length: 8369, dtype: int64"
      ]
     },
     "execution_count": 85,
     "metadata": {},
     "output_type": "execute_result"
    }
   ],
   "source": [
    "merged_cars['Registration Year']"
   ]
  },
  {
   "cell_type": "code",
   "execution_count": 86,
   "metadata": {},
   "outputs": [
    {
     "data": {
      "text/plain": [
       "0          ₹ 4 Lakh\n",
       "1       ₹ 8.11 Lakh\n",
       "2       ₹ 5.85 Lakh\n",
       "3       ₹ 4.62 Lakh\n",
       "4       ₹ 7.90 Lakh\n",
       "           ...     \n",
       "8364    ₹ 5.10 Lakh\n",
       "8365    ₹ 1.80 Lakh\n",
       "8366    ₹ 5.50 Lakh\n",
       "8367    ₹ 1.40 Lakh\n",
       "8368       ₹ 5 Lakh\n",
       "Name: price, Length: 8369, dtype: object"
      ]
     },
     "execution_count": 86,
     "metadata": {},
     "output_type": "execute_result"
    }
   ],
   "source": [
    "merged_cars['price']"
   ]
  },
  {
   "cell_type": "code",
   "execution_count": 87,
   "metadata": {},
   "outputs": [
    {
     "name": "stdout",
     "output_type": "stream",
     "text": [
      "0       400000.0\n",
      "1       811000.0\n",
      "2       585000.0\n",
      "3       462000.0\n",
      "4       790000.0\n",
      "          ...   \n",
      "8364    510000.0\n",
      "8365    180000.0\n",
      "8366    550000.0\n",
      "8367    140000.0\n",
      "8368    500000.0\n",
      "Name: price, Length: 8369, dtype: float64\n"
     ]
    }
   ],
   "source": [
    "# Function to convert price to numerical values\n",
    "def convert_price(price_str):\n",
    "    # Remove the currency symbol and spaces\n",
    "    price_str = price_str.replace('₹', '').strip()\n",
    "    \n",
    "    # Initialize multiplier\n",
    "    multiplier = 1\n",
    "    \n",
    "    # Check for units and set multiplier accordingly\n",
    "    if 'Crore' in price_str:\n",
    "        multiplier = 10000000  # 1 Crore = 10 million\n",
    "        price_str = price_str.replace('Crore', '').strip()\n",
    "    elif 'Lakh' in price_str:\n",
    "        multiplier = 100000  # 1 Lakh = 100 thousand\n",
    "        price_str = price_str.replace('Lakh', '').strip()\n",
    "    elif 'Thousand' in price_str:\n",
    "        multiplier = 1000  # 1 Thousand = 1000\n",
    "        price_str = price_str.replace('Thousand', '').strip()\n",
    "    \n",
    "    # Remove commas and convert to float, then apply multiplier\n",
    "    price_str = price_str.replace(',', '')  # Remove commas\n",
    "    return float(price_str) * multiplier\n",
    "\n",
    "# Apply the function to the 'price' column\n",
    "merged_cars['price'] = merged_cars['price'].apply(convert_price)\n",
    "\n",
    "# Display the converted prices\n",
    "print(merged_cars['price'])"
   ]
  },
  {
   "cell_type": "code",
   "execution_count": 88,
   "metadata": {},
   "outputs": [
    {
     "name": "stdout",
     "output_type": "stream",
     "text": [
      "<class 'pandas.core.frame.DataFrame'>\n",
      "RangeIndex: 8369 entries, 0 to 8368\n",
      "Data columns (total 67 columns):\n",
      " #   Column                Non-Null Count  Dtype  \n",
      "---  ------                --------------  -----  \n",
      " 0   car_links             8369 non-null   object \n",
      " 1   City                  8369 non-null   object \n",
      " 2   it                    8369 non-null   int64  \n",
      " 3   ft                    8369 non-null   object \n",
      " 4   bt                    8365 non-null   object \n",
      " 5   km                    8369 non-null   int64  \n",
      " 6   transmission          8369 non-null   object \n",
      " 7   owner                 8369 non-null   int64  \n",
      " 8   oem                   8369 non-null   object \n",
      " 9   model                 8369 non-null   object \n",
      " 10  modelYear             8369 non-null   int64  \n",
      " 11  centralVariantId      8369 non-null   int64  \n",
      " 12  variantName           8369 non-null   object \n",
      " 13  price                 8369 non-null   float64\n",
      " 14  priceActual           1670 non-null   float64\n",
      " 15  Registration Year     8369 non-null   int64  \n",
      " 16  Insurance Validity    8365 non-null   object \n",
      " 17  Fuel Type             8369 non-null   object \n",
      " 18  Seats                 8369 non-null   int64  \n",
      " 19  Kms Driven            8367 non-null   object \n",
      " 20  RTO                   7475 non-null   object \n",
      " 21  Engine Displacement   8365 non-null   float64\n",
      " 22  Transmission          8369 non-null   object \n",
      " 23  Year of Manufacture   8369 non-null   int64  \n",
      " 24  Insurance Validity.1  8365 non-null   object \n",
      " 25  top                   8304 non-null   object \n",
      " 26  Comfort               8301 non-null   object \n",
      " 27  Interior              8292 non-null   object \n",
      " 28  Exterior              8279 non-null   object \n",
      " 29  Safety                8273 non-null   object \n",
      " 30  Entertainment         7274 non-null   object \n",
      " 31  Mileage               8369 non-null   float64\n",
      " 32  Max Power             8309 non-null   object \n",
      " 33  Torque                8369 non-null   float64\n",
      " 34  Seats.2               8363 non-null   float64\n",
      " 35  Color                 8366 non-null   object \n",
      " 36  Engine Type           8074 non-null   object \n",
      " 37  Displacement          8365 non-null   float64\n",
      " 38  Max Torque            8309 non-null   object \n",
      " 39  No of Cylinder        8338 non-null   float64\n",
      " 40  Values per Cylinder   8318 non-null   float64\n",
      " 41  Value Configuration   6153 non-null   object \n",
      " 42  Fuel Suppy System     6642 non-null   object \n",
      " 43  Compression Ratio     1895 non-null   object \n",
      " 44  Turbo Charger         7329 non-null   object \n",
      " 45  Super Charger         6407 non-null   object \n",
      " 46  Length                8369 non-null   Int64  \n",
      " 47  Width                 8369 non-null   Int64  \n",
      " 48  Height                8369 non-null   Int64  \n",
      " 49  Wheel Base            8369 non-null   Int64  \n",
      " 50  Front Tread           8369 non-null   Int64  \n",
      " 51  Rear Tread            8369 non-null   Int64  \n",
      " 52  Kerb Weight           8369 non-null   Int64  \n",
      " 53  Gross Weight          8369 non-null   Int64  \n",
      " 54  Gear Box              8369 non-null   object \n",
      " 55  Drive Type            6809 non-null   object \n",
      " 56  Steering Type         8114 non-null   object \n",
      " 57  Turning Radius        6011 non-null   float64\n",
      " 58  Front Brake Type      8273 non-null   object \n",
      " 59  Rear Brake Type       8273 non-null   object \n",
      " 60  Top Speed             4607 non-null   object \n",
      " 61  Acceleration          4712 non-null   float64\n",
      " 62  Tyre Type             8292 non-null   object \n",
      " 63  No Door Numbers       8358 non-null   Int64  \n",
      " 64  Cargo Volumn          5949 non-null   Int64  \n",
      " 65  Wheel Size            5386 non-null   Int64  \n",
      " 66  Alloy Wheel Size      5386 non-null   Int64  \n",
      "dtypes: Int64(12), float64(11), int64(8), object(36)\n",
      "memory usage: 4.4+ MB\n"
     ]
    }
   ],
   "source": [
    "merged_cars.info()"
   ]
  },
  {
   "cell_type": "code",
   "execution_count": 89,
   "metadata": {},
   "outputs": [],
   "source": [
    "# Drop the 'Year of Manufacture' column\n",
    "merged_cars = merged_cars.drop(columns=['Year of Manufacture'])"
   ]
  },
  {
   "cell_type": "code",
   "execution_count": 90,
   "metadata": {},
   "outputs": [],
   "source": [
    "# Drop the 'Insurance Validity.1' column\n",
    "merged_cars = merged_cars.drop(columns=['Insurance Validity.1'])"
   ]
  },
  {
   "cell_type": "code",
   "execution_count": 91,
   "metadata": {},
   "outputs": [],
   "source": [
    "# Drop the 'Seats.2' column\n",
    "merged_cars = merged_cars.drop(columns=['Seats.2'])"
   ]
  },
  {
   "cell_type": "code",
   "execution_count": 92,
   "metadata": {},
   "outputs": [],
   "source": [
    "# Drop the 'Kms Driven' column\n",
    "merged_cars = merged_cars.drop(columns=['Kms Driven'])"
   ]
  },
  {
   "cell_type": "code",
   "execution_count": 93,
   "metadata": {},
   "outputs": [],
   "source": [
    "# Drop the 'Transmission' column\n",
    "merged_cars = merged_cars.drop(columns=['Transmission'])"
   ]
  },
  {
   "cell_type": "code",
   "execution_count": 94,
   "metadata": {},
   "outputs": [
    {
     "data": {
      "text/plain": [
       "Index(['car_links', 'City', 'it', 'ft', 'bt', 'km', 'transmission', 'owner',\n",
       "       'oem', 'model', 'modelYear', 'centralVariantId', 'variantName', 'price',\n",
       "       'priceActual', 'Registration Year', 'Insurance Validity', 'Fuel Type',\n",
       "       'Seats', 'RTO', 'Engine Displacement', 'top', 'Comfort', 'Interior',\n",
       "       'Exterior', 'Safety', 'Entertainment', 'Mileage', 'Max Power', 'Torque',\n",
       "       'Color', 'Engine Type', 'Displacement', 'Max Torque', 'No of Cylinder',\n",
       "       'Values per Cylinder', 'Value Configuration', 'Fuel Suppy System',\n",
       "       'Compression Ratio', 'Turbo Charger', 'Super Charger', 'Length',\n",
       "       'Width', 'Height', 'Wheel Base', 'Front Tread', 'Rear Tread',\n",
       "       'Kerb Weight', 'Gross Weight', 'Gear Box', 'Drive Type',\n",
       "       'Steering Type', 'Turning Radius', 'Front Brake Type',\n",
       "       'Rear Brake Type', 'Top Speed', 'Acceleration', 'Tyre Type',\n",
       "       'No Door Numbers', 'Cargo Volumn', 'Wheel Size', 'Alloy Wheel Size'],\n",
       "      dtype='object')"
      ]
     },
     "execution_count": 94,
     "metadata": {},
     "output_type": "execute_result"
    }
   ],
   "source": [
    "merged_cars.columns"
   ]
  },
  {
   "cell_type": "code",
   "execution_count": 95,
   "metadata": {},
   "outputs": [
    {
     "data": {
      "text/html": [
       "<div>\n",
       "<style scoped>\n",
       "    .dataframe tbody tr th:only-of-type {\n",
       "        vertical-align: middle;\n",
       "    }\n",
       "\n",
       "    .dataframe tbody tr th {\n",
       "        vertical-align: top;\n",
       "    }\n",
       "\n",
       "    .dataframe thead th {\n",
       "        text-align: right;\n",
       "    }\n",
       "</style>\n",
       "<table border=\"1\" class=\"dataframe\">\n",
       "  <thead>\n",
       "    <tr style=\"text-align: right;\">\n",
       "      <th></th>\n",
       "      <th>car_links</th>\n",
       "      <th>City</th>\n",
       "      <th>it</th>\n",
       "      <th>ft</th>\n",
       "      <th>bt</th>\n",
       "      <th>km</th>\n",
       "      <th>transmission</th>\n",
       "      <th>owner</th>\n",
       "      <th>oem</th>\n",
       "      <th>model</th>\n",
       "      <th>...</th>\n",
       "      <th>Turning Radius</th>\n",
       "      <th>Front Brake Type</th>\n",
       "      <th>Rear Brake Type</th>\n",
       "      <th>Top Speed</th>\n",
       "      <th>Acceleration</th>\n",
       "      <th>Tyre Type</th>\n",
       "      <th>No Door Numbers</th>\n",
       "      <th>Cargo Volumn</th>\n",
       "      <th>Wheel Size</th>\n",
       "      <th>Alloy Wheel Size</th>\n",
       "    </tr>\n",
       "  </thead>\n",
       "  <tbody>\n",
       "    <tr>\n",
       "      <th>0</th>\n",
       "      <td>https://www.cardekho.com/used-car-details/used...</td>\n",
       "      <td>bangalore</td>\n",
       "      <td>0</td>\n",
       "      <td>Petrol</td>\n",
       "      <td>Hatchback</td>\n",
       "      <td>120000</td>\n",
       "      <td>Manual</td>\n",
       "      <td>3</td>\n",
       "      <td>Maruti</td>\n",
       "      <td>Maruti Celerio</td>\n",
       "      <td>...</td>\n",
       "      <td>4.7</td>\n",
       "      <td>Ventilated Disc</td>\n",
       "      <td>Drum</td>\n",
       "      <td>150 Kmph</td>\n",
       "      <td>15.05</td>\n",
       "      <td>Tubeless, Radial</td>\n",
       "      <td>5</td>\n",
       "      <td>235</td>\n",
       "      <td>&lt;NA&gt;</td>\n",
       "      <td>&lt;NA&gt;</td>\n",
       "    </tr>\n",
       "    <tr>\n",
       "      <th>1</th>\n",
       "      <td>https://www.cardekho.com/buy-used-car-details/...</td>\n",
       "      <td>bangalore</td>\n",
       "      <td>0</td>\n",
       "      <td>Petrol</td>\n",
       "      <td>SUV</td>\n",
       "      <td>32706</td>\n",
       "      <td>Manual</td>\n",
       "      <td>2</td>\n",
       "      <td>Ford</td>\n",
       "      <td>Ford Ecosport</td>\n",
       "      <td>...</td>\n",
       "      <td>5.3</td>\n",
       "      <td>Ventilated Disc</td>\n",
       "      <td>Drum</td>\n",
       "      <td>NaN</td>\n",
       "      <td>NaN</td>\n",
       "      <td>Tubeless,Radial</td>\n",
       "      <td>4</td>\n",
       "      <td>352</td>\n",
       "      <td>16</td>\n",
       "      <td>16</td>\n",
       "    </tr>\n",
       "  </tbody>\n",
       "</table>\n",
       "<p>2 rows × 62 columns</p>\n",
       "</div>"
      ],
      "text/plain": [
       "                                           car_links       City  it      ft  \\\n",
       "0  https://www.cardekho.com/used-car-details/used...  bangalore   0  Petrol   \n",
       "1  https://www.cardekho.com/buy-used-car-details/...  bangalore   0  Petrol   \n",
       "\n",
       "          bt      km transmission  owner     oem           model  ...  \\\n",
       "0  Hatchback  120000       Manual      3  Maruti  Maruti Celerio  ...   \n",
       "1        SUV   32706       Manual      2    Ford   Ford Ecosport  ...   \n",
       "\n",
       "   Turning Radius  Front Brake Type Rear Brake Type  Top Speed  Acceleration  \\\n",
       "0             4.7   Ventilated Disc            Drum   150 Kmph         15.05   \n",
       "1             5.3   Ventilated Disc            Drum        NaN           NaN   \n",
       "\n",
       "          Tyre Type No Door Numbers Cargo Volumn  Wheel Size Alloy Wheel Size  \n",
       "0  Tubeless, Radial               5          235        <NA>             <NA>  \n",
       "1   Tubeless,Radial               4          352          16               16  \n",
       "\n",
       "[2 rows x 62 columns]"
      ]
     },
     "execution_count": 95,
     "metadata": {},
     "output_type": "execute_result"
    }
   ],
   "source": [
    "merged_cars.head(2)"
   ]
  },
  {
   "cell_type": "code",
   "execution_count": 96,
   "metadata": {},
   "outputs": [
    {
     "name": "stderr",
     "output_type": "stream",
     "text": [
      "C:\\Users\\USER\\AppData\\Local\\Temp\\ipykernel_10444\\2531596678.py:16: FutureWarning: \n",
      "\n",
      "Passing `palette` without assigning `hue` is deprecated and will be removed in v0.14.0. Assign the `x` variable to `hue` and set `legend=False` for the same effect.\n",
      "\n",
      "  sns.barplot(x='Column', y='Missing Values', data=missing_values_df, palette='viridis')\n"
     ]
    },
    {
     "data": {
      "image/png": "[encoded data removed]",
      "text/plain": [
       "<Figure size 1200x600 with 1 Axes>"
      ]
     },
     "metadata": {},
     "output_type": "display_data"
    }
   ],
   "source": [
    "import pandas as pd\n",
    "import matplotlib.pyplot as plt\n",
    "import seaborn as sns\n",
    "\n",
    "# Calculate the number of missing values for each column\n",
    "missing_values = merged_cars.isnull().sum()\n",
    "\n",
    "# Create a DataFrame for visualization\n",
    "missing_values_df = missing_values[missing_values > 0].reset_index()\n",
    "missing_values_df.columns = ['Column', 'Missing Values']\n",
    "\n",
    "# Set the figure size\n",
    "plt.figure(figsize=(12, 6))\n",
    "\n",
    "# Create a vertical bar plot\n",
    "sns.barplot(x='Column', y='Missing Values', data=missing_values_df, palette='viridis')\n",
    "\n",
    "# Rotate x labels for better visibility\n",
    "plt.xticks(rotation=45, ha='right')\n",
    "\n",
    "# Add title and labels\n",
    "plt.title('Missing Values in Each Column')\n",
    "plt.xlabel('Columns')\n",
    "plt.ylabel('Number of Missing Values')\n",
    "\n",
    "# Show the plot\n",
    "plt.tight_layout()  # Adjust layout to make room for rotated x labels\n",
    "plt.show()"
   ]
  },
  {
   "cell_type": "code",
   "execution_count": 97,
   "metadata": {},
   "outputs": [
    {
     "data": {
      "text/plain": [
       "np.int64(4)"
      ]
     },
     "execution_count": 97,
     "metadata": {},
     "output_type": "execute_result"
    }
   ],
   "source": [
    "merged_cars['bt'].isnull().sum()"
   ]
  },
  {
   "cell_type": "code",
   "execution_count": 98,
   "metadata": {},
   "outputs": [
    {
     "data": {
      "text/plain": [
       "0       False\n",
       "1       False\n",
       "2       False\n",
       "3       False\n",
       "4       False\n",
       "        ...  \n",
       "8364    False\n",
       "8365    False\n",
       "8366    False\n",
       "8367    False\n",
       "8368    False\n",
       "Name: bt, Length: 8369, dtype: bool"
      ]
     },
     "execution_count": 98,
     "metadata": {},
     "output_type": "execute_result"
    }
   ],
   "source": [
    "# Assuming merged_cars is already defined and is a pandas DataFrame\n",
    "missing_values = merged_cars['bt'].isnull()\n",
    "missing_values"
   ]
  },
  {
   "cell_type": "code",
   "execution_count": 99,
   "metadata": {},
   "outputs": [
    {
     "name": "stdout",
     "output_type": "stream",
     "text": [
      "Missing values after filling: 0\n"
     ]
    },
    {
     "name": "stderr",
     "output_type": "stream",
     "text": [
      "C:\\Users\\USER\\AppData\\Local\\Temp\\ipykernel_10444\\1479809698.py:2: FutureWarning: A value is trying to be set on a copy of a DataFrame or Series through chained assignment using an inplace method.\n",
      "The behavior will change in pandas 3.0. This inplace method will never work because the intermediate object on which we are setting values always behaves as a copy.\n",
      "\n",
      "For example, when doing 'df[col].method(value, inplace=True)', try using 'df.method({col: value}, inplace=True)' or df[col] = df[col].method(value) instead, to perform the operation inplace on the original object.\n",
      "\n",
      "\n",
      "  merged_cars['bt'].fillna(merged_cars['bt'].mode()[0], inplace=True)\n"
     ]
    }
   ],
   "source": [
    "# Fill missing values with the mode of the 'bt' column\n",
    "merged_cars['bt'].fillna(merged_cars['bt'].mode()[0], inplace=True)\n",
    "\n",
    "# Verify that there are no more missing values\n",
    "missing_values_after = merged_cars['bt'].isnull().sum()\n",
    "print(f\"Missing values after filling: {missing_values_after}\")"
   ]
  },
  {
   "cell_type": "code",
   "execution_count": 100,
   "metadata": {},
   "outputs": [
    {
     "data": {
      "text/plain": [
       "car_links              0\n",
       "City                   0\n",
       "it                     0\n",
       "ft                     0\n",
       "bt                     0\n",
       "                    ... \n",
       "Tyre Type             77\n",
       "No Door Numbers       11\n",
       "Cargo Volumn        2420\n",
       "Wheel Size          2983\n",
       "Alloy Wheel Size    2983\n",
       "Length: 62, dtype: int64"
      ]
     },
     "execution_count": 100,
     "metadata": {},
     "output_type": "execute_result"
    }
   ],
   "source": [
    "merged_cars.isnull().sum()"
   ]
  },
  {
   "cell_type": "code",
   "execution_count": 101,
   "metadata": {},
   "outputs": [
    {
     "data": {
      "text/plain": [
       "0       400000.0\n",
       "1       811000.0\n",
       "2       585000.0\n",
       "3       462000.0\n",
       "4       790000.0\n",
       "          ...   \n",
       "8364    510000.0\n",
       "8365    180000.0\n",
       "8366    550000.0\n",
       "8367    140000.0\n",
       "8368    500000.0\n",
       "Name: price, Length: 8369, dtype: float64"
      ]
     },
     "execution_count": 101,
     "metadata": {},
     "output_type": "execute_result"
    }
   ],
   "source": [
    "merged_cars['price']"
   ]
  },
  {
   "cell_type": "code",
   "execution_count": 102,
   "metadata": {},
   "outputs": [
    {
     "data": {
      "text/plain": [
       "Index(['car_links', 'City', 'it', 'ft', 'bt', 'km', 'transmission', 'owner',\n",
       "       'oem', 'model', 'modelYear', 'centralVariantId', 'variantName', 'price',\n",
       "       'priceActual', 'Registration Year', 'Insurance Validity', 'Fuel Type',\n",
       "       'Seats', 'RTO', 'Engine Displacement', 'top', 'Comfort', 'Interior',\n",
       "       'Exterior', 'Safety', 'Entertainment', 'Mileage', 'Max Power', 'Torque',\n",
       "       'Color', 'Engine Type', 'Displacement', 'Max Torque', 'No of Cylinder',\n",
       "       'Values per Cylinder', 'Value Configuration', 'Fuel Suppy System',\n",
       "       'Compression Ratio', 'Turbo Charger', 'Super Charger', 'Length',\n",
       "       'Width', 'Height', 'Wheel Base', 'Front Tread', 'Rear Tread',\n",
       "       'Kerb Weight', 'Gross Weight', 'Gear Box', 'Drive Type',\n",
       "       'Steering Type', 'Turning Radius', 'Front Brake Type',\n",
       "       'Rear Brake Type', 'Top Speed', 'Acceleration', 'Tyre Type',\n",
       "       'No Door Numbers', 'Cargo Volumn', 'Wheel Size', 'Alloy Wheel Size'],\n",
       "      dtype='object')"
      ]
     },
     "execution_count": 102,
     "metadata": {},
     "output_type": "execute_result"
    }
   ],
   "source": [
    "merged_cars.columns"
   ]
  },
  {
   "cell_type": "code",
   "execution_count": 103,
   "metadata": {},
   "outputs": [
    {
     "data": {
      "text/plain": [
       "0       23.10\n",
       "1       17.00\n",
       "2       23.84\n",
       "3       19.10\n",
       "4       23.65\n",
       "        ...  \n",
       "8364    25.24\n",
       "8365    22.74\n",
       "8366    11.74\n",
       "8367    18.50\n",
       "8368    19.72\n",
       "Name: Mileage, Length: 8369, dtype: float64"
      ]
     },
     "execution_count": 103,
     "metadata": {},
     "output_type": "execute_result"
    }
   ],
   "source": [
    "merged_cars['Mileage']"
   ]
  },
  {
   "cell_type": "code",
   "execution_count": 104,
   "metadata": {},
   "outputs": [
    {
     "data": {
      "text/plain": [
       "0             90Nm@3500rpm\n",
       "1            150Nm@4500rpm\n",
       "2            114Nm@3500rpm\n",
       "3         113.75Nm@4000rpm\n",
       "4            200Nm@1750rpm\n",
       "               ...        \n",
       "8364          89Nm@3500rpm\n",
       "8365          69Nm@3500rpm\n",
       "8366    285Nm@2400-4000rpm\n",
       "8367         114Nm@4000rpm\n",
       "8368         245Nm@1750rpm\n",
       "Name: Max Torque, Length: 8369, dtype: object"
      ]
     },
     "execution_count": 104,
     "metadata": {},
     "output_type": "execute_result"
    }
   ],
   "source": [
    "merged_cars['Max Torque']"
   ]
  },
  {
   "cell_type": "code",
   "execution_count": 105,
   "metadata": {},
   "outputs": [
    {
     "data": {
      "text/plain": [
       "0             90Nm@3500rpm\n",
       "1            150Nm@4500rpm\n",
       "2            114Nm@3500rpm\n",
       "3         113.75Nm@4000rpm\n",
       "4            200Nm@1750rpm\n",
       "               ...        \n",
       "8364          89Nm@3500rpm\n",
       "8365          69Nm@3500rpm\n",
       "8366    285Nm@2400-4000rpm\n",
       "8367         114Nm@4000rpm\n",
       "8368         245Nm@1750rpm\n",
       "Name: Max Torque, Length: 8369, dtype: object"
      ]
     },
     "execution_count": 105,
     "metadata": {},
     "output_type": "execute_result"
    }
   ],
   "source": [
    "merged_cars['Max Torque']"
   ]
  },
  {
   "cell_type": "code",
   "execution_count": 106,
   "metadata": {},
   "outputs": [
    {
     "name": "stdout",
     "output_type": "stream",
     "text": [
      "Warning: Some entries in 'Max Torque' do not conform to the expected format.\n",
      "         Max Torque  Torque_Nm Torque_rpm\n",
      "0      90Nm@3500rpm      90.00    3500rpm\n",
      "1     150Nm@4500rpm     150.00    4500rpm\n",
      "2     114Nm@3500rpm     114.00    3500rpm\n",
      "3  113.75Nm@4000rpm     113.75    4000rpm\n",
      "4     200Nm@1750rpm     200.00    1750rpm\n"
     ]
    }
   ],
   "source": [
    "# Create the new columns by splitting the 'Max Torque' column\n",
    "split_torque = merged_cars['Max Torque'].str.split('@', expand=True)\n",
    "\n",
    "# Check if split_torque has two columns\n",
    "if split_torque.shape[1] == 2:\n",
    "    merged_cars[['Torque_Nm', 'Torque_rpm']] = split_torque\n",
    "else:\n",
    "    # Handle the case where the split does not yield two columns\n",
    "    print(\"Warning: Some entries in 'Max Torque' do not conform to the expected format.\")\n",
    "    merged_cars[['Torque_Nm', 'Torque_rpm']] = split_torque.reindex(columns=[0, 1])\n",
    "\n",
    "# Remove any whitespace from the new columns, if necessary\n",
    "merged_cars['Torque_Nm'] = merged_cars['Torque_Nm'].str.strip()\n",
    "merged_cars['Torque_rpm'] = merged_cars['Torque_rpm'].str.strip()\n",
    "\n",
    "# Optionally, convert Torque_Nm to numeric (if needed)\n",
    "merged_cars['Torque_Nm'] = pd.to_numeric(merged_cars['Torque_Nm'].str.replace('Nm', '', regex=False), errors='coerce')\n",
    "\n",
    "# Display the updated DataFrame\n",
    "print(merged_cars[['Max Torque', 'Torque_Nm', 'Torque_rpm']].head())"
   ]
  },
  {
   "cell_type": "code",
   "execution_count": 107,
   "metadata": {},
   "outputs": [
    {
     "data": {
      "text/plain": [
       "np.int64(832)"
      ]
     },
     "execution_count": 107,
     "metadata": {},
     "output_type": "execute_result"
    }
   ],
   "source": [
    "merged_cars['Torque_Nm'].isnull().sum()"
   ]
  },
  {
   "cell_type": "code",
   "execution_count": 108,
   "metadata": {},
   "outputs": [
    {
     "data": {
      "text/plain": [
       "np.int64(209)"
      ]
     },
     "execution_count": 108,
     "metadata": {},
     "output_type": "execute_result"
    }
   ],
   "source": [
    "merged_cars['Torque_rpm'].isnull().sum()"
   ]
  },
  {
   "cell_type": "code",
   "execution_count": 109,
   "metadata": {},
   "outputs": [
    {
     "data": {
      "text/plain": [
       "car_links              0\n",
       "City                   0\n",
       "it                     0\n",
       "ft                     0\n",
       "bt                     0\n",
       "                    ... \n",
       "Cargo Volumn        2420\n",
       "Wheel Size          2983\n",
       "Alloy Wheel Size    2983\n",
       "Torque_Nm            832\n",
       "Torque_rpm           209\n",
       "Length: 64, dtype: int64"
      ]
     },
     "execution_count": 109,
     "metadata": {},
     "output_type": "execute_result"
    }
   ],
   "source": [
    "merged_cars.isnull().sum()"
   ]
  },
  {
   "cell_type": "code",
   "execution_count": 110,
   "metadata": {},
   "outputs": [
    {
     "data": {
      "text/plain": [
       "0        67.04bhp@6000rpm\n",
       "1       121.31bhp@6500rpm\n",
       "2           84bhp@6000rpm\n",
       "3        81.86bhp@6000rpm\n",
       "4         88.5bhp@4000rpm\n",
       "              ...        \n",
       "8364     65.71bhp@5500rpm\n",
       "8365      47.3bhp@6000rpm\n",
       "8366       186bhp@5600rpm\n",
       "8367     85.80bhp@6000rpm\n",
       "8368    108.45bhp@4000rpm\n",
       "Name: Max Power, Length: 8369, dtype: object"
      ]
     },
     "execution_count": 110,
     "metadata": {},
     "output_type": "execute_result"
    }
   ],
   "source": [
    "merged_cars['Max Power']"
   ]
  },
  {
   "cell_type": "code",
   "execution_count": 111,
   "metadata": {},
   "outputs": [
    {
     "name": "stdout",
     "output_type": "stream",
     "text": [
      "  Torque_rpm\n",
      "0       3500\n",
      "1       4500\n",
      "2       3500\n",
      "3       4000\n",
      "4       1750\n"
     ]
    }
   ],
   "source": [
    "\n",
    "# Remove 'rpm' from the 'Torque_rpm' column\n",
    "merged_cars['Torque_rpm'] = merged_cars['Torque_rpm'].str.replace('rpm', '', regex=False)\n",
    "\n",
    "# Optionally, you can also strip any whitespace if needed\n",
    "merged_cars['Torque_rpm'] = merged_cars['Torque_rpm'].str.strip()\n",
    "\n",
    "# Display the updated DataFrame\n",
    "print(merged_cars[['Torque_rpm']].head())"
   ]
  },
  {
   "cell_type": "code",
   "execution_count": 112,
   "metadata": {},
   "outputs": [],
   "source": [
    "# Drop the 'Torque' column\n",
    "merged_cars = merged_cars.drop(columns=['Torque'])"
   ]
  },
  {
   "cell_type": "code",
   "execution_count": 113,
   "metadata": {},
   "outputs": [],
   "source": [
    "# Drop the 'Torque' column\n",
    "merged_cars = merged_cars.drop(columns=['Max Torque'])"
   ]
  },
  {
   "cell_type": "code",
   "execution_count": 114,
   "metadata": {},
   "outputs": [
    {
     "data": {
      "text/plain": [
       "Index(['car_links', 'City', 'it', 'ft', 'bt', 'km', 'transmission', 'owner',\n",
       "       'oem', 'model', 'modelYear', 'centralVariantId', 'variantName', 'price',\n",
       "       'priceActual', 'Registration Year', 'Insurance Validity', 'Fuel Type',\n",
       "       'Seats', 'RTO', 'Engine Displacement', 'top', 'Comfort', 'Interior',\n",
       "       'Exterior', 'Safety', 'Entertainment', 'Mileage', 'Max Power', 'Color',\n",
       "       'Engine Type', 'Displacement', 'No of Cylinder', 'Values per Cylinder',\n",
       "       'Value Configuration', 'Fuel Suppy System', 'Compression Ratio',\n",
       "       'Turbo Charger', 'Super Charger', 'Length', 'Width', 'Height',\n",
       "       'Wheel Base', 'Front Tread', 'Rear Tread', 'Kerb Weight',\n",
       "       'Gross Weight', 'Gear Box', 'Drive Type', 'Steering Type',\n",
       "       'Turning Radius', 'Front Brake Type', 'Rear Brake Type', 'Top Speed',\n",
       "       'Acceleration', 'Tyre Type', 'No Door Numbers', 'Cargo Volumn',\n",
       "       'Wheel Size', 'Alloy Wheel Size', 'Torque_Nm', 'Torque_rpm'],\n",
       "      dtype='object')"
      ]
     },
     "execution_count": 114,
     "metadata": {},
     "output_type": "execute_result"
    }
   ],
   "source": [
    "merged_cars.columns"
   ]
  },
  {
   "cell_type": "code",
   "execution_count": 115,
   "metadata": {},
   "outputs": [
    {
     "data": {
      "text/plain": [
       "0       bangalore\n",
       "1       bangalore\n",
       "2       bangalore\n",
       "3       bangalore\n",
       "4       bangalore\n",
       "          ...    \n",
       "8364      kolkata\n",
       "8365      kolkata\n",
       "8366      kolkata\n",
       "8367      kolkata\n",
       "8368      kolkata\n",
       "Name: City, Length: 8369, dtype: object"
      ]
     },
     "execution_count": 115,
     "metadata": {},
     "output_type": "execute_result"
    }
   ],
   "source": [
    "merged_cars['City']"
   ]
  },
  {
   "cell_type": "code",
   "execution_count": 116,
   "metadata": {},
   "outputs": [
    {
     "name": "stdout",
     "output_type": "stream",
     "text": [
      "   Top Speed\n",
      "0      150.0\n",
      "1        NaN\n",
      "2      150.0\n",
      "3      172.0\n",
      "4      190.0\n"
     ]
    }
   ],
   "source": [
    "# Extract only integer values from the 'Top Speed' column\n",
    "merged_cars['Top Speed'] = merged_cars['Top Speed'].str.extract(r'(\\d+)')[0]\n",
    "\n",
    "# Convert the extracted values to numeric, handling any errors (e.g., None values)\n",
    "merged_cars['Top Speed'] = pd.to_numeric(merged_cars['Top Speed'], errors='coerce')\n",
    "\n",
    "# Display the updated DataFrame to confirm the new column\n",
    "print(merged_cars[['Top Speed']].head())"
   ]
  },
  {
   "cell_type": "code",
   "execution_count": 117,
   "metadata": {},
   "outputs": [
    {
     "name": "stdout",
     "output_type": "stream",
     "text": [
      "   power_bhp  power_rpm\n",
      "0      67.04     6000.0\n",
      "1     121.31     6500.0\n",
      "2      84.00     6000.0\n",
      "3      81.86     6000.0\n",
      "4      88.50     4000.0\n"
     ]
    }
   ],
   "source": [
    "# Use str.extract to get bhp and rpm and create new columns\n",
    "merged_cars[['power_bhp', 'power_rpm']] = merged_cars['Max Power'].str.extract(r'(\\d+\\.?\\d*)bhp@(\\d+)rpm')\n",
    "\n",
    "# Convert the extracted values to numeric types\n",
    "merged_cars['power_bhp'] = pd.to_numeric(merged_cars['power_bhp'])\n",
    "merged_cars['power_rpm'] = pd.to_numeric(merged_cars['power_rpm'])\n",
    "\n",
    "# Display the updated DataFrame to confirm the new columns\n",
    "print(merged_cars[['power_bhp', 'power_rpm']].head())"
   ]
  },
  {
   "cell_type": "code",
   "execution_count": 118,
   "metadata": {},
   "outputs": [
    {
     "data": {
      "text/plain": [
       "Index(['car_links', 'City', 'it', 'ft', 'bt', 'km', 'transmission', 'owner',\n",
       "       'oem', 'model', 'modelYear', 'centralVariantId', 'variantName', 'price',\n",
       "       'priceActual', 'Registration Year', 'Insurance Validity', 'Fuel Type',\n",
       "       'Seats', 'RTO', 'Engine Displacement', 'top', 'Comfort', 'Interior',\n",
       "       'Exterior', 'Safety', 'Entertainment', 'Mileage', 'Max Power', 'Color',\n",
       "       'Engine Type', 'Displacement', 'No of Cylinder', 'Values per Cylinder',\n",
       "       'Value Configuration', 'Fuel Suppy System', 'Compression Ratio',\n",
       "       'Turbo Charger', 'Super Charger', 'Length', 'Width', 'Height',\n",
       "       'Wheel Base', 'Front Tread', 'Rear Tread', 'Kerb Weight',\n",
       "       'Gross Weight', 'Gear Box', 'Drive Type', 'Steering Type',\n",
       "       'Turning Radius', 'Front Brake Type', 'Rear Brake Type', 'Top Speed',\n",
       "       'Acceleration', 'Tyre Type', 'No Door Numbers', 'Cargo Volumn',\n",
       "       'Wheel Size', 'Alloy Wheel Size', 'Torque_Nm', 'Torque_rpm',\n",
       "       'power_bhp', 'power_rpm'],\n",
       "      dtype='object')"
      ]
     },
     "execution_count": 118,
     "metadata": {},
     "output_type": "execute_result"
    }
   ],
   "source": [
    "merged_cars.columns"
   ]
  },
  {
   "cell_type": "code",
   "execution_count": 119,
   "metadata": {},
   "outputs": [],
   "source": [
    "# Drop the 'Max Power' column\n",
    "merged_cars = merged_cars.drop(columns=['Max Power'])"
   ]
  },
  {
   "cell_type": "code",
   "execution_count": 120,
   "metadata": {},
   "outputs": [
    {
     "data": {
      "text/plain": [
       "0            3500\n",
       "1            4500\n",
       "2            3500\n",
       "3            4000\n",
       "4            1750\n",
       "          ...    \n",
       "8364         3500\n",
       "8365         3500\n",
       "8366    2400-4000\n",
       "8367         4000\n",
       "8368         1750\n",
       "Name: Torque_rpm, Length: 8369, dtype: object"
      ]
     },
     "execution_count": 120,
     "metadata": {},
     "output_type": "execute_result"
    }
   ],
   "source": [
    "merged_cars['Torque_rpm']"
   ]
  },
  {
   "cell_type": "code",
   "execution_count": 121,
   "metadata": {},
   "outputs": [
    {
     "data": {
      "text/plain": [
       "0       3500.0\n",
       "1       4500.0\n",
       "2       3500.0\n",
       "3       4000.0\n",
       "4       1750.0\n",
       "         ...  \n",
       "8364    3500.0\n",
       "8365    3500.0\n",
       "8366       NaN\n",
       "8367    4000.0\n",
       "8368    1750.0\n",
       "Name: Torque_rpm, Length: 8369, dtype: float64"
      ]
     },
     "execution_count": 121,
     "metadata": {},
     "output_type": "execute_result"
    }
   ],
   "source": [
    "# Step 1: Convert 'Torque_rpm' to numeric, coercing errors to NaN\n",
    "merged_cars['Torque_rpm'] = pd.to_numeric(merged_cars['Torque_rpm'], errors='coerce')\n",
    "\n",
    "# Step 2: Handle NaN values\n",
    "# Option 1: Fill NaN with a specific value (e.g., 0)\n",
    "# merged_cars['Torque_rpm'] = merged_cars['Torque_rpm'].fillna(0)\n",
    "\n",
    "# Option 2: Drop rows with NaN values\n",
    "#merged_cars = merged_cars.dropna(subset=['Torque_rpm'])\n",
    "merged_cars['Torque_rpm']"
   ]
  },
  {
   "cell_type": "code",
   "execution_count": 122,
   "metadata": {},
   "outputs": [
    {
     "name": "stdout",
     "output_type": "stream",
     "text": [
      "[3500. 4500. 4000. 1750.   nan 4400. 4800. 4600. 3000. 4700. 1250. 4250.\n",
      " 3200. 2000. 4200. 4850. 3750. 2250. 1900. 2200. 1600. 2500. 4300. 3800.\n",
      " 3300. 2800. 1000. 2600. 1800. 4750. 4386. 1350. 5000. 1500. 1850. 1740.\n",
      " 2700. 3100. 4100. 1400. 3400. 3600. 2400.]\n"
     ]
    }
   ],
   "source": [
    "# Display unique values from the 'Torque_rpm' column\n",
    "unique_torque_values = merged_cars['Torque_rpm'].unique()\n",
    "\n",
    "# Print the unique values\n",
    "print(unique_torque_values)"
   ]
  },
  {
   "cell_type": "code",
   "execution_count": 123,
   "metadata": {},
   "outputs": [
    {
     "name": "stdout",
     "output_type": "stream",
     "text": [
      "['5' '6' '7' '4' '8G-DCT' '9' '8' '8 Steptronic' '7 DCT' '8  Tiptronic'\n",
      " '6  IMT' '6 AutoSHIFT' '6 CVT' 'CVT' '7  DSG' '7  DCT'\n",
      " '8 Steptronic Sport Automatic Transmission' '7  CVT' 'Five  Manual'\n",
      " '5  CVT' 'nan' '6  AT' '6 iMT' '6 DCT' '7 S-Tronic'\n",
      " '7G DCT 7 Dual Clutch Transmission' '5`' '9  Tronic' '6 IVT'\n",
      " 'Direct Drive' '6  IVT' 'IVT' '8  CVT' 'Five  Manual Transmission'\n",
      " '5  AT+ Paddle Shifters' 'iMT' 'AGS' '6 IMT' '6  MT' '6  iMT' 'Five'\n",
      " '6 AT' '9G-TRONIC' '9G-TRONIC automatic' '7 DSG' 'Six  Manual' '8  Sport'\n",
      " '6  with Sequential Shift' '7 Steptronic'\n",
      " 'Five  Manual Transmission Gearbox' 'AMG SHIFT DCT 8G' 'AMG 7 DCT'\n",
      " 'E-CVT' '7 Stronic' '8 Automatic Transmission'\n",
      " 'Six  Manual with Paddle Shifter' '7  Steptronic Sport' '9 automatic'\n",
      " 'SHIFT TCT 9G' '7  7G-DCT' '7 PDK' '8 Steptronic Automatic'\n",
      " '10 Automatic' 'Six  Automatic Transmission' '9G TRONIC'\n",
      " '7 DCT Steptronic' '8 DCT' 'Mercedes Benz 7  Automatic' '10'\n",
      " '6  automatic' '7G-DCT' 'Six  Geartronic, Six  Automati'\n",
      " '5  Manual (Cable Type Gear Shift)' 'Six  Automatic Gearbox'\n",
      " 'Fully Automatic' 'Single transmission' 'Six   Gearbox'\n",
      " '5  Forward, 1 Reverse' '7  S tronic' 'Single  reduction gear' 'Single'\n",
      " '5  manual' '8 tiptronic' '7 S tronic' 'eCVT']\n"
     ]
    }
   ],
   "source": [
    "# Display unique values from the 'priceActual' column\n",
    "unique_prices = merged_cars['Gear Box'].unique()\n",
    "\n",
    "# Print the unique values\n",
    "print(unique_prices)"
   ]
  },
  {
   "cell_type": "code",
   "execution_count": 124,
   "metadata": {},
   "outputs": [
    {
     "data": {
      "text/plain": [
       "0       5\n",
       "1       5\n",
       "2       5\n",
       "3       5\n",
       "4       5\n",
       "       ..\n",
       "8364    5\n",
       "8365    5\n",
       "8366    7\n",
       "8367    5\n",
       "8368    6\n",
       "Name: Gear Box, Length: 8369, dtype: object"
      ]
     },
     "execution_count": 124,
     "metadata": {},
     "output_type": "execute_result"
    }
   ],
   "source": [
    "# Create a mapping dictionary for the words to numbers\n",
    "word_to_number = {\n",
    "    'one': '1',\n",
    "    'two': '2',\n",
    "    'three': '3',\n",
    "    'four': '4',\n",
    "    'five': '5',\n",
    "    'six': '6',\n",
    "    'Six': '6',\n",
    "    'Seven': '7',\n",
    "    'seven': '7',  # Including 'Seven' in case it appears in different cases\n",
    "    'Five': '5',   # Including 'Five' in case it appears in different cases\n",
    "}\n",
    "\n",
    "# Replace words with corresponding numbers\n",
    "merged_cars['Gear Box'] = merged_cars['Gear Box'].replace(word_to_number, regex=True)\n",
    "merged_cars['Gear Box']"
   ]
  },
  {
   "cell_type": "code",
   "execution_count": 125,
   "metadata": {},
   "outputs": [
    {
     "name": "stdout",
     "output_type": "stream",
     "text": [
      "Gear Box\n",
      "5                         5321\n",
      "6                         1499\n",
      "7                          283\n",
      "8                          272\n",
      "4                          167\n",
      "                          ... \n",
      "Single  reduction gear       1\n",
      "5  manual                    1\n",
      "8 tiptronic                  1\n",
      "7 S tronic                   1\n",
      "eCVT                         1\n",
      "Name: count, Length: 84, dtype: int64\n"
     ]
    }
   ],
   "source": [
    "# Get unique values and their counts\n",
    "unique_counts = merged_cars['Gear Box'].value_counts()\n",
    "\n",
    "# Display the unique values and their counts\n",
    "print(unique_counts)"
   ]
  },
  {
   "cell_type": "code",
   "execution_count": 126,
   "metadata": {},
   "outputs": [
    {
     "data": {
      "text/plain": [
       "np.int64(0)"
      ]
     },
     "execution_count": 126,
     "metadata": {},
     "output_type": "execute_result"
    }
   ],
   "source": [
    "merged_cars['Gear Box'].isnull().sum()"
   ]
  },
  {
   "cell_type": "code",
   "execution_count": 127,
   "metadata": {},
   "outputs": [
    {
     "data": {
      "text/plain": [
       "0       5\n",
       "1       5\n",
       "2       5\n",
       "3       5\n",
       "4       5\n",
       "       ..\n",
       "8364    5\n",
       "8365    5\n",
       "8366    7\n",
       "8367    5\n",
       "8368    6\n",
       "Name: Gear Box, Length: 8369, dtype: object"
      ]
     },
     "execution_count": 127,
     "metadata": {},
     "output_type": "execute_result"
    }
   ],
   "source": [
    "merged_cars['Gear Box']"
   ]
  },
  {
   "cell_type": "code",
   "execution_count": 128,
   "metadata": {},
   "outputs": [
    {
     "name": "stdout",
     "output_type": "stream",
     "text": [
      "<class 'pandas.core.frame.DataFrame'>\n",
      "RangeIndex: 8369 entries, 0 to 8368\n",
      "Data columns (total 63 columns):\n",
      " #   Column               Non-Null Count  Dtype  \n",
      "---  ------               --------------  -----  \n",
      " 0   car_links            8369 non-null   object \n",
      " 1   City                 8369 non-null   object \n",
      " 2   it                   8369 non-null   int64  \n",
      " 3   ft                   8369 non-null   object \n",
      " 4   bt                   8369 non-null   object \n",
      " 5   km                   8369 non-null   int64  \n",
      " 6   transmission         8369 non-null   object \n",
      " 7   owner                8369 non-null   int64  \n",
      " 8   oem                  8369 non-null   object \n",
      " 9   model                8369 non-null   object \n",
      " 10  modelYear            8369 non-null   int64  \n",
      " 11  centralVariantId     8369 non-null   int64  \n",
      " 12  variantName          8369 non-null   object \n",
      " 13  price                8369 non-null   float64\n",
      " 14  priceActual          1670 non-null   float64\n",
      " 15  Registration Year    8369 non-null   int64  \n",
      " 16  Insurance Validity   8365 non-null   object \n",
      " 17  Fuel Type            8369 non-null   object \n",
      " 18  Seats                8369 non-null   int64  \n",
      " 19  RTO                  7475 non-null   object \n",
      " 20  Engine Displacement  8365 non-null   float64\n",
      " 21  top                  8304 non-null   object \n",
      " 22  Comfort              8301 non-null   object \n",
      " 23  Interior             8292 non-null   object \n",
      " 24  Exterior             8279 non-null   object \n",
      " 25  Safety               8273 non-null   object \n",
      " 26  Entertainment        7274 non-null   object \n",
      " 27  Mileage              8369 non-null   float64\n",
      " 28  Color                8366 non-null   object \n",
      " 29  Engine Type          8074 non-null   object \n",
      " 30  Displacement         8365 non-null   float64\n",
      " 31  No of Cylinder       8338 non-null   float64\n",
      " 32  Values per Cylinder  8318 non-null   float64\n",
      " 33  Value Configuration  6153 non-null   object \n",
      " 34  Fuel Suppy System    6642 non-null   object \n",
      " 35  Compression Ratio    1895 non-null   object \n",
      " 36  Turbo Charger        7329 non-null   object \n",
      " 37  Super Charger        6407 non-null   object \n",
      " 38  Length               8369 non-null   Int64  \n",
      " 39  Width                8369 non-null   Int64  \n",
      " 40  Height               8369 non-null   Int64  \n",
      " 41  Wheel Base           8369 non-null   Int64  \n",
      " 42  Front Tread          8369 non-null   Int64  \n",
      " 43  Rear Tread           8369 non-null   Int64  \n",
      " 44  Kerb Weight          8369 non-null   Int64  \n",
      " 45  Gross Weight         8369 non-null   Int64  \n",
      " 46  Gear Box             8369 non-null   object \n",
      " 47  Drive Type           6809 non-null   object \n",
      " 48  Steering Type        8114 non-null   object \n",
      " 49  Turning Radius       6011 non-null   float64\n",
      " 50  Front Brake Type     8273 non-null   object \n",
      " 51  Rear Brake Type      8273 non-null   object \n",
      " 52  Top Speed            4582 non-null   float64\n",
      " 53  Acceleration         4712 non-null   float64\n",
      " 54  Tyre Type            8292 non-null   object \n",
      " 55  No Door Numbers      8358 non-null   Int64  \n",
      " 56  Cargo Volumn         5949 non-null   Int64  \n",
      " 57  Wheel Size           5386 non-null   Int64  \n",
      " 58  Alloy Wheel Size     5386 non-null   Int64  \n",
      " 59  Torque_Nm            7537 non-null   float64\n",
      " 60  Torque_rpm           5401 non-null   float64\n",
      " 61  power_bhp            7537 non-null   float64\n",
      " 62  power_rpm            7537 non-null   float64\n",
      "dtypes: Int64(12), float64(14), int64(7), object(30)\n",
      "memory usage: 4.1+ MB\n"
     ]
    }
   ],
   "source": [
    "merged_cars.info()"
   ]
  },
  {
   "cell_type": "code",
   "execution_count": 129,
   "metadata": {},
   "outputs": [
    {
     "data": {
      "text/plain": [
       "Index(['car_links', 'City', 'it', 'ft', 'bt', 'km', 'transmission', 'owner',\n",
       "       'oem', 'model', 'modelYear', 'centralVariantId', 'variantName', 'price',\n",
       "       'priceActual', 'Registration Year', 'Insurance Validity', 'Fuel Type',\n",
       "       'Seats', 'RTO', 'Engine Displacement', 'top', 'Comfort', 'Interior',\n",
       "       'Exterior', 'Safety', 'Entertainment', 'Mileage', 'Color',\n",
       "       'Engine Type', 'Displacement', 'No of Cylinder', 'Values per Cylinder',\n",
       "       'Value Configuration', 'Fuel Suppy System', 'Compression Ratio',\n",
       "       'Turbo Charger', 'Super Charger', 'Length', 'Width', 'Height',\n",
       "       'Wheel Base', 'Front Tread', 'Rear Tread', 'Kerb Weight',\n",
       "       'Gross Weight', 'Gear Box', 'Drive Type', 'Steering Type',\n",
       "       'Turning Radius', 'Front Brake Type', 'Rear Brake Type', 'Top Speed',\n",
       "       'Acceleration', 'Tyre Type', 'No Door Numbers', 'Cargo Volumn',\n",
       "       'Wheel Size', 'Alloy Wheel Size', 'Torque_Nm', 'Torque_rpm',\n",
       "       'power_bhp', 'power_rpm'],\n",
       "      dtype='object')"
      ]
     },
     "execution_count": 129,
     "metadata": {},
     "output_type": "execute_result"
    }
   ],
   "source": [
    "merged_cars.columns"
   ]
  },
  {
   "cell_type": "code",
   "execution_count": 130,
   "metadata": {},
   "outputs": [
    {
     "data": {
      "text/plain": [
       "0       Centeral Locking, Child Safety Locks, Day Nigh...\n",
       "1       Anti Lock Braking System, Centeral Locking, Po...\n",
       "2       Anti Lock Braking System, Centeral Locking, Po...\n",
       "3       Anti Lock Braking System, Centeral Locking, Po...\n",
       "4       Anti Lock Braking System, Centeral Locking, Po...\n",
       "                              ...                        \n",
       "8364    Anti Lock Braking System, Centeral Locking, Po...\n",
       "8365    Day Night Rear View Mirror, Passenger Side Rea...\n",
       "8366    Anti Lock Braking System, Brake Assist, Center...\n",
       "8367    Anti Lock Braking System, Centeral Locking, Po...\n",
       "8368    Anti Lock Braking System, Brake Assist, Center...\n",
       "Name: Safety, Length: 8369, dtype: object"
      ]
     },
     "execution_count": 130,
     "metadata": {},
     "output_type": "execute_result"
    }
   ],
   "source": [
    "merged_cars['Safety']"
   ]
  },
  {
   "cell_type": "code",
   "execution_count": 131,
   "metadata": {},
   "outputs": [
    {
     "data": {
      "text/plain": [
       "array(['Centeral Locking, Child Safety Locks, Day Night Rear View Mirror, Passenger Side Rear View Mirror, Halogen Headlamps, Rear Seat Belts, Door Ajar Warning, Side Impact Beams, Front Impact Beams, Adjustable Seats, Centrally Mounted Fuel Tank, Engine Immobilizer, Anti Theft Device',\n",
       "       'Anti Lock Braking System, Centeral Locking, Power Door Locks, Child Safety Locks, Driver Air Bag, Passenger Air Bag, Passenger Side Rear View Mirror, Halogen Headlamps, Rear Seat Belts, Seat Belt Warning, Door Ajar Warning, Side Impact Beams, Front Impact Beams, Adjustable Seats, Keyless Entry, Centrally Mounted Fuel Tank, Engine Immobilizer, Engine Check Warning, Crash Sensor, Ebd, Follow Me Home Headlamps, Rear Camera, Anti Theft Device, Speed Sensing Auto Door Lock, Pretensioners And Force Limiter Seatbelts, Impact Sensing Auto Door Lock, No Of Airbags',\n",
       "       'Anti Lock Braking System, Centeral Locking, Power Door Locks, Child Safety Locks, Driver Air Bag, Passenger Air Bag, Passenger Side Rear View Mirror, Halogen Headlamps, Rear Seat Belts, Seat Belt Warning, Door Ajar Warning, Side Impact Beams, Front Impact Beams, Vehicle Stability Control System, Adjustable Seats, Centrally Mounted Fuel Tank, Engine Immobilizer, Engine Check Warning, Crash Sensor, Ebd, Follow Me Home Headlamps, Anti Theft Device, Speed Sensing Auto Door Lock, Pretensioners And Force Limiter Seatbelts',\n",
       "       ...,\n",
       "       'Anti Lock Braking System, Brake Assist, Centeral Locking, Power Door Locks, Child Safety Locks, Anti Theft Alarm, Driver Air Bag, Passenger Air Bag, Side Air Bag Front, Side Air Bag Rear, Day Night Rear View Mirror, Passenger Side Rear View Mirror, Halogen Headlamps, Rear Seat Belts, Seat Belt Warning, Door Ajar Warning, Side Impact Beams, Front Impact Beams, Vehicle Stability Control System, Adjustable Seats, Keyless Entry, Engine Immobilizer, Engine Check Warning, Tyre Pressure Monitor, Crash Sensor',\n",
       "       'Anti Lock Braking System, Centeral Locking, Power Door Locks, Child Safety Locks, Anti Theft Alarm, Driver Air Bag, Passenger Air Bag, Day Night Rear View Mirror, Passenger Side Rear View Mirror, Halogen Headlamps, Rear Seat Belts, Seat Belt Warning, Door Ajar Warning, Side Impact Beams, Front Impact Beams, Adjustable Seats, Keyless Entry, Centrally Mounted Fuel Tank, Engine Immobilizer, Crash Sensor, Ebd, Anti Theft Device',\n",
       "       'Anti Lock Braking System, Brake Assist, Centeral Locking, Power Door Locks, Child Safety Locks, Driver Air Bag, Passenger Air Bag, Passenger Side Rear View Mirror, Halogen Headlamps, Rear Seat Belts, Seat Belt Warning, Door Ajar Warning, Side Impact Beams, Front Impact Beams, Vehicle Stability Control System, Adjustable Seats, Keyless Entry, Centrally Mounted Fuel Tank, Engine Immobilizer, Engine Check Warning, Crash Sensor, Ebd, Rear Camera, Anti Theft Device, Speed Sensing Auto Door Lock, Hill Assist, Impact Sensing Auto Door Lock'],\n",
       "      dtype=object)"
      ]
     },
     "execution_count": 131,
     "metadata": {},
     "output_type": "execute_result"
    }
   ],
   "source": [
    "merged_cars['Safety'].values"
   ]
  },
  {
   "cell_type": "code",
   "execution_count": 132,
   "metadata": {},
   "outputs": [],
   "source": [
    "# Drop the 'Compression Ratio' column\n",
    "merged_cars = merged_cars.drop(columns=['Compression Ratio'])"
   ]
  },
  {
   "cell_type": "code",
   "execution_count": 133,
   "metadata": {},
   "outputs": [],
   "source": [
    "merged_cars.to_csv('merged_data.csv', index=False)"
   ]
  },
  {
   "cell_type": "code",
   "execution_count": 134,
   "metadata": {},
   "outputs": [],
   "source": [
    "from sklearn.preprocessing import LabelEncoder\n",
    "\n",
    "# Label Encoding\n",
    "label_encoder = LabelEncoder()\n",
    "merged_cars['City'] = label_encoder.fit_transform(merged_cars['City'])\n"
   ]
  }
 ],
 "metadata": {
  "kernelspec": {
   "display_name": "Python 3",
   "language": "python",
   "name": "python3"
  },
  "language_info": {
   "codemirror_mode": {
    "name": "ipython",
    "version": 3
   },
   "file_extension": ".py",
   "mimetype": "text/x-python",
   "name": "python",
   "nbconvert_exporter": "python",
   "pygments_lexer": "ipython3",
   "version": "3.12.5"
  }
 },
 "nbformat": 4,
 "nbformat_minor": 2
}
