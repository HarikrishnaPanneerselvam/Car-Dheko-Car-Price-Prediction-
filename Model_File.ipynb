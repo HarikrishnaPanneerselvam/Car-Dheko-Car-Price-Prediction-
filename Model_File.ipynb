{
 "cells": [
  {
   "cell_type": "code",
   "execution_count": 1,
   "metadata": {},
   "outputs": [],
   "source": [
    "import pandas as pd\n",
    "merged_cars =pd.read_csv(r'merged_data.csv')"
   ]
  },
  {
   "cell_type": "code",
   "execution_count": 2,
   "metadata": {},
   "outputs": [
    {
     "name": "stdout",
     "output_type": "stream",
     "text": [
      "<class 'pandas.core.frame.DataFrame'>\n",
      "RangeIndex: 8369 entries, 0 to 8368\n",
      "Data columns (total 62 columns):\n",
      " #   Column               Non-Null Count  Dtype  \n",
      "---  ------               --------------  -----  \n",
      " 0   car_links            8369 non-null   object \n",
      " 1   City                 8369 non-null   object \n",
      " 2   it                   8369 non-null   int64  \n",
      " 3   ft                   8369 non-null   object \n",
      " 4   bt                   8369 non-null   object \n",
      " 5   km                   8369 non-null   int64  \n",
      " 6   transmission         8369 non-null   object \n",
      " 7   owner                8369 non-null   int64  \n",
      " 8   oem                  8369 non-null   object \n",
      " 9   model                8369 non-null   object \n",
      " 10  modelYear            8369 non-null   int64  \n",
      " 11  centralVariantId     8369 non-null   int64  \n",
      " 12  variantName          8369 non-null   object \n",
      " 13  price                8369 non-null   float64\n",
      " 14  priceActual          1670 non-null   float64\n",
      " 15  Registration Year    8369 non-null   int64  \n",
      " 16  Insurance Validity   8365 non-null   object \n",
      " 17  Fuel Type            8369 non-null   object \n",
      " 18  Seats                8369 non-null   int64  \n",
      " 19  RTO                  7475 non-null   object \n",
      " 20  Engine Displacement  8365 non-null   float64\n",
      " 21  top                  8304 non-null   object \n",
      " 22  Comfort              8301 non-null   object \n",
      " 23  Interior             8292 non-null   object \n",
      " 24  Exterior             8279 non-null   object \n",
      " 25  Safety               8273 non-null   object \n",
      " 26  Entertainment        7274 non-null   object \n",
      " 27  Mileage              8369 non-null   float64\n",
      " 28  Color                8366 non-null   object \n",
      " 29  Engine Type          8074 non-null   object \n",
      " 30  Displacement         8365 non-null   float64\n",
      " 31  No of Cylinder       8338 non-null   float64\n",
      " 32  Values per Cylinder  8318 non-null   float64\n",
      " 33  Value Configuration  6153 non-null   object \n",
      " 34  Fuel Suppy System    6642 non-null   object \n",
      " 35  Turbo Charger        7329 non-null   object \n",
      " 36  Super Charger        6407 non-null   object \n",
      " 37  Length               8369 non-null   int64  \n",
      " 38  Width                8369 non-null   int64  \n",
      " 39  Height               8369 non-null   int64  \n",
      " 40  Wheel Base           8369 non-null   int64  \n",
      " 41  Front Tread          8369 non-null   int64  \n",
      " 42  Rear Tread           8369 non-null   int64  \n",
      " 43  Kerb Weight          8369 non-null   int64  \n",
      " 44  Gross Weight         8369 non-null   int64  \n",
      " 45  Gear Box             8263 non-null   object \n",
      " 46  Drive Type           6809 non-null   object \n",
      " 47  Steering Type        8114 non-null   object \n",
      " 48  Turning Radius       6011 non-null   float64\n",
      " 49  Front Brake Type     8273 non-null   object \n",
      " 50  Rear Brake Type      8273 non-null   object \n",
      " 51  Top Speed            4582 non-null   float64\n",
      " 52  Acceleration         4712 non-null   float64\n",
      " 53  Tyre Type            8292 non-null   object \n",
      " 54  No Door Numbers      8358 non-null   float64\n",
      " 55  Cargo Volumn         5949 non-null   float64\n",
      " 56  Wheel Size           5386 non-null   float64\n",
      " 57  Alloy Wheel Size     5386 non-null   float64\n",
      " 58  Torque_Nm            7537 non-null   float64\n",
      " 59  Torque_rpm           5401 non-null   float64\n",
      " 60  power_bhp            7537 non-null   float64\n",
      " 61  power_rpm            7537 non-null   float64\n",
      "dtypes: float64(18), int64(15), object(29)\n",
      "memory usage: 4.0+ MB\n"
     ]
    }
   ],
   "source": [
    "merged_cars.info()"
   ]
  },
  {
   "cell_type": "code",
   "execution_count": 3,
   "metadata": {},
   "outputs": [
    {
     "data": {
      "text/html": [
       "<div>\n",
       "<style scoped>\n",
       "    .dataframe tbody tr th:only-of-type {\n",
       "        vertical-align: middle;\n",
       "    }\n",
       "\n",
       "    .dataframe tbody tr th {\n",
       "        vertical-align: top;\n",
       "    }\n",
       "\n",
       "    .dataframe thead th {\n",
       "        text-align: right;\n",
       "    }\n",
       "</style>\n",
       "<table border=\"1\" class=\"dataframe\">\n",
       "  <thead>\n",
       "    <tr style=\"text-align: right;\">\n",
       "      <th></th>\n",
       "      <th>it</th>\n",
       "      <th>km</th>\n",
       "      <th>owner</th>\n",
       "      <th>modelYear</th>\n",
       "      <th>centralVariantId</th>\n",
       "      <th>price</th>\n",
       "      <th>priceActual</th>\n",
       "      <th>Registration Year</th>\n",
       "      <th>Seats</th>\n",
       "      <th>Engine Displacement</th>\n",
       "      <th>...</th>\n",
       "      <th>Top Speed</th>\n",
       "      <th>Acceleration</th>\n",
       "      <th>No Door Numbers</th>\n",
       "      <th>Cargo Volumn</th>\n",
       "      <th>Wheel Size</th>\n",
       "      <th>Alloy Wheel Size</th>\n",
       "      <th>Torque_Nm</th>\n",
       "      <th>Torque_rpm</th>\n",
       "      <th>power_bhp</th>\n",
       "      <th>power_rpm</th>\n",
       "    </tr>\n",
       "  </thead>\n",
       "  <tbody>\n",
       "    <tr>\n",
       "      <th>count</th>\n",
       "      <td>8369.0</td>\n",
       "      <td>8.369000e+03</td>\n",
       "      <td>8369.000000</td>\n",
       "      <td>8369.000000</td>\n",
       "      <td>8369.000000</td>\n",
       "      <td>8.369000e+03</td>\n",
       "      <td>1.670000e+03</td>\n",
       "      <td>8369.000000</td>\n",
       "      <td>8369.000000</td>\n",
       "      <td>8365.000000</td>\n",
       "      <td>...</td>\n",
       "      <td>4582.000000</td>\n",
       "      <td>4712.000000</td>\n",
       "      <td>8358.000000</td>\n",
       "      <td>5949.000000</td>\n",
       "      <td>5386.000000</td>\n",
       "      <td>5386.000000</td>\n",
       "      <td>7537.000000</td>\n",
       "      <td>5401.000000</td>\n",
       "      <td>7537.000000</td>\n",
       "      <td>7537.000000</td>\n",
       "    </tr>\n",
       "    <tr>\n",
       "      <th>mean</th>\n",
       "      <td>0.0</td>\n",
       "      <td>5.897430e+04</td>\n",
       "      <td>1.360139</td>\n",
       "      <td>2016.503286</td>\n",
       "      <td>4962.537340</td>\n",
       "      <td>9.569037e+05</td>\n",
       "      <td>5.936012e+05</td>\n",
       "      <td>2004.082447</td>\n",
       "      <td>5.199546</td>\n",
       "      <td>1424.735923</td>\n",
       "      <td>...</td>\n",
       "      <td>175.665430</td>\n",
       "      <td>12.918043</td>\n",
       "      <td>4.686049</td>\n",
       "      <td>359.526475</td>\n",
       "      <td>15.697549</td>\n",
       "      <td>15.697549</td>\n",
       "      <td>178.926507</td>\n",
       "      <td>3750.553601</td>\n",
       "      <td>101.611503</td>\n",
       "      <td>5297.286055</td>\n",
       "    </tr>\n",
       "    <tr>\n",
       "      <th>std</th>\n",
       "      <td>0.0</td>\n",
       "      <td>7.406100e+04</td>\n",
       "      <td>0.641958</td>\n",
       "      <td>3.921465</td>\n",
       "      <td>2747.040479</td>\n",
       "      <td>1.416203e+06</td>\n",
       "      <td>2.504656e+05</td>\n",
       "      <td>158.520248</td>\n",
       "      <td>0.678011</td>\n",
       "      <td>477.629144</td>\n",
       "      <td>...</td>\n",
       "      <td>27.403675</td>\n",
       "      <td>3.293559</td>\n",
       "      <td>0.485545</td>\n",
       "      <td>124.448666</td>\n",
       "      <td>1.519683</td>\n",
       "      <td>1.519683</td>\n",
       "      <td>111.003267</td>\n",
       "      <td>881.173276</td>\n",
       "      <td>42.391414</td>\n",
       "      <td>1198.449697</td>\n",
       "    </tr>\n",
       "    <tr>\n",
       "      <th>min</th>\n",
       "      <td>0.0</td>\n",
       "      <td>0.000000e+00</td>\n",
       "      <td>0.000000</td>\n",
       "      <td>1985.000000</td>\n",
       "      <td>5.000000</td>\n",
       "      <td>2.016100e+04</td>\n",
       "      <td>1.420000e+05</td>\n",
       "      <td>0.000000</td>\n",
       "      <td>0.000000</td>\n",
       "      <td>0.000000</td>\n",
       "      <td>...</td>\n",
       "      <td>80.000000</td>\n",
       "      <td>3.800000</td>\n",
       "      <td>2.000000</td>\n",
       "      <td>48.000000</td>\n",
       "      <td>12.000000</td>\n",
       "      <td>12.000000</td>\n",
       "      <td>7.800000</td>\n",
       "      <td>1000.000000</td>\n",
       "      <td>25.400000</td>\n",
       "      <td>3000.000000</td>\n",
       "    </tr>\n",
       "    <tr>\n",
       "      <th>25%</th>\n",
       "      <td>0.0</td>\n",
       "      <td>3.000000e+04</td>\n",
       "      <td>1.000000</td>\n",
       "      <td>2014.000000</td>\n",
       "      <td>2042.000000</td>\n",
       "      <td>3.990000e+05</td>\n",
       "      <td>4.280000e+05</td>\n",
       "      <td>2014.000000</td>\n",
       "      <td>5.000000</td>\n",
       "      <td>1197.000000</td>\n",
       "      <td>...</td>\n",
       "      <td>158.000000</td>\n",
       "      <td>10.500000</td>\n",
       "      <td>4.000000</td>\n",
       "      <td>268.000000</td>\n",
       "      <td>15.000000</td>\n",
       "      <td>15.000000</td>\n",
       "      <td>110.000000</td>\n",
       "      <td>3500.000000</td>\n",
       "      <td>75.000000</td>\n",
       "      <td>4000.000000</td>\n",
       "    </tr>\n",
       "    <tr>\n",
       "      <th>50%</th>\n",
       "      <td>0.0</td>\n",
       "      <td>5.369200e+04</td>\n",
       "      <td>1.000000</td>\n",
       "      <td>2017.000000</td>\n",
       "      <td>5320.000000</td>\n",
       "      <td>6.010000e+05</td>\n",
       "      <td>5.615000e+05</td>\n",
       "      <td>2017.000000</td>\n",
       "      <td>5.000000</td>\n",
       "      <td>1248.000000</td>\n",
       "      <td>...</td>\n",
       "      <td>170.000000</td>\n",
       "      <td>12.900000</td>\n",
       "      <td>5.000000</td>\n",
       "      <td>346.000000</td>\n",
       "      <td>16.000000</td>\n",
       "      <td>16.000000</td>\n",
       "      <td>140.000000</td>\n",
       "      <td>4000.000000</td>\n",
       "      <td>88.500000</td>\n",
       "      <td>6000.000000</td>\n",
       "    </tr>\n",
       "    <tr>\n",
       "      <th>75%</th>\n",
       "      <td>0.0</td>\n",
       "      <td>8.000000e+04</td>\n",
       "      <td>2.000000</td>\n",
       "      <td>2019.000000</td>\n",
       "      <td>7121.000000</td>\n",
       "      <td>9.500000e+05</td>\n",
       "      <td>7.070000e+05</td>\n",
       "      <td>2019.000000</td>\n",
       "      <td>5.000000</td>\n",
       "      <td>1498.000000</td>\n",
       "      <td>...</td>\n",
       "      <td>190.000000</td>\n",
       "      <td>14.800000</td>\n",
       "      <td>5.000000</td>\n",
       "      <td>455.000000</td>\n",
       "      <td>17.000000</td>\n",
       "      <td>17.000000</td>\n",
       "      <td>215.000000</td>\n",
       "      <td>4400.000000</td>\n",
       "      <td>117.600000</td>\n",
       "      <td>6000.000000</td>\n",
       "    </tr>\n",
       "    <tr>\n",
       "      <th>max</th>\n",
       "      <td>0.0</td>\n",
       "      <td>5.500000e+06</td>\n",
       "      <td>5.000000</td>\n",
       "      <td>2023.000000</td>\n",
       "      <td>11098.000000</td>\n",
       "      <td>4.150000e+07</td>\n",
       "      <td>2.301000e+06</td>\n",
       "      <td>2023.000000</td>\n",
       "      <td>10.000000</td>\n",
       "      <td>5000.000000</td>\n",
       "      <td>...</td>\n",
       "      <td>310.000000</td>\n",
       "      <td>30.300000</td>\n",
       "      <td>6.000000</td>\n",
       "      <td>1728.000000</td>\n",
       "      <td>21.000000</td>\n",
       "      <td>21.000000</td>\n",
       "      <td>800.000000</td>\n",
       "      <td>5000.000000</td>\n",
       "      <td>576.630000</td>\n",
       "      <td>61000.000000</td>\n",
       "    </tr>\n",
       "  </tbody>\n",
       "</table>\n",
       "<p>8 rows × 33 columns</p>\n",
       "</div>"
      ],
      "text/plain": [
       "           it            km        owner    modelYear  centralVariantId  \\\n",
       "count  8369.0  8.369000e+03  8369.000000  8369.000000       8369.000000   \n",
       "mean      0.0  5.897430e+04     1.360139  2016.503286       4962.537340   \n",
       "std       0.0  7.406100e+04     0.641958     3.921465       2747.040479   \n",
       "min       0.0  0.000000e+00     0.000000  1985.000000          5.000000   \n",
       "25%       0.0  3.000000e+04     1.000000  2014.000000       2042.000000   \n",
       "50%       0.0  5.369200e+04     1.000000  2017.000000       5320.000000   \n",
       "75%       0.0  8.000000e+04     2.000000  2019.000000       7121.000000   \n",
       "max       0.0  5.500000e+06     5.000000  2023.000000      11098.000000   \n",
       "\n",
       "              price   priceActual  Registration Year        Seats  \\\n",
       "count  8.369000e+03  1.670000e+03        8369.000000  8369.000000   \n",
       "mean   9.569037e+05  5.936012e+05        2004.082447     5.199546   \n",
       "std    1.416203e+06  2.504656e+05         158.520248     0.678011   \n",
       "min    2.016100e+04  1.420000e+05           0.000000     0.000000   \n",
       "25%    3.990000e+05  4.280000e+05        2014.000000     5.000000   \n",
       "50%    6.010000e+05  5.615000e+05        2017.000000     5.000000   \n",
       "75%    9.500000e+05  7.070000e+05        2019.000000     5.000000   \n",
       "max    4.150000e+07  2.301000e+06        2023.000000    10.000000   \n",
       "\n",
       "       Engine Displacement  ...    Top Speed  Acceleration  No Door Numbers  \\\n",
       "count          8365.000000  ...  4582.000000   4712.000000      8358.000000   \n",
       "mean           1424.735923  ...   175.665430     12.918043         4.686049   \n",
       "std             477.629144  ...    27.403675      3.293559         0.485545   \n",
       "min               0.000000  ...    80.000000      3.800000         2.000000   \n",
       "25%            1197.000000  ...   158.000000     10.500000         4.000000   \n",
       "50%            1248.000000  ...   170.000000     12.900000         5.000000   \n",
       "75%            1498.000000  ...   190.000000     14.800000         5.000000   \n",
       "max            5000.000000  ...   310.000000     30.300000         6.000000   \n",
       "\n",
       "       Cargo Volumn   Wheel Size  Alloy Wheel Size    Torque_Nm   Torque_rpm  \\\n",
       "count   5949.000000  5386.000000       5386.000000  7537.000000  5401.000000   \n",
       "mean     359.526475    15.697549         15.697549   178.926507  3750.553601   \n",
       "std      124.448666     1.519683          1.519683   111.003267   881.173276   \n",
       "min       48.000000    12.000000         12.000000     7.800000  1000.000000   \n",
       "25%      268.000000    15.000000         15.000000   110.000000  3500.000000   \n",
       "50%      346.000000    16.000000         16.000000   140.000000  4000.000000   \n",
       "75%      455.000000    17.000000         17.000000   215.000000  4400.000000   \n",
       "max     1728.000000    21.000000         21.000000   800.000000  5000.000000   \n",
       "\n",
       "         power_bhp     power_rpm  \n",
       "count  7537.000000   7537.000000  \n",
       "mean    101.611503   5297.286055  \n",
       "std      42.391414   1198.449697  \n",
       "min      25.400000   3000.000000  \n",
       "25%      75.000000   4000.000000  \n",
       "50%      88.500000   6000.000000  \n",
       "75%     117.600000   6000.000000  \n",
       "max     576.630000  61000.000000  \n",
       "\n",
       "[8 rows x 33 columns]"
      ]
     },
     "execution_count": 3,
     "metadata": {},
     "output_type": "execute_result"
    }
   ],
   "source": [
    "merged_cars.describe()"
   ]
  },
  {
   "cell_type": "code",
   "execution_count": 4,
   "metadata": {},
   "outputs": [
    {
     "data": {
      "text/html": [
       "<div>\n",
       "<style scoped>\n",
       "    .dataframe tbody tr th:only-of-type {\n",
       "        vertical-align: middle;\n",
       "    }\n",
       "\n",
       "    .dataframe tbody tr th {\n",
       "        vertical-align: top;\n",
       "    }\n",
       "\n",
       "    .dataframe thead th {\n",
       "        text-align: right;\n",
       "    }\n",
       "</style>\n",
       "<table border=\"1\" class=\"dataframe\">\n",
       "  <thead>\n",
       "    <tr style=\"text-align: right;\">\n",
       "      <th></th>\n",
       "      <th>car_links</th>\n",
       "      <th>City</th>\n",
       "      <th>it</th>\n",
       "      <th>ft</th>\n",
       "      <th>bt</th>\n",
       "      <th>km</th>\n",
       "      <th>transmission</th>\n",
       "      <th>owner</th>\n",
       "      <th>oem</th>\n",
       "      <th>model</th>\n",
       "      <th>...</th>\n",
       "      <th>Acceleration</th>\n",
       "      <th>Tyre Type</th>\n",
       "      <th>No Door Numbers</th>\n",
       "      <th>Cargo Volumn</th>\n",
       "      <th>Wheel Size</th>\n",
       "      <th>Alloy Wheel Size</th>\n",
       "      <th>Torque_Nm</th>\n",
       "      <th>Torque_rpm</th>\n",
       "      <th>power_bhp</th>\n",
       "      <th>power_rpm</th>\n",
       "    </tr>\n",
       "  </thead>\n",
       "  <tbody>\n",
       "    <tr>\n",
       "      <th>0</th>\n",
       "      <td>https://www.cardekho.com/used-car-details/used...</td>\n",
       "      <td>bangalore</td>\n",
       "      <td>0</td>\n",
       "      <td>Petrol</td>\n",
       "      <td>Hatchback</td>\n",
       "      <td>120000</td>\n",
       "      <td>Manual</td>\n",
       "      <td>3</td>\n",
       "      <td>Maruti</td>\n",
       "      <td>Maruti Celerio</td>\n",
       "      <td>...</td>\n",
       "      <td>15.05</td>\n",
       "      <td>Tubeless, Radial</td>\n",
       "      <td>5.0</td>\n",
       "      <td>235.0</td>\n",
       "      <td>NaN</td>\n",
       "      <td>NaN</td>\n",
       "      <td>90.00</td>\n",
       "      <td>3500.0</td>\n",
       "      <td>67.04</td>\n",
       "      <td>6000.0</td>\n",
       "    </tr>\n",
       "    <tr>\n",
       "      <th>1</th>\n",
       "      <td>https://www.cardekho.com/buy-used-car-details/...</td>\n",
       "      <td>bangalore</td>\n",
       "      <td>0</td>\n",
       "      <td>Petrol</td>\n",
       "      <td>SUV</td>\n",
       "      <td>32706</td>\n",
       "      <td>Manual</td>\n",
       "      <td>2</td>\n",
       "      <td>Ford</td>\n",
       "      <td>Ford Ecosport</td>\n",
       "      <td>...</td>\n",
       "      <td>NaN</td>\n",
       "      <td>Tubeless,Radial</td>\n",
       "      <td>4.0</td>\n",
       "      <td>352.0</td>\n",
       "      <td>16.0</td>\n",
       "      <td>16.0</td>\n",
       "      <td>150.00</td>\n",
       "      <td>4500.0</td>\n",
       "      <td>121.31</td>\n",
       "      <td>6500.0</td>\n",
       "    </tr>\n",
       "    <tr>\n",
       "      <th>2</th>\n",
       "      <td>https://www.cardekho.com/used-car-details/used...</td>\n",
       "      <td>bangalore</td>\n",
       "      <td>0</td>\n",
       "      <td>Petrol</td>\n",
       "      <td>Hatchback</td>\n",
       "      <td>11949</td>\n",
       "      <td>Manual</td>\n",
       "      <td>1</td>\n",
       "      <td>Tata</td>\n",
       "      <td>Tata Tiago</td>\n",
       "      <td>...</td>\n",
       "      <td>14.30</td>\n",
       "      <td>Tubeless</td>\n",
       "      <td>5.0</td>\n",
       "      <td>242.0</td>\n",
       "      <td>14.0</td>\n",
       "      <td>14.0</td>\n",
       "      <td>114.00</td>\n",
       "      <td>3500.0</td>\n",
       "      <td>84.00</td>\n",
       "      <td>6000.0</td>\n",
       "    </tr>\n",
       "    <tr>\n",
       "      <th>3</th>\n",
       "      <td>https://www.cardekho.com/buy-used-car-details/...</td>\n",
       "      <td>bangalore</td>\n",
       "      <td>0</td>\n",
       "      <td>Petrol</td>\n",
       "      <td>Sedan</td>\n",
       "      <td>17794</td>\n",
       "      <td>Manual</td>\n",
       "      <td>1</td>\n",
       "      <td>Hyundai</td>\n",
       "      <td>Hyundai Xcent</td>\n",
       "      <td>...</td>\n",
       "      <td>14.20</td>\n",
       "      <td>Tubeless,Radial</td>\n",
       "      <td>4.0</td>\n",
       "      <td>407.0</td>\n",
       "      <td>14.0</td>\n",
       "      <td>14.0</td>\n",
       "      <td>113.75</td>\n",
       "      <td>4000.0</td>\n",
       "      <td>81.86</td>\n",
       "      <td>6000.0</td>\n",
       "    </tr>\n",
       "    <tr>\n",
       "      <th>4</th>\n",
       "      <td>https://www.cardekho.com/used-car-details/used...</td>\n",
       "      <td>bangalore</td>\n",
       "      <td>0</td>\n",
       "      <td>Diesel</td>\n",
       "      <td>SUV</td>\n",
       "      <td>60000</td>\n",
       "      <td>Manual</td>\n",
       "      <td>1</td>\n",
       "      <td>Maruti</td>\n",
       "      <td>Maruti SX4 S Cross</td>\n",
       "      <td>...</td>\n",
       "      <td>12.00</td>\n",
       "      <td>Tubeless,Radial</td>\n",
       "      <td>5.0</td>\n",
       "      <td>353.0</td>\n",
       "      <td>16.0</td>\n",
       "      <td>16.0</td>\n",
       "      <td>200.00</td>\n",
       "      <td>1750.0</td>\n",
       "      <td>88.50</td>\n",
       "      <td>4000.0</td>\n",
       "    </tr>\n",
       "  </tbody>\n",
       "</table>\n",
       "<p>5 rows × 62 columns</p>\n",
       "</div>"
      ],
      "text/plain": [
       "                                           car_links       City  it      ft  \\\n",
       "0  https://www.cardekho.com/used-car-details/used...  bangalore   0  Petrol   \n",
       "1  https://www.cardekho.com/buy-used-car-details/...  bangalore   0  Petrol   \n",
       "2  https://www.cardekho.com/used-car-details/used...  bangalore   0  Petrol   \n",
       "3  https://www.cardekho.com/buy-used-car-details/...  bangalore   0  Petrol   \n",
       "4  https://www.cardekho.com/used-car-details/used...  bangalore   0  Diesel   \n",
       "\n",
       "          bt      km transmission  owner      oem               model  ...  \\\n",
       "0  Hatchback  120000       Manual      3   Maruti      Maruti Celerio  ...   \n",
       "1        SUV   32706       Manual      2     Ford       Ford Ecosport  ...   \n",
       "2  Hatchback   11949       Manual      1     Tata          Tata Tiago  ...   \n",
       "3      Sedan   17794       Manual      1  Hyundai       Hyundai Xcent  ...   \n",
       "4        SUV   60000       Manual      1   Maruti  Maruti SX4 S Cross  ...   \n",
       "\n",
       "   Acceleration         Tyre Type No Door Numbers  Cargo Volumn  Wheel Size  \\\n",
       "0         15.05  Tubeless, Radial             5.0         235.0         NaN   \n",
       "1           NaN   Tubeless,Radial             4.0         352.0        16.0   \n",
       "2         14.30          Tubeless             5.0         242.0        14.0   \n",
       "3         14.20   Tubeless,Radial             4.0         407.0        14.0   \n",
       "4         12.00   Tubeless,Radial             5.0         353.0        16.0   \n",
       "\n",
       "   Alloy Wheel Size Torque_Nm Torque_rpm  power_bhp power_rpm  \n",
       "0               NaN     90.00     3500.0      67.04    6000.0  \n",
       "1              16.0    150.00     4500.0     121.31    6500.0  \n",
       "2              14.0    114.00     3500.0      84.00    6000.0  \n",
       "3              14.0    113.75     4000.0      81.86    6000.0  \n",
       "4              16.0    200.00     1750.0      88.50    4000.0  \n",
       "\n",
       "[5 rows x 62 columns]"
      ]
     },
     "execution_count": 4,
     "metadata": {},
     "output_type": "execute_result"
    }
   ],
   "source": [
    "merged_cars.head()"
   ]
  },
  {
   "cell_type": "code",
   "execution_count": 5,
   "metadata": {},
   "outputs": [
    {
     "data": {
      "text/plain": [
       "Index(['car_links', 'City', 'it', 'ft', 'bt', 'km', 'transmission', 'owner',\n",
       "       'oem', 'model', 'modelYear', 'centralVariantId', 'variantName', 'price',\n",
       "       'priceActual', 'Registration Year', 'Insurance Validity', 'Fuel Type',\n",
       "       'Seats', 'RTO', 'Engine Displacement', 'top', 'Comfort', 'Interior',\n",
       "       'Exterior', 'Safety', 'Entertainment', 'Mileage', 'Color',\n",
       "       'Engine Type', 'Displacement', 'No of Cylinder', 'Values per Cylinder',\n",
       "       'Value Configuration', 'Fuel Suppy System', 'Turbo Charger',\n",
       "       'Super Charger', 'Length', 'Width', 'Height', 'Wheel Base',\n",
       "       'Front Tread', 'Rear Tread', 'Kerb Weight', 'Gross Weight', 'Gear Box',\n",
       "       'Drive Type', 'Steering Type', 'Turning Radius', 'Front Brake Type',\n",
       "       'Rear Brake Type', 'Top Speed', 'Acceleration', 'Tyre Type',\n",
       "       'No Door Numbers', 'Cargo Volumn', 'Wheel Size', 'Alloy Wheel Size',\n",
       "       'Torque_Nm', 'Torque_rpm', 'power_bhp', 'power_rpm'],\n",
       "      dtype='object')"
      ]
     },
     "execution_count": 5,
     "metadata": {},
     "output_type": "execute_result"
    }
   ],
   "source": [
    "merged_cars.columns"
   ]
  },
  {
   "cell_type": "code",
   "execution_count": 6,
   "metadata": {},
   "outputs": [],
   "source": [
    "merged_cars = merged_cars.rename(columns={'bt': 'bodytype'})"
   ]
  },
  {
   "cell_type": "code",
   "execution_count": 7,
   "metadata": {},
   "outputs": [],
   "source": [
    "merged_cars = merged_cars.rename(columns={'Seats': 'seats'})"
   ]
  },
  {
   "cell_type": "code",
   "execution_count": 8,
   "metadata": {},
   "outputs": [],
   "source": [
    "merged_cars = merged_cars.rename(columns={'ft': 'fueltype'})"
   ]
  },
  {
   "cell_type": "code",
   "execution_count": 9,
   "metadata": {},
   "outputs": [],
   "source": [
    "merged_cars = merged_cars.rename(columns={'Insurance Validity': 'Insurance_Validity'})"
   ]
  },
  {
   "cell_type": "code",
   "execution_count": 10,
   "metadata": {},
   "outputs": [],
   "source": [
    "merged_cars = merged_cars.rename(columns={'Engine Displacement': 'Engine_CC'})"
   ]
  },
  {
   "cell_type": "code",
   "execution_count": 11,
   "metadata": {},
   "outputs": [],
   "source": [
    "merged_cars = merged_cars.rename(columns={'Gear Box': 'Gear_Box'})"
   ]
  },
  {
   "cell_type": "code",
   "execution_count": 12,
   "metadata": {},
   "outputs": [],
   "source": [
    "merged_cars = merged_cars.rename(columns={'Drive Type': 'Drive_Type'})"
   ]
  },
  {
   "cell_type": "markdown",
   "metadata": {},
   "source": [
    "Removing unwanted columns"
   ]
  },
  {
   "cell_type": "code",
   "execution_count": 13,
   "metadata": {},
   "outputs": [],
   "source": [
    "columns_to_keep = ['modelYear', 'fueltype', 'owner', 'bodytype', 'seats', 'km', \n",
    "                   'transmission', 'Insurance_Validity', 'Engine_CC', 'oem',\n",
    "                   'Gear_Box', 'Mileage', 'Drive_Type', 'City', 'price']\n",
    "\n",
    "merged_cars = merged_cars[columns_to_keep]"
   ]
  },
  {
   "cell_type": "code",
   "execution_count": 14,
   "metadata": {},
   "outputs": [
    {
     "data": {
      "text/html": [
       "<div>\n",
       "<style scoped>\n",
       "    .dataframe tbody tr th:only-of-type {\n",
       "        vertical-align: middle;\n",
       "    }\n",
       "\n",
       "    .dataframe tbody tr th {\n",
       "        vertical-align: top;\n",
       "    }\n",
       "\n",
       "    .dataframe thead th {\n",
       "        text-align: right;\n",
       "    }\n",
       "</style>\n",
       "<table border=\"1\" class=\"dataframe\">\n",
       "  <thead>\n",
       "    <tr style=\"text-align: right;\">\n",
       "      <th></th>\n",
       "      <th>modelYear</th>\n",
       "      <th>owner</th>\n",
       "      <th>seats</th>\n",
       "      <th>km</th>\n",
       "      <th>Engine_CC</th>\n",
       "      <th>Mileage</th>\n",
       "      <th>price</th>\n",
       "    </tr>\n",
       "  </thead>\n",
       "  <tbody>\n",
       "    <tr>\n",
       "      <th>count</th>\n",
       "      <td>8369.000000</td>\n",
       "      <td>8369.000000</td>\n",
       "      <td>8369.000000</td>\n",
       "      <td>8.369000e+03</td>\n",
       "      <td>8365.000000</td>\n",
       "      <td>8369.000000</td>\n",
       "      <td>8.369000e+03</td>\n",
       "    </tr>\n",
       "    <tr>\n",
       "      <th>mean</th>\n",
       "      <td>2016.503286</td>\n",
       "      <td>1.360139</td>\n",
       "      <td>5.199546</td>\n",
       "      <td>5.897430e+04</td>\n",
       "      <td>1424.735923</td>\n",
       "      <td>18.595508</td>\n",
       "      <td>9.569037e+05</td>\n",
       "    </tr>\n",
       "    <tr>\n",
       "      <th>std</th>\n",
       "      <td>3.921465</td>\n",
       "      <td>0.641958</td>\n",
       "      <td>0.678011</td>\n",
       "      <td>7.406100e+04</td>\n",
       "      <td>477.629144</td>\n",
       "      <td>5.288650</td>\n",
       "      <td>1.416203e+06</td>\n",
       "    </tr>\n",
       "    <tr>\n",
       "      <th>min</th>\n",
       "      <td>1985.000000</td>\n",
       "      <td>0.000000</td>\n",
       "      <td>0.000000</td>\n",
       "      <td>0.000000e+00</td>\n",
       "      <td>0.000000</td>\n",
       "      <td>0.000000</td>\n",
       "      <td>2.016100e+04</td>\n",
       "    </tr>\n",
       "    <tr>\n",
       "      <th>25%</th>\n",
       "      <td>2014.000000</td>\n",
       "      <td>1.000000</td>\n",
       "      <td>5.000000</td>\n",
       "      <td>3.000000e+04</td>\n",
       "      <td>1197.000000</td>\n",
       "      <td>16.800000</td>\n",
       "      <td>3.990000e+05</td>\n",
       "    </tr>\n",
       "    <tr>\n",
       "      <th>50%</th>\n",
       "      <td>2017.000000</td>\n",
       "      <td>1.000000</td>\n",
       "      <td>5.000000</td>\n",
       "      <td>5.369200e+04</td>\n",
       "      <td>1248.000000</td>\n",
       "      <td>18.900000</td>\n",
       "      <td>6.010000e+05</td>\n",
       "    </tr>\n",
       "    <tr>\n",
       "      <th>75%</th>\n",
       "      <td>2019.000000</td>\n",
       "      <td>2.000000</td>\n",
       "      <td>5.000000</td>\n",
       "      <td>8.000000e+04</td>\n",
       "      <td>1498.000000</td>\n",
       "      <td>21.400000</td>\n",
       "      <td>9.500000e+05</td>\n",
       "    </tr>\n",
       "    <tr>\n",
       "      <th>max</th>\n",
       "      <td>2023.000000</td>\n",
       "      <td>5.000000</td>\n",
       "      <td>10.000000</td>\n",
       "      <td>5.500000e+06</td>\n",
       "      <td>5000.000000</td>\n",
       "      <td>140.000000</td>\n",
       "      <td>4.150000e+07</td>\n",
       "    </tr>\n",
       "  </tbody>\n",
       "</table>\n",
       "</div>"
      ],
      "text/plain": [
       "         modelYear        owner        seats            km    Engine_CC  \\\n",
       "count  8369.000000  8369.000000  8369.000000  8.369000e+03  8365.000000   \n",
       "mean   2016.503286     1.360139     5.199546  5.897430e+04  1424.735923   \n",
       "std       3.921465     0.641958     0.678011  7.406100e+04   477.629144   \n",
       "min    1985.000000     0.000000     0.000000  0.000000e+00     0.000000   \n",
       "25%    2014.000000     1.000000     5.000000  3.000000e+04  1197.000000   \n",
       "50%    2017.000000     1.000000     5.000000  5.369200e+04  1248.000000   \n",
       "75%    2019.000000     2.000000     5.000000  8.000000e+04  1498.000000   \n",
       "max    2023.000000     5.000000    10.000000  5.500000e+06  5000.000000   \n",
       "\n",
       "           Mileage         price  \n",
       "count  8369.000000  8.369000e+03  \n",
       "mean     18.595508  9.569037e+05  \n",
       "std       5.288650  1.416203e+06  \n",
       "min       0.000000  2.016100e+04  \n",
       "25%      16.800000  3.990000e+05  \n",
       "50%      18.900000  6.010000e+05  \n",
       "75%      21.400000  9.500000e+05  \n",
       "max     140.000000  4.150000e+07  "
      ]
     },
     "execution_count": 14,
     "metadata": {},
     "output_type": "execute_result"
    }
   ],
   "source": [
    "merged_cars.describe()"
   ]
  },
  {
   "cell_type": "code",
   "execution_count": 15,
   "metadata": {},
   "outputs": [
    {
     "name": "stdout",
     "output_type": "stream",
     "text": [
      "<class 'pandas.core.frame.DataFrame'>\n",
      "RangeIndex: 8369 entries, 0 to 8368\n",
      "Data columns (total 15 columns):\n",
      " #   Column              Non-Null Count  Dtype  \n",
      "---  ------              --------------  -----  \n",
      " 0   modelYear           8369 non-null   int64  \n",
      " 1   fueltype            8369 non-null   object \n",
      " 2   owner               8369 non-null   int64  \n",
      " 3   bodytype            8369 non-null   object \n",
      " 4   seats               8369 non-null   int64  \n",
      " 5   km                  8369 non-null   int64  \n",
      " 6   transmission        8369 non-null   object \n",
      " 7   Insurance_Validity  8365 non-null   object \n",
      " 8   Engine_CC           8365 non-null   float64\n",
      " 9   oem                 8369 non-null   object \n",
      " 10  Gear_Box            8263 non-null   object \n",
      " 11  Mileage             8369 non-null   float64\n",
      " 12  Drive_Type          6809 non-null   object \n",
      " 13  City                8369 non-null   object \n",
      " 14  price               8369 non-null   float64\n",
      "dtypes: float64(3), int64(4), object(8)\n",
      "memory usage: 980.9+ KB\n"
     ]
    }
   ],
   "source": [
    "merged_cars.info()"
   ]
  },
  {
   "cell_type": "code",
   "execution_count": 16,
   "metadata": {},
   "outputs": [
    {
     "data": {
      "text/plain": [
       "Index(['modelYear', 'fueltype', 'owner', 'bodytype', 'seats', 'km',\n",
       "       'transmission', 'Insurance_Validity', 'Engine_CC', 'oem', 'Gear_Box',\n",
       "       'Mileage', 'Drive_Type', 'City', 'price'],\n",
       "      dtype='object')"
      ]
     },
     "execution_count": 16,
     "metadata": {},
     "output_type": "execute_result"
    }
   ],
   "source": [
    "merged_cars.columns"
   ]
  },
  {
   "cell_type": "code",
   "execution_count": 17,
   "metadata": {},
   "outputs": [
    {
     "data": {
      "text/html": [
       "<div>\n",
       "<style scoped>\n",
       "    .dataframe tbody tr th:only-of-type {\n",
       "        vertical-align: middle;\n",
       "    }\n",
       "\n",
       "    .dataframe tbody tr th {\n",
       "        vertical-align: top;\n",
       "    }\n",
       "\n",
       "    .dataframe thead th {\n",
       "        text-align: right;\n",
       "    }\n",
       "</style>\n",
       "<table border=\"1\" class=\"dataframe\">\n",
       "  <thead>\n",
       "    <tr style=\"text-align: right;\">\n",
       "      <th></th>\n",
       "      <th>modelYear</th>\n",
       "      <th>fueltype</th>\n",
       "      <th>owner</th>\n",
       "      <th>bodytype</th>\n",
       "      <th>seats</th>\n",
       "      <th>km</th>\n",
       "      <th>transmission</th>\n",
       "      <th>Insurance_Validity</th>\n",
       "      <th>Engine_CC</th>\n",
       "      <th>oem</th>\n",
       "      <th>Gear_Box</th>\n",
       "      <th>Mileage</th>\n",
       "      <th>Drive_Type</th>\n",
       "      <th>City</th>\n",
       "      <th>price</th>\n",
       "    </tr>\n",
       "  </thead>\n",
       "  <tbody>\n",
       "    <tr>\n",
       "      <th>0</th>\n",
       "      <td>2015</td>\n",
       "      <td>Petrol</td>\n",
       "      <td>3</td>\n",
       "      <td>Hatchback</td>\n",
       "      <td>5</td>\n",
       "      <td>120000</td>\n",
       "      <td>Manual</td>\n",
       "      <td>Third Party insurance</td>\n",
       "      <td>998.0</td>\n",
       "      <td>Maruti</td>\n",
       "      <td>5</td>\n",
       "      <td>23.1</td>\n",
       "      <td>FWD</td>\n",
       "      <td>bangalore</td>\n",
       "      <td>400000.0</td>\n",
       "    </tr>\n",
       "    <tr>\n",
       "      <th>1</th>\n",
       "      <td>2018</td>\n",
       "      <td>Petrol</td>\n",
       "      <td>2</td>\n",
       "      <td>SUV</td>\n",
       "      <td>5</td>\n",
       "      <td>32706</td>\n",
       "      <td>Manual</td>\n",
       "      <td>Comprehensive</td>\n",
       "      <td>1497.0</td>\n",
       "      <td>Ford</td>\n",
       "      <td>5</td>\n",
       "      <td>17.0</td>\n",
       "      <td>FWD</td>\n",
       "      <td>bangalore</td>\n",
       "      <td>811000.0</td>\n",
       "    </tr>\n",
       "  </tbody>\n",
       "</table>\n",
       "</div>"
      ],
      "text/plain": [
       "   modelYear fueltype  owner   bodytype  seats      km transmission  \\\n",
       "0       2015   Petrol      3  Hatchback      5  120000       Manual   \n",
       "1       2018   Petrol      2        SUV      5   32706       Manual   \n",
       "\n",
       "      Insurance_Validity  Engine_CC     oem Gear_Box  Mileage Drive_Type  \\\n",
       "0  Third Party insurance      998.0  Maruti        5     23.1        FWD   \n",
       "1          Comprehensive     1497.0    Ford        5     17.0        FWD   \n",
       "\n",
       "        City     price  \n",
       "0  bangalore  400000.0  \n",
       "1  bangalore  811000.0  "
      ]
     },
     "execution_count": 17,
     "metadata": {},
     "output_type": "execute_result"
    }
   ],
   "source": [
    "merged_cars.head(2)"
   ]
  },
  {
   "cell_type": "code",
   "execution_count": 18,
   "metadata": {},
   "outputs": [
    {
     "data": {
      "text/plain": [
       "modelYear                0\n",
       "fueltype                 0\n",
       "owner                    0\n",
       "bodytype                 0\n",
       "seats                    0\n",
       "km                       0\n",
       "transmission             0\n",
       "Insurance_Validity       4\n",
       "Engine_CC                4\n",
       "oem                      0\n",
       "Gear_Box               106\n",
       "Mileage                  0\n",
       "Drive_Type            1560\n",
       "City                     0\n",
       "price                    0\n",
       "dtype: int64"
      ]
     },
     "execution_count": 18,
     "metadata": {},
     "output_type": "execute_result"
    }
   ],
   "source": [
    "merged_cars.isna().sum()"
   ]
  },
  {
   "cell_type": "code",
   "execution_count": 19,
   "metadata": {},
   "outputs": [
    {
     "name": "stderr",
     "output_type": "stream",
     "text": [
      "C:\\Users\\USER\\AppData\\Local\\Temp\\ipykernel_12136\\2335653377.py:1: FutureWarning: A value is trying to be set on a copy of a DataFrame or Series through chained assignment using an inplace method.\n",
      "The behavior will change in pandas 3.0. This inplace method will never work because the intermediate object on which we are setting values always behaves as a copy.\n",
      "\n",
      "For example, when doing 'df[col].method(value, inplace=True)', try using 'df.method({col: value}, inplace=True)' or df[col] = df[col].method(value) instead, to perform the operation inplace on the original object.\n",
      "\n",
      "\n",
      "  merged_cars['Insurance_Validity'].fillna(merged_cars['Insurance_Validity'].mode()[0], inplace=True)\n"
     ]
    }
   ],
   "source": [
    "merged_cars['Insurance_Validity'].fillna(merged_cars['Insurance_Validity'].mode()[0], inplace=True)"
   ]
  },
  {
   "cell_type": "code",
   "execution_count": 20,
   "metadata": {},
   "outputs": [
    {
     "data": {
      "text/plain": [
       "np.float64(1248.0)"
      ]
     },
     "execution_count": 20,
     "metadata": {},
     "output_type": "execute_result"
    }
   ],
   "source": [
    "Engine_CC_median=merged_cars['Engine_CC'].median()\n",
    "Engine_CC_median"
   ]
  },
  {
   "cell_type": "code",
   "execution_count": 21,
   "metadata": {},
   "outputs": [
    {
     "name": "stderr",
     "output_type": "stream",
     "text": [
      "C:\\Users\\USER\\AppData\\Local\\Temp\\ipykernel_12136\\684121896.py:2: FutureWarning: A value is trying to be set on a copy of a DataFrame or Series through chained assignment using an inplace method.\n",
      "The behavior will change in pandas 3.0. This inplace method will never work because the intermediate object on which we are setting values always behaves as a copy.\n",
      "\n",
      "For example, when doing 'df[col].method(value, inplace=True)', try using 'df.method({col: value}, inplace=True)' or df[col] = df[col].method(value) instead, to perform the operation inplace on the original object.\n",
      "\n",
      "\n",
      "  merged_cars['Engine_CC'].fillna(Engine_CC_median, inplace=True)  # Using the median value\n"
     ]
    }
   ],
   "source": [
    "# Fill missing values in Engine Displacement with the median\n",
    "merged_cars['Engine_CC'].fillna(Engine_CC_median, inplace=True)  # Using the median value"
   ]
  },
  {
   "cell_type": "code",
   "execution_count": 22,
   "metadata": {},
   "outputs": [
    {
     "data": {
      "text/plain": [
       "0    18.9\n",
       "Name: Mileage, dtype: float64"
      ]
     },
     "execution_count": 22,
     "metadata": {},
     "output_type": "execute_result"
    }
   ],
   "source": [
    "Mileage_Mode=merged_cars['Mileage'].mode()\n",
    "Mileage_Mode"
   ]
  },
  {
   "cell_type": "code",
   "execution_count": 23,
   "metadata": {},
   "outputs": [
    {
     "name": "stderr",
     "output_type": "stream",
     "text": [
      "C:\\Users\\USER\\AppData\\Local\\Temp\\ipykernel_12136\\4125400453.py:1: FutureWarning: A value is trying to be set on a copy of a DataFrame or Series through chained assignment using an inplace method.\n",
      "The behavior will change in pandas 3.0. This inplace method will never work because the intermediate object on which we are setting values always behaves as a copy.\n",
      "\n",
      "For example, when doing 'df[col].method(value, inplace=True)', try using 'df.method({col: value}, inplace=True)' or df[col] = df[col].method(value) instead, to perform the operation inplace on the original object.\n",
      "\n",
      "\n",
      "  merged_cars['Mileage'].fillna(merged_cars['Mileage'].mean(), inplace=True)\n"
     ]
    }
   ],
   "source": [
    "merged_cars['Mileage'].fillna(merged_cars['Mileage'].mean(), inplace=True)"
   ]
  },
  {
   "cell_type": "code",
   "execution_count": 24,
   "metadata": {},
   "outputs": [
    {
     "data": {
      "text/plain": [
       "0    5\n",
       "Name: Gear_Box, dtype: object"
      ]
     },
     "execution_count": 24,
     "metadata": {},
     "output_type": "execute_result"
    }
   ],
   "source": [
    "Gear_Box_Mode =merged_cars['Gear_Box'].mode()\n",
    "Gear_Box_Mode"
   ]
  },
  {
   "cell_type": "code",
   "execution_count": 25,
   "metadata": {},
   "outputs": [
    {
     "data": {
      "text/plain": [
       "Index(['modelYear', 'fueltype', 'owner', 'bodytype', 'seats', 'km',\n",
       "       'transmission', 'Insurance_Validity', 'Engine_CC', 'oem', 'Gear_Box',\n",
       "       'Mileage', 'Drive_Type', 'City', 'price'],\n",
       "      dtype='object')"
      ]
     },
     "execution_count": 25,
     "metadata": {},
     "output_type": "execute_result"
    }
   ],
   "source": [
    "merged_cars.columns"
   ]
  },
  {
   "cell_type": "code",
   "execution_count": 26,
   "metadata": {},
   "outputs": [
    {
     "name": "stderr",
     "output_type": "stream",
     "text": [
      "C:\\Users\\USER\\AppData\\Local\\Temp\\ipykernel_12136\\2235985775.py:1: FutureWarning: A value is trying to be set on a copy of a DataFrame or Series through chained assignment using an inplace method.\n",
      "The behavior will change in pandas 3.0. This inplace method will never work because the intermediate object on which we are setting values always behaves as a copy.\n",
      "\n",
      "For example, when doing 'df[col].method(value, inplace=True)', try using 'df.method({col: value}, inplace=True)' or df[col] = df[col].method(value) instead, to perform the operation inplace on the original object.\n",
      "\n",
      "\n",
      "  merged_cars['Gear_Box'].fillna(Gear_Box_Mode, inplace=True)\n"
     ]
    }
   ],
   "source": [
    "merged_cars['Gear_Box'].fillna(Gear_Box_Mode, inplace=True)"
   ]
  },
  {
   "cell_type": "code",
   "execution_count": 27,
   "metadata": {},
   "outputs": [
    {
     "name": "stderr",
     "output_type": "stream",
     "text": [
      "<>:1: SyntaxWarning: invalid escape sequence '\\d'\n",
      "<>:1: SyntaxWarning: invalid escape sequence '\\d'\n",
      "C:\\Users\\USER\\AppData\\Local\\Temp\\ipykernel_12136\\3079107788.py:1: SyntaxWarning: invalid escape sequence '\\d'\n",
      "  merged_cars['Gear_Box'] = pd.to_numeric(merged_cars['Gear_Box'].str.extract('(\\d+)')[0])\n"
     ]
    }
   ],
   "source": [
    "merged_cars['Gear_Box'] = pd.to_numeric(merged_cars['Gear_Box'].str.extract('(\\d+)')[0])"
   ]
  },
  {
   "cell_type": "code",
   "execution_count": 28,
   "metadata": {},
   "outputs": [
    {
     "data": {
      "text/plain": [
       "np.float64(5.0)"
      ]
     },
     "execution_count": 28,
     "metadata": {},
     "output_type": "execute_result"
    }
   ],
   "source": [
    "Gear_Box_Mode=merged_cars['Gear_Box'].median()\n",
    "Gear_Box_Mode"
   ]
  },
  {
   "cell_type": "code",
   "execution_count": 29,
   "metadata": {},
   "outputs": [
    {
     "name": "stderr",
     "output_type": "stream",
     "text": [
      "C:\\Users\\USER\\AppData\\Local\\Temp\\ipykernel_12136\\2932375281.py:2: FutureWarning: A value is trying to be set on a copy of a DataFrame or Series through chained assignment using an inplace method.\n",
      "The behavior will change in pandas 3.0. This inplace method will never work because the intermediate object on which we are setting values always behaves as a copy.\n",
      "\n",
      "For example, when doing 'df[col].method(value, inplace=True)', try using 'df.method({col: value}, inplace=True)' or df[col] = df[col].method(value) instead, to perform the operation inplace on the original object.\n",
      "\n",
      "\n",
      "  merged_cars['Gear_Box'].fillna(Gear_Box_Mode, inplace=True)\n"
     ]
    }
   ],
   "source": [
    "# Fill NaN values with the mode\n",
    "merged_cars['Gear_Box'].fillna(Gear_Box_Mode, inplace=True)"
   ]
  },
  {
   "cell_type": "code",
   "execution_count": 30,
   "metadata": {},
   "outputs": [],
   "source": [
    "mapping = {\n",
    "    'FWD': 'FWD',\n",
    "    'FWD ': 'FWD',\n",
    "    'Front Wheel Drive': 'FWD',\n",
    "    'RWD': 'RWD',\n",
    "    'RWD ': 'RWD',\n",
    "    'Rear Wheel Drive with ESP': 'RWD',\n",
    "    'RWD(with MTT)': 'RWD',\n",
    "    '4WD': '4WD',\n",
    "    '4x4': '4WD',\n",
    "    '4X4': '4WD',\n",
    "    '4x2': '4WD',\n",
    "    '4X2': '4WD',\n",
    "    '2WD': 'RWD',  # or use 'FWD' based on your preference\n",
    "    '2 WD': 'RWD',  # same as above\n",
    "    'Two Wheel Drive': 'RWD',  # same as above\n",
    "    'AWD': 'AWD',\n",
    "    'All Wheel Drive': 'AWD',\n",
    "    'AWD INTEGRATED MANAGEMENT': 'AWD',\n",
    "    'Permanent all-wheel drive quattro': 'AWD',\n",
    "    'Real Wheel Drive':'RWD',\n",
    "    '4 WD': '4WD',\n",
    "    None: None  # Keep NaN as is\n",
    "}\n",
    "\n",
    "# Step 2: Map the values using the defined mapping\n",
    "merged_cars['Drive_Type'] = merged_cars['Drive_Type'].map(mapping)"
   ]
  },
  {
   "cell_type": "code",
   "execution_count": 31,
   "metadata": {},
   "outputs": [
    {
     "name": "stderr",
     "output_type": "stream",
     "text": [
      "C:\\Users\\USER\\AppData\\Local\\Temp\\ipykernel_12136\\1515355883.py:2: FutureWarning: A value is trying to be set on a copy of a DataFrame or Series through chained assignment using an inplace method.\n",
      "The behavior will change in pandas 3.0. This inplace method will never work because the intermediate object on which we are setting values always behaves as a copy.\n",
      "\n",
      "For example, when doing 'df[col].method(value, inplace=True)', try using 'df.method({col: value}, inplace=True)' or df[col] = df[col].method(value) instead, to perform the operation inplace on the original object.\n",
      "\n",
      "\n",
      "  merged_cars['Drive_Type'].fillna(mode_drive_type, inplace=True)\n"
     ]
    }
   ],
   "source": [
    "mode_drive_type = merged_cars['Drive_Type'].mode()[0]\n",
    "merged_cars['Drive_Type'].fillna(mode_drive_type, inplace=True)"
   ]
  },
  {
   "cell_type": "code",
   "execution_count": 32,
   "metadata": {},
   "outputs": [
    {
     "data": {
      "text/plain": [
       "modelYear             0\n",
       "fueltype              0\n",
       "owner                 0\n",
       "bodytype              0\n",
       "seats                 0\n",
       "km                    0\n",
       "transmission          0\n",
       "Insurance_Validity    0\n",
       "Engine_CC             0\n",
       "oem                   0\n",
       "Gear_Box              0\n",
       "Mileage               0\n",
       "Drive_Type            0\n",
       "City                  0\n",
       "price                 0\n",
       "dtype: int64"
      ]
     },
     "execution_count": 32,
     "metadata": {},
     "output_type": "execute_result"
    }
   ],
   "source": [
    "merged_cars.isna().sum()"
   ]
  },
  {
   "cell_type": "code",
   "execution_count": 33,
   "metadata": {},
   "outputs": [],
   "source": [
    "merged_cars.to_csv('merged_data.csv', index=False)"
   ]
  },
  {
   "cell_type": "markdown",
   "metadata": {},
   "source": [
    "Checking Frequency of each category"
   ]
  },
  {
   "cell_type": "code",
   "execution_count": 34,
   "metadata": {},
   "outputs": [
    {
     "data": {
      "text/plain": [
       "owner\n",
       "1    5882\n",
       "2    1982\n",
       "3     374\n",
       "4      80\n",
       "0      32\n",
       "5      19\n",
       "Name: count, dtype: int64"
      ]
     },
     "execution_count": 34,
     "metadata": {},
     "output_type": "execute_result"
    }
   ],
   "source": [
    "merged_cars['owner'].value_counts()"
   ]
  },
  {
   "cell_type": "code",
   "execution_count": 35,
   "metadata": {},
   "outputs": [
    {
     "data": {
      "text/plain": [
       "transmission\n",
       "Manual       6052\n",
       "Automatic    2317\n",
       "Name: count, dtype: int64"
      ]
     },
     "execution_count": 35,
     "metadata": {},
     "output_type": "execute_result"
    }
   ],
   "source": [
    "merged_cars['transmission'].value_counts()"
   ]
  },
  {
   "cell_type": "code",
   "execution_count": 36,
   "metadata": {},
   "outputs": [
    {
     "data": {
      "text/plain": [
       "bodytype\n",
       "Hatchback        3571\n",
       "SUV              2225\n",
       "Sedan            2174\n",
       "MUV               352\n",
       "Minivans           23\n",
       "Coupe              10\n",
       "Pickup Trucks       6\n",
       "Convertibles        6\n",
       "Hybrids             1\n",
       "Wagon               1\n",
       "Name: count, dtype: int64"
      ]
     },
     "execution_count": 36,
     "metadata": {},
     "output_type": "execute_result"
    }
   ],
   "source": [
    "merged_cars['bodytype'].value_counts()"
   ]
  },
  {
   "cell_type": "code",
   "execution_count": 37,
   "metadata": {},
   "outputs": [
    {
     "data": {
      "text/plain": [
       "fueltype\n",
       "Petrol      5554\n",
       "Diesel      2673\n",
       "Cng           98\n",
       "Electric      28\n",
       "Lpg           16\n",
       "Name: count, dtype: int64"
      ]
     },
     "execution_count": 37,
     "metadata": {},
     "output_type": "execute_result"
    }
   ],
   "source": [
    "merged_cars['fueltype'].value_counts()"
   ]
  },
  {
   "cell_type": "code",
   "execution_count": 38,
   "metadata": {},
   "outputs": [
    {
     "data": {
      "text/plain": [
       "Drive_Type\n",
       "FWD    7147\n",
       "RWD     648\n",
       "AWD     292\n",
       "4WD     282\n",
       "Name: count, dtype: int64"
      ]
     },
     "execution_count": 38,
     "metadata": {},
     "output_type": "execute_result"
    }
   ],
   "source": [
    "merged_cars['Drive_Type'].value_counts()"
   ]
  },
  {
   "cell_type": "code",
   "execution_count": 39,
   "metadata": {},
   "outputs": [
    {
     "data": {
      "text/plain": [
       "array(['Hatchback', 'SUV', 'Sedan', 'MUV', 'Coupe', 'Minivans',\n",
       "       'Pickup Trucks', 'Convertibles', 'Hybrids', 'Wagon'], dtype=object)"
      ]
     },
     "execution_count": 39,
     "metadata": {},
     "output_type": "execute_result"
    }
   ],
   "source": [
    "merged_cars['bodytype'].unique()"
   ]
  },
  {
   "cell_type": "code",
   "execution_count": 40,
   "metadata": {},
   "outputs": [
    {
     "data": {
      "text/plain": [
       "oem\n",
       "Maruti                2252\n",
       "Hyundai               1651\n",
       "Honda                  865\n",
       "Tata                   431\n",
       "Mahindra               377\n",
       "Toyota                 325\n",
       "Renault                312\n",
       "Ford                   311\n",
       "Volkswagen             294\n",
       "Mercedes-Benz          245\n",
       "BMW                    184\n",
       "Skoda                  161\n",
       "Kia                    158\n",
       "Audi                   156\n",
       "Jeep                   112\n",
       "MG                      90\n",
       "Nissan                  78\n",
       "Chevrolet               76\n",
       "Datsun                  74\n",
       "Land Rover              44\n",
       "Volvo                   41\n",
       "Jaguar                  35\n",
       "Fiat                    31\n",
       "Mitsubishi              14\n",
       "Mini                    12\n",
       "Citroen                  8\n",
       "Porsche                  6\n",
       "Lexus                    5\n",
       "Mahindra Renault         5\n",
       "Isuzu                    5\n",
       "Mahindra Ssangyong       4\n",
       "Hindustan Motors         4\n",
       "Opel                     3\n",
       "Name: count, dtype: int64"
      ]
     },
     "execution_count": 40,
     "metadata": {},
     "output_type": "execute_result"
    }
   ],
   "source": [
    "merged_cars['oem'].value_counts()"
   ]
  },
  {
   "cell_type": "code",
   "execution_count": 41,
   "metadata": {},
   "outputs": [
    {
     "data": {
      "text/plain": [
       "modelYear\n",
       "2018    980\n",
       "2017    945\n",
       "2016    815\n",
       "2019    789\n",
       "2021    686\n",
       "2020    612\n",
       "2015    605\n",
       "2014    588\n",
       "2022    563\n",
       "2013    400\n",
       "2012    339\n",
       "2011    272\n",
       "2010    254\n",
       "2009    144\n",
       "2023    104\n",
       "2008     85\n",
       "2007     56\n",
       "2006     44\n",
       "2004     25\n",
       "2005     20\n",
       "2003     13\n",
       "2002     10\n",
       "2001      9\n",
       "1998      3\n",
       "1995      2\n",
       "1985      2\n",
       "1999      2\n",
       "2000      1\n",
       "1997      1\n",
       "Name: count, dtype: int64"
      ]
     },
     "execution_count": 41,
     "metadata": {},
     "output_type": "execute_result"
    }
   ],
   "source": [
    "merged_cars['modelYear'].value_counts()"
   ]
  },
  {
   "cell_type": "code",
   "execution_count": 42,
   "metadata": {},
   "outputs": [
    {
     "data": {
      "text/plain": [
       "<Axes: xlabel='price', ylabel='Count'>"
      ]
     },
     "execution_count": 42,
     "metadata": {},
     "output_type": "execute_result"
    },
    {
     "data": {
      "image/png": "[encoded data removed]",
      "text/plain": [
       "<Figure size 640x480 with 1 Axes>"
      ]
     },
     "metadata": {},
     "output_type": "display_data"
    }
   ],
   "source": [
    "import seaborn as sns\n",
    "sns.histplot(merged_cars['price'], kde=True)"
   ]
  },
  {
   "cell_type": "code",
   "execution_count": 43,
   "metadata": {},
   "outputs": [
    {
     "data": {
      "text/plain": [
       "<Axes: ylabel='price'>"
      ]
     },
     "execution_count": 43,
     "metadata": {},
     "output_type": "execute_result"
    },
    {
     "data": {
      "image/png": "[encoded data removed]",
      "text/plain": [
       "<Figure size 640x480 with 1 Axes>"
      ]
     },
     "metadata": {},
     "output_type": "display_data"
    }
   ],
   "source": [
    "sns.boxplot(merged_cars['price'])"
   ]
  },
  {
   "cell_type": "code",
   "execution_count": 44,
   "metadata": {},
   "outputs": [
    {
     "data": {
      "text/plain": [
       "<seaborn.axisgrid.PairGrid at 0x21c2fbaffe0>"
      ]
     },
     "execution_count": 44,
     "metadata": {},
     "output_type": "execute_result"
    },
    {
     "data": {
      "image/png": "[encoded data removed]",
      "text/plain": [
       "<Figure size 500x500 with 6 Axes>"
      ]
     },
     "metadata": {},
     "output_type": "display_data"
    }
   ],
   "source": [
    "sns.pairplot(merged_cars[['km', 'modelYear']])"
   ]
  },
  {
   "cell_type": "code",
   "execution_count": 45,
   "metadata": {},
   "outputs": [
    {
     "data": {
      "text/plain": [
       "<Axes: xlabel='transmission', ylabel='price'>"
      ]
     },
     "execution_count": 45,
     "metadata": {},
     "output_type": "execute_result"
    },
    {
     "data": {
      "image/png": "[encoded data removed]",
      "text/plain": [
       "<Figure size 640x480 with 1 Axes>"
      ]
     },
     "metadata": {},
     "output_type": "display_data"
    }
   ],
   "source": [
    "sns.boxplot(x='transmission', y='price', data=merged_cars)"
   ]
  },
  {
   "cell_type": "code",
   "execution_count": 46,
   "metadata": {},
   "outputs": [
    {
     "data": {
      "image/png": "[encoded data removed]",
      "text/plain": [
       "<Figure size 1000x600 with 2 Axes>"
      ]
     },
     "metadata": {},
     "output_type": "display_data"
    }
   ],
   "source": [
    "import pandas as pd\n",
    "import matplotlib.pyplot as plt\n",
    "import numpy as np\n",
    "\n",
    "# Assuming `new_car` is already loaded as a DataFrame\n",
    "\n",
    "# Create the pivot table\n",
    "pivot = merged_cars.pivot_table(index='transmission', columns='owner', values='price', aggfunc='mean')\n",
    "\n",
    "# Plotting the heatmap using plt.imshow\n",
    "plt.figure(figsize=(10, 6))  # Adjust the figure size\n",
    "plt.imshow(pivot, interpolation='nearest', cmap='viridis')\n",
    "plt.colorbar(label='Mean Price')  # Add a colorbar with a label\n",
    "\n",
    "# Adding annotations\n",
    "for i in range(len(pivot.index)):\n",
    "    for j in range(len(pivot.columns)):\n",
    "        plt.text(j, i, f'{pivot.iloc[i, j]:.2f}', ha='center', va='center', color='white')\n",
    "\n",
    "# Formatting the plot\n",
    "plt.xticks(np.arange(len(pivot.columns)), pivot.columns, rotation=45)\n",
    "plt.yticks(np.arange(len(pivot.index)), pivot.index)\n",
    "plt.title('Mean Price by Transmission and OwnerNo', fontsize=14)\n",
    "plt.xlabel('OwnerNo')\n",
    "plt.ylabel('Transmission')\n",
    "\n",
    "# Show the plot\n",
    "plt.tight_layout()\n",
    "plt.show()\n"
   ]
  },
  {
   "cell_type": "code",
   "execution_count": 47,
   "metadata": {},
   "outputs": [
    {
     "data": {
      "text/plain": [
       "<Axes: xlabel='owner', ylabel='count'>"
      ]
     },
     "execution_count": 47,
     "metadata": {},
     "output_type": "execute_result"
    },
    {
     "data": {
      "image/png": "[encoded data removed]",
      "text/plain": [
       "<Figure size 640x480 with 1 Axes>"
      ]
     },
     "metadata": {},
     "output_type": "display_data"
    }
   ],
   "source": [
    "sns.countplot(x='owner', data=merged_cars)"
   ]
  },
  {
   "cell_type": "code",
   "execution_count": 48,
   "metadata": {},
   "outputs": [
    {
     "data": {
      "text/html": [
       "<div>\n",
       "<style scoped>\n",
       "    .dataframe tbody tr th:only-of-type {\n",
       "        vertical-align: middle;\n",
       "    }\n",
       "\n",
       "    .dataframe tbody tr th {\n",
       "        vertical-align: top;\n",
       "    }\n",
       "\n",
       "    .dataframe thead th {\n",
       "        text-align: right;\n",
       "    }\n",
       "</style>\n",
       "<table border=\"1\" class=\"dataframe\">\n",
       "  <thead>\n",
       "    <tr style=\"text-align: right;\">\n",
       "      <th></th>\n",
       "      <th>modelYear</th>\n",
       "      <th>fueltype</th>\n",
       "      <th>owner</th>\n",
       "      <th>bodytype</th>\n",
       "      <th>seats</th>\n",
       "      <th>km</th>\n",
       "      <th>transmission</th>\n",
       "      <th>Insurance_Validity</th>\n",
       "      <th>Engine_CC</th>\n",
       "      <th>oem</th>\n",
       "      <th>Gear_Box</th>\n",
       "      <th>Mileage</th>\n",
       "      <th>Drive_Type</th>\n",
       "      <th>City</th>\n",
       "      <th>price</th>\n",
       "    </tr>\n",
       "  </thead>\n",
       "  <tbody>\n",
       "    <tr>\n",
       "      <th>0</th>\n",
       "      <td>2015</td>\n",
       "      <td>Petrol</td>\n",
       "      <td>3</td>\n",
       "      <td>Hatchback</td>\n",
       "      <td>5</td>\n",
       "      <td>120000</td>\n",
       "      <td>Manual</td>\n",
       "      <td>Third Party insurance</td>\n",
       "      <td>998.0</td>\n",
       "      <td>Maruti</td>\n",
       "      <td>5.0</td>\n",
       "      <td>23.10</td>\n",
       "      <td>FWD</td>\n",
       "      <td>bangalore</td>\n",
       "      <td>400000.0</td>\n",
       "    </tr>\n",
       "    <tr>\n",
       "      <th>1</th>\n",
       "      <td>2018</td>\n",
       "      <td>Petrol</td>\n",
       "      <td>2</td>\n",
       "      <td>SUV</td>\n",
       "      <td>5</td>\n",
       "      <td>32706</td>\n",
       "      <td>Manual</td>\n",
       "      <td>Comprehensive</td>\n",
       "      <td>1497.0</td>\n",
       "      <td>Ford</td>\n",
       "      <td>5.0</td>\n",
       "      <td>17.00</td>\n",
       "      <td>FWD</td>\n",
       "      <td>bangalore</td>\n",
       "      <td>811000.0</td>\n",
       "    </tr>\n",
       "    <tr>\n",
       "      <th>2</th>\n",
       "      <td>2018</td>\n",
       "      <td>Petrol</td>\n",
       "      <td>1</td>\n",
       "      <td>Hatchback</td>\n",
       "      <td>5</td>\n",
       "      <td>11949</td>\n",
       "      <td>Manual</td>\n",
       "      <td>Comprehensive</td>\n",
       "      <td>1199.0</td>\n",
       "      <td>Tata</td>\n",
       "      <td>5.0</td>\n",
       "      <td>23.84</td>\n",
       "      <td>FWD</td>\n",
       "      <td>bangalore</td>\n",
       "      <td>585000.0</td>\n",
       "    </tr>\n",
       "    <tr>\n",
       "      <th>3</th>\n",
       "      <td>2014</td>\n",
       "      <td>Petrol</td>\n",
       "      <td>1</td>\n",
       "      <td>Sedan</td>\n",
       "      <td>5</td>\n",
       "      <td>17794</td>\n",
       "      <td>Manual</td>\n",
       "      <td>Comprehensive</td>\n",
       "      <td>1197.0</td>\n",
       "      <td>Hyundai</td>\n",
       "      <td>5.0</td>\n",
       "      <td>19.10</td>\n",
       "      <td>FWD</td>\n",
       "      <td>bangalore</td>\n",
       "      <td>462000.0</td>\n",
       "    </tr>\n",
       "    <tr>\n",
       "      <th>4</th>\n",
       "      <td>2015</td>\n",
       "      <td>Diesel</td>\n",
       "      <td>1</td>\n",
       "      <td>SUV</td>\n",
       "      <td>5</td>\n",
       "      <td>60000</td>\n",
       "      <td>Manual</td>\n",
       "      <td>Third Party insurance</td>\n",
       "      <td>1248.0</td>\n",
       "      <td>Maruti</td>\n",
       "      <td>5.0</td>\n",
       "      <td>23.65</td>\n",
       "      <td>FWD</td>\n",
       "      <td>bangalore</td>\n",
       "      <td>790000.0</td>\n",
       "    </tr>\n",
       "  </tbody>\n",
       "</table>\n",
       "</div>"
      ],
      "text/plain": [
       "   modelYear fueltype  owner   bodytype  seats      km transmission  \\\n",
       "0       2015   Petrol      3  Hatchback      5  120000       Manual   \n",
       "1       2018   Petrol      2        SUV      5   32706       Manual   \n",
       "2       2018   Petrol      1  Hatchback      5   11949       Manual   \n",
       "3       2014   Petrol      1      Sedan      5   17794       Manual   \n",
       "4       2015   Diesel      1        SUV      5   60000       Manual   \n",
       "\n",
       "      Insurance_Validity  Engine_CC      oem  Gear_Box  Mileage Drive_Type  \\\n",
       "0  Third Party insurance      998.0   Maruti       5.0    23.10        FWD   \n",
       "1          Comprehensive     1497.0     Ford       5.0    17.00        FWD   \n",
       "2          Comprehensive     1199.0     Tata       5.0    23.84        FWD   \n",
       "3          Comprehensive     1197.0  Hyundai       5.0    19.10        FWD   \n",
       "4  Third Party insurance     1248.0   Maruti       5.0    23.65        FWD   \n",
       "\n",
       "        City     price  \n",
       "0  bangalore  400000.0  \n",
       "1  bangalore  811000.0  \n",
       "2  bangalore  585000.0  \n",
       "3  bangalore  462000.0  \n",
       "4  bangalore  790000.0  "
      ]
     },
     "execution_count": 48,
     "metadata": {},
     "output_type": "execute_result"
    }
   ],
   "source": [
    "merged_cars.head(5)"
   ]
  },
  {
   "cell_type": "code",
   "execution_count": 49,
   "metadata": {},
   "outputs": [
    {
     "data": {
      "text/plain": [
       "(8294, 15)"
      ]
     },
     "execution_count": 49,
     "metadata": {},
     "output_type": "execute_result"
    }
   ],
   "source": [
    "# Ensure all relevant columns are numerical\n",
    "numerical_cols_o = merged_cars.select_dtypes(include=['number']).columns\n",
    "\n",
    "# Calculate Q1 and Q3 for numerical columns\n",
    "Q1 = merged_cars[numerical_cols_o].quantile(0.05)\n",
    "Q3 = merged_cars[numerical_cols_o].quantile(0.95)\n",
    "\n",
    "# Calculate IQR for numerical columns\n",
    "IQR = Q3 - Q1\n",
    "\n",
    "# Remove outliers from numerical columns\n",
    "car_df = merged_cars[~((merged_cars[numerical_cols_o] < (Q1 - 1.5 * IQR)) |(merged_cars[numerical_cols_o] > (Q3 + 1.5 * IQR))).any(axis=1)]\n",
    "\n",
    "car_df.shape"
   ]
  },
  {
   "cell_type": "code",
   "execution_count": 50,
   "metadata": {},
   "outputs": [
    {
     "data": {
      "text/html": [
       "<div>\n",
       "<style scoped>\n",
       "    .dataframe tbody tr th:only-of-type {\n",
       "        vertical-align: middle;\n",
       "    }\n",
       "\n",
       "    .dataframe tbody tr th {\n",
       "        vertical-align: top;\n",
       "    }\n",
       "\n",
       "    .dataframe thead th {\n",
       "        text-align: right;\n",
       "    }\n",
       "</style>\n",
       "<table border=\"1\" class=\"dataframe\">\n",
       "  <thead>\n",
       "    <tr style=\"text-align: right;\">\n",
       "      <th></th>\n",
       "      <th>modelYear</th>\n",
       "      <th>fueltype</th>\n",
       "      <th>owner</th>\n",
       "      <th>bodytype</th>\n",
       "      <th>seats</th>\n",
       "      <th>km</th>\n",
       "      <th>transmission</th>\n",
       "      <th>Insurance_Validity</th>\n",
       "      <th>Engine_CC</th>\n",
       "      <th>oem</th>\n",
       "      <th>Gear_Box</th>\n",
       "      <th>Mileage</th>\n",
       "      <th>Drive_Type</th>\n",
       "      <th>City</th>\n",
       "      <th>price</th>\n",
       "    </tr>\n",
       "  </thead>\n",
       "  <tbody>\n",
       "    <tr>\n",
       "      <th>0</th>\n",
       "      <td>2015</td>\n",
       "      <td>Petrol</td>\n",
       "      <td>3</td>\n",
       "      <td>Hatchback</td>\n",
       "      <td>5</td>\n",
       "      <td>120000</td>\n",
       "      <td>Manual</td>\n",
       "      <td>Third Party insurance</td>\n",
       "      <td>998.0</td>\n",
       "      <td>Maruti</td>\n",
       "      <td>5.0</td>\n",
       "      <td>23.10</td>\n",
       "      <td>FWD</td>\n",
       "      <td>bangalore</td>\n",
       "      <td>400000.0</td>\n",
       "    </tr>\n",
       "    <tr>\n",
       "      <th>1</th>\n",
       "      <td>2018</td>\n",
       "      <td>Petrol</td>\n",
       "      <td>2</td>\n",
       "      <td>SUV</td>\n",
       "      <td>5</td>\n",
       "      <td>32706</td>\n",
       "      <td>Manual</td>\n",
       "      <td>Comprehensive</td>\n",
       "      <td>1497.0</td>\n",
       "      <td>Ford</td>\n",
       "      <td>5.0</td>\n",
       "      <td>17.00</td>\n",
       "      <td>FWD</td>\n",
       "      <td>bangalore</td>\n",
       "      <td>811000.0</td>\n",
       "    </tr>\n",
       "    <tr>\n",
       "      <th>2</th>\n",
       "      <td>2018</td>\n",
       "      <td>Petrol</td>\n",
       "      <td>1</td>\n",
       "      <td>Hatchback</td>\n",
       "      <td>5</td>\n",
       "      <td>11949</td>\n",
       "      <td>Manual</td>\n",
       "      <td>Comprehensive</td>\n",
       "      <td>1199.0</td>\n",
       "      <td>Tata</td>\n",
       "      <td>5.0</td>\n",
       "      <td>23.84</td>\n",
       "      <td>FWD</td>\n",
       "      <td>bangalore</td>\n",
       "      <td>585000.0</td>\n",
       "    </tr>\n",
       "    <tr>\n",
       "      <th>3</th>\n",
       "      <td>2014</td>\n",
       "      <td>Petrol</td>\n",
       "      <td>1</td>\n",
       "      <td>Sedan</td>\n",
       "      <td>5</td>\n",
       "      <td>17794</td>\n",
       "      <td>Manual</td>\n",
       "      <td>Comprehensive</td>\n",
       "      <td>1197.0</td>\n",
       "      <td>Hyundai</td>\n",
       "      <td>5.0</td>\n",
       "      <td>19.10</td>\n",
       "      <td>FWD</td>\n",
       "      <td>bangalore</td>\n",
       "      <td>462000.0</td>\n",
       "    </tr>\n",
       "    <tr>\n",
       "      <th>4</th>\n",
       "      <td>2015</td>\n",
       "      <td>Diesel</td>\n",
       "      <td>1</td>\n",
       "      <td>SUV</td>\n",
       "      <td>5</td>\n",
       "      <td>60000</td>\n",
       "      <td>Manual</td>\n",
       "      <td>Third Party insurance</td>\n",
       "      <td>1248.0</td>\n",
       "      <td>Maruti</td>\n",
       "      <td>5.0</td>\n",
       "      <td>23.65</td>\n",
       "      <td>FWD</td>\n",
       "      <td>bangalore</td>\n",
       "      <td>790000.0</td>\n",
       "    </tr>\n",
       "  </tbody>\n",
       "</table>\n",
       "</div>"
      ],
      "text/plain": [
       "   modelYear fueltype  owner   bodytype  seats      km transmission  \\\n",
       "0       2015   Petrol      3  Hatchback      5  120000       Manual   \n",
       "1       2018   Petrol      2        SUV      5   32706       Manual   \n",
       "2       2018   Petrol      1  Hatchback      5   11949       Manual   \n",
       "3       2014   Petrol      1      Sedan      5   17794       Manual   \n",
       "4       2015   Diesel      1        SUV      5   60000       Manual   \n",
       "\n",
       "      Insurance_Validity  Engine_CC      oem  Gear_Box  Mileage Drive_Type  \\\n",
       "0  Third Party insurance      998.0   Maruti       5.0    23.10        FWD   \n",
       "1          Comprehensive     1497.0     Ford       5.0    17.00        FWD   \n",
       "2          Comprehensive     1199.0     Tata       5.0    23.84        FWD   \n",
       "3          Comprehensive     1197.0  Hyundai       5.0    19.10        FWD   \n",
       "4  Third Party insurance     1248.0   Maruti       5.0    23.65        FWD   \n",
       "\n",
       "        City     price  \n",
       "0  bangalore  400000.0  \n",
       "1  bangalore  811000.0  \n",
       "2  bangalore  585000.0  \n",
       "3  bangalore  462000.0  \n",
       "4  bangalore  790000.0  "
      ]
     },
     "execution_count": 50,
     "metadata": {},
     "output_type": "execute_result"
    }
   ],
   "source": [
    "merged_cars.head(5)"
   ]
  },
  {
   "cell_type": "code",
   "execution_count": 51,
   "metadata": {},
   "outputs": [
    {
     "data": {
      "text/plain": [
       "bodytype\n",
       "Hatchback        3571\n",
       "SUV              2225\n",
       "Sedan            2174\n",
       "MUV               352\n",
       "Minivans           23\n",
       "Coupe              10\n",
       "Pickup Trucks       6\n",
       "Convertibles        6\n",
       "Hybrids             1\n",
       "Wagon               1\n",
       "Name: count, dtype: int64"
      ]
     },
     "execution_count": 51,
     "metadata": {},
     "output_type": "execute_result"
    }
   ],
   "source": [
    "bodytype_counts = merged_cars['bodytype'].value_counts()\n",
    "bodytype_counts\n"
   ]
  },
  {
   "cell_type": "code",
   "execution_count": 52,
   "metadata": {},
   "outputs": [
    {
     "name": "stdout",
     "output_type": "stream",
     "text": [
      "0: Maruti -> 20\n",
      "1: Ford -> 6\n",
      "2: Tata -> 29\n",
      "3: Hyundai -> 9\n",
      "4: Jeep -> 12\n",
      "5: Datsun -> 4\n",
      "6: Honda -> 8\n",
      "7: Mahindra -> 17\n",
      "8: Mercedes-Benz -> 21\n",
      "9: BMW -> 1\n",
      "10: Renault -> 27\n",
      "11: Audi -> 0\n",
      "12: Toyota -> 30\n",
      "13: Mini -> 22\n",
      "14: Kia -> 13\n",
      "15: Skoda -> 28\n",
      "16: Volkswagen -> 31\n",
      "17: Volvo -> 32\n",
      "18: MG -> 16\n",
      "19: Nissan -> 24\n",
      "20: Fiat -> 5\n",
      "21: Mahindra Ssangyong -> 19\n",
      "22: Mitsubishi -> 23\n",
      "23: Jaguar -> 11\n",
      "24: Land Rover -> 14\n",
      "25: Chevrolet -> 2\n",
      "26: Citroen -> 3\n",
      "27: Opel -> 25\n",
      "28: Mahindra Renault -> 18\n",
      "29: Isuzu -> 10\n",
      "30: Lexus -> 15\n",
      "31: Porsche -> 26\n",
      "32: Hindustan Motors -> 7\n"
     ]
    }
   ],
   "source": [
    "from sklearn.preprocessing import LabelEncoder\n",
    "\n",
    "# Initialize the LabelEncoder\n",
    "le = LabelEncoder()\n",
    "\n",
    "# Fit and transform the categorical column\n",
    "merged_cars['oem_encoded2'] = le.fit_transform(merged_cars['oem'])\n",
    "\n",
    "# Create a dictionary to map original categories to encoded values\n",
    "d_oem = dict(zip(merged_cars['oem'].unique(), le.transform(merged_cars['oem'].unique())))\n",
    "\n",
    "# Display the encoded values\n",
    "for idx, (category, encoded) in enumerate(d_oem.items()):\n",
    "    print(f\"{idx}: {category} -> {encoded}\")\n"
   ]
  },
  {
   "cell_type": "code",
   "execution_count": 53,
   "metadata": {},
   "outputs": [
    {
     "name": "stdout",
     "output_type": "stream",
     "text": [
      "0: bangalore -> 0\n",
      "1: chennai -> 1\n",
      "2: delhi -> 2\n",
      "3: hyderabad -> 3\n",
      "4: jaipur -> 4\n",
      "5: kolkata -> 5\n"
     ]
    }
   ],
   "source": [
    "from sklearn.preprocessing import LabelEncoder\n",
    "\n",
    "# Initialize the LabelEncoder\n",
    "le = LabelEncoder()\n",
    "\n",
    "# Fit and transform the categorical data\n",
    "merged_cars['city_encoded2'] = le.fit_transform(merged_cars['City'])\n",
    "\n",
    "# Create a dictionary mapping unique city names to their encoded values\n",
    "d_city = dict(zip(merged_cars['City'].unique(), le.transform(merged_cars['City'].unique())))\n",
    "\n",
    "# Display the encoded values\n",
    "for idx, (category, encoded) in enumerate(d_city.items()):\n",
    "    print(f\"{idx}: {category} -> {encoded}\")"
   ]
  },
  {
   "cell_type": "code",
   "execution_count": 54,
   "metadata": {},
   "outputs": [
    {
     "name": "stdout",
     "output_type": "stream",
     "text": [
      "0: Hatchback -> 2\n",
      "1: SUV -> 7\n",
      "2: Sedan -> 8\n",
      "3: MUV -> 4\n",
      "4: Coupe -> 1\n",
      "5: Minivans -> 5\n",
      "6: Pickup Trucks -> 6\n",
      "7: Convertibles -> 0\n",
      "8: Hybrids -> 3\n",
      "9: Wagon -> 9\n"
     ]
    }
   ],
   "source": [
    "from sklearn.preprocessing import LabelEncoder\n",
    "\n",
    "# Initialize the LabelEncoder\n",
    "le = LabelEncoder()\n",
    "\n",
    "# Fit and transform the categorical data\n",
    "merged_cars['bodytype_encoded2'] = le.fit_transform(merged_cars['bodytype'])\n",
    "\n",
    "# Create a dictionary mapping bodytype categories to their encoded values\n",
    "d_bodytype = {category: encoded for category, encoded in zip(merged_cars['bodytype'].unique(), le.transform(merged_cars['bodytype'].unique()))}\n",
    "\n",
    "# Display the encoded values\n",
    "for idx, (category, encoded) in enumerate(d_bodytype.items()):\n",
    "    print(f\"{idx}: {category} -> {encoded}\")"
   ]
  },
  {
   "cell_type": "code",
   "execution_count": 55,
   "metadata": {},
   "outputs": [
    {
     "name": "stdout",
     "output_type": "stream",
     "text": [
      "0: Petrol -> 4\n",
      "1: Diesel -> 1\n",
      "2: Lpg -> 3\n",
      "3: Cng -> 0\n",
      "4: Electric -> 2\n"
     ]
    }
   ],
   "source": [
    "from sklearn.preprocessing import LabelEncoder\n",
    "\n",
    "# Initialize the LabelEncoder\n",
    "le = LabelEncoder()\n",
    "\n",
    "# Fit and transform the categorical data\n",
    "merged_cars['fueltype_encoded2'] = le.fit_transform(merged_cars['fueltype'])\n",
    "\n",
    "# Create a dictionary mapping unique fuel types to their encoded values\n",
    "d_fueltype = dict(zip(merged_cars['fueltype'].unique(), le.transform(merged_cars['fueltype'].unique())))\n",
    "\n",
    "# Display the encoded values\n",
    "for idx, (category, encoded) in enumerate(d_fueltype.items()):\n",
    "    print(f\"{idx}: {category} -> {encoded}\")"
   ]
  },
  {
   "cell_type": "code",
   "execution_count": 56,
   "metadata": {},
   "outputs": [
    {
     "name": "stdout",
     "output_type": "stream",
     "text": [
      "0: Manual -> 1\n",
      "1: Automatic -> 0\n"
     ]
    }
   ],
   "source": [
    "from sklearn.preprocessing import LabelEncoder\n",
    "\n",
    "# Initialize the LabelEncoder\n",
    "le = LabelEncoder()\n",
    "\n",
    "# Fit and transform the categorical data\n",
    "merged_cars['transmission_encoded2'] = le.fit_transform(merged_cars['transmission'])\n",
    "\n",
    "# Create a dictionary mapping unique transmission types to their encoded values\n",
    "d_transmission = {category: encoded for category, encoded in zip(merged_cars['transmission'].unique(), le.transform(merged_cars['transmission'].unique()))}\n",
    "\n",
    "# Display the encoded values\n",
    "for idx, (category, encoded) in enumerate(d_transmission.items()):\n",
    "    print(f\"{idx}: {category} -> {encoded}\")"
   ]
  },
  {
   "cell_type": "code",
   "execution_count": 57,
   "metadata": {},
   "outputs": [
    {
     "name": "stdout",
     "output_type": "stream",
     "text": [
      "0: FWD -> 2\n",
      "1: 4WD -> 0\n",
      "2: AWD -> 1\n",
      "3: RWD -> 3\n"
     ]
    }
   ],
   "source": [
    "from sklearn.preprocessing import LabelEncoder\n",
    "\n",
    "# Initialize the LabelEncoder\n",
    "le = LabelEncoder()\n",
    "\n",
    "# Fit and transform the categorical data\n",
    "merged_cars['DriveType_encoded2'] = le.fit_transform(merged_cars['Drive_Type'])\n",
    "\n",
    "# Create a dictionary mapping unique DriveType categories to their encoded values\n",
    "d_drivetype = dict(zip(merged_cars['Drive_Type'].unique(), le.transform(merged_cars['Drive_Type'].unique())))\n",
    "\n",
    "# Display the encoded values\n",
    "for idx, (category, encoded) in enumerate(d_drivetype.items()):\n",
    "    print(f\"{idx}: {category} -> {encoded}\")"
   ]
  },
  {
   "cell_type": "code",
   "execution_count": 58,
   "metadata": {},
   "outputs": [
    {
     "name": "stdout",
     "output_type": "stream",
     "text": [
      "0: Third Party insurance -> 5\n",
      "1: Comprehensive -> 2\n",
      "2: Third Party -> 4\n",
      "3: Zero Dep -> 6\n",
      "4: 2 -> 1\n",
      "5: 1 -> 0\n",
      "6: Not Available -> 3\n"
     ]
    }
   ],
   "source": [
    "from sklearn.preprocessing import LabelEncoder\n",
    "\n",
    "# Initialize the LabelEncoder\n",
    "le = LabelEncoder()\n",
    "\n",
    "# Fit and transform the categorical data\n",
    "merged_cars['Insurance_Validity_encoded2'] = le.fit_transform(merged_cars['Insurance_Validity'])\n",
    "\n",
    "# Create a dictionary mapping unique Insurance categories to their encoded values\n",
    "d_Insurance = {category: encoded for category, encoded in zip(merged_cars['Insurance_Validity'].unique(), le.transform(merged_cars['Insurance_Validity'].unique()))}\n",
    "\n",
    "# Display the encoded values\n",
    "for idx, (category, encoded) in enumerate(d_Insurance.items()):\n",
    "    print(f\"{idx}: {category} -> {encoded}\")"
   ]
  },
  {
   "cell_type": "code",
   "execution_count": 59,
   "metadata": {},
   "outputs": [
    {
     "data": {
      "text/plain": [
       "Index(['modelYear', 'fueltype', 'owner', 'bodytype', 'seats', 'km',\n",
       "       'transmission', 'Insurance_Validity', 'Engine_CC', 'oem', 'Gear_Box',\n",
       "       'Mileage', 'Drive_Type', 'City', 'price', 'oem_encoded2',\n",
       "       'city_encoded2', 'bodytype_encoded2', 'fueltype_encoded2',\n",
       "       'transmission_encoded2', 'DriveType_encoded2',\n",
       "       'Insurance_Validity_encoded2'],\n",
       "      dtype='object')"
      ]
     },
     "execution_count": 59,
     "metadata": {},
     "output_type": "execute_result"
    }
   ],
   "source": [
    "merged_cars.columns"
   ]
  },
  {
   "cell_type": "code",
   "execution_count": 60,
   "metadata": {},
   "outputs": [],
   "source": [
    "new_feature = ['Gearbox','Year of Manufacture','modelYear','kms driven',\n",
    "'Mileage','owner','seats','Registration Year','Engine Displacement',\n",
    "'city_encoded1','oem_encoded1','bodytype_encoded1','fueltype_encoded1',\n",
    "'transmission_encoded1','DriveType_encoded1','Insurance_Validity_encoded2']"
   ]
  },
  {
   "cell_type": "code",
   "execution_count": 61,
   "metadata": {},
   "outputs": [],
   "source": [
    "numerical_columns = ['seats', 'km', 'modelYear', 'owner', 'Engine_CC', 'Gear_Box',\n",
    "       'Mileage']\n",
    "\n",
    "categorical_columns =['bodytype', 'fueltype', 'transmission', 'Insurance_Validity', 'oem', 'Drive_Type',\n",
    "       'City']"
   ]
  },
  {
   "cell_type": "code",
   "execution_count": 62,
   "metadata": {},
   "outputs": [],
   "source": [
    "from sklearn.model_selection import train_test_split\n",
    "from sklearn.ensemble import RandomForestRegressor\n",
    "from sklearn.metrics import mean_squared_error\n",
    "import pandas as pd\n",
    "from sklearn.preprocessing import MinMaxScaler, LabelEncoder, OneHotEncoder\n",
    "from sklearn.model_selection import train_test_split\n",
    "from sklearn.preprocessing import LabelEncoder\n",
    "\n",
    "from sklearn.metrics import r2_score\n",
    "X = car_df[numerical_columns + categorical_columns]\n",
    "y = car_df['price']\n",
    "\n",
    "\n",
    "categorical_columns_label = ['bodytype']  # Columns to label encode\n",
    "categorical_columns_one_hot = ['fueltype', 'transmission', 'Insurance_Validity', 'oem', 'Drive_Type', 'City']  # Columns to one-hot encode\n",
    "numerical_columns = ['seats', 'km', 'modelYear', 'owner', 'Engine_CC', 'Gear_Box', 'Mileage']  # Numerical columns to scale"
   ]
  },
  {
   "cell_type": "code",
   "execution_count": 63,
   "metadata": {},
   "outputs": [
    {
     "name": "stderr",
     "output_type": "stream",
     "text": [
      "C:\\Users\\USER\\AppData\\Local\\Temp\\ipykernel_12136\\3347631989.py:4: SettingWithCopyWarning: \n",
      "A value is trying to be set on a copy of a slice from a DataFrame.\n",
      "Try using .loc[row_indexer,col_indexer] = value instead\n",
      "\n",
      "See the caveats in the documentation: https://pandas.pydata.org/pandas-docs/stable/user_guide/indexing.html#returning-a-view-versus-a-copy\n",
      "  X[column] = le.fit_transform(X[column])  # Apply Label Encoding\n"
     ]
    }
   ],
   "source": [
    "label_encoders = {}\n",
    "for column in categorical_columns_label:\n",
    "    le = LabelEncoder()\n",
    "    X[column] = le.fit_transform(X[column])  # Apply Label Encoding\n",
    "    label_encoders[column] = le  # Store the encoder if needed later"
   ]
  },
  {
   "cell_type": "code",
   "execution_count": 64,
   "metadata": {},
   "outputs": [],
   "source": [
    "one_hot_encoder = OneHotEncoder(drop='first', sparse_output=False)\n",
    "X_encoded = pd.DataFrame(one_hot_encoder.fit_transform(X[categorical_columns_one_hot]))\n",
    "X_encoded.columns = one_hot_encoder.get_feature_names_out(categorical_columns_one_hot)  # Naming the columns\n",
    "\n",
    "# Drop original one-hot columns and concatenate encoded columns\n",
    "X = X.drop(columns=categorical_columns_one_hot).reset_index(drop=True)\n",
    "X = pd.concat([X, X_encoded], axis=1)"
   ]
  },
  {
   "cell_type": "markdown",
   "metadata": {},
   "source": [
    "Step for Scalling"
   ]
  },
  {
   "cell_type": "code",
   "execution_count": 65,
   "metadata": {},
   "outputs": [],
   "source": [
    "from sklearn.preprocessing import MinMaxScaler, LabelEncoder\n",
    "# Scale numerical columns\n",
    "scaler = MinMaxScaler()\n",
    "X[numerical_columns] = scaler.fit_transform(X[numerical_columns])"
   ]
  },
  {
   "cell_type": "code",
   "execution_count": 66,
   "metadata": {},
   "outputs": [
    {
     "data": {
      "text/plain": [
       "((5805, 59), (2489, 59), (5805,), (2489,))"
      ]
     },
     "execution_count": 66,
     "metadata": {},
     "output_type": "execute_result"
    }
   ],
   "source": [
    "X_train, X_test, y_train, y_test = train_test_split(X, y, test_size=0.3, random_state=42)\n",
    "X_train.shape, X_test.shape, y_train.shape, y_test.shape"
   ]
  },
  {
   "cell_type": "markdown",
   "metadata": {},
   "source": [
    "Linear regression Model"
   ]
  },
  {
   "cell_type": "code",
   "execution_count": 67,
   "metadata": {},
   "outputs": [
    {
     "data": {
      "text/html": [
       "<div>\n",
       "<style scoped>\n",
       "    .dataframe tbody tr th:only-of-type {\n",
       "        vertical-align: middle;\n",
       "    }\n",
       "\n",
       "    .dataframe tbody tr th {\n",
       "        vertical-align: top;\n",
       "    }\n",
       "\n",
       "    .dataframe thead th {\n",
       "        text-align: right;\n",
       "    }\n",
       "</style>\n",
       "<table border=\"1\" class=\"dataframe\">\n",
       "  <thead>\n",
       "    <tr style=\"text-align: right;\">\n",
       "      <th></th>\n",
       "      <th>modelYear</th>\n",
       "      <th>fueltype</th>\n",
       "      <th>owner</th>\n",
       "      <th>bodytype</th>\n",
       "      <th>seats</th>\n",
       "      <th>km</th>\n",
       "      <th>transmission</th>\n",
       "      <th>Insurance_Validity</th>\n",
       "      <th>Engine_CC</th>\n",
       "      <th>oem</th>\n",
       "      <th>...</th>\n",
       "      <th>Drive_Type</th>\n",
       "      <th>City</th>\n",
       "      <th>price</th>\n",
       "      <th>oem_encoded2</th>\n",
       "      <th>city_encoded2</th>\n",
       "      <th>bodytype_encoded2</th>\n",
       "      <th>fueltype_encoded2</th>\n",
       "      <th>transmission_encoded2</th>\n",
       "      <th>DriveType_encoded2</th>\n",
       "      <th>Insurance_Validity_encoded2</th>\n",
       "    </tr>\n",
       "  </thead>\n",
       "  <tbody>\n",
       "    <tr>\n",
       "      <th>0</th>\n",
       "      <td>2015</td>\n",
       "      <td>Petrol</td>\n",
       "      <td>3</td>\n",
       "      <td>Hatchback</td>\n",
       "      <td>5</td>\n",
       "      <td>120000</td>\n",
       "      <td>Manual</td>\n",
       "      <td>Third Party insurance</td>\n",
       "      <td>998.0</td>\n",
       "      <td>Maruti</td>\n",
       "      <td>...</td>\n",
       "      <td>FWD</td>\n",
       "      <td>bangalore</td>\n",
       "      <td>400000.0</td>\n",
       "      <td>20</td>\n",
       "      <td>0</td>\n",
       "      <td>2</td>\n",
       "      <td>4</td>\n",
       "      <td>1</td>\n",
       "      <td>2</td>\n",
       "      <td>5</td>\n",
       "    </tr>\n",
       "    <tr>\n",
       "      <th>1</th>\n",
       "      <td>2018</td>\n",
       "      <td>Petrol</td>\n",
       "      <td>2</td>\n",
       "      <td>SUV</td>\n",
       "      <td>5</td>\n",
       "      <td>32706</td>\n",
       "      <td>Manual</td>\n",
       "      <td>Comprehensive</td>\n",
       "      <td>1497.0</td>\n",
       "      <td>Ford</td>\n",
       "      <td>...</td>\n",
       "      <td>FWD</td>\n",
       "      <td>bangalore</td>\n",
       "      <td>811000.0</td>\n",
       "      <td>6</td>\n",
       "      <td>0</td>\n",
       "      <td>7</td>\n",
       "      <td>4</td>\n",
       "      <td>1</td>\n",
       "      <td>2</td>\n",
       "      <td>2</td>\n",
       "    </tr>\n",
       "  </tbody>\n",
       "</table>\n",
       "<p>2 rows × 22 columns</p>\n",
       "</div>"
      ],
      "text/plain": [
       "   modelYear fueltype  owner   bodytype  seats      km transmission  \\\n",
       "0       2015   Petrol      3  Hatchback      5  120000       Manual   \n",
       "1       2018   Petrol      2        SUV      5   32706       Manual   \n",
       "\n",
       "      Insurance_Validity  Engine_CC     oem  ...  Drive_Type       City  \\\n",
       "0  Third Party insurance      998.0  Maruti  ...         FWD  bangalore   \n",
       "1          Comprehensive     1497.0    Ford  ...         FWD  bangalore   \n",
       "\n",
       "      price oem_encoded2  city_encoded2  bodytype_encoded2  fueltype_encoded2  \\\n",
       "0  400000.0           20              0                  2                  4   \n",
       "1  811000.0            6              0                  7                  4   \n",
       "\n",
       "   transmission_encoded2  DriveType_encoded2  Insurance_Validity_encoded2  \n",
       "0                      1                   2                            5  \n",
       "1                      1                   2                            2  \n",
       "\n",
       "[2 rows x 22 columns]"
      ]
     },
     "execution_count": 67,
     "metadata": {},
     "output_type": "execute_result"
    }
   ],
   "source": [
    "merged_cars.head(2)"
   ]
  },
  {
   "cell_type": "code",
   "execution_count": 68,
   "metadata": {},
   "outputs": [
    {
     "data": {
      "text/plain": [
       "array([ 399123.22924159, 2215881.84232932,  925864.21468154, ...,\n",
       "       2701673.96534494,  939142.60438087,  474585.23581452])"
      ]
     },
     "execution_count": 68,
     "metadata": {},
     "output_type": "execute_result"
    }
   ],
   "source": [
    "from sklearn.linear_model import LinearRegression\n",
    "\n",
    "# Initialize the model\n",
    "models = LinearRegression()\n",
    "\n",
    "# Fit the model on the training data\n",
    "models.fit(X_train, y_train)\n",
    "\n",
    "# Optionally, you can make predictions on the test set\n",
    "y_pred = models.predict(X_test)\n",
    "\n",
    "# Display predictions (optional)\n",
    "y_pred"
   ]
  },
  {
   "cell_type": "markdown",
   "metadata": {},
   "source": [
    "Evaluation Matrix"
   ]
  },
  {
   "cell_type": "code",
   "execution_count": 69,
   "metadata": {},
   "outputs": [
    {
     "name": "stdout",
     "output_type": "stream",
     "text": [
      "Mean Absolute Error (MAE): 245376.471258\n",
      "Mean Squared Error (MSE): 187723002909.02\n",
      "R-squared: 0.7668\n",
      "Root Mean Squared Error: 433270.1269520224\n"
     ]
    }
   ],
   "source": [
    "from sklearn import metrics\n",
    "import numpy as np\n",
    "from sklearn.metrics import mean_absolute_error, mean_squared_error, r2_score\n",
    "\n",
    "# Calculate evaluation metrics\n",
    "mae = mean_absolute_error(y_test, y_pred)\n",
    "mse = mean_squared_error(y_test, y_pred)\n",
    "r2 = r2_score(y_test, y_pred)\n",
    "\n",
    "# for evaluation / accuracy--  prediction + y_test\n",
    "# Display the results\n",
    "print(f\"Mean Absolute Error (MAE): {mae:f}\")\n",
    "print(f\"Mean Squared Error (MSE): {mse:.2f}\")\n",
    "print(f\"R-squared: {r2:.4f}\")\n",
    "print('Root Mean Squared Error:', np.sqrt(metrics.mean_squared_error(y_test, y_pred)))"
   ]
  },
  {
   "cell_type": "markdown",
   "metadata": {},
   "source": [
    "Random Forest "
   ]
  },
  {
   "cell_type": "code",
   "execution_count": 70,
   "metadata": {},
   "outputs": [
    {
     "name": "stdout",
     "output_type": "stream",
     "text": [
      "Mean Squared Error: 187723002909.0216\n",
      "root mean square : 0.91363494714622\n",
      "Mean Absolute Error (MAE): 121782.71\n",
      "Root Mean Squared Error: 263657.54332070233\n"
     ]
    }
   ],
   "source": [
    "from sklearn.model_selection import train_test_split\n",
    "from sklearn.ensemble import RandomForestRegressor\n",
    "from sklearn.metrics import mean_squared_error\n",
    "from sklearn.metrics import r2_score\n",
    "\n",
    "\n",
    "model = RandomForestRegressor(random_state=42,n_estimators=350,max_depth=50)\n",
    "model.fit(X_train, y_train)\n",
    "\n",
    "y_pred = model.predict(X_test)\n",
    "mean_squared_error(y_test, y_pred)\n",
    "print(f'Mean Squared Error: {mse}')\n",
    "print('root mean square :',r2_score(y_test, y_pred))\n",
    "a=mean_absolute_error(y_test, y_pred)\n",
    "print(f\"Mean Absolute Error (MAE): {a:.2f}\")\n",
    "print('Root Mean Squared Error:', np.sqrt(metrics.mean_squared_error(y_test, y_pred)))"
   ]
  },
  {
   "cell_type": "markdown",
   "metadata": {},
   "source": [
    "Checking Feature Importance"
   ]
  },
  {
   "cell_type": "code",
   "execution_count": 71,
   "metadata": {},
   "outputs": [
    {
     "name": "stdout",
     "output_type": "stream",
     "text": [
      "Mean Squared Error: 187723002909.0216\n",
      "root mean square : 0.91363494714622\n",
      "Mean Absolute Error (MAE): 121782.71\n",
      "Root Mean Squared Error: 263657.54332070233\n"
     ]
    }
   ],
   "source": [
    "from sklearn.model_selection import train_test_split\n",
    "from sklearn.ensemble import RandomForestRegressor\n",
    "from sklearn.metrics import mean_squared_error\n",
    "from sklearn.metrics import r2_score\n",
    "\n",
    "\n",
    "model = RandomForestRegressor(random_state=42,n_estimators=350,max_depth=50)\n",
    "model.fit(X_train, y_train)\n",
    "\n",
    "y_pred = model.predict(X_test)\n",
    "mean_squared_error(y_test, y_pred)\n",
    "print(f'Mean Squared Error: {mse}')\n",
    "print('root mean square :',r2_score(y_test, y_pred))\n",
    "a=mean_absolute_error(y_test, y_pred)\n",
    "print(f\"Mean Absolute Error (MAE): {a:.2f}\")\n",
    "print('Root Mean Squared Error:', np.sqrt(metrics.mean_squared_error(y_test, y_pred)))"
   ]
  },
  {
   "cell_type": "markdown",
   "metadata": {},
   "source": [
    "XG Boost"
   ]
  },
  {
   "cell_type": "code",
   "execution_count": 72,
   "metadata": {},
   "outputs": [
    {
     "name": "stdout",
     "output_type": "stream",
     "text": [
      "Fitting 5 folds for each of 50 candidates, totalling 250 fits\n",
      "XGBoost RandomizedSearch Results:\n",
      "Best Parameters: {'subsample': 1.0, 'n_estimators': 200, 'min_child_weight': 1, 'max_depth': 5, 'learning_rate': 0.1, 'gamma': 0.2, 'colsample_bytree': 1.0}\n",
      "Mean Squared Error: 53118592387.4390\n",
      "R-squared Score: 0.9315\n",
      "Root Mean Squared Error: 230474.7109\n"
     ]
    }
   ],
   "source": [
    "import xgboost as xgb\n",
    "from sklearn.model_selection import train_test_split, RandomizedSearchCV\n",
    "from sklearn.metrics import mean_squared_error, r2_score\n",
    "import numpy as np\n",
    "\n",
    "# Assuming X and y are your features and target variable\n",
    "# Split the data into training and testing sets\n",
    "X_train, X_test, y_train, y_test = train_test_split(X, y, test_size=0.2, random_state=42)\n",
    "\n",
    "# Create the XGBoost model\n",
    "xgb_model = xgb.XGBRegressor(random_state=42, objective='reg:squarederror')\n",
    "\n",
    "# Define the hyperparameter space for tuning\n",
    "param_distributions = {\n",
    "    'n_estimators': [50, 100, 200],\n",
    "    'max_depth': [3, 5, 7],\n",
    "    'learning_rate': [0.01, 0.05, 0.1],\n",
    "    'subsample': [0.6, 0.8, 1.0],\n",
    "    'colsample_bytree': [0.6, 0.8, 1.0],\n",
    "    'gamma': [0, 0.1, 0.2],\n",
    "    'min_child_weight': [1, 3, 5]\n",
    "}\n",
    "\n",
    "# Use RandomizedSearchCV for faster tuning\n",
    "random_search = RandomizedSearchCV(\n",
    "    estimator=xgb_model,\n",
    "    param_distributions=param_distributions,\n",
    "    n_iter=50,  # Number of random samples to evaluate\n",
    "    cv=5,\n",
    "    scoring='r2',\n",
    "    verbose=2,\n",
    "    n_jobs=-1,\n",
    "    random_state=42\n",
    ")\n",
    "\n",
    "# Fit the random search\n",
    "random_search.fit(X_train, y_train)\n",
    "\n",
    "# Retrieve the best parameters and model\n",
    "best_params = random_search.best_params_\n",
    "best_model = random_search.best_estimator_\n",
    "\n",
    "# Make predictions using the best model\n",
    "y_pred = best_model.predict(X_test)\n",
    "\n",
    "# Calculate evaluation metrics\n",
    "mse = mean_squared_error(y_test, y_pred)\n",
    "r2 = r2_score(y_test, y_pred)\n",
    "rmse = np.sqrt(mse)\n",
    "\n",
    "# Display results\n",
    "print(\"XGBoost RandomizedSearch Results:\")\n",
    "print(f\"Best Parameters: {best_params}\")\n",
    "print(f\"Mean Squared Error: {mse:.4f}\")\n",
    "print(f\"R-squared Score: {r2:.4f}\")\n",
    "print(f\"Root Mean Squared Error: {rmse:.4f}\")\n",
    "\n",
    "# Save the model for future use\n",
    "best_model.save_model(\"best_xgboost_model.json\")"
   ]
  },
  {
   "cell_type": "markdown",
   "metadata": {},
   "source": [
    "Gradient boosting"
   ]
  },
  {
   "cell_type": "code",
   "execution_count": 73,
   "metadata": {},
   "outputs": [
    {
     "name": "stdout",
     "output_type": "stream",
     "text": [
      "Fitting 5 folds for each of 243 candidates, totalling 1215 fits\n"
     ]
    },
    {
     "name": "stderr",
     "output_type": "stream",
     "text": [
      "C:\\Users\\USER\\AppData\\Roaming\\Python\\Python312\\site-packages\\numpy\\ma\\core.py:2846: RuntimeWarning: invalid value encountered in cast\n",
      "  _data = np.array(data, dtype=dtype, copy=copy,\n"
     ]
    },
    {
     "name": "stdout",
     "output_type": "stream",
     "text": [
      "Gradient Boosting Regressor - Grid Search Results:\n",
      "Best Parameters: {'learning_rate': 0.2, 'max_depth': 5, 'min_samples_split': 2, 'n_estimators': 200, 'subsample': 0.8}\n",
      "Mean Squared Error: 49437212232.6487\n",
      "R-squared Score: 0.9362\n",
      "Mean Absolute Error: 105921.6024\n",
      "Root Mean Squared Error: 222344.8048\n"
     ]
    }
   ],
   "source": [
    "from sklearn.ensemble import GradientBoostingRegressor\n",
    "from sklearn.model_selection import train_test_split, GridSearchCV\n",
    "from sklearn.metrics import mean_squared_error, r2_score, mean_absolute_error\n",
    "import numpy as np\n",
    "\n",
    "# Assuming X and y are your features and target variable\n",
    "\n",
    "# Split the data into training and testing sets\n",
    "X_train, X_test, y_train, y_test = train_test_split(X, y, test_size=0.2, random_state=42)\n",
    "\n",
    "# Create the Gradient Boosting Regressor model\n",
    "gb_model = GradientBoostingRegressor(random_state=42)\n",
    "\n",
    "# Define the hyperparameter grid to tune\n",
    "param_grid = {\n",
    "    'n_estimators': [50, 100, 200],\n",
    "    'learning_rate': [0.01, 0.1, 0.2],\n",
    "    'max_depth': [3, 5, 7],\n",
    "    'min_samples_split': [2, 5, 10],\n",
    "    'subsample': [0.8, 0.9, 1.0]\n",
    "}\n",
    "\n",
    "# Set up GridSearchCV for hyperparameter tuning\n",
    "grid_search = GridSearchCV(estimator=gb_model, param_grid=param_grid, \n",
    "                           cv=5, n_jobs=-1, verbose=2, scoring='r2')\n",
    "\n",
    "# Fit the grid search to find the best parameters\n",
    "grid_search.fit(X_train, y_train)\n",
    "\n",
    "# Get the best model from grid search\n",
    "best_model = grid_search.best_estimator_\n",
    "\n",
    "# Make predictions with the best model\n",
    "y_pred = best_model.predict(X_test)\n",
    "\n",
    "# Calculate metrics\n",
    "mse = mean_squared_error(y_test, y_pred)\n",
    "r2 = r2_score(y_test, y_pred)\n",
    "mae = mean_absolute_error(y_test, y_pred)\n",
    "rmse = np.sqrt(mse)\n",
    "\n",
    "# Print results\n",
    "print(\"Gradient Boosting Regressor - Grid Search Results:\")\n",
    "print(f\"Best Parameters: {grid_search.best_params_}\")\n",
    "print(f\"Mean Squared Error: {mse:.4f}\")\n",
    "print(f\"R-squared Score: {r2:.4f}\")\n",
    "print(f\"Mean Absolute Error: {mae:.4f}\")\n",
    "print(f\"Root Mean Squared Error: {rmse:.4f}\")"
   ]
  },
  {
   "cell_type": "markdown",
   "metadata": {},
   "source": [
    "Feature Importance"
   ]
  },
  {
   "cell_type": "code",
   "execution_count": 74,
   "metadata": {},
   "outputs": [
    {
     "name": "stdout",
     "output_type": "stream",
     "text": [
      "Gradient Boosting Regressor Results:\n",
      "Mean Squared Error: 84893676473.8912\n",
      "R-squared Score: 0.8904\n",
      "Mean Absolute Error: 156364.5455\n",
      "Root Mean Squared Error: 291365.1943\n",
      "Feature seats: 0.0016\n",
      "Feature km: 0.0229\n",
      "Feature modelYear: 0.1783\n",
      "Feature owner: 0.0006\n",
      "Feature Engine_CC: 0.1740\n",
      "Feature Gear_Box: 0.5262\n",
      "Feature Mileage: 0.0142\n",
      "Feature bodytype: 0.0132\n",
      "Feature fueltype_Diesel: 0.0001\n",
      "Feature fueltype_Electric: 0.0004\n",
      "Feature fueltype_Lpg: 0.0000\n",
      "Feature fueltype_Petrol: 0.0001\n",
      "Feature transmission_Manual: 0.0174\n",
      "Feature Insurance_Validity_2: 0.0000\n",
      "Feature Insurance_Validity_Comprehensive: 0.0008\n",
      "Feature Insurance_Validity_Not Available: 0.0002\n",
      "Feature Insurance_Validity_Third Party: 0.0000\n",
      "Feature Insurance_Validity_Third Party insurance: 0.0000\n",
      "Feature Insurance_Validity_Zero Dep: 0.0000\n",
      "Feature oem_BMW: 0.0035\n",
      "Feature oem_Chevrolet: 0.0000\n",
      "Feature oem_Citroen: 0.0000\n",
      "Feature oem_Datsun: 0.0002\n",
      "Feature oem_Fiat: 0.0000\n",
      "Feature oem_Ford: 0.0000\n",
      "Feature oem_Hindustan Motors: 0.0000\n",
      "Feature oem_Honda: 0.0000\n",
      "Feature oem_Hyundai: 0.0000\n",
      "Feature oem_Isuzu: 0.0000\n",
      "Feature oem_Jaguar: 0.0001\n",
      "Feature oem_Jeep: 0.0026\n",
      "Feature oem_Kia: 0.0000\n",
      "Feature oem_Land Rover: 0.0043\n",
      "Feature oem_Lexus: 0.0043\n",
      "Feature oem_MG: 0.0005\n",
      "Feature oem_Mahindra: 0.0056\n",
      "Feature oem_Mahindra Renault: 0.0000\n",
      "Feature oem_Mahindra Ssangyong: 0.0000\n",
      "Feature oem_Maruti: 0.0000\n",
      "Feature oem_Mercedes-Benz: 0.0087\n",
      "Feature oem_Mini: 0.0027\n",
      "Feature oem_Mitsubishi: 0.0000\n",
      "Feature oem_Nissan: 0.0000\n",
      "Feature oem_Opel: 0.0000\n",
      "Feature oem_Porsche: 0.0003\n",
      "Feature oem_Renault: 0.0002\n",
      "Feature oem_Skoda: 0.0000\n",
      "Feature oem_Tata: 0.0004\n",
      "Feature oem_Toyota: 0.0003\n",
      "Feature oem_Volkswagen: 0.0002\n",
      "Feature oem_Volvo: 0.0003\n",
      "Feature Drive_Type_AWD: 0.0042\n",
      "Feature Drive_Type_FWD: 0.0068\n",
      "Feature Drive_Type_RWD: 0.0000\n",
      "Feature City_chennai: 0.0000\n",
      "Feature City_delhi: 0.0005\n",
      "Feature City_hyderabad: 0.0004\n",
      "Feature City_jaipur: 0.0003\n",
      "Feature City_kolkata: 0.0035\n"
     ]
    }
   ],
   "source": [
    "from sklearn.ensemble import GradientBoostingRegressor\n",
    "from sklearn.model_selection import train_test_split\n",
    "from sklearn.metrics import mean_squared_error, r2_score, mean_absolute_error\n",
    "import numpy as np\n",
    "\n",
    "# Assuming X and y are your features and target variable\n",
    "# Split the data into training and testing sets\n",
    "X_train, X_test, y_train, y_test = train_test_split(X, y, test_size=0.2, random_state=42)\n",
    "\n",
    "# Create and train the Gradient Boosting model\n",
    "gb_model = GradientBoostingRegressor(n_estimators=100, learning_rate=0.1, max_depth=3, random_state=42)\n",
    "gb_model.fit(X_train, y_train)  # Fitting the model to the training data\n",
    "\n",
    "# Make predictions\n",
    "y_pred = gb_model.predict(X_test)\n",
    "\n",
    "# Calculate metrics\n",
    "mse = mean_squared_error(y_test, y_pred)\n",
    "r2 = r2_score(y_test, y_pred)\n",
    "mae = mean_absolute_error(y_test, y_pred)\n",
    "rmse = np.sqrt(mse)\n",
    "\n",
    "# Print results\n",
    "print(\"Gradient Boosting Regressor Results:\")\n",
    "print(f\"Mean Squared Error: {mse:.4f}\")\n",
    "print(f\"R-squared Score: {r2:.4f}\")\n",
    "print(f\"Mean Absolute Error: {mae:.4f}\")\n",
    "print(f\"Root Mean Squared Error: {rmse:.4f}\")\n",
    "\n",
    "# Feature importance\n",
    "feature_importance = gb_model.feature_importances_\n",
    "for i, importance in enumerate(feature_importance):\n",
    "    print(f\"Feature {X.columns[i]}: {importance:.4f}\")"
   ]
  },
  {
   "cell_type": "code",
   "execution_count": 75,
   "metadata": {},
   "outputs": [
    {
     "name": "stdout",
     "output_type": "stream",
     "text": [
      "\n",
      "Linear Regression Results:\n",
      "MSE: 187723002909.0216\n",
      "R2: 0.7668\n",
      "MAE: 245376.4713\n",
      "RMSE: 433270.1270\n",
      "\n",
      "ElasticNet Results:\n",
      "MSE: 518911791804.7008\n",
      "R2: 0.3553\n",
      "MAE: 419898.5131\n",
      "RMSE: 720355.3233\n",
      "\n",
      "Random Forest Results:\n",
      "MSE: 71071087226.7030\n",
      "R2: 0.9117\n",
      "MAE: 122636.1652\n",
      "RMSE: 266591.6113\n",
      "\n",
      "XGBoost Results:\n",
      "MSE: 65836459693.7880\n",
      "R2: 0.9182\n",
      "MAE: 120443.8070\n",
      "RMSE: 256586.1643\n",
      "\n",
      "Gradient Boosting Results:\n",
      "MSE: 90817694638.5143\n",
      "R2: 0.8872\n",
      "MAE: 157106.3394\n",
      "RMSE: 301359.7429\n",
      "\n",
      "SVR Results:\n",
      "MSE: 871386716544.7109\n",
      "R2: -0.0826\n",
      "MAE: 483343.2903\n",
      "RMSE: 933480.9674\n",
      "\n",
      "K-Nearest Neighbors Results:\n",
      "MSE: 227559512268.6631\n",
      "R2: 0.7173\n",
      "MAE: 248684.6706\n",
      "RMSE: 477031.9824\n",
      "\n",
      "Best model based on R2 score: XGBoost\n"
     ]
    }
   ],
   "source": [
    "from sklearn.linear_model import LinearRegression, ElasticNet\n",
    "from sklearn.ensemble import RandomForestRegressor, GradientBoostingRegressor\n",
    "from sklearn.svm import SVR\n",
    "from sklearn.neighbors import KNeighborsRegressor\n",
    "from sklearn.model_selection import train_test_split\n",
    "from sklearn.metrics import mean_squared_error, r2_score, mean_absolute_error\n",
    "from sklearn.preprocessing import MinMaxScaler\n",
    "import numpy as np\n",
    "import xgboost as xgb\n",
    "\n",
    "def compare_models(X, y):\n",
    "    # Split the data into training and test sets\n",
    "    X_train, X_test, y_train, y_test = train_test_split(X, y, test_size=0.3, random_state=42)\n",
    "    \n",
    "    # Scale features using MinMaxScaler\n",
    "    scaler = MinMaxScaler()\n",
    "    X_train_scaled = scaler.fit_transform(X_train)\n",
    "    X_test_scaled = scaler.transform(X_test)\n",
    "    \n",
    "    # Initialize models\n",
    "    models = {\n",
    "        'Linear Regression': LinearRegression(),\n",
    "        'ElasticNet': ElasticNet(random_state=42),\n",
    "        'Random Forest': RandomForestRegressor(random_state=42),\n",
    "        'XGBoost': xgb.XGBRegressor(random_state=42, n_estimators=200, max_depth=5, learning_rate=0.1),\n",
    "        'Gradient Boosting': GradientBoostingRegressor(random_state=42),\n",
    "        'SVR': SVR(),\n",
    "        'K-Nearest Neighbors': KNeighborsRegressor()\n",
    "    }\n",
    "    \n",
    "    # Store the results\n",
    "    results = {}\n",
    "    \n",
    "    # Train and evaluate each model\n",
    "    for name, model in models.items():\n",
    "        model.fit(X_train_scaled, y_train)\n",
    "        y_pred = model.predict(X_test_scaled)\n",
    "        \n",
    "        # Calculate evaluation metrics\n",
    "        mse = mean_squared_error(y_test, y_pred)\n",
    "        r2 = r2_score(y_test, y_pred)\n",
    "        mae = mean_absolute_error(y_test, y_pred)\n",
    "        rmse = np.sqrt(mse)\n",
    "        \n",
    "        # Store results for this model\n",
    "        results[name] = {\n",
    "            'MSE': mse,\n",
    "            'R2': r2,\n",
    "            'MAE': mae,\n",
    "            'RMSE': rmse\n",
    "        }\n",
    "    \n",
    "    # Print the results\n",
    "    for name, metrics in results.items():\n",
    "        print(f\"\\n{name} Results:\")\n",
    "        for metric, value in metrics.items():\n",
    "            print(f\"{metric}: {value:.4f}\")\n",
    "    \n",
    "    # Identify the best model based on the R2 score\n",
    "    best_model = max(results, key=lambda x: results[x]['R2'])\n",
    "    print(f\"\\nBest model based on R2 score: {best_model}\")\n",
    "    \n",
    "    return results\n",
    "\n",
    "# Usage\n",
    "# X, y should be your feature matrix and target variable\n",
    "results = compare_models(X, y)"
   ]
  },
  {
   "cell_type": "code",
   "execution_count": 76,
   "metadata": {},
   "outputs": [
    {
     "name": "stdout",
     "output_type": "stream",
     "text": [
      "Label encoding and saving complete.\n"
     ]
    }
   ],
   "source": [
    "import pandas as pd\n",
    "from sklearn.preprocessing import LabelEncoder\n",
    "import joblib\n",
    "\n",
    "# Assuming merged_cars is your DataFrame\n",
    "categorical_columns = merged_cars.select_dtypes(include=['object']).columns\n",
    "\n",
    "# Dictionary to store LabelEncoders for each column\n",
    "label_encoders = {}\n",
    "\n",
    "# Encode all categorical columns\n",
    "for col in categorical_columns:\n",
    "    le = LabelEncoder()\n",
    "    merged_cars[col] = le.fit_transform(merged_cars[col].astype(str))\n",
    "    label_encoders[col] = le  # Save the LabelEncoder for later use\n",
    "\n",
    "# Save the encoded DataFrame\n",
    "merged_cars.to_pickle(\"labelencoded.pkl\")\n",
    "\n",
    "# Save the LabelEncoders\n",
    "joblib.dump(label_encoders, \"label_encoders.pkl\")\n",
    "\n",
    "print(\"Label encoding and saving complete.\")"
   ]
  },
  {
   "cell_type": "code",
   "execution_count": 77,
   "metadata": {},
   "outputs": [
    {
     "name": "stdout",
     "output_type": "stream",
     "text": [
      "One-hot encoded DataFrame and encoder saved as .pkl files\n"
     ]
    }
   ],
   "source": [
    "from sklearn.preprocessing import OneHotEncoder\n",
    "import pandas as pd\n",
    "import joblib  # For saving the .pkl file\n",
    "\n",
    "# Assuming `merged_cars` is your DataFrame\n",
    "# Define categorical columns to be one-hot encoded\n",
    "categorical_columns = merged_cars.select_dtypes(include=['object', 'category']).columns\n",
    "\n",
    "# Using OneHotEncoder (Updated for scikit-learn >= 1.2)\n",
    "encoder = OneHotEncoder(sparse_output=False, drop=None)  # Updated parameter\n",
    "encoded_array = encoder.fit_transform(merged_cars[categorical_columns])\n",
    "\n",
    "# Convert the encoded array back to a DataFrame\n",
    "encoded_df = pd.DataFrame(encoded_array, columns=encoder.get_feature_names_out(categorical_columns))\n",
    "\n",
    "# Drop the original categorical columns and concatenate the encoded columns\n",
    "final_encoded_df = pd.concat([merged_cars.drop(columns=categorical_columns), encoded_df], axis=1)\n",
    "\n",
    "# Save the DataFrame and the encoder as .pkl files\n",
    "joblib.dump(final_encoded_df, 'onehotencoded.pkl')  # Save encoded DataFrame\n",
    "joblib.dump(encoder, 'onehot_encoder.pkl')  # Save the encoder for future use\n",
    "\n",
    "print(\"One-hot encoded DataFrame and encoder saved as .pkl files\")"
   ]
  },
  {
   "cell_type": "code",
   "execution_count": 78,
   "metadata": {},
   "outputs": [
    {
     "data": {
      "text/plain": [
       "['gradientboost.pkl']"
      ]
     },
     "execution_count": 78,
     "metadata": {},
     "output_type": "execute_result"
    }
   ],
   "source": [
    "import joblib\n",
    "\n",
    "joblib.dump(gb_model, 'gradientboost.pkl')\n",
    "#joblib.dump(model, 'xgb_model.pkl')"
   ]
  },
  {
   "cell_type": "code",
   "execution_count": 79,
   "metadata": {},
   "outputs": [
    {
     "data": {
      "text/plain": [
       "['linarreg.pkl']"
      ]
     },
     "execution_count": 79,
     "metadata": {},
     "output_type": "execute_result"
    }
   ],
   "source": [
    "joblib.dump(models, 'linarreg.pkl')\n",
    "#joblib.dump(model, 'xgb_model.pkl')"
   ]
  },
  {
   "cell_type": "code",
   "execution_count": 80,
   "metadata": {},
   "outputs": [
    {
     "data": {
      "text/plain": [
       "['randomforest.pkl']"
      ]
     },
     "execution_count": 80,
     "metadata": {},
     "output_type": "execute_result"
    }
   ],
   "source": [
    "joblib.dump(model, 'randomforest.pkl')\n",
    "#joblib.dump(model, 'xgb_model.pkl')"
   ]
  },
  {
   "cell_type": "code",
   "execution_count": 81,
   "metadata": {},
   "outputs": [
    {
     "data": {
      "text/plain": [
       "['best_xgb_model.pkl']"
      ]
     },
     "execution_count": 81,
     "metadata": {},
     "output_type": "execute_result"
    }
   ],
   "source": [
    "joblib.dump(best_model, 'best_xgb_model.pkl')\n",
    "#joblib.dump(model, 'xgb_model.pkl')"
   ]
  },
  {
   "cell_type": "code",
   "execution_count": 82,
   "metadata": {},
   "outputs": [
    {
     "data": {
      "text/plain": [
       "['scaler.pkl']"
      ]
     },
     "execution_count": 82,
     "metadata": {},
     "output_type": "execute_result"
    }
   ],
   "source": [
    "joblib.dump(scaler, 'scaler.pkl')"
   ]
  },
  {
   "cell_type": "code",
   "execution_count": 83,
   "metadata": {},
   "outputs": [
    {
     "data": {
      "text/html": [
       "<div>\n",
       "<style scoped>\n",
       "    .dataframe tbody tr th:only-of-type {\n",
       "        vertical-align: middle;\n",
       "    }\n",
       "\n",
       "    .dataframe tbody tr th {\n",
       "        vertical-align: top;\n",
       "    }\n",
       "\n",
       "    .dataframe thead th {\n",
       "        text-align: right;\n",
       "    }\n",
       "</style>\n",
       "<table border=\"1\" class=\"dataframe\">\n",
       "  <thead>\n",
       "    <tr style=\"text-align: right;\">\n",
       "      <th></th>\n",
       "      <th>modelYear</th>\n",
       "      <th>fueltype</th>\n",
       "      <th>owner</th>\n",
       "      <th>bodytype</th>\n",
       "      <th>seats</th>\n",
       "      <th>km</th>\n",
       "      <th>transmission</th>\n",
       "      <th>Insurance_Validity</th>\n",
       "      <th>Engine_CC</th>\n",
       "      <th>oem</th>\n",
       "      <th>Gear_Box</th>\n",
       "      <th>Mileage</th>\n",
       "      <th>Drive_Type</th>\n",
       "      <th>City</th>\n",
       "      <th>price</th>\n",
       "    </tr>\n",
       "  </thead>\n",
       "  <tbody>\n",
       "    <tr>\n",
       "      <th>0</th>\n",
       "      <td>2015</td>\n",
       "      <td>Petrol</td>\n",
       "      <td>3</td>\n",
       "      <td>Hatchback</td>\n",
       "      <td>5</td>\n",
       "      <td>120000</td>\n",
       "      <td>Manual</td>\n",
       "      <td>Third Party insurance</td>\n",
       "      <td>998.0</td>\n",
       "      <td>Maruti</td>\n",
       "      <td>5.0</td>\n",
       "      <td>23.1</td>\n",
       "      <td>FWD</td>\n",
       "      <td>bangalore</td>\n",
       "      <td>400000.0</td>\n",
       "    </tr>\n",
       "    <tr>\n",
       "      <th>1</th>\n",
       "      <td>2018</td>\n",
       "      <td>Petrol</td>\n",
       "      <td>2</td>\n",
       "      <td>SUV</td>\n",
       "      <td>5</td>\n",
       "      <td>32706</td>\n",
       "      <td>Manual</td>\n",
       "      <td>Comprehensive</td>\n",
       "      <td>1497.0</td>\n",
       "      <td>Ford</td>\n",
       "      <td>5.0</td>\n",
       "      <td>17.0</td>\n",
       "      <td>FWD</td>\n",
       "      <td>bangalore</td>\n",
       "      <td>811000.0</td>\n",
       "    </tr>\n",
       "  </tbody>\n",
       "</table>\n",
       "</div>"
      ],
      "text/plain": [
       "   modelYear fueltype  owner   bodytype  seats      km transmission  \\\n",
       "0       2015   Petrol      3  Hatchback      5  120000       Manual   \n",
       "1       2018   Petrol      2        SUV      5   32706       Manual   \n",
       "\n",
       "      Insurance_Validity  Engine_CC     oem  Gear_Box  Mileage Drive_Type  \\\n",
       "0  Third Party insurance      998.0  Maruti       5.0     23.1        FWD   \n",
       "1          Comprehensive     1497.0    Ford       5.0     17.0        FWD   \n",
       "\n",
       "        City     price  \n",
       "0  bangalore  400000.0  \n",
       "1  bangalore  811000.0  "
      ]
     },
     "execution_count": 83,
     "metadata": {},
     "output_type": "execute_result"
    }
   ],
   "source": [
    "car_df.head(2)"
   ]
  }
 ],
 "metadata": {
  "kernelspec": {
   "display_name": "Python 3",
   "language": "python",
   "name": "python3"
  },
  "language_info": {
   "codemirror_mode": {
    "name": "ipython",
    "version": 3
   },
   "file_extension": ".py",
   "mimetype": "text/x-python",
   "name": "python",
   "nbconvert_exporter": "python",
   "pygments_lexer": "ipython3",
   "version": "3.12.5"
  }
 },
 "nbformat": 4,
 "nbformat_minor": 2
}
